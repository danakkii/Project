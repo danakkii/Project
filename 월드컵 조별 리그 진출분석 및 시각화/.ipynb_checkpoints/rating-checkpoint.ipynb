{
 "cells": [
  {
   "cell_type": "code",
   "execution_count": 1,
   "id": "74740cf6-f8b6-400b-88f9-b3678e368d10",
   "metadata": {},
   "outputs": [],
   "source": [
    "def rating_upd(w_C, l_C, vict_per) :\n",
    "    \n",
    "    before_w_C_rating = rating_2022[w_C]\n",
    "    before_l_C_rating = rating_2022[l_C]\n",
    "    \n",
    "    rating_2022[w_C] = int(rating_2022[w_C] + 32*(1-vict_per))\n",
    "    rating_2022[l_C] = int(rating_2022[l_C] + 32*(vict_per))\n",
    "    print(f\"\"\"\n",
    "    승리한 {w_C} 의 rating :{rating_2022[w_C]} (+{rating_2022[w_C]-before_w_C_rating})\n",
    "    패배한 {l_C} 의 rating :{rating_2022[l_C]} (-{rating_2022[l_C]-before_l_C_rating})\"\"\")\n",
    "    print(\"--------------------------------------------------------------------------------\")   "
   ]
  },
  {
   "cell_type": "code",
   "execution_count": null,
   "id": "ec4c7f0a-e001-40c8-9f33-c9c50d57a3fc",
   "metadata": {},
   "outputs": [],
   "source": []
  }
 ],
 "metadata": {
  "kernelspec": {
   "display_name": "Python 3 (ipykernel)",
   "language": "python",
   "name": "python3"
  },
  "language_info": {
   "codemirror_mode": {
    "name": "ipython",
    "version": 3
   },
   "file_extension": ".py",
   "mimetype": "text/x-python",
   "name": "python",
   "nbconvert_exporter": "python",
   "pygments_lexer": "ipython3",
   "version": "3.9.13"
  }
 },
 "nbformat": 4,
 "nbformat_minor": 5
}
