{
 "cells": [
  {
   "cell_type": "markdown",
   "id": "a3610328-bb32-4af5-bd30-af5a968458dd",
   "metadata": {},
   "source": [
    "# import"
   ]
  },
  {
   "cell_type": "code",
   "execution_count": 40,
   "id": "602acea3-fbe7-4974-88cb-f1674839db53",
   "metadata": {},
   "outputs": [],
   "source": [
    "import pandas as pd\n",
    "import numpy as np\n",
    "import matplotlib.pyplot as plt\n",
    "import seaborn as sns\n",
    "import warnings \n",
    "warnings.filterwarnings('ignore')\n",
    "\n",
    "from scipy.stats import skew\n",
    "from sklearn.model_selection import train_test_split\n",
    "from sklearn.linear_model import LinearRegression,Ridge,Lasso, LogisticRegression\n",
    "from sklearn.metrics import mean_squared_error, mean_absolute_error, r2_score"
   ]
  },
  {
   "cell_type": "markdown",
   "id": "e48d9188-9426-45ea-9944-d6290afd016f",
   "metadata": {
    "tags": []
   },
   "source": [
    "## 전처리\n"
   ]
  },
  {
   "cell_type": "code",
   "execution_count": 41,
   "id": "a73771c1-86a3-478a-af57-3fd26d79e047",
   "metadata": {},
   "outputs": [
    {
     "data": {
      "text/html": [
       "<div>\n",
       "<style scoped>\n",
       "    .dataframe tbody tr th:only-of-type {\n",
       "        vertical-align: middle;\n",
       "    }\n",
       "\n",
       "    .dataframe tbody tr th {\n",
       "        vertical-align: top;\n",
       "    }\n",
       "\n",
       "    .dataframe thead th {\n",
       "        text-align: right;\n",
       "    }\n",
       "</style>\n",
       "<table border=\"1\" class=\"dataframe\">\n",
       "  <thead>\n",
       "    <tr style=\"text-align: right;\">\n",
       "      <th></th>\n",
       "      <th>총생활인구수</th>\n",
       "      <th>기온</th>\n",
       "      <th>기압</th>\n",
       "      <th>풍속</th>\n",
       "      <th>운량</th>\n",
       "      <th>일강수량</th>\n",
       "      <th>최대순간풍속풍향</th>\n",
       "      <th>최대풍속풍향</th>\n",
       "      <th>평균풍속</th>\n",
       "      <th>최다풍향</th>\n",
       "      <th>일최심적설</th>\n",
       "      <th>일최심신적설</th>\n",
       "      <th>강수여부</th>\n",
       "      <th>일 미세먼지 농도(㎍/㎥)</th>\n",
       "      <th>휴일여부</th>\n",
       "      <th>요일</th>\n",
       "      <th>계절</th>\n",
       "      <th>month</th>\n",
       "      <th>day</th>\n",
       "      <th>영등포구</th>\n",
       "    </tr>\n",
       "  </thead>\n",
       "  <tbody>\n",
       "    <tr>\n",
       "      <th>0</th>\n",
       "      <td>434808.29</td>\n",
       "      <td>3.39</td>\n",
       "      <td>-1.16</td>\n",
       "      <td>-0.00</td>\n",
       "      <td>-0.76</td>\n",
       "      <td>0.0</td>\n",
       "      <td>290</td>\n",
       "      <td>270</td>\n",
       "      <td>2.1</td>\n",
       "      <td>290</td>\n",
       "      <td>0.0</td>\n",
       "      <td>0.0</td>\n",
       "      <td>0.0</td>\n",
       "      <td>41.0</td>\n",
       "      <td>1</td>\n",
       "      <td>1</td>\n",
       "      <td>4</td>\n",
       "      <td>1</td>\n",
       "      <td>1</td>\n",
       "      <td>687.0</td>\n",
       "    </tr>\n",
       "    <tr>\n",
       "      <th>1</th>\n",
       "      <td>502461.14</td>\n",
       "      <td>3.46</td>\n",
       "      <td>-1.21</td>\n",
       "      <td>-0.94</td>\n",
       "      <td>-1.66</td>\n",
       "      <td>0.0</td>\n",
       "      <td>320</td>\n",
       "      <td>320</td>\n",
       "      <td>1.7</td>\n",
       "      <td>270</td>\n",
       "      <td>0.0</td>\n",
       "      <td>0.0</td>\n",
       "      <td>0.0</td>\n",
       "      <td>38.0</td>\n",
       "      <td>0</td>\n",
       "      <td>2</td>\n",
       "      <td>4</td>\n",
       "      <td>1</td>\n",
       "      <td>2</td>\n",
       "      <td>1326.0</td>\n",
       "    </tr>\n",
       "    <tr>\n",
       "      <th>2</th>\n",
       "      <td>504706.95</td>\n",
       "      <td>3.24</td>\n",
       "      <td>-1.19</td>\n",
       "      <td>-1.74</td>\n",
       "      <td>-1.93</td>\n",
       "      <td>0.0</td>\n",
       "      <td>290</td>\n",
       "      <td>270</td>\n",
       "      <td>1.4</td>\n",
       "      <td>290</td>\n",
       "      <td>0.0</td>\n",
       "      <td>0.0</td>\n",
       "      <td>0.0</td>\n",
       "      <td>41.0</td>\n",
       "      <td>0</td>\n",
       "      <td>3</td>\n",
       "      <td>4</td>\n",
       "      <td>1</td>\n",
       "      <td>3</td>\n",
       "      <td>1508.0</td>\n",
       "    </tr>\n",
       "    <tr>\n",
       "      <th>3</th>\n",
       "      <td>505769.67</td>\n",
       "      <td>2.69</td>\n",
       "      <td>-1.01</td>\n",
       "      <td>-1.39</td>\n",
       "      <td>-0.48</td>\n",
       "      <td>0.0</td>\n",
       "      <td>180</td>\n",
       "      <td>200</td>\n",
       "      <td>1.2</td>\n",
       "      <td>20</td>\n",
       "      <td>0.0</td>\n",
       "      <td>0.0</td>\n",
       "      <td>0.0</td>\n",
       "      <td>77.0</td>\n",
       "      <td>0</td>\n",
       "      <td>4</td>\n",
       "      <td>4</td>\n",
       "      <td>1</td>\n",
       "      <td>4</td>\n",
       "      <td>1590.0</td>\n",
       "    </tr>\n",
       "    <tr>\n",
       "      <th>4</th>\n",
       "      <td>453707.18</td>\n",
       "      <td>3.13</td>\n",
       "      <td>-1.17</td>\n",
       "      <td>-0.44</td>\n",
       "      <td>-1.78</td>\n",
       "      <td>0.0</td>\n",
       "      <td>250</td>\n",
       "      <td>320</td>\n",
       "      <td>2.2</td>\n",
       "      <td>290</td>\n",
       "      <td>0.0</td>\n",
       "      <td>0.0</td>\n",
       "      <td>0.0</td>\n",
       "      <td>73.0</td>\n",
       "      <td>0</td>\n",
       "      <td>5</td>\n",
       "      <td>4</td>\n",
       "      <td>1</td>\n",
       "      <td>5</td>\n",
       "      <td>892.0</td>\n",
       "    </tr>\n",
       "    <tr>\n",
       "      <th>...</th>\n",
       "      <td>...</td>\n",
       "      <td>...</td>\n",
       "      <td>...</td>\n",
       "      <td>...</td>\n",
       "      <td>...</td>\n",
       "      <td>...</td>\n",
       "      <td>...</td>\n",
       "      <td>...</td>\n",
       "      <td>...</td>\n",
       "      <td>...</td>\n",
       "      <td>...</td>\n",
       "      <td>...</td>\n",
       "      <td>...</td>\n",
       "      <td>...</td>\n",
       "      <td>...</td>\n",
       "      <td>...</td>\n",
       "      <td>...</td>\n",
       "      <td>...</td>\n",
       "      <td>...</td>\n",
       "      <td>...</td>\n",
       "    </tr>\n",
       "    <tr>\n",
       "      <th>360</th>\n",
       "      <td>491922.71</td>\n",
       "      <td>2.84</td>\n",
       "      <td>-1.12</td>\n",
       "      <td>-0.26</td>\n",
       "      <td>-1.42</td>\n",
       "      <td>0.0</td>\n",
       "      <td>290</td>\n",
       "      <td>290</td>\n",
       "      <td>2.1</td>\n",
       "      <td>340</td>\n",
       "      <td>0.0</td>\n",
       "      <td>0.0</td>\n",
       "      <td>0.0</td>\n",
       "      <td>37.0</td>\n",
       "      <td>0</td>\n",
       "      <td>4</td>\n",
       "      <td>4</td>\n",
       "      <td>12</td>\n",
       "      <td>27</td>\n",
       "      <td>2466.0</td>\n",
       "    </tr>\n",
       "    <tr>\n",
       "      <th>361</th>\n",
       "      <td>442390.37</td>\n",
       "      <td>2.35</td>\n",
       "      <td>-1.04</td>\n",
       "      <td>-1.15</td>\n",
       "      <td>-0.85</td>\n",
       "      <td>0.0</td>\n",
       "      <td>70</td>\n",
       "      <td>70</td>\n",
       "      <td>2.0</td>\n",
       "      <td>70</td>\n",
       "      <td>0.0</td>\n",
       "      <td>0.0</td>\n",
       "      <td>0.0</td>\n",
       "      <td>47.0</td>\n",
       "      <td>0</td>\n",
       "      <td>5</td>\n",
       "      <td>4</td>\n",
       "      <td>12</td>\n",
       "      <td>28</td>\n",
       "      <td>1772.0</td>\n",
       "    </tr>\n",
       "    <tr>\n",
       "      <th>362</th>\n",
       "      <td>436722.78</td>\n",
       "      <td>1.85</td>\n",
       "      <td>-0.90</td>\n",
       "      <td>-0.52</td>\n",
       "      <td>-0.49</td>\n",
       "      <td>1.4</td>\n",
       "      <td>110</td>\n",
       "      <td>70</td>\n",
       "      <td>2.9</td>\n",
       "      <td>70</td>\n",
       "      <td>0.0</td>\n",
       "      <td>0.0</td>\n",
       "      <td>1.0</td>\n",
       "      <td>47.0</td>\n",
       "      <td>0</td>\n",
       "      <td>6</td>\n",
       "      <td>4</td>\n",
       "      <td>12</td>\n",
       "      <td>29</td>\n",
       "      <td>1265.0</td>\n",
       "    </tr>\n",
       "    <tr>\n",
       "      <th>363</th>\n",
       "      <td>488213.64</td>\n",
       "      <td>2.07</td>\n",
       "      <td>-0.75</td>\n",
       "      <td>3.03</td>\n",
       "      <td>0.58</td>\n",
       "      <td>0.4</td>\n",
       "      <td>320</td>\n",
       "      <td>320</td>\n",
       "      <td>2.9</td>\n",
       "      <td>320</td>\n",
       "      <td>0.0</td>\n",
       "      <td>0.0</td>\n",
       "      <td>1.0</td>\n",
       "      <td>43.0</td>\n",
       "      <td>0</td>\n",
       "      <td>0</td>\n",
       "      <td>4</td>\n",
       "      <td>12</td>\n",
       "      <td>30</td>\n",
       "      <td>1931.0</td>\n",
       "    </tr>\n",
       "    <tr>\n",
       "      <th>364</th>\n",
       "      <td>478372.63</td>\n",
       "      <td>4.06</td>\n",
       "      <td>-1.26</td>\n",
       "      <td>2.43</td>\n",
       "      <td>-1.57</td>\n",
       "      <td>0.0</td>\n",
       "      <td>340</td>\n",
       "      <td>340</td>\n",
       "      <td>3.1</td>\n",
       "      <td>290</td>\n",
       "      <td>0.0</td>\n",
       "      <td>0.0</td>\n",
       "      <td>0.0</td>\n",
       "      <td>31.0</td>\n",
       "      <td>0</td>\n",
       "      <td>1</td>\n",
       "      <td>4</td>\n",
       "      <td>12</td>\n",
       "      <td>31</td>\n",
       "      <td>1408.0</td>\n",
       "    </tr>\n",
       "  </tbody>\n",
       "</table>\n",
       "<p>365 rows × 20 columns</p>\n",
       "</div>"
      ],
      "text/plain": [
       "        총생활인구수    기온    기압    풍속    운량  일강수량  최대순간풍속풍향  최대풍속풍향  평균풍속  최다풍향  \\\n",
       "0    434808.29  3.39 -1.16 -0.00 -0.76   0.0       290     270   2.1   290   \n",
       "1    502461.14  3.46 -1.21 -0.94 -1.66   0.0       320     320   1.7   270   \n",
       "2    504706.95  3.24 -1.19 -1.74 -1.93   0.0       290     270   1.4   290   \n",
       "3    505769.67  2.69 -1.01 -1.39 -0.48   0.0       180     200   1.2    20   \n",
       "4    453707.18  3.13 -1.17 -0.44 -1.78   0.0       250     320   2.2   290   \n",
       "..         ...   ...   ...   ...   ...   ...       ...     ...   ...   ...   \n",
       "360  491922.71  2.84 -1.12 -0.26 -1.42   0.0       290     290   2.1   340   \n",
       "361  442390.37  2.35 -1.04 -1.15 -0.85   0.0        70      70   2.0    70   \n",
       "362  436722.78  1.85 -0.90 -0.52 -0.49   1.4       110      70   2.9    70   \n",
       "363  488213.64  2.07 -0.75  3.03  0.58   0.4       320     320   2.9   320   \n",
       "364  478372.63  4.06 -1.26  2.43 -1.57   0.0       340     340   3.1   290   \n",
       "\n",
       "     일최심적설  일최심신적설  강수여부  일 미세먼지 농도(㎍/㎥)  휴일여부  요일  계절  month  day    영등포구  \n",
       "0      0.0     0.0   0.0            41.0     1   1   4      1    1   687.0  \n",
       "1      0.0     0.0   0.0            38.0     0   2   4      1    2  1326.0  \n",
       "2      0.0     0.0   0.0            41.0     0   3   4      1    3  1508.0  \n",
       "3      0.0     0.0   0.0            77.0     0   4   4      1    4  1590.0  \n",
       "4      0.0     0.0   0.0            73.0     0   5   4      1    5   892.0  \n",
       "..     ...     ...   ...             ...   ...  ..  ..    ...  ...     ...  \n",
       "360    0.0     0.0   0.0            37.0     0   4   4     12   27  2466.0  \n",
       "361    0.0     0.0   0.0            47.0     0   5   4     12   28  1772.0  \n",
       "362    0.0     0.0   1.0            47.0     0   6   4     12   29  1265.0  \n",
       "363    0.0     0.0   1.0            43.0     0   0   4     12   30  1931.0  \n",
       "364    0.0     0.0   0.0            31.0     0   1   4     12   31  1408.0  \n",
       "\n",
       "[365 rows x 20 columns]"
      ]
     },
     "execution_count": 41,
     "metadata": {},
     "output_type": "execute_result"
    }
   ],
   "source": [
    "test5 = pd.read_csv('2019_전처리_최종.csv')\n",
    "test5.round(2)"
   ]
  },
  {
   "cell_type": "markdown",
   "id": "f80ecd0b-06b5-4b24-a99c-ec7a0a2da94d",
   "metadata": {},
   "source": [
    "# LinearRegression, Ridge, Lasso"
   ]
  },
  {
   "cell_type": "code",
   "execution_count": 42,
   "id": "af1ff9f4-04d8-4e58-968a-f370f9f4c7d0",
   "metadata": {},
   "outputs": [],
   "source": [
    "test5[[ '강수여부','휴일여부','요일', '계절', 'month','day',]]= test5[[ '강수여부','휴일여부','요일', '계절', 'month','day']].astype('str')"
   ]
  },
  {
   "cell_type": "code",
   "execution_count": 43,
   "id": "28bd866f-0fa9-472f-97db-591c4207d645",
   "metadata": {},
   "outputs": [],
   "source": [
    "def get_rmse(model):\n",
    "    import numpy as np\n",
    "    from sklearn.metrics import mean_squared_error\n",
    "    pred = model.predict(X_test)\n",
    "    mse = mean_squared_error(y_test, pred)\n",
    "    rmse = np.sqrt(mse)\n",
    "    print(model.__class__.__name__, 'RMSE: ', np.round(rmse,3))\n",
    "    return rmse\n",
    "def get_rmses(models):\n",
    "    rmses = []\n",
    "    for model in models:\n",
    "        rmse = get_rmse(model)\n",
    "        rmses.append(rmse)\n",
    "    return rmses"
   ]
  },
  {
   "cell_type": "code",
   "execution_count": 44,
   "id": "4fff3c43-574f-4ff9-97e6-e05606daea31",
   "metadata": {},
   "outputs": [],
   "source": [
    "X = test5.drop(columns=['영등포구'])\n",
    "y = test5['영등포구']\n",
    "X_train, X_test, y_train, y_test = train_test_split(X,y, test_size=0.2, random_state=156)"
   ]
  },
  {
   "cell_type": "code",
   "execution_count": 45,
   "id": "22aefe37-67e4-43eb-92b0-d4ec120d5140",
   "metadata": {},
   "outputs": [
    {
     "name": "stdout",
     "output_type": "stream",
     "text": [
      "LinearRegression RMSE:  1021.728\n",
      "Ridge RMSE:  1019.023\n",
      "Lasso RMSE:  1015.071\n"
     ]
    },
    {
     "data": {
      "text/plain": [
       "[1021.7282491959043, 1019.0234112186779, 1015.0705091976139]"
      ]
     },
     "execution_count": 45,
     "metadata": {},
     "output_type": "execute_result"
    }
   ],
   "source": [
    "lr_reg = LinearRegression() #선형회귀\n",
    "lr_reg.fit(X_train, y_train)\n",
    "pred = lr_reg.predict(X_test)\n",
    "mse = mean_squared_error(y_test, pred)\n",
    "rmse = np.sqrt(mse)\n",
    "ridge_reg = Ridge()\n",
    "ridge_reg.fit(X_train, y_train)\n",
    "lasso_reg = Lasso()\n",
    "lasso_reg.fit(X_train, y_train)\n",
    "models = [lr_reg, ridge_reg, lasso_reg]\n",
    "get_rmses(models) # R2 점수 추가함"
   ]
  },
  {
   "cell_type": "code",
   "execution_count": 46,
   "id": "413e3ced-b01c-43c2-9b37-0c452fd14c72",
   "metadata": {},
   "outputs": [
    {
     "data": {
      "text/plain": [
       "일최심신적설    13.732948\n",
       "일최심적설     13.123167\n",
       "일강수량       5.053976\n",
       "dtype: float64"
      ]
     },
     "execution_count": 46,
     "metadata": {},
     "output_type": "execute_result"
    }
   ],
   "source": [
    "# 왜곡도 확인\n",
    "features_index = test5.dtypes[test5.dtypes != 'object'].index\n",
    "skew_features= test5[features_index].apply(lambda x : skew(x))\n",
    "skew_features_top = skew_features[skew_features>3]\n",
    "skew_features_top.sort_values(ascending=False)"
   ]
  },
  {
   "cell_type": "code",
   "execution_count": 47,
   "id": "3f30c982-1801-4eaf-a8f7-1bcd58eebf01",
   "metadata": {},
   "outputs": [],
   "source": [
    "# 왜곡도 1 이상은 로그로 변환\n",
    "test5[skew_features_top.index]= np.log1p(test5[skew_features_top.index])"
   ]
  },
  {
   "cell_type": "code",
   "execution_count": 48,
   "id": "5bdaf1d5-ab0c-44b8-9b72-7bbafea8ffb9",
   "metadata": {},
   "outputs": [
    {
     "data": {
      "text/plain": [
       "<AxesSubplot:xlabel='영등포구', ylabel='Count'>"
      ]
     },
     "execution_count": 48,
     "metadata": {},
     "output_type": "execute_result"
    },
    {
     "data": {
      "image/png": "[encoded data removed]",
      "text/plain": [
       "<Figure size 640x480 with 1 Axes>"
      ]
     },
     "metadata": {},
     "output_type": "display_data"
    }
   ],
   "source": [
    "# y값 정규분포로 변환\n",
    "log_test = np.log1p(test5['영등포구'])\n",
    "sns.histplot(log_test, kde=True)"
   ]
  },
  {
   "cell_type": "code",
   "execution_count": 49,
   "id": "2aabccd0-c13b-4972-bba9-205f850dddd6",
   "metadata": {},
   "outputs": [],
   "source": [
    "# 문자열 치환 원앤핫인코딩\n",
    "test5 = pd.get_dummies(test5)\n",
    "X = test5.drop(columns=['영등포구'])\n",
    "y = log_test\n",
    "X_train, X_test, y_train, y_test = train_test_split(X,y, test_size=0.2, random_state=156)"
   ]
  },
  {
   "cell_type": "code",
   "execution_count": 50,
   "id": "f8029b5f-45d0-4d73-9af0-204df2a0f10f",
   "metadata": {},
   "outputs": [
    {
     "name": "stdout",
     "output_type": "stream",
     "text": [
      "MSE: 0.0776453151292961, RMSE: 0.2786490895899287, R2: 0.8462938384966457\n",
      "LinearRegression RMSE:  0.279\n",
      "Ridge RMSE:  0.267\n",
      "Lasso RMSE:  0.67\n"
     ]
    },
    {
     "data": {
      "text/plain": [
       "[0.2786490895899287, 0.2672420513996855, 0.6695915246054243]"
      ]
     },
     "execution_count": 50,
     "metadata": {},
     "output_type": "execute_result"
    }
   ],
   "source": [
    "# 모델 확인\n",
    "lr_reg = LinearRegression()\n",
    "lr_reg.fit(X_train, y_train)\n",
    "pred = lr_reg.predict(X_test)\n",
    "mse = mean_squared_error(y_test, pred)\n",
    "rmse = np.sqrt(mse)\n",
    "print(f'MSE: {mse}, RMSE: {rmse}, R2: {r2_score(y_test, pred)}')\n",
    "ridge_reg = Ridge()\n",
    "ridge_reg.fit(X_train, y_train)\n",
    "lasso_reg = Lasso()\n",
    "lasso_reg.fit(X_train, y_train)\n",
    "models = [lr_reg, ridge_reg, lasso_reg]\n",
    "get_rmses(models)"
   ]
  },
  {
   "cell_type": "code",
   "execution_count": 51,
   "id": "16792fec-65d2-40bc-9d46-f75c80f664fe",
   "metadata": {},
   "outputs": [
    {
     "name": "stdout",
     "output_type": "stream",
     "text": [
      "5504.999999999998, 5809.859638959739\n",
      "5411.000000000005, 4725.347595242919\n",
      "686.9999999999999, 1102.1042684947972\n",
      "7848.000000000002, 7387.227138931376\n",
      "2401.0000000000005, 1988.0311674392062\n",
      "1796.0000000000005, 1822.4969858138697\n",
      "1367.9999999999998, 1265.291843238509\n",
      "5922.000000000001, 7097.605252740273\n",
      "7227.999999999995, 6705.295949163094\n",
      "4034.999999999999, 4498.398504936073\n",
      "6975.000000000002, 6829.761291560698\n",
      "6163.9999999999945, 3886.0985141801802\n",
      "6929.999999999994, 3827.212680197389\n",
      "7634.000000000002, 6341.018235218811\n",
      "4096.000000000003, 4736.198275667181\n",
      "2255.999999999999, 2594.6729936409033\n",
      "6442.0, 6113.929704297709\n",
      "6458.0000000000055, 5669.663138215072\n",
      "1692.9999999999993, 1772.9080566290734\n",
      "4667.0, 3811.128801425233\n",
      "6212.000000000005, 6415.615712838885\n",
      "7135.999999999995, 8731.91985528997\n",
      "5531.000000000003, 4983.25292240161\n",
      "7344.000000000006, 6282.626332606757\n",
      "2559.0, 1715.6104032995997\n",
      "4311.000000000003, 6720.346262271672\n",
      "7366.999999999995, 7455.398224932743\n",
      "1824.9999999999993, 1713.4498255956935\n",
      "5963.999999999999, 7446.615460463246\n",
      "7037.9999999999945, 7604.069961810894\n",
      "1438.0, 1150.1734403997411\n",
      "6233.000000000002, 4670.643412257792\n",
      "6407.000000000005, 5945.898747124929\n",
      "1638.9999999999993, 1782.3678308235094\n",
      "7256.999999999999, 7428.769776233412\n",
      "1644.0000000000002, 1120.3181581605502\n",
      "1807.9999999999995, 2575.1168193815965\n",
      "755.0000000000002, 942.9248749762603\n",
      "7056.999999999996, 5782.845226512125\n",
      "2043.0000000000002, 2480.1385012950486\n",
      "1655.0, 1262.889737076427\n",
      "4698.999999999997, 4171.03943996922\n",
      "5251.000000000005, 4750.540698593026\n",
      "5673.999999999998, 7452.126598682526\n",
      "6407.999999999995, 6105.3569587097245\n",
      "1771.9999999999995, 2067.7433147057777\n",
      "2814.000000000001, 2220.625685142145\n",
      "1725.9999999999995, 1924.2369192573\n",
      "8190.0, 6515.404354404417\n",
      "3503.9999999999973, 3632.032364752329\n",
      "6071.999999999997, 8801.235403883735\n",
      "2882.000000000001, 1655.1619379308388\n",
      "3517.0000000000027, 3580.8723471963945\n",
      "2287.0, 1861.1001053838224\n",
      "608.0000000000001, 1568.2850664941607\n",
      "3279.0000000000023, 4692.6371732610905\n",
      "1843.0000000000005, 1811.6032893747104\n",
      "1821.0, 1286.7916574491112\n",
      "3508.0000000000027, 2604.794311119498\n",
      "5794.999999999995, 6849.704143377391\n",
      "2594.999999999999, 2177.0725262065944\n",
      "7023.000000000004, 4898.58594746651\n",
      "953.0000000000003, 476.97807809398677\n",
      "806.9999999999997, 1111.9388962197236\n",
      "5644.999999999995, 5650.8290971313845\n",
      "1508.0000000000005, 1302.6863567863397\n",
      "1079.9999999999998, 1602.9669617852958\n",
      "6021.999999999997, 7413.151988200595\n",
      "1867.0000000000007, 3177.7400095164767\n",
      "1580.9999999999993, 2256.458987136409\n",
      "1759.9999999999995, 2401.4915208739794\n",
      "6723.999999999995, 7985.965146485741\n",
      "7353.000000000003, 6327.099148432711\n"
     ]
    }
   ],
   "source": [
    "# 루트치환값 다시 원래대로 돌려서 비교\n",
    "y_t= np.expm1(y_test)\n",
    "p_t = np.expm1(pred)\n",
    "for solve, predd in zip(y_t, p_t):\n",
    "    print(f'{solve}, {predd}') "
   ]
  },
  {
   "cell_type": "markdown",
   "id": "a176dd3b-4f8d-4fae-aa2e-90ac98feacce",
   "metadata": {},
   "source": [
    "## cross_val_score"
   ]
  },
  {
   "cell_type": "code",
   "execution_count": 52,
   "id": "e370a3d4-db7d-4719-a455-cb8ea1045f0a",
   "metadata": {},
   "outputs": [],
   "source": [
    "from sklearn.linear_model import Ridge\n",
    "from sklearn.model_selection import cross_val_score"
   ]
  },
  {
   "cell_type": "code",
   "execution_count": 53,
   "id": "c655fc21-1fee-44a4-8941-a752832851c6",
   "metadata": {
    "tags": []
   },
   "outputs": [],
   "source": [
    "X_data = test5.drop(columns=['영등포구'])\n",
    "y_target = test5['영등포구']\n",
    "\n",
    "\n",
    "ridge = Ridge(alpha=5)\n",
    "neg_mse_scores = cross_val_score(ridge, X_data, y_target, scoring=\"neg_mean_squared_error\",cv=5)\n",
    "rmse_scores = np.sqrt(-1*neg_mse_scores)\n",
    "avg_rmse = np.mean(rmse_scores)"
   ]
  },
  {
   "cell_type": "code",
   "execution_count": 54,
   "id": "bf775805-35ed-4fe1-a87e-5da64e65633e",
   "metadata": {},
   "outputs": [
    {
     "name": "stdout",
     "output_type": "stream",
     "text": [
      "LinearRegression cv rmse 값 리스트 : [6.98858591e+06 2.70000000e-01 3.42000000e-01 3.03000000e-01\n",
      " 3.50000000e-01]\n",
      "LinearRegression cv 평균 rmse 값 : 1397717.435\n",
      "Ridge cv rmse 값 리스트 : [0.724 0.27  0.331 0.317 0.343]\n",
      "Ridge cv 평균 rmse 값 : 0.397\n",
      "Lasso cv rmse 값 리스트 : [1.23  0.643 0.608 0.578 0.551]\n",
      "Lasso cv 평균 rmse 값 : 0.722\n"
     ]
    }
   ],
   "source": [
    "def get_avg_rmse_cv(models):\n",
    "    for model in models:\n",
    "        rmse_list = np.sqrt(-cross_val_score(model,X,y,scoring='neg_mean_squared_error',cv=5)) #rmse = 5개가 나올 것\n",
    "        rmse_avg = np.mean(rmse_list)\n",
    "        print(f'{model.__class__.__name__} cv rmse 값 리스트 : {np.round(rmse_list,3)}')\n",
    "        print(f'{model.__class__.__name__} cv 평균 rmse 값 : {np.round(rmse_avg,3)}')\n",
    "\n",
    "get_avg_rmse_cv(models)"
   ]
  },
  {
   "cell_type": "markdown",
   "id": "31c7ef1c-d7ec-4f40-ade2-01be11637339",
   "metadata": {},
   "source": [
    "## GridSearchCV"
   ]
  },
  {
   "cell_type": "code",
   "execution_count": 55,
   "id": "477b6d49-3584-4b03-908f-6b32b1804b12",
   "metadata": {},
   "outputs": [],
   "source": [
    "from sklearn.model_selection import GridSearchCV"
   ]
  },
  {
   "cell_type": "code",
   "execution_count": 56,
   "id": "8c05d8a2-f869-4234-82d1-bc94c734bfcc",
   "metadata": {},
   "outputs": [],
   "source": [
    "def print_best_params(model,params):\n",
    "    grid_model = GridSearchCV(model,params,scoring='neg_mean_squared_error', cv=10) #GridSearchCV라서 scoring='neg' #scoring='neg_mean_squared_error' 예측값과 차이의 제곱?\n",
    "    grid_model.fit(X,y)\n",
    "    rmse = np.sqrt(-1*grid_model.best_score_)\n",
    "    print(f'{model.__class__.__name__} 5 cv시 최적 평균 rmse 값:{np.round(rmse, 4)}, 최적 alpha값:{grid_model.best_params_}')"
   ]
  },
  {
   "cell_type": "code",
   "execution_count": 57,
   "id": "884d1f9e-5bfd-4ffe-afee-356c4ecebb5f",
   "metadata": {},
   "outputs": [
    {
     "name": "stdout",
     "output_type": "stream",
     "text": [
      "Ridge 5 cv시 최적 평균 rmse 값:0.3243, 최적 alpha값:{'alpha': 5}\n"
     ]
    }
   ],
   "source": [
    "ridge_param = {\n",
    "    'alpha':[0.0001,0.01,0.05, 0.1, 1, 5, 8, 10, 12, 15, 20, 30, 40, 50, 100]\n",
    "} #ridge더 크게 rasso 더 작게\n",
    "print_best_params(ridge_reg, ridge_param)"
   ]
  },
  {
   "cell_type": "code",
   "execution_count": 58,
   "id": "78e195c3-503a-463a-ae0a-b665b78d13ba",
   "metadata": {},
   "outputs": [
    {
     "name": "stdout",
     "output_type": "stream",
     "text": [
      "Lasso 5 cv시 최적 평균 rmse 값:0.3451, 최적 alpha값:{'alpha': 0.005}\n"
     ]
    }
   ],
   "source": [
    "lasso_param = {'alpha':[0.0001,0.001, 0.005, 0.008, 0.05, 0.05, 0.1, 0.5, 1, 5, 10, 15, 30]} \n",
    "print_best_params(lasso_reg, lasso_param)"
   ]
  },
  {
   "cell_type": "code",
   "execution_count": 59,
   "id": "8c995d52-0b38-498a-9c96-8a28018689d4",
   "metadata": {},
   "outputs": [
    {
     "name": "stdout",
     "output_type": "stream",
     "text": [
      "LinearRegression RMSE:  0.279\n",
      "Ridge RMSE:  0.257\n",
      "Lasso RMSE:  0.257\n",
      "MSE: 0.0776453151292961, RMSE: 0.2786490895899287, R2: 0.8462938384966457\n"
     ]
    }
   ],
   "source": [
    "lr_reg = LinearRegression()\n",
    "lr_reg.fit(X_train,y_train)\n",
    "\n",
    "ridge_reg = Ridge(alpha=5)\n",
    "ridge_reg.fit(X_train,y_train)\n",
    "\n",
    "lasso_reg = Lasso(alpha=0.005)\n",
    "lasso_reg.fit(X_train,y_train)\n",
    "\n",
    "models=[lr_reg, ridge_reg,lasso_reg] \n",
    "get_rmses(models)\n",
    "\n",
    "#visualize_coefficient(models)\n",
    "\n",
    "lr_reg = LinearRegression()\n",
    "lr_reg.fit(X_train, y_train)\n",
    "\n",
    "pred = lr_reg.predict(X_test)\n",
    "mse = mean_squared_error(y_test, pred)\n",
    "rmse = np.sqrt(mse)\n",
    "print(f'MSE: {mse}, RMSE: {rmse}, R2: {r2_score(y_test, pred)}')\n"
   ]
  },
  {
   "cell_type": "code",
   "execution_count": 60,
   "id": "37720f8f-9ed0-47d2-966b-443889d328ff",
   "metadata": {},
   "outputs": [
    {
     "name": "stdout",
     "output_type": "stream",
     "text": [
      "MSE: 0.0776453151292961, RMSE: 0.2786490895899287, R2: 0.8462938384966457\n",
      "LinearRegression RMSE:  0.279\n",
      "Ridge RMSE:  0.267\n",
      "Lasso RMSE:  0.67\n"
     ]
    }
   ],
   "source": [
    "lr_reg = LinearRegression()\n",
    "lr_reg.fit(X_train, y_train)\n",
    "\n",
    "pred = lr_reg.predict(X_test)\n",
    "mse = mean_squared_error(y_test, pred)\n",
    "rmse = np.sqrt(mse)\n",
    "print(f'MSE: {mse}, RMSE: {rmse}, R2: {r2_score(y_test, pred)}')\n",
    "\n",
    "\n",
    "\n",
    "\n",
    "ridge_reg = Ridge()\n",
    "ridge_reg.fit(X_train, y_train)\n",
    "lasso_reg = Lasso()\n",
    "lasso_reg.fit(X_train, y_train)\n",
    "models = [lr_reg, ridge_reg, lasso_reg]\n",
    "\n",
    "for model in models:\n",
    "    get_rmse(model)"
   ]
  },
  {
   "cell_type": "markdown",
   "id": "e90fb0fe-dd09-468f-8523-a765e4f710ae",
   "metadata": {},
   "source": [
    "# RandomForestRegressor"
   ]
  },
  {
   "cell_type": "code",
   "execution_count": 61,
   "id": "a6d2772d-b3b0-4eaf-95d4-b6213a8fb2b0",
   "metadata": {},
   "outputs": [],
   "source": [
    "from sklearn.ensemble import RandomForestRegressor\n",
    "from sklearn.metrics import accuracy_score\n",
    "import pandas as pd\n",
    "import warnings\n",
    "warnings.filterwarnings('ignore')"
   ]
  },
  {
   "cell_type": "code",
   "execution_count": 62,
   "id": "b8ed009d-8d50-45b2-9f84-9a1e58457915",
   "metadata": {},
   "outputs": [],
   "source": [
    "X_train,X_test,y_train,y_test = train_test_split(X,y,test_size=0.2,random_state=32)"
   ]
  },
  {
   "cell_type": "code",
   "execution_count": 63,
   "id": "cf4bff1b-30f5-40f6-ab8b-e8c12ea5bcce",
   "metadata": {},
   "outputs": [
    {
     "name": "stdout",
     "output_type": "stream",
     "text": [
      "MSE: 0.10142776817355936, RMSE: 0.31847726476714056, R2: 0.8499163833432435\n"
     ]
    }
   ],
   "source": [
    "rf_clf = RandomForestRegressor(random_state=156, max_depth=8)\n",
    "rf_clf.fit(X_train,y_train)\n",
    "\n",
    "pred = rf_clf.predict(X_test)\n",
    "mse = mean_squared_error(y_test, pred)\n",
    "rmse = np.sqrt(mse)\n",
    "\n",
    "print(f'MSE: {mse}, RMSE: {rmse}, R2: {r2_score(y_test, pred)}')\n"
   ]
  },
  {
   "cell_type": "code",
   "execution_count": 64,
   "id": "ad9b8a60-457a-4fed-9bc0-bae983027334",
   "metadata": {},
   "outputs": [],
   "source": [
    "log_test = np.log1p(test5['영등포구'])\n",
    "test5 = pd.get_dummies(test5)\n",
    "X = test5.drop(columns=['영등포구'])\n",
    "y = log_test\n",
    "X_train, X_test, y_train, y_test = train_test_split(X,y, test_size=0.2, random_state=32)"
   ]
  },
  {
   "cell_type": "code",
   "execution_count": 65,
   "id": "98565d1f-1efd-4f41-b42a-d8e64d19d332",
   "metadata": {},
   "outputs": [
    {
     "name": "stdout",
     "output_type": "stream",
     "text": [
      "MSE: 0.09936942158876189, RMSE: 0.31522915726303286, R2: 0.852962138025047\n"
     ]
    }
   ],
   "source": [
    "rf_clf = RandomForestRegressor(random_state=32, max_depth=8)\n",
    "rf_clf.fit(X_train,y_train)\n",
    "\n",
    "pred = rf_clf.predict(X_test)\n",
    "mse = mean_squared_error(y_test, pred)\n",
    "rmse = np.sqrt(mse)\n",
    "\n",
    "print(f'MSE: {mse}, RMSE: {rmse}, R2: {r2_score(y_test, pred)}')"
   ]
  },
  {
   "cell_type": "markdown",
   "id": "0949a07a-c847-4675-83e3-213771cb8145",
   "metadata": {},
   "source": [
    "## GridSearchCV \n",
    "RandomForestRegressor - 하이퍼 파라미터 수정"
   ]
  },
  {
   "cell_type": "code",
   "execution_count": 66,
   "id": "1fcc5ed9-a239-4c88-8e56-fe83d94092da",
   "metadata": {},
   "outputs": [],
   "source": [
    "from sklearn.model_selection import GridSearchCV"
   ]
  },
  {
   "cell_type": "code",
   "execution_count": 67,
   "id": "d69db63f-c82b-4d09-976f-8bfc63e13d5e",
   "metadata": {},
   "outputs": [],
   "source": [
    "params = {\n",
    "    'max_depth': [6, 12, 18, 26, 30],\n",
    "    'min_samples_leaf': [1, 6, 12, 18, 24],\n",
    "    'min_samples_split':[2, 6, 12, 18, 24]\n",
    "}"
   ]
  },
  {
   "cell_type": "code",
   "execution_count": 68,
   "id": "7a4872f5-f66d-457b-97c6-460b46c0f8b2",
   "metadata": {},
   "outputs": [
    {
     "name": "stdout",
     "output_type": "stream",
     "text": [
      "최적 하이퍼 파라미너:\n",
      " {'max_depth': 12, 'min_samples_leaf': 1, 'min_samples_split': 2}\n"
     ]
    }
   ],
   "source": [
    "rf_clf = RandomForestRegressor(n_estimators=100, random_state=32, n_jobs=-1)\n",
    "grid_cv = GridSearchCV(rf_clf, param_grid=params, cv=2, n_jobs=-1)\n",
    "grid_cv.fit(X_train, y_train)\n",
    "\n",
    "print('최적 하이퍼 파라미너:\\n', grid_cv.best_params_)"
   ]
  },
  {
   "cell_type": "code",
   "execution_count": 69,
   "id": "8f581b62-f1b6-42b8-8b31-f035da9eedc1",
   "metadata": {},
   "outputs": [
    {
     "name": "stdout",
     "output_type": "stream",
     "text": [
      "MSE: 0.10255825448064829, RMSE: 0.320247177162654, R2: 0.8482435921874871\n"
     ]
    }
   ],
   "source": [
    "rf_clf1    = RandomForestRegressor(n_estimators=100, max_depth=12, min_samples_leaf=1, min_samples_split=6, random_state=32)\n",
    "rf_clf1.fit(X_train,y_train)\n",
    "\n",
    "pred = rf_clf1.predict(X_test)\n",
    "mse = mean_squared_error(y_test, pred)\n",
    "rmse = np.sqrt(mse)\n",
    "\n",
    "print(f'MSE: {mse}, RMSE: {rmse}, R2: {r2_score(y_test, pred)}')\n"
   ]
  },
  {
   "cell_type": "markdown",
   "id": "1982f88b-51d0-4a06-941f-159548c4ec09",
   "metadata": {},
   "source": [
    "# XGBoost "
   ]
  },
  {
   "cell_type": "code",
   "execution_count": 70,
   "id": "b9ec4441-b71a-41bb-9a13-76f2201df529",
   "metadata": {},
   "outputs": [],
   "source": [
    "import xgboost as xgb\n",
    "from xgboost import XGBRegressor"
   ]
  },
  {
   "cell_type": "code",
   "execution_count": 71,
   "id": "63b163af-1de4-45d5-9129-915cc7f9e5c6",
   "metadata": {},
   "outputs": [
    {
     "name": "stdout",
     "output_type": "stream",
     "text": [
      "1.5.0\n"
     ]
    }
   ],
   "source": [
    "import xgboost\n",
    "\n",
    "print(xgboost.__version__)"
   ]
  },
  {
   "cell_type": "code",
   "execution_count": 72,
   "id": "f560c99d-5e4a-4b23-941b-16618b9725c3",
   "metadata": {},
   "outputs": [],
   "source": [
    "import pandas as pd\n",
    "import numpy as np\n",
    "import seaborn as sns\n",
    "from sklearn.model_selection import train_test_split\n",
    "import warnings\n",
    "warnings.filterwarnings('ignore')"
   ]
  },
  {
   "cell_type": "code",
   "execution_count": 73,
   "id": "de1e9ed5-43e3-4573-9ec1-2b84a1e6c152",
   "metadata": {},
   "outputs": [],
   "source": [
    "#학습용(80%), 데이터용(20%)\n",
    "log_test = np.log1p(test5['영등포구'])\n",
    "#test = test5['영등포구']\n",
    "test5 = pd.get_dummies(test5)\n",
    "X = test5.drop(columns=['영등포구'])\n",
    "y = log_test\n",
    "X_train, X_test, y_train, y_test = train_test_split(X,y, test_size=0.2, random_state=32)"
   ]
  },
  {
   "cell_type": "code",
   "execution_count": 74,
   "id": "74d75d0c-6804-441b-aa4f-ef21f400a5ae",
   "metadata": {},
   "outputs": [],
   "source": [
    "#최종 학습용(90%), 검즘용(10%)\n",
    "X_tr, X_val, y_tr, y_val = train_test_split(X_train,y_train,test_size=0.1,random_state=32)"
   ]
  },
  {
   "cell_type": "code",
   "execution_count": 75,
   "id": "5ba9f28c-3ef7-4a49-8ea9-53594ea5bb56",
   "metadata": {},
   "outputs": [],
   "source": [
    "#학습, 검증, 테스트용 DMatrix 생성\n",
    "dtr = xgb.DMatrix(data=X_tr, label=y_tr)\n",
    "dval = xgb.DMatrix(data=X_val, label=y_val)\n",
    "dtest = xgb.DMatrix(data=X_test, label=y_test)"
   ]
  },
  {
   "cell_type": "code",
   "execution_count": 76,
   "id": "d7723728-a285-4663-a09f-2eeae8f61887",
   "metadata": {},
   "outputs": [],
   "source": [
    "params = {\n",
    "    'max_depth':3,\n",
    "    'eta':0.05,\n",
    "    #'objective':'binary:logistic',\n",
    "    # 'eval_metric':'logloss'\n",
    "}\n",
    "num_rounds = 400"
   ]
  },
  {
   "cell_type": "code",
   "execution_count": 77,
   "id": "077d0972-f306-45e5-ad14-f1e19cb18037",
   "metadata": {},
   "outputs": [
    {
     "name": "stdout",
     "output_type": "stream",
     "text": [
      "[0]\ttrain-rmse:7.36545\teval-rmse:7.25871\n",
      "[1]\ttrain-rmse:7.00114\teval-rmse:6.89549\n",
      "[2]\ttrain-rmse:6.65498\teval-rmse:6.55038\n",
      "[3]\ttrain-rmse:6.32604\teval-rmse:6.22399\n",
      "[4]\ttrain-rmse:6.01348\teval-rmse:5.91126\n",
      "[5]\ttrain-rmse:5.71650\teval-rmse:5.61667\n",
      "[6]\ttrain-rmse:5.43431\teval-rmse:5.33439\n",
      "[7]\ttrain-rmse:5.16620\teval-rmse:5.06647\n",
      "[8]\ttrain-rmse:4.91146\teval-rmse:4.81393\n",
      "[9]\ttrain-rmse:4.66943\teval-rmse:4.57195\n",
      "[10]\ttrain-rmse:4.43950\teval-rmse:4.34412\n",
      "[11]\ttrain-rmse:4.22105\teval-rmse:4.12580\n",
      "[12]\ttrain-rmse:4.01354\teval-rmse:3.91847\n",
      "[13]\ttrain-rmse:3.81641\teval-rmse:3.72334\n",
      "[14]\ttrain-rmse:3.62917\teval-rmse:3.53637\n",
      "[15]\ttrain-rmse:3.45123\teval-rmse:3.36024\n",
      "[16]\ttrain-rmse:3.28213\teval-rmse:3.19129\n",
      "[17]\ttrain-rmse:3.12144\teval-rmse:3.03355\n",
      "[18]\ttrain-rmse:2.96876\teval-rmse:2.88166\n",
      "[19]\ttrain-rmse:2.82368\teval-rmse:2.73586\n",
      "[20]\ttrain-rmse:2.68579\teval-rmse:2.60074\n",
      "[21]\ttrain-rmse:2.55479\teval-rmse:2.47142\n",
      "[22]\ttrain-rmse:2.43031\teval-rmse:2.34960\n",
      "[23]\ttrain-rmse:2.31195\teval-rmse:2.23080\n",
      "[24]\ttrain-rmse:2.19957\teval-rmse:2.11891\n",
      "[25]\ttrain-rmse:2.09277\teval-rmse:2.01585\n",
      "[26]\ttrain-rmse:1.99140\teval-rmse:1.91694\n",
      "[27]\ttrain-rmse:1.89490\teval-rmse:1.82028\n",
      "[28]\ttrain-rmse:1.80341\teval-rmse:1.72911\n",
      "[29]\ttrain-rmse:1.71632\teval-rmse:1.64432\n",
      "[30]\ttrain-rmse:1.63355\teval-rmse:1.56169\n",
      "[31]\ttrain-rmse:1.55492\teval-rmse:1.48608\n",
      "[32]\ttrain-rmse:1.48022\teval-rmse:1.41157\n",
      "[33]\ttrain-rmse:1.40925\teval-rmse:1.34268\n",
      "[34]\ttrain-rmse:1.34173\teval-rmse:1.27907\n",
      "[35]\ttrain-rmse:1.27757\teval-rmse:1.21517\n",
      "[36]\ttrain-rmse:1.21669\teval-rmse:1.15693\n",
      "[37]\ttrain-rmse:1.15886\teval-rmse:1.10035\n",
      "[38]\ttrain-rmse:1.10384\teval-rmse:1.04791\n",
      "[39]\ttrain-rmse:1.05164\teval-rmse:0.99650\n",
      "[40]\ttrain-rmse:1.00208\teval-rmse:0.95045\n",
      "[41]\ttrain-rmse:0.95488\teval-rmse:0.90749\n",
      "[42]\ttrain-rmse:0.91010\teval-rmse:0.86691\n",
      "[43]\ttrain-rmse:0.86763\teval-rmse:0.82725\n",
      "[44]\ttrain-rmse:0.82727\teval-rmse:0.79072\n",
      "[45]\ttrain-rmse:0.78902\teval-rmse:0.75552\n",
      "[46]\ttrain-rmse:0.75262\teval-rmse:0.72342\n",
      "[47]\ttrain-rmse:0.71806\teval-rmse:0.69176\n",
      "[48]\ttrain-rmse:0.68527\teval-rmse:0.66218\n",
      "[49]\ttrain-rmse:0.65388\teval-rmse:0.63752\n",
      "[50]\ttrain-rmse:0.62429\teval-rmse:0.61258\n",
      "[51]\ttrain-rmse:0.59604\teval-rmse:0.59121\n",
      "[52]\ttrain-rmse:0.56944\teval-rmse:0.56981\n",
      "[53]\ttrain-rmse:0.54386\teval-rmse:0.54999\n",
      "[54]\ttrain-rmse:0.51988\teval-rmse:0.52964\n",
      "[55]\ttrain-rmse:0.49691\teval-rmse:0.51226\n",
      "[56]\ttrain-rmse:0.47533\teval-rmse:0.49567\n",
      "[57]\ttrain-rmse:0.45492\teval-rmse:0.47916\n",
      "[58]\ttrain-rmse:0.43536\teval-rmse:0.46559\n",
      "[59]\ttrain-rmse:0.41689\teval-rmse:0.45324\n",
      "[60]\ttrain-rmse:0.39957\teval-rmse:0.44137\n",
      "[61]\ttrain-rmse:0.38298\teval-rmse:0.43063\n",
      "[62]\ttrain-rmse:0.36749\teval-rmse:0.42021\n",
      "[63]\ttrain-rmse:0.35298\teval-rmse:0.40870\n",
      "[64]\ttrain-rmse:0.33902\teval-rmse:0.40059\n",
      "[65]\ttrain-rmse:0.32598\teval-rmse:0.39298\n",
      "[66]\ttrain-rmse:0.31350\teval-rmse:0.38603\n",
      "[67]\ttrain-rmse:0.30175\teval-rmse:0.37897\n",
      "[68]\ttrain-rmse:0.29067\teval-rmse:0.37255\n",
      "[69]\ttrain-rmse:0.28043\teval-rmse:0.36680\n",
      "[70]\ttrain-rmse:0.27071\teval-rmse:0.36112\n",
      "[71]\ttrain-rmse:0.26177\teval-rmse:0.35660\n",
      "[72]\ttrain-rmse:0.25282\teval-rmse:0.35293\n",
      "[73]\ttrain-rmse:0.24469\teval-rmse:0.34866\n",
      "[74]\ttrain-rmse:0.23676\teval-rmse:0.34579\n",
      "[75]\ttrain-rmse:0.22959\teval-rmse:0.34164\n",
      "[76]\ttrain-rmse:0.22273\teval-rmse:0.33934\n",
      "[77]\ttrain-rmse:0.21627\teval-rmse:0.33790\n",
      "[78]\ttrain-rmse:0.21009\teval-rmse:0.33582\n",
      "[79]\ttrain-rmse:0.20435\teval-rmse:0.33326\n",
      "[80]\ttrain-rmse:0.19913\teval-rmse:0.33094\n",
      "[81]\ttrain-rmse:0.19400\teval-rmse:0.32996\n",
      "[82]\ttrain-rmse:0.18940\teval-rmse:0.32808\n",
      "[83]\ttrain-rmse:0.18489\teval-rmse:0.32745\n",
      "[84]\ttrain-rmse:0.18084\teval-rmse:0.32736\n",
      "[85]\ttrain-rmse:0.17698\teval-rmse:0.32722\n",
      "[86]\ttrain-rmse:0.17330\teval-rmse:0.32638\n",
      "[87]\ttrain-rmse:0.16994\teval-rmse:0.32646\n",
      "[88]\ttrain-rmse:0.16676\teval-rmse:0.32581\n",
      "[89]\ttrain-rmse:0.16381\teval-rmse:0.32480\n",
      "[90]\ttrain-rmse:0.16049\teval-rmse:0.32341\n",
      "[91]\ttrain-rmse:0.15778\teval-rmse:0.32268\n",
      "[92]\ttrain-rmse:0.15529\teval-rmse:0.32273\n",
      "[93]\ttrain-rmse:0.15280\teval-rmse:0.32132\n",
      "[94]\ttrain-rmse:0.15065\teval-rmse:0.32162\n",
      "[95]\ttrain-rmse:0.14859\teval-rmse:0.32146\n",
      "[96]\ttrain-rmse:0.14697\teval-rmse:0.32137\n",
      "[97]\ttrain-rmse:0.14517\teval-rmse:0.32253\n",
      "[98]\ttrain-rmse:0.14364\teval-rmse:0.32252\n",
      "[99]\ttrain-rmse:0.14200\teval-rmse:0.32255\n",
      "[100]\ttrain-rmse:0.14038\teval-rmse:0.32240\n",
      "[101]\ttrain-rmse:0.13891\teval-rmse:0.32182\n",
      "[102]\ttrain-rmse:0.13753\teval-rmse:0.32105\n",
      "[103]\ttrain-rmse:0.13619\teval-rmse:0.32133\n",
      "[104]\ttrain-rmse:0.13504\teval-rmse:0.32122\n",
      "[105]\ttrain-rmse:0.13378\teval-rmse:0.32131\n",
      "[106]\ttrain-rmse:0.13265\teval-rmse:0.32073\n",
      "[107]\ttrain-rmse:0.13154\teval-rmse:0.32113\n",
      "[108]\ttrain-rmse:0.13045\teval-rmse:0.32124\n",
      "[109]\ttrain-rmse:0.12937\teval-rmse:0.32102\n",
      "[110]\ttrain-rmse:0.12839\teval-rmse:0.32115\n",
      "[111]\ttrain-rmse:0.12752\teval-rmse:0.32151\n",
      "[112]\ttrain-rmse:0.12634\teval-rmse:0.32171\n",
      "[113]\ttrain-rmse:0.12484\teval-rmse:0.32254\n",
      "[114]\ttrain-rmse:0.12396\teval-rmse:0.32183\n",
      "[115]\ttrain-rmse:0.12314\teval-rmse:0.32211\n",
      "[116]\ttrain-rmse:0.12235\teval-rmse:0.32224\n",
      "[117]\ttrain-rmse:0.12143\teval-rmse:0.32127\n",
      "[118]\ttrain-rmse:0.12086\teval-rmse:0.32179\n",
      "[119]\ttrain-rmse:0.12014\teval-rmse:0.32164\n",
      "[120]\ttrain-rmse:0.11958\teval-rmse:0.32224\n",
      "[121]\ttrain-rmse:0.11889\teval-rmse:0.32237\n",
      "[122]\ttrain-rmse:0.11766\teval-rmse:0.32316\n",
      "[123]\ttrain-rmse:0.11690\teval-rmse:0.32353\n",
      "[124]\ttrain-rmse:0.11623\teval-rmse:0.32314\n",
      "[125]\ttrain-rmse:0.11575\teval-rmse:0.32328\n",
      "[126]\ttrain-rmse:0.11515\teval-rmse:0.32389\n",
      "[127]\ttrain-rmse:0.11471\teval-rmse:0.32418\n",
      "[128]\ttrain-rmse:0.11431\teval-rmse:0.32427\n",
      "[129]\ttrain-rmse:0.11353\teval-rmse:0.32414\n",
      "[130]\ttrain-rmse:0.11296\teval-rmse:0.32356\n",
      "[131]\ttrain-rmse:0.11240\teval-rmse:0.32377\n",
      "[132]\ttrain-rmse:0.11181\teval-rmse:0.32413\n",
      "[133]\ttrain-rmse:0.11128\teval-rmse:0.32417\n",
      "[134]\ttrain-rmse:0.11048\teval-rmse:0.32397\n",
      "[135]\ttrain-rmse:0.11003\teval-rmse:0.32383\n",
      "[136]\ttrain-rmse:0.10948\teval-rmse:0.32438\n",
      "[137]\ttrain-rmse:0.10897\teval-rmse:0.32412\n",
      "[138]\ttrain-rmse:0.10855\teval-rmse:0.32399\n",
      "[139]\ttrain-rmse:0.10816\teval-rmse:0.32418\n",
      "[140]\ttrain-rmse:0.10784\teval-rmse:0.32390\n",
      "[141]\ttrain-rmse:0.10712\teval-rmse:0.32369\n",
      "[142]\ttrain-rmse:0.10644\teval-rmse:0.32371\n",
      "[143]\ttrain-rmse:0.10578\teval-rmse:0.32420\n",
      "[144]\ttrain-rmse:0.10533\teval-rmse:0.32472\n",
      "[145]\ttrain-rmse:0.10496\teval-rmse:0.32458\n",
      "[146]\ttrain-rmse:0.10430\teval-rmse:0.32436\n",
      "[147]\ttrain-rmse:0.10364\teval-rmse:0.32453\n",
      "[148]\ttrain-rmse:0.10301\teval-rmse:0.32454\n",
      "[149]\ttrain-rmse:0.10265\teval-rmse:0.32454\n",
      "[150]\ttrain-rmse:0.10204\teval-rmse:0.32470\n",
      "[151]\ttrain-rmse:0.10163\teval-rmse:0.32544\n",
      "[152]\ttrain-rmse:0.10131\teval-rmse:0.32521\n",
      "[153]\ttrain-rmse:0.10052\teval-rmse:0.32562\n",
      "[154]\ttrain-rmse:0.10019\teval-rmse:0.32563\n",
      "[155]\ttrain-rmse:0.09983\teval-rmse:0.32547\n",
      "[156]\ttrain-rmse:0.09938\teval-rmse:0.32575\n",
      "[157]\ttrain-rmse:0.09910\teval-rmse:0.32555\n",
      "[158]\ttrain-rmse:0.09878\teval-rmse:0.32556\n",
      "[159]\ttrain-rmse:0.09824\teval-rmse:0.32484\n",
      "[160]\ttrain-rmse:0.09785\teval-rmse:0.32479\n",
      "[161]\ttrain-rmse:0.09719\teval-rmse:0.32421\n",
      "[162]\ttrain-rmse:0.09690\teval-rmse:0.32422\n",
      "[163]\ttrain-rmse:0.09621\teval-rmse:0.32453\n",
      "[164]\ttrain-rmse:0.09585\teval-rmse:0.32467\n",
      "[165]\ttrain-rmse:0.09545\teval-rmse:0.32495\n",
      "[166]\ttrain-rmse:0.09517\teval-rmse:0.32497\n",
      "[167]\ttrain-rmse:0.09492\teval-rmse:0.32494\n",
      "[168]\ttrain-rmse:0.09440\teval-rmse:0.32495\n",
      "[169]\ttrain-rmse:0.09377\teval-rmse:0.32464\n",
      "[170]\ttrain-rmse:0.09351\teval-rmse:0.32449\n",
      "[171]\ttrain-rmse:0.09304\teval-rmse:0.32458\n",
      "[172]\ttrain-rmse:0.09276\teval-rmse:0.32444\n",
      "[173]\ttrain-rmse:0.09231\teval-rmse:0.32431\n",
      "[174]\ttrain-rmse:0.09183\teval-rmse:0.32426\n",
      "[175]\ttrain-rmse:0.09148\teval-rmse:0.32421\n",
      "[176]\ttrain-rmse:0.09112\teval-rmse:0.32463\n",
      "[177]\ttrain-rmse:0.09086\teval-rmse:0.32450\n",
      "[178]\ttrain-rmse:0.09042\teval-rmse:0.32441\n",
      "[179]\ttrain-rmse:0.09018\teval-rmse:0.32429\n",
      "[180]\ttrain-rmse:0.08969\teval-rmse:0.32442\n",
      "[181]\ttrain-rmse:0.08920\teval-rmse:0.32417\n",
      "[182]\ttrain-rmse:0.08863\teval-rmse:0.32431\n",
      "[183]\ttrain-rmse:0.08841\teval-rmse:0.32420\n",
      "[184]\ttrain-rmse:0.08781\teval-rmse:0.32451\n",
      "[185]\ttrain-rmse:0.08728\teval-rmse:0.32425\n",
      "[186]\ttrain-rmse:0.08682\teval-rmse:0.32430\n",
      "[187]\ttrain-rmse:0.08661\teval-rmse:0.32409\n",
      "[188]\ttrain-rmse:0.08634\teval-rmse:0.32394\n",
      "[189]\ttrain-rmse:0.08616\teval-rmse:0.32374\n",
      "[190]\ttrain-rmse:0.08574\teval-rmse:0.32375\n",
      "[191]\ttrain-rmse:0.08530\teval-rmse:0.32389\n",
      "[192]\ttrain-rmse:0.08511\teval-rmse:0.32387\n",
      "[193]\ttrain-rmse:0.08495\teval-rmse:0.32368\n",
      "[194]\ttrain-rmse:0.08467\teval-rmse:0.32355\n",
      "[195]\ttrain-rmse:0.08436\teval-rmse:0.32400\n",
      "[196]\ttrain-rmse:0.08390\teval-rmse:0.32377\n",
      "[197]\ttrain-rmse:0.08323\teval-rmse:0.32398\n",
      "[198]\ttrain-rmse:0.08302\teval-rmse:0.32387\n",
      "[199]\ttrain-rmse:0.08260\teval-rmse:0.32408\n",
      "[200]\ttrain-rmse:0.08242\teval-rmse:0.32402\n",
      "[201]\ttrain-rmse:0.08222\teval-rmse:0.32391\n",
      "[202]\ttrain-rmse:0.08194\teval-rmse:0.32366\n",
      "[203]\ttrain-rmse:0.08158\teval-rmse:0.32358\n",
      "[204]\ttrain-rmse:0.08126\teval-rmse:0.32350\n",
      "[205]\ttrain-rmse:0.08087\teval-rmse:0.32352\n",
      "[206]\ttrain-rmse:0.08045\teval-rmse:0.32365\n",
      "[207]\ttrain-rmse:0.08026\teval-rmse:0.32354\n",
      "[208]\ttrain-rmse:0.07997\teval-rmse:0.32347\n",
      "[209]\ttrain-rmse:0.07980\teval-rmse:0.32331\n",
      "[210]\ttrain-rmse:0.07940\teval-rmse:0.32310\n",
      "[211]\ttrain-rmse:0.07916\teval-rmse:0.32282\n",
      "[212]\ttrain-rmse:0.07883\teval-rmse:0.32276\n",
      "[213]\ttrain-rmse:0.07838\teval-rmse:0.32267\n",
      "[214]\ttrain-rmse:0.07818\teval-rmse:0.32258\n",
      "[215]\ttrain-rmse:0.07802\teval-rmse:0.32248\n",
      "[216]\ttrain-rmse:0.07777\teval-rmse:0.32288\n",
      "[217]\ttrain-rmse:0.07758\teval-rmse:0.32278\n",
      "[218]\ttrain-rmse:0.07744\teval-rmse:0.32264\n",
      "[219]\ttrain-rmse:0.07720\teval-rmse:0.32274\n",
      "[220]\ttrain-rmse:0.07692\teval-rmse:0.32320\n",
      "[221]\ttrain-rmse:0.07650\teval-rmse:0.32325\n",
      "[222]\ttrain-rmse:0.07630\teval-rmse:0.32326\n",
      "[223]\ttrain-rmse:0.07616\teval-rmse:0.32318\n",
      "[224]\ttrain-rmse:0.07575\teval-rmse:0.32292\n",
      "[225]\ttrain-rmse:0.07539\teval-rmse:0.32317\n",
      "[226]\ttrain-rmse:0.07524\teval-rmse:0.32313\n",
      "[227]\ttrain-rmse:0.07503\teval-rmse:0.32326\n",
      "[228]\ttrain-rmse:0.07480\teval-rmse:0.32321\n",
      "[229]\ttrain-rmse:0.07453\teval-rmse:0.32342\n",
      "[230]\ttrain-rmse:0.07439\teval-rmse:0.32338\n",
      "[231]\ttrain-rmse:0.07410\teval-rmse:0.32327\n",
      "[232]\ttrain-rmse:0.07392\teval-rmse:0.32361\n",
      "[233]\ttrain-rmse:0.07359\teval-rmse:0.32361\n",
      "[234]\ttrain-rmse:0.07345\teval-rmse:0.32354\n",
      "[235]\ttrain-rmse:0.07310\teval-rmse:0.32360\n",
      "[236]\ttrain-rmse:0.07277\teval-rmse:0.32343\n",
      "[237]\ttrain-rmse:0.07265\teval-rmse:0.32330\n",
      "[238]\ttrain-rmse:0.07247\teval-rmse:0.32320\n",
      "[239]\ttrain-rmse:0.07209\teval-rmse:0.32315\n",
      "[240]\ttrain-rmse:0.07197\teval-rmse:0.32308\n",
      "[241]\ttrain-rmse:0.07174\teval-rmse:0.32354\n",
      "[242]\ttrain-rmse:0.07157\teval-rmse:0.32347\n",
      "[243]\ttrain-rmse:0.07124\teval-rmse:0.32368\n",
      "[244]\ttrain-rmse:0.07085\teval-rmse:0.32387\n",
      "[245]\ttrain-rmse:0.07069\teval-rmse:0.32399\n",
      "[246]\ttrain-rmse:0.07024\teval-rmse:0.32337\n",
      "[247]\ttrain-rmse:0.06988\teval-rmse:0.32333\n",
      "[248]\ttrain-rmse:0.06976\teval-rmse:0.32329\n",
      "[249]\ttrain-rmse:0.06965\teval-rmse:0.32318\n",
      "[250]\ttrain-rmse:0.06923\teval-rmse:0.32259\n",
      "[251]\ttrain-rmse:0.06908\teval-rmse:0.32250\n",
      "[252]\ttrain-rmse:0.06880\teval-rmse:0.32264\n",
      "[253]\ttrain-rmse:0.06859\teval-rmse:0.32270\n",
      "[254]\ttrain-rmse:0.06844\teval-rmse:0.32279\n",
      "[255]\ttrain-rmse:0.06805\teval-rmse:0.32223\n",
      "[256]\ttrain-rmse:0.06794\teval-rmse:0.32219\n",
      "[257]\ttrain-rmse:0.06779\teval-rmse:0.32223\n",
      "[258]\ttrain-rmse:0.06765\teval-rmse:0.32219\n",
      "[259]\ttrain-rmse:0.06745\teval-rmse:0.32247\n",
      "[260]\ttrain-rmse:0.06716\teval-rmse:0.32252\n",
      "[261]\ttrain-rmse:0.06705\teval-rmse:0.32219\n",
      "[262]\ttrain-rmse:0.06681\teval-rmse:0.32229\n",
      "[263]\ttrain-rmse:0.06656\teval-rmse:0.32207\n",
      "[264]\ttrain-rmse:0.06645\teval-rmse:0.32202\n",
      "[265]\ttrain-rmse:0.06635\teval-rmse:0.32195\n",
      "[266]\ttrain-rmse:0.06600\teval-rmse:0.32130\n",
      "[267]\ttrain-rmse:0.06588\teval-rmse:0.32122\n",
      "[268]\ttrain-rmse:0.06574\teval-rmse:0.32126\n",
      "[269]\ttrain-rmse:0.06559\teval-rmse:0.32103\n",
      "[270]\ttrain-rmse:0.06549\teval-rmse:0.32071\n",
      "[271]\ttrain-rmse:0.06520\teval-rmse:0.32069\n",
      "[272]\ttrain-rmse:0.06498\teval-rmse:0.32078\n",
      "[273]\ttrain-rmse:0.06471\teval-rmse:0.32099\n",
      "[274]\ttrain-rmse:0.06457\teval-rmse:0.32076\n",
      "[275]\ttrain-rmse:0.06428\teval-rmse:0.32089\n",
      "[276]\ttrain-rmse:0.06419\teval-rmse:0.32083\n",
      "[277]\ttrain-rmse:0.06404\teval-rmse:0.32114\n",
      "[278]\ttrain-rmse:0.06391\teval-rmse:0.32098\n",
      "[279]\ttrain-rmse:0.06365\teval-rmse:0.32092\n",
      "[280]\ttrain-rmse:0.06348\teval-rmse:0.32101\n",
      "[281]\ttrain-rmse:0.06336\teval-rmse:0.32107\n",
      "[282]\ttrain-rmse:0.06296\teval-rmse:0.32057\n",
      "[283]\ttrain-rmse:0.06285\teval-rmse:0.32053\n",
      "[284]\ttrain-rmse:0.06273\teval-rmse:0.32041\n",
      "[285]\ttrain-rmse:0.06238\teval-rmse:0.32019\n",
      "[286]\ttrain-rmse:0.06214\teval-rmse:0.32024\n",
      "[287]\ttrain-rmse:0.06181\teval-rmse:0.32051\n",
      "[288]\ttrain-rmse:0.06168\teval-rmse:0.32051\n",
      "[289]\ttrain-rmse:0.06157\teval-rmse:0.32060\n",
      "[290]\ttrain-rmse:0.06146\teval-rmse:0.32060\n",
      "[291]\ttrain-rmse:0.06125\teval-rmse:0.32063\n",
      "[292]\ttrain-rmse:0.06113\teval-rmse:0.32065\n",
      "[293]\ttrain-rmse:0.06096\teval-rmse:0.32041\n",
      "[294]\ttrain-rmse:0.06081\teval-rmse:0.32029\n",
      "[295]\ttrain-rmse:0.06041\teval-rmse:0.32002\n",
      "[296]\ttrain-rmse:0.06026\teval-rmse:0.32040\n",
      "[297]\ttrain-rmse:0.06001\teval-rmse:0.32056\n",
      "[298]\ttrain-rmse:0.05974\teval-rmse:0.32013\n",
      "[299]\ttrain-rmse:0.05964\teval-rmse:0.32010\n",
      "[300]\ttrain-rmse:0.05946\teval-rmse:0.32014\n",
      "[301]\ttrain-rmse:0.05935\teval-rmse:0.32019\n",
      "[302]\ttrain-rmse:0.05930\teval-rmse:0.32021\n",
      "[303]\ttrain-rmse:0.05905\teval-rmse:0.31970\n",
      "[304]\ttrain-rmse:0.05887\teval-rmse:0.31966\n",
      "[305]\ttrain-rmse:0.05871\teval-rmse:0.31936\n",
      "[306]\ttrain-rmse:0.05857\teval-rmse:0.31954\n",
      "[307]\ttrain-rmse:0.05848\teval-rmse:0.31963\n",
      "[308]\ttrain-rmse:0.05834\teval-rmse:0.31982\n",
      "[309]\ttrain-rmse:0.05823\teval-rmse:0.31971\n",
      "[310]\ttrain-rmse:0.05809\teval-rmse:0.31959\n",
      "[311]\ttrain-rmse:0.05777\teval-rmse:0.31924\n",
      "[312]\ttrain-rmse:0.05758\teval-rmse:0.31945\n",
      "[313]\ttrain-rmse:0.05741\teval-rmse:0.31949\n",
      "[314]\ttrain-rmse:0.05734\teval-rmse:0.31932\n",
      "[315]\ttrain-rmse:0.05724\teval-rmse:0.31926\n",
      "[316]\ttrain-rmse:0.05683\teval-rmse:0.31959\n",
      "[317]\ttrain-rmse:0.05671\teval-rmse:0.31948\n",
      "[318]\ttrain-rmse:0.05633\teval-rmse:0.31976\n",
      "[319]\ttrain-rmse:0.05625\teval-rmse:0.31974\n",
      "[320]\ttrain-rmse:0.05604\teval-rmse:0.31979\n",
      "[321]\ttrain-rmse:0.05592\teval-rmse:0.31967\n",
      "[322]\ttrain-rmse:0.05582\teval-rmse:0.31967\n",
      "[323]\ttrain-rmse:0.05547\teval-rmse:0.31944\n",
      "[324]\ttrain-rmse:0.05539\teval-rmse:0.31940\n",
      "[325]\ttrain-rmse:0.05528\teval-rmse:0.31931\n",
      "[326]\ttrain-rmse:0.05521\teval-rmse:0.31923\n",
      "[327]\ttrain-rmse:0.05489\teval-rmse:0.31918\n",
      "[328]\ttrain-rmse:0.05474\teval-rmse:0.31936\n",
      "[329]\ttrain-rmse:0.05462\teval-rmse:0.31962\n",
      "[330]\ttrain-rmse:0.05454\teval-rmse:0.31959\n",
      "[331]\ttrain-rmse:0.05432\teval-rmse:0.31942\n",
      "[332]\ttrain-rmse:0.05421\teval-rmse:0.31954\n",
      "[333]\ttrain-rmse:0.05407\teval-rmse:0.31960\n",
      "[334]\ttrain-rmse:0.05394\teval-rmse:0.31965\n",
      "[335]\ttrain-rmse:0.05384\teval-rmse:0.31955\n",
      "[336]\ttrain-rmse:0.05375\teval-rmse:0.31956\n",
      "[337]\ttrain-rmse:0.05364\teval-rmse:0.31945\n",
      "[338]\ttrain-rmse:0.05339\teval-rmse:0.31935\n",
      "[339]\ttrain-rmse:0.05328\teval-rmse:0.31941\n",
      "[340]\ttrain-rmse:0.05304\teval-rmse:0.31925\n",
      "[341]\ttrain-rmse:0.05296\teval-rmse:0.31918\n",
      "[342]\ttrain-rmse:0.05282\teval-rmse:0.31932\n",
      "[343]\ttrain-rmse:0.05272\teval-rmse:0.31923\n",
      "[344]\ttrain-rmse:0.05259\teval-rmse:0.31913\n",
      "[345]\ttrain-rmse:0.05252\teval-rmse:0.31914\n",
      "[346]\ttrain-rmse:0.05219\teval-rmse:0.31944\n",
      "[347]\ttrain-rmse:0.05208\teval-rmse:0.31931\n",
      "[348]\ttrain-rmse:0.05191\teval-rmse:0.31934\n",
      "[349]\ttrain-rmse:0.05162\teval-rmse:0.31937\n",
      "[350]\ttrain-rmse:0.05140\teval-rmse:0.31927\n",
      "[351]\ttrain-rmse:0.05124\teval-rmse:0.31934\n",
      "[352]\ttrain-rmse:0.05114\teval-rmse:0.31926\n",
      "[353]\ttrain-rmse:0.05104\teval-rmse:0.31940\n",
      "[354]\ttrain-rmse:0.05084\teval-rmse:0.31937\n",
      "[355]\ttrain-rmse:0.05070\teval-rmse:0.31939\n",
      "[356]\ttrain-rmse:0.05060\teval-rmse:0.31967\n",
      "[357]\ttrain-rmse:0.05053\teval-rmse:0.31964\n",
      "[358]\ttrain-rmse:0.05041\teval-rmse:0.31946\n",
      "[359]\ttrain-rmse:0.05033\teval-rmse:0.31938\n",
      "[360]\ttrain-rmse:0.05022\teval-rmse:0.31937\n",
      "[361]\ttrain-rmse:0.05016\teval-rmse:0.31937\n",
      "[362]\ttrain-rmse:0.04997\teval-rmse:0.31921\n",
      "[363]\ttrain-rmse:0.04968\teval-rmse:0.31945\n",
      "[364]\ttrain-rmse:0.04943\teval-rmse:0.31931\n",
      "[365]\ttrain-rmse:0.04934\teval-rmse:0.31935\n",
      "[366]\ttrain-rmse:0.04922\teval-rmse:0.31939\n",
      "[367]\ttrain-rmse:0.04913\teval-rmse:0.31931\n",
      "[368]\ttrain-rmse:0.04886\teval-rmse:0.31957\n",
      "[369]\ttrain-rmse:0.04859\teval-rmse:0.31953\n",
      "[370]\ttrain-rmse:0.04847\teval-rmse:0.31955\n",
      "[371]\ttrain-rmse:0.04829\teval-rmse:0.31953\n",
      "[372]\ttrain-rmse:0.04820\teval-rmse:0.31962\n",
      "[373]\ttrain-rmse:0.04810\teval-rmse:0.31983\n",
      "[374]\ttrain-rmse:0.04805\teval-rmse:0.31981\n",
      "[375]\ttrain-rmse:0.04793\teval-rmse:0.31972\n",
      "[376]\ttrain-rmse:0.04771\teval-rmse:0.31964\n",
      "[377]\ttrain-rmse:0.04765\teval-rmse:0.31964\n",
      "[378]\ttrain-rmse:0.04740\teval-rmse:0.31989\n",
      "[379]\ttrain-rmse:0.04716\teval-rmse:0.31999\n",
      "[380]\ttrain-rmse:0.04698\teval-rmse:0.31993\n",
      "[381]\ttrain-rmse:0.04688\teval-rmse:0.31999\n",
      "[382]\ttrain-rmse:0.04665\teval-rmse:0.31997\n",
      "[383]\ttrain-rmse:0.04656\teval-rmse:0.31982\n",
      "[384]\ttrain-rmse:0.04647\teval-rmse:0.31991\n",
      "[385]\ttrain-rmse:0.04636\teval-rmse:0.31983\n",
      "[386]\ttrain-rmse:0.04631\teval-rmse:0.31979\n",
      "[387]\ttrain-rmse:0.04607\teval-rmse:0.32007\n",
      "[388]\ttrain-rmse:0.04599\teval-rmse:0.32009\n",
      "[389]\ttrain-rmse:0.04590\teval-rmse:0.31993\n",
      "[390]\ttrain-rmse:0.04579\teval-rmse:0.32004\n",
      "[391]\ttrain-rmse:0.04571\teval-rmse:0.31997\n",
      "[392]\ttrain-rmse:0.04546\teval-rmse:0.31997\n",
      "[393]\ttrain-rmse:0.04532\teval-rmse:0.31996\n",
      "[394]\ttrain-rmse:0.04511\teval-rmse:0.31983\n",
      "[395]\ttrain-rmse:0.04500\teval-rmse:0.31987\n",
      "[396]\ttrain-rmse:0.04487\teval-rmse:0.31989\n",
      "[397]\ttrain-rmse:0.04475\teval-rmse:0.31980\n",
      "[398]\ttrain-rmse:0.04466\teval-rmse:0.31965\n",
      "[399]\ttrain-rmse:0.04461\teval-rmse:0.31961\n",
      "MSE: 0.08961587891903768, RMSE: 0.2993591136395177, R2: 0.8673945462841277\n"
     ]
    }
   ],
   "source": [
    "eval_list = [(dtr,'train'),(dval,'eval')]\n",
    "xgb_model = xgb.train(params = params, dtrain=dtr, num_boost_round=num_rounds,\n",
    "                      early_stopping_rounds=500, evals=eval_list)\n",
    "\n",
    "# pred = xgb_model.predict(dtest)\n",
    "# print(pred)\n",
    "\n",
    "pred = xgb_model.predict(dtest)\n",
    "mse = mean_squared_error(y_test, pred)\n",
    "rmse = np.sqrt(mse)\n",
    "\n",
    "print(f'MSE: {mse}, RMSE: {rmse}, R2: {r2_score(y_test, pred)}')\n"
   ]
  },
  {
   "cell_type": "code",
   "execution_count": 78,
   "id": "951c8e4f-4ace-4184-8733-595faa3de544",
   "metadata": {},
   "outputs": [
    {
     "name": "stdout",
     "output_type": "stream",
     "text": [
      "6407.999999999995, 6240.59326171875\n",
      "2178.000000000001, 2049.991455078125\n",
      "121.00000000000003, 646.9926147460938\n",
      "7848.000000000002, 6797.53173828125\n",
      "7208.999999999997, 6589.638671875\n",
      "2984.000000000001, 2447.6923828125\n",
      "1610.9999999999995, 1408.7918701171875\n",
      "6075.999999999996, 6827.59765625\n",
      "5495.000000000005, 5409.078125\n",
      "755.0000000000002, 777.2236328125\n",
      "7050.000000000006, 3113.9970703125\n",
      "2652.999999999999, 2366.33203125\n",
      "1708.9999999999995, 2306.778076171875\n",
      "6117.999999999999, 4849.96435546875\n",
      "1934.0000000000005, 2363.160888671875\n",
      "1367.9999999999998, 1569.2628173828125\n",
      "2559.0, 1961.3699951171875\n",
      "5922.000000000001, 5790.81396484375\n",
      "8007.000000000001, 6748.53125\n",
      "2916.999999999999, 3002.023193359375\n",
      "5119.999999999998, 5911.91162109375\n",
      "5835.000000000004, 5873.65673828125\n",
      "3261.0000000000023, 2527.884521484375\n",
      "1664.9999999999993, 1566.7332763671875\n",
      "2161.999999999999, 2483.2607421875\n",
      "1748.9999999999995, 1135.977294921875\n",
      "1684.0, 1512.205810546875\n",
      "1312.9999999999995, 1670.2674560546875\n",
      "6737.000000000001, 6545.5693359375\n",
      "8190.0, 6970.41259765625\n",
      "588.9999999999998, 725.6141357421875\n",
      "6139.999999999995, 6004.1728515625\n",
      "4604.000000000001, 5031.91748046875\n",
      "2035.999999999999, 1945.4749755859375\n",
      "6070.999999999999, 6476.078125\n",
      "3801.0000000000023, 3584.254150390625\n",
      "7453.999999999998, 6945.38623046875\n",
      "806.9999999999997, 686.0897827148438\n",
      "7139.0, 6590.85205078125\n",
      "6442.0, 5726.10009765625\n",
      "6469.000000000004, 6102.708984375\n",
      "5963.999999999999, 6346.81591796875\n",
      "1702.0000000000002, 1834.7943115234375\n",
      "4003.9999999999986, 5715.2197265625\n",
      "641.0, 1574.1163330078125\n",
      "6154.000000000003, 7402.59814453125\n",
      "4475.000000000004, 5348.3642578125\n",
      "3556.9999999999995, 3755.077880859375\n",
      "4769.000000000003, 3542.923828125\n",
      "3517.0000000000027, 2888.338623046875\n",
      "7913.000000000003, 6408.63916015625\n",
      "7055.999999999999, 6421.78857421875\n",
      "822.0, 1388.9703369140625\n",
      "6120.999999999997, 6456.86572265625\n",
      "7907.999999999996, 7659.26513671875\n",
      "5648.000000000003, 5972.9677734375\n",
      "2220.0, 2728.21923828125\n",
      "2851.0000000000005, 2654.665283203125\n",
      "5737.000000000005, 5545.13330078125\n",
      "2202.999999999999, 1725.2994384765625\n",
      "7720.999999999998, 6380.66748046875\n",
      "1824.9999999999993, 1605.6201171875\n",
      "1325.9999999999995, 1560.80078125\n",
      "806.9999999999997, 843.1259765625\n",
      "2401.9999999999995, 2020.54541015625\n",
      "7698.000000000003, 7564.5205078125\n",
      "6277.9999999999945, 5859.1416015625\n",
      "5251.000000000005, 5299.55224609375\n",
      "2532.999999999999, 4878.6572265625\n",
      "1042.0000000000002, 1190.589111328125\n",
      "1796.0000000000005, 1965.5093994140625\n",
      "6516.999999999999, 6582.0\n",
      "2645.0000000000014, 2467.528564453125\n"
     ]
    }
   ],
   "source": [
    "y_t= np.expm1(y_test)\n",
    "p_t = pd.Series(np.expm1(pred))\n",
    "for solve, predd in zip(y_t, p_t):\n",
    "    print(f'{solve}, {predd}') \n",
    "\n",
    "# mse = mean_squared_error(dtest, pred)\n",
    "# rmse = np.sqrt(mse)\n",
    "\n",
    "# print(f'MSE: {mse}, RMSE: {rmse}, R2: {r2_score(y_test, pred)}')"
   ]
  },
  {
   "cell_type": "markdown",
   "id": "e8f9918a-5858-4b9c-b589-d7fd9db95cd6",
   "metadata": {},
   "source": [
    "# GBM"
   ]
  },
  {
   "cell_type": "code",
   "execution_count": 82,
   "id": "fba7e6e0-a731-40b9-969e-5365c769f5ff",
   "metadata": {},
   "outputs": [],
   "source": [
    "from sklearn.ensemble import GradientBoostingRegressor\n",
    "import time"
   ]
  },
  {
   "cell_type": "code",
   "execution_count": 83,
   "id": "43ec2186-aac8-41d6-bac2-6cda226d2bca",
   "metadata": {},
   "outputs": [
    {
     "name": "stdout",
     "output_type": "stream",
     "text": [
      "RMSE:  0.299\n",
      "R2: 0.8673945462841277\n"
     ]
    }
   ],
   "source": [
    "gb_ref = GradientBoostingRegressor(random_state=156)\n",
    "gb_ref.fit(X_train, y_train)\n",
    "gb_pred = gb_ref.predict(X_test)\n",
    "\n",
    "mse = mean_squared_error(y_test, pred)\n",
    "rmse = np.sqrt(mse)\n",
    "print('RMSE: ', np.round(rmse,3))\n",
    "print(f'R2: {r2_score(y_test, pred)}')"
   ]
  },
  {
   "cell_type": "code",
   "execution_count": 84,
   "id": "202fc250-45dd-44ea-9459-ce2f618d76fa",
   "metadata": {},
   "outputs": [
    {
     "name": "stdout",
     "output_type": "stream",
     "text": [
      "RMSE:  0.299\n",
      "R2: 0.8673945462841277\n"
     ]
    }
   ],
   "source": [
    "gb_ref = GradientBoostingRegressor(n_estimators=200, max_depth=16, min_samples_leaf=6, min_samples_split=2, random_state=156)\n",
    "gb_ref.fit(X_train, y_train)\n",
    "gb_pred = gb_ref.predict(X_test)\n",
    "\n",
    "mse = mean_squared_error(y_test, pred)\n",
    "rmse = np.sqrt(mse)\n",
    "print('RMSE: ', np.round(rmse,3))\n",
    "print(f'R2: {r2_score(y_test, pred)}')"
   ]
  },
  {
   "cell_type": "markdown",
   "id": "e1c56948-f083-4993-aa1a-16227f850a71",
   "metadata": {},
   "source": [
    "# LightGBM"
   ]
  },
  {
   "cell_type": "code",
   "execution_count": 85,
   "id": "ee274f70-5c9e-4511-89c6-3f808dcf96ae",
   "metadata": {},
   "outputs": [],
   "source": [
    "from lightgbm import LGBMRegressor"
   ]
  },
  {
   "cell_type": "code",
   "execution_count": 86,
   "id": "325ed784-56dd-4973-b0af-e641c74110b2",
   "metadata": {
    "tags": []
   },
   "outputs": [
    {
     "name": "stdout",
     "output_type": "stream",
     "text": [
      "[1]\ttraining's l2: 0.389781\tvalid_1's l2: 0.531604\n",
      "Training until validation scores don't improve for 100 rounds\n",
      "[2]\ttraining's l2: 0.360917\tvalid_1's l2: 0.49878\n",
      "[3]\ttraining's l2: 0.334796\tvalid_1's l2: 0.470167\n",
      "[4]\ttraining's l2: 0.311208\tvalid_1's l2: 0.443014\n",
      "[5]\ttraining's l2: 0.289882\tvalid_1's l2: 0.419606\n",
      "[6]\ttraining's l2: 0.269766\tvalid_1's l2: 0.387841\n",
      "[7]\ttraining's l2: 0.251862\tvalid_1's l2: 0.36001\n",
      "[8]\ttraining's l2: 0.23529\tvalid_1's l2: 0.338118\n",
      "[9]\ttraining's l2: 0.220014\tvalid_1's l2: 0.321596\n",
      "[10]\ttraining's l2: 0.206191\tvalid_1's l2: 0.305825\n",
      "[11]\ttraining's l2: 0.19352\tvalid_1's l2: 0.286484\n",
      "[12]\ttraining's l2: 0.182387\tvalid_1's l2: 0.271979\n",
      "[13]\ttraining's l2: 0.172134\tvalid_1's l2: 0.261005\n",
      "[14]\ttraining's l2: 0.162238\tvalid_1's l2: 0.248258\n",
      "[15]\ttraining's l2: 0.153538\tvalid_1's l2: 0.234545\n",
      "[16]\ttraining's l2: 0.145136\tvalid_1's l2: 0.224941\n",
      "[17]\ttraining's l2: 0.137925\tvalid_1's l2: 0.213596\n",
      "[18]\ttraining's l2: 0.131249\tvalid_1's l2: 0.206524\n",
      "[19]\ttraining's l2: 0.12511\tvalid_1's l2: 0.20027\n",
      "[20]\ttraining's l2: 0.119503\tvalid_1's l2: 0.191501\n",
      "[21]\ttraining's l2: 0.114307\tvalid_1's l2: 0.18618\n",
      "[22]\ttraining's l2: 0.10946\tvalid_1's l2: 0.179295\n",
      "[23]\ttraining's l2: 0.105365\tvalid_1's l2: 0.17321\n",
      "[24]\ttraining's l2: 0.100868\tvalid_1's l2: 0.169017\n",
      "[25]\ttraining's l2: 0.0972382\tvalid_1's l2: 0.165636\n",
      "[26]\ttraining's l2: 0.0930423\tvalid_1's l2: 0.159976\n",
      "[27]\ttraining's l2: 0.0893607\tvalid_1's l2: 0.156782\n",
      "[28]\ttraining's l2: 0.0857773\tvalid_1's l2: 0.152444\n",
      "[29]\ttraining's l2: 0.0825433\tvalid_1's l2: 0.148525\n",
      "[30]\ttraining's l2: 0.0796215\tvalid_1's l2: 0.14502\n",
      "[31]\ttraining's l2: 0.0766945\tvalid_1's l2: 0.142138\n",
      "[32]\ttraining's l2: 0.0741934\tvalid_1's l2: 0.140094\n",
      "[33]\ttraining's l2: 0.0719282\tvalid_1's l2: 0.137435\n",
      "[34]\ttraining's l2: 0.0700189\tvalid_1's l2: 0.135265\n",
      "[35]\ttraining's l2: 0.0680334\tvalid_1's l2: 0.133805\n",
      "[36]\ttraining's l2: 0.0662401\tvalid_1's l2: 0.132602\n",
      "[37]\ttraining's l2: 0.0647291\tvalid_1's l2: 0.131755\n",
      "[38]\ttraining's l2: 0.0630896\tvalid_1's l2: 0.129695\n",
      "[39]\ttraining's l2: 0.0614278\tvalid_1's l2: 0.127832\n",
      "[40]\ttraining's l2: 0.0599791\tvalid_1's l2: 0.125704\n",
      "[41]\ttraining's l2: 0.0585797\tvalid_1's l2: 0.124219\n",
      "[42]\ttraining's l2: 0.057394\tvalid_1's l2: 0.123228\n",
      "[43]\ttraining's l2: 0.0562145\tvalid_1's l2: 0.12149\n",
      "[44]\ttraining's l2: 0.0551094\tvalid_1's l2: 0.120388\n",
      "[45]\ttraining's l2: 0.0538149\tvalid_1's l2: 0.119419\n",
      "[46]\ttraining's l2: 0.0526466\tvalid_1's l2: 0.118554\n",
      "[47]\ttraining's l2: 0.0516037\tvalid_1's l2: 0.117604\n",
      "[48]\ttraining's l2: 0.0507865\tvalid_1's l2: 0.116838\n",
      "[49]\ttraining's l2: 0.0498197\tvalid_1's l2: 0.116065\n",
      "[50]\ttraining's l2: 0.0489141\tvalid_1's l2: 0.114954\n",
      "[51]\ttraining's l2: 0.0480743\tvalid_1's l2: 0.114312\n",
      "[52]\ttraining's l2: 0.0472435\tvalid_1's l2: 0.113667\n",
      "[53]\ttraining's l2: 0.0462626\tvalid_1's l2: 0.112025\n",
      "[54]\ttraining's l2: 0.0455286\tvalid_1's l2: 0.111433\n",
      "[55]\ttraining's l2: 0.0446408\tvalid_1's l2: 0.109784\n",
      "[56]\ttraining's l2: 0.043853\tvalid_1's l2: 0.10893\n",
      "[57]\ttraining's l2: 0.0432772\tvalid_1's l2: 0.108365\n",
      "[58]\ttraining's l2: 0.0428167\tvalid_1's l2: 0.107746\n",
      "[59]\ttraining's l2: 0.0421259\tvalid_1's l2: 0.107201\n",
      "[60]\ttraining's l2: 0.0415525\tvalid_1's l2: 0.106385\n",
      "[61]\ttraining's l2: 0.040968\tvalid_1's l2: 0.105594\n",
      "[62]\ttraining's l2: 0.0404093\tvalid_1's l2: 0.104836\n",
      "[63]\ttraining's l2: 0.0399668\tvalid_1's l2: 0.104298\n",
      "[64]\ttraining's l2: 0.0393893\tvalid_1's l2: 0.102975\n",
      "[65]\ttraining's l2: 0.0388457\tvalid_1's l2: 0.102501\n",
      "[66]\ttraining's l2: 0.0382955\tvalid_1's l2: 0.102087\n",
      "[67]\ttraining's l2: 0.0376871\tvalid_1's l2: 0.101606\n",
      "[68]\ttraining's l2: 0.0371834\tvalid_1's l2: 0.101136\n",
      "[69]\ttraining's l2: 0.0367024\tvalid_1's l2: 0.100875\n",
      "[70]\ttraining's l2: 0.036175\tvalid_1's l2: 0.100323\n",
      "[71]\ttraining's l2: 0.0356315\tvalid_1's l2: 0.100188\n",
      "[72]\ttraining's l2: 0.0352762\tvalid_1's l2: 0.098745\n",
      "[73]\ttraining's l2: 0.0347719\tvalid_1's l2: 0.0983048\n",
      "[74]\ttraining's l2: 0.0342906\tvalid_1's l2: 0.0979703\n",
      "[75]\ttraining's l2: 0.0338274\tvalid_1's l2: 0.0977279\n",
      "[76]\ttraining's l2: 0.0334893\tvalid_1's l2: 0.0970262\n",
      "[77]\ttraining's l2: 0.0330905\tvalid_1's l2: 0.096751\n",
      "[78]\ttraining's l2: 0.0326883\tvalid_1's l2: 0.0963852\n",
      "[79]\ttraining's l2: 0.0322996\tvalid_1's l2: 0.0959105\n",
      "[80]\ttraining's l2: 0.0320046\tvalid_1's l2: 0.0946624\n",
      "[81]\ttraining's l2: 0.0316828\tvalid_1's l2: 0.0951499\n",
      "[82]\ttraining's l2: 0.0312997\tvalid_1's l2: 0.0949224\n",
      "[83]\ttraining's l2: 0.0310097\tvalid_1's l2: 0.0954021\n",
      "[84]\ttraining's l2: 0.0306347\tvalid_1's l2: 0.0949965\n",
      "[85]\ttraining's l2: 0.0304217\tvalid_1's l2: 0.0946311\n",
      "[86]\ttraining's l2: 0.0300392\tvalid_1's l2: 0.0945222\n",
      "[87]\ttraining's l2: 0.0297008\tvalid_1's l2: 0.0944486\n",
      "[88]\ttraining's l2: 0.029462\tvalid_1's l2: 0.0949252\n",
      "[89]\ttraining's l2: 0.0290527\tvalid_1's l2: 0.0942439\n",
      "[90]\ttraining's l2: 0.0287275\tvalid_1's l2: 0.0939069\n",
      "[91]\ttraining's l2: 0.028349\tvalid_1's l2: 0.0934314\n",
      "[92]\ttraining's l2: 0.0280163\tvalid_1's l2: 0.0928501\n",
      "[93]\ttraining's l2: 0.0277378\tvalid_1's l2: 0.0927769\n",
      "[94]\ttraining's l2: 0.0274979\tvalid_1's l2: 0.0926593\n",
      "[95]\ttraining's l2: 0.0271645\tvalid_1's l2: 0.0922411\n",
      "[96]\ttraining's l2: 0.0268824\tvalid_1's l2: 0.091473\n",
      "[97]\ttraining's l2: 0.0265713\tvalid_1's l2: 0.090539\n",
      "[98]\ttraining's l2: 0.0262557\tvalid_1's l2: 0.0896203\n",
      "[99]\ttraining's l2: 0.0260307\tvalid_1's l2: 0.0893007\n",
      "[100]\ttraining's l2: 0.0258062\tvalid_1's l2: 0.0891439\n",
      "Did not meet early stopping. Best iteration is:\n",
      "[100]\ttraining's l2: 0.0258062\tvalid_1's l2: 0.0891439\n",
      "RMSE:  0.334\n",
      "R2: 0.8353910657566364\n"
     ]
    }
   ],
   "source": [
    "X_tr, X_val, y_tr, y_val = train_test_split(X_train, y_train, test_size=0.1, random_state=156)\n",
    "lgbm = LGBMRegressor(n_estimators=100, learning_rate=0.05)\n",
    "\n",
    "evals = [(X_tr, y_tr), (X_val, y_val)]\n",
    "lgbm.fit(X_tr, y_tr, early_stopping_rounds=100, eval_metric='logloss', eval_set=evals, verbose=True)\n",
    "preds = lgbm.predict(X_test)\n",
    "\n",
    "mse = mean_squared_error(y_test, preds)\n",
    "rmse = np.sqrt(mse)\n",
    "print('RMSE: ', np.round(rmse,3))\n",
    "print(f'R2: {r2_score(y_test, preds)}')"
   ]
  },
  {
   "cell_type": "code",
   "execution_count": 87,
   "id": "3b68fb32-9944-4710-ae24-6e97b512d08e",
   "metadata": {},
   "outputs": [],
   "source": [
    "from lightgbm import plot_importance"
   ]
  },
  {
   "cell_type": "code",
   "execution_count": 88,
   "id": "894efc1f-621f-4ec1-bfa7-88b1a466d055",
   "metadata": {
    "tags": []
   },
   "outputs": [
    {
     "data": {
      "text/plain": [
       "<AxesSubplot:title={'center':'Feature importance'}, xlabel='Feature importance', ylabel='Features'>"
      ]
     },
     "execution_count": 88,
     "metadata": {},
     "output_type": "execute_result"
    },
    {
     "data": {
      "image/png": "[encoded data removed]",
      "text/plain": [
       "<Figure size 1000x1200 with 1 Axes>"
      ]
     },
     "metadata": {},
     "output_type": "display_data"
    }
   ],
   "source": [
    "fig, ax = plt.subplots(figsize=(10,12))\n",
    "plot_importance(lgbm, ax=ax)"
   ]
  },
  {
   "cell_type": "code",
   "execution_count": 89,
   "id": "0e24b99b-230b-458b-aaaa-9e09f2b04849",
   "metadata": {
    "tags": []
   },
   "outputs": [
    {
     "name": "stdout",
     "output_type": "stream",
     "text": [
      "6407.999999999995, 6240.59326171875\n",
      "2178.000000000001, 2049.991455078125\n",
      "121.00000000000003, 646.9926147460938\n",
      "7848.000000000002, 6797.53173828125\n",
      "7208.999999999997, 6589.638671875\n",
      "2984.000000000001, 2447.6923828125\n",
      "1610.9999999999995, 1408.7918701171875\n",
      "6075.999999999996, 6827.59765625\n",
      "5495.000000000005, 5409.078125\n",
      "755.0000000000002, 777.2236328125\n",
      "7050.000000000006, 3113.9970703125\n",
      "2652.999999999999, 2366.33203125\n",
      "1708.9999999999995, 2306.778076171875\n",
      "6117.999999999999, 4849.96435546875\n",
      "1934.0000000000005, 2363.160888671875\n",
      "1367.9999999999998, 1569.2628173828125\n",
      "2559.0, 1961.3699951171875\n",
      "5922.000000000001, 5790.81396484375\n",
      "8007.000000000001, 6748.53125\n",
      "2916.999999999999, 3002.023193359375\n",
      "5119.999999999998, 5911.91162109375\n",
      "5835.000000000004, 5873.65673828125\n",
      "3261.0000000000023, 2527.884521484375\n",
      "1664.9999999999993, 1566.7332763671875\n",
      "2161.999999999999, 2483.2607421875\n",
      "1748.9999999999995, 1135.977294921875\n",
      "1684.0, 1512.205810546875\n",
      "1312.9999999999995, 1670.2674560546875\n",
      "6737.000000000001, 6545.5693359375\n",
      "8190.0, 6970.41259765625\n",
      "588.9999999999998, 725.6141357421875\n",
      "6139.999999999995, 6004.1728515625\n",
      "4604.000000000001, 5031.91748046875\n",
      "2035.999999999999, 1945.4749755859375\n",
      "6070.999999999999, 6476.078125\n",
      "3801.0000000000023, 3584.254150390625\n",
      "7453.999999999998, 6945.38623046875\n",
      "806.9999999999997, 686.0897827148438\n",
      "7139.0, 6590.85205078125\n",
      "6442.0, 5726.10009765625\n",
      "6469.000000000004, 6102.708984375\n",
      "5963.999999999999, 6346.81591796875\n",
      "1702.0000000000002, 1834.7943115234375\n",
      "4003.9999999999986, 5715.2197265625\n",
      "641.0, 1574.1163330078125\n",
      "6154.000000000003, 7402.59814453125\n",
      "4475.000000000004, 5348.3642578125\n",
      "3556.9999999999995, 3755.077880859375\n",
      "4769.000000000003, 3542.923828125\n",
      "3517.0000000000027, 2888.338623046875\n",
      "7913.000000000003, 6408.63916015625\n",
      "7055.999999999999, 6421.78857421875\n",
      "822.0, 1388.9703369140625\n",
      "6120.999999999997, 6456.86572265625\n",
      "7907.999999999996, 7659.26513671875\n",
      "5648.000000000003, 5972.9677734375\n",
      "2220.0, 2728.21923828125\n",
      "2851.0000000000005, 2654.665283203125\n",
      "5737.000000000005, 5545.13330078125\n",
      "2202.999999999999, 1725.2994384765625\n",
      "7720.999999999998, 6380.66748046875\n",
      "1824.9999999999993, 1605.6201171875\n",
      "1325.9999999999995, 1560.80078125\n",
      "806.9999999999997, 843.1259765625\n",
      "2401.9999999999995, 2020.54541015625\n",
      "7698.000000000003, 7564.5205078125\n",
      "6277.9999999999945, 5859.1416015625\n",
      "5251.000000000005, 5299.55224609375\n",
      "2532.999999999999, 4878.6572265625\n",
      "1042.0000000000002, 1190.589111328125\n",
      "1796.0000000000005, 1965.5093994140625\n",
      "6516.999999999999, 6582.0\n",
      "2645.0000000000014, 2467.528564453125\n"
     ]
    }
   ],
   "source": [
    "for solve, predd in zip(np.expm1(y_test), np.expm1(pred)):\n",
    "    print(f'{solve}, {predd}')"
   ]
  },
  {
   "cell_type": "code",
   "execution_count": null,
   "id": "ae1d6007-acf3-42aa-a188-dea0d5333bfc",
   "metadata": {},
   "outputs": [],
   "source": [
    "from hyperopt import hp"
   ]
  },
  {
   "cell_type": "code",
   "execution_count": null,
   "id": "881c55f9-5c6d-4109-b01d-e8b1fee513c4",
   "metadata": {},
   "outputs": [],
   "source": [
    "lgb_space = {\n",
    "    'max_depth': hp.quniform('max_depth', 5, 20, 1),\n",
    "    'min_child_weight': hp.quniform('min_child_weight', 1,2,1),\n",
    "    'learning_rate':hp.uniform('learning_rate',0.01,0.2),\n",
    "    'colsample_bytree' : hp.uniform('colsample_bytree',0.5,1)\n",
    "}\n"
   ]
  },
  {
   "cell_type": "code",
   "execution_count": null,
   "id": "85f6a9fb-1c6a-4edf-a478-22de5dd625dc",
   "metadata": {},
   "outputs": [],
   "source": [
    "from hyperopt import STATUS_OK"
   ]
  },
  {
   "cell_type": "code",
   "execution_count": null,
   "id": "05f8fcbe-2f05-4f36-bb97-c0045df155e6",
   "metadata": {},
   "outputs": [],
   "source": [
    "# def objective_func(lgb_space):\n",
    "#     max_depth=lgb_space[max_depth]\n",
    "#     min_child_weight=lgb_space[min_child_weight]\n",
    "#     learning_rate=lgb_space[learning_rate]\n",
    "#     colsample_bytree=lgb_space[colsample_bytree]\n",
    "#     reval = "
   ]
  },
  {
   "cell_type": "code",
   "execution_count": null,
   "id": "e40ca35e-2444-4a05-80ff-58f6ced2378d",
   "metadata": {},
   "outputs": [],
   "source": [
    "from hyperopt import fmin, tpe, Trials"
   ]
  },
  {
   "cell_type": "code",
   "execution_count": null,
   "id": "0402863c-82b7-468c-adf3-57718130a89d",
   "metadata": {},
   "outputs": [],
   "source": [
    "# trival_val = Trials()\n",
    "\n",
    "# best_01 = fmin(fn=objective_func, space=search_space, algo=tpe.suggest, max_evals=5,\n",
    "#               trials=trial_val, rstate=np.random.default_rng(seed=0))\n",
    "# print('best:',best_01)"
   ]
  },
  {
   "cell_type": "code",
   "execution_count": null,
   "id": "73c17321-5a5d-4b10-9d58-d898132a498f",
   "metadata": {},
   "outputs": [],
   "source": []
  },
  {
   "cell_type": "code",
   "execution_count": null,
   "id": "8be7b49d-2549-438d-89ad-d802d9d9281a",
   "metadata": {},
   "outputs": [],
   "source": []
  }
 ],
 "metadata": {
  "kernelspec": {
   "display_name": "Python 3 (ipykernel)",
   "language": "python",
   "name": "python3"
  },
  "language_info": {
   "codemirror_mode": {
    "name": "ipython",
    "version": 3
   },
   "file_extension": ".py",
   "mimetype": "text/x-python",
   "name": "python",
   "nbconvert_exporter": "python",
   "pygments_lexer": "ipython3",
   "version": "3.9.13"
  }
 },
 "nbformat": 4,
 "nbformat_minor": 5
}
