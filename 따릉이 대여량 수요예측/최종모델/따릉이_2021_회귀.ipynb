{
 "cells": [
  {
   "cell_type": "markdown",
   "id": "db230391-ab6a-47d0-be7e-b552b82b35d6",
   "metadata": {},
   "source": [
    "# 2021 회귀 결과(XGBoost,GBM이 R2가 가장 높음= 0.82)  \n",
    "- LinearRegression, Ridge, Lasso  \n",
    "MSE: 0.1440554795280862, RMSE: 0.37954641287737945, R2: 0.7397822180837986  \n",
    "LinearRegression RMSE:  0.38  \n",
    "Ridge RMSE:  0.378  \n",
    "Lasso RMSE:  0.719  \n",
    "\n",
    "- LinearRegression, Ridge, Lasso(GridSearchCV)  \n",
    "MSE: 0.1440554795280862, RMSE: 0.37954641287737945, R2: 0.7397822180837986  \n",
    "LinearRegression RMSE:  0.38  \n",
    "Ridge RMSE:  0.378  \n",
    "Lasso RMSE:  0.719  \n",
    "\n",
    "- RandomForestRegressor(log1p적용)  \n",
    "MSE: 0.075077457259289, RMSE: 0.2740026592193751, R2: 0.786735699201359  \n",
    "\n",
    "- RandomForestRegressor(GridSearchCV)  \n",
    "MSE: 0.07527599102077545, RMSE: 0.2743647044005031, R2: 0.7861717461137883  \n",
    "\n",
    "\n",
    "- XGBoost  \n",
    "MSE: 0.06161133642861849, RMSE: 0.24821630975546005, R2: 0.824987432121731  \n",
    "\n",
    "- GBM  \n",
    "RMSE:  0.248, R2: 0.824987432121731  \n",
    "\n",
    "- LightGBM  \n",
    "RMSE:  0.307, R2: 0.7324906316464928  "
   ]
  },
  {
   "cell_type": "markdown",
   "id": "a3610328-bb32-4af5-bd30-af5a968458dd",
   "metadata": {},
   "source": [
    "# import"
   ]
  },
  {
   "cell_type": "code",
   "execution_count": 1,
   "id": "602acea3-fbe7-4974-88cb-f1674839db53",
   "metadata": {},
   "outputs": [],
   "source": [
    "import pandas as pd\n",
    "import numpy as np\n",
    "import matplotlib.pyplot as plt\n",
    "import seaborn as sns\n",
    "import warnings \n",
    "warnings.filterwarnings('ignore')\n",
    "\n",
    "from scipy.stats import skew\n",
    "from sklearn.model_selection import train_test_split\n",
    "from sklearn.linear_model import LinearRegression,Ridge,Lasso, LogisticRegression\n",
    "from sklearn.metrics import mean_squared_error, mean_absolute_error, r2_score"
   ]
  },
  {
   "cell_type": "markdown",
   "id": "e48d9188-9426-45ea-9944-d6290afd016f",
   "metadata": {
    "tags": []
   },
   "source": [
    "## 전처리\n"
   ]
  },
  {
   "cell_type": "code",
   "execution_count": 2,
   "id": "a73771c1-86a3-478a-af57-3fd26d79e047",
   "metadata": {},
   "outputs": [
    {
     "data": {
      "text/html": [
       "<div>\n",
       "<style scoped>\n",
       "    .dataframe tbody tr th:only-of-type {\n",
       "        vertical-align: middle;\n",
       "    }\n",
       "\n",
       "    .dataframe tbody tr th {\n",
       "        vertical-align: top;\n",
       "    }\n",
       "\n",
       "    .dataframe thead th {\n",
       "        text-align: right;\n",
       "    }\n",
       "</style>\n",
       "<table border=\"1\" class=\"dataframe\">\n",
       "  <thead>\n",
       "    <tr style=\"text-align: right;\">\n",
       "      <th></th>\n",
       "      <th>총생활인구수</th>\n",
       "      <th>기온</th>\n",
       "      <th>기압</th>\n",
       "      <th>풍속</th>\n",
       "      <th>운량</th>\n",
       "      <th>일강수량</th>\n",
       "      <th>최대순간풍속풍향</th>\n",
       "      <th>최대풍속풍향</th>\n",
       "      <th>평균풍속</th>\n",
       "      <th>최다풍향</th>\n",
       "      <th>일최심적설</th>\n",
       "      <th>일최심신적설</th>\n",
       "      <th>강수여부</th>\n",
       "      <th>일 미세먼지 농도(㎍/㎥)</th>\n",
       "      <th>휴일여부</th>\n",
       "      <th>요일</th>\n",
       "      <th>계절</th>\n",
       "      <th>month</th>\n",
       "      <th>day</th>\n",
       "      <th>영등포구</th>\n",
       "    </tr>\n",
       "  </thead>\n",
       "  <tbody>\n",
       "    <tr>\n",
       "      <th>0</th>\n",
       "      <td>394771.177262</td>\n",
       "      <td>3.163243</td>\n",
       "      <td>-1.061946</td>\n",
       "      <td>-0.374106</td>\n",
       "      <td>0.591011</td>\n",
       "      <td>0.0</td>\n",
       "      <td>270</td>\n",
       "      <td>270</td>\n",
       "      <td>2.0</td>\n",
       "      <td>270</td>\n",
       "      <td>0.0</td>\n",
       "      <td>0.0</td>\n",
       "      <td>0.0</td>\n",
       "      <td>36.0</td>\n",
       "      <td>1</td>\n",
       "      <td>4</td>\n",
       "      <td>4</td>\n",
       "      <td>1</td>\n",
       "      <td>1</td>\n",
       "      <td>1547.0</td>\n",
       "    </tr>\n",
       "    <tr>\n",
       "      <th>1</th>\n",
       "      <td>400224.921400</td>\n",
       "      <td>3.559497</td>\n",
       "      <td>-1.218942</td>\n",
       "      <td>0.989798</td>\n",
       "      <td>-1.477465</td>\n",
       "      <td>0.0</td>\n",
       "      <td>290</td>\n",
       "      <td>320</td>\n",
       "      <td>2.6</td>\n",
       "      <td>270</td>\n",
       "      <td>0.0</td>\n",
       "      <td>0.0</td>\n",
       "      <td>0.0</td>\n",
       "      <td>43.0</td>\n",
       "      <td>0</td>\n",
       "      <td>5</td>\n",
       "      <td>4</td>\n",
       "      <td>1</td>\n",
       "      <td>2</td>\n",
       "      <td>1664.0</td>\n",
       "    </tr>\n",
       "    <tr>\n",
       "      <th>2</th>\n",
       "      <td>404194.648783</td>\n",
       "      <td>3.600708</td>\n",
       "      <td>-1.194788</td>\n",
       "      <td>0.081099</td>\n",
       "      <td>-1.221170</td>\n",
       "      <td>0.0</td>\n",
       "      <td>320</td>\n",
       "      <td>270</td>\n",
       "      <td>2.0</td>\n",
       "      <td>270</td>\n",
       "      <td>0.0</td>\n",
       "      <td>0.0</td>\n",
       "      <td>0.0</td>\n",
       "      <td>47.0</td>\n",
       "      <td>0</td>\n",
       "      <td>6</td>\n",
       "      <td>4</td>\n",
       "      <td>1</td>\n",
       "      <td>3</td>\n",
       "      <td>1526.0</td>\n",
       "    </tr>\n",
       "    <tr>\n",
       "      <th>3</th>\n",
       "      <td>463540.989846</td>\n",
       "      <td>3.206660</td>\n",
       "      <td>-1.110252</td>\n",
       "      <td>-1.484950</td>\n",
       "      <td>-0.500306</td>\n",
       "      <td>0.0</td>\n",
       "      <td>70</td>\n",
       "      <td>50</td>\n",
       "      <td>1.7</td>\n",
       "      <td>50</td>\n",
       "      <td>0.0</td>\n",
       "      <td>0.0</td>\n",
       "      <td>0.0</td>\n",
       "      <td>50.0</td>\n",
       "      <td>0</td>\n",
       "      <td>0</td>\n",
       "      <td>4</td>\n",
       "      <td>1</td>\n",
       "      <td>4</td>\n",
       "      <td>2555.0</td>\n",
       "    </tr>\n",
       "    <tr>\n",
       "      <th>4</th>\n",
       "      <td>464148.686979</td>\n",
       "      <td>3.568812</td>\n",
       "      <td>-1.146482</td>\n",
       "      <td>1.157934</td>\n",
       "      <td>-0.777131</td>\n",
       "      <td>0.0</td>\n",
       "      <td>340</td>\n",
       "      <td>290</td>\n",
       "      <td>2.9</td>\n",
       "      <td>290</td>\n",
       "      <td>0.0</td>\n",
       "      <td>0.0</td>\n",
       "      <td>0.0</td>\n",
       "      <td>37.0</td>\n",
       "      <td>0</td>\n",
       "      <td>1</td>\n",
       "      <td>4</td>\n",
       "      <td>1</td>\n",
       "      <td>5</td>\n",
       "      <td>2369.0</td>\n",
       "    </tr>\n",
       "    <tr>\n",
       "      <th>...</th>\n",
       "      <td>...</td>\n",
       "      <td>...</td>\n",
       "      <td>...</td>\n",
       "      <td>...</td>\n",
       "      <td>...</td>\n",
       "      <td>...</td>\n",
       "      <td>...</td>\n",
       "      <td>...</td>\n",
       "      <td>...</td>\n",
       "      <td>...</td>\n",
       "      <td>...</td>\n",
       "      <td>...</td>\n",
       "      <td>...</td>\n",
       "      <td>...</td>\n",
       "      <td>...</td>\n",
       "      <td>...</td>\n",
       "      <td>...</td>\n",
       "      <td>...</td>\n",
       "      <td>...</td>\n",
       "      <td>...</td>\n",
       "    </tr>\n",
       "    <tr>\n",
       "      <th>360</th>\n",
       "      <td>475550.135975</td>\n",
       "      <td>3.888188</td>\n",
       "      <td>-1.146482</td>\n",
       "      <td>-1.569873</td>\n",
       "      <td>-0.063383</td>\n",
       "      <td>0.0</td>\n",
       "      <td>340</td>\n",
       "      <td>20</td>\n",
       "      <td>1.7</td>\n",
       "      <td>50</td>\n",
       "      <td>0.0</td>\n",
       "      <td>0.0</td>\n",
       "      <td>0.0</td>\n",
       "      <td>33.0</td>\n",
       "      <td>0</td>\n",
       "      <td>0</td>\n",
       "      <td>4</td>\n",
       "      <td>12</td>\n",
       "      <td>27</td>\n",
       "      <td>3517.0</td>\n",
       "    </tr>\n",
       "    <tr>\n",
       "      <th>361</th>\n",
       "      <td>477997.804696</td>\n",
       "      <td>3.133569</td>\n",
       "      <td>-1.013640</td>\n",
       "      <td>-1.743140</td>\n",
       "      <td>1.340293</td>\n",
       "      <td>0.0</td>\n",
       "      <td>50</td>\n",
       "      <td>50</td>\n",
       "      <td>2.2</td>\n",
       "      <td>50</td>\n",
       "      <td>0.0</td>\n",
       "      <td>0.0</td>\n",
       "      <td>0.0</td>\n",
       "      <td>60.0</td>\n",
       "      <td>0</td>\n",
       "      <td>1</td>\n",
       "      <td>4</td>\n",
       "      <td>12</td>\n",
       "      <td>28</td>\n",
       "      <td>4214.0</td>\n",
       "    </tr>\n",
       "    <tr>\n",
       "      <th>362</th>\n",
       "      <td>478029.061412</td>\n",
       "      <td>2.202502</td>\n",
       "      <td>-0.856644</td>\n",
       "      <td>1.529926</td>\n",
       "      <td>1.000339</td>\n",
       "      <td>0.2</td>\n",
       "      <td>270</td>\n",
       "      <td>270</td>\n",
       "      <td>2.6</td>\n",
       "      <td>50</td>\n",
       "      <td>0.3</td>\n",
       "      <td>0.3</td>\n",
       "      <td>1.0</td>\n",
       "      <td>70.0</td>\n",
       "      <td>0</td>\n",
       "      <td>2</td>\n",
       "      <td>4</td>\n",
       "      <td>12</td>\n",
       "      <td>29</td>\n",
       "      <td>4126.0</td>\n",
       "    </tr>\n",
       "    <tr>\n",
       "      <th>363</th>\n",
       "      <td>476656.880846</td>\n",
       "      <td>3.200306</td>\n",
       "      <td>-1.146482</td>\n",
       "      <td>2.355412</td>\n",
       "      <td>-0.804289</td>\n",
       "      <td>0.0</td>\n",
       "      <td>320</td>\n",
       "      <td>290</td>\n",
       "      <td>3.3</td>\n",
       "      <td>270</td>\n",
       "      <td>0.0</td>\n",
       "      <td>0.0</td>\n",
       "      <td>0.0</td>\n",
       "      <td>30.0</td>\n",
       "      <td>0</td>\n",
       "      <td>3</td>\n",
       "      <td>4</td>\n",
       "      <td>12</td>\n",
       "      <td>30</td>\n",
       "      <td>3883.0</td>\n",
       "    </tr>\n",
       "    <tr>\n",
       "      <th>364</th>\n",
       "      <td>463258.211658</td>\n",
       "      <td>3.876458</td>\n",
       "      <td>-1.255171</td>\n",
       "      <td>1.567354</td>\n",
       "      <td>-1.724999</td>\n",
       "      <td>0.0</td>\n",
       "      <td>290</td>\n",
       "      <td>270</td>\n",
       "      <td>3.5</td>\n",
       "      <td>270</td>\n",
       "      <td>0.0</td>\n",
       "      <td>0.0</td>\n",
       "      <td>0.0</td>\n",
       "      <td>21.0</td>\n",
       "      <td>0</td>\n",
       "      <td>4</td>\n",
       "      <td>4</td>\n",
       "      <td>12</td>\n",
       "      <td>31</td>\n",
       "      <td>3294.0</td>\n",
       "    </tr>\n",
       "  </tbody>\n",
       "</table>\n",
       "<p>365 rows × 20 columns</p>\n",
       "</div>"
      ],
      "text/plain": [
       "            총생활인구수        기온        기압        풍속        운량  일강수량  최대순간풍속풍향  \\\n",
       "0    394771.177262  3.163243 -1.061946 -0.374106  0.591011   0.0       270   \n",
       "1    400224.921400  3.559497 -1.218942  0.989798 -1.477465   0.0       290   \n",
       "2    404194.648783  3.600708 -1.194788  0.081099 -1.221170   0.0       320   \n",
       "3    463540.989846  3.206660 -1.110252 -1.484950 -0.500306   0.0        70   \n",
       "4    464148.686979  3.568812 -1.146482  1.157934 -0.777131   0.0       340   \n",
       "..             ...       ...       ...       ...       ...   ...       ...   \n",
       "360  475550.135975  3.888188 -1.146482 -1.569873 -0.063383   0.0       340   \n",
       "361  477997.804696  3.133569 -1.013640 -1.743140  1.340293   0.0        50   \n",
       "362  478029.061412  2.202502 -0.856644  1.529926  1.000339   0.2       270   \n",
       "363  476656.880846  3.200306 -1.146482  2.355412 -0.804289   0.0       320   \n",
       "364  463258.211658  3.876458 -1.255171  1.567354 -1.724999   0.0       290   \n",
       "\n",
       "     최대풍속풍향  평균풍속  최다풍향  일최심적설  일최심신적설  강수여부  일 미세먼지 농도(㎍/㎥)  휴일여부  요일  계절  \\\n",
       "0       270   2.0   270    0.0     0.0   0.0            36.0     1   4   4   \n",
       "1       320   2.6   270    0.0     0.0   0.0            43.0     0   5   4   \n",
       "2       270   2.0   270    0.0     0.0   0.0            47.0     0   6   4   \n",
       "3        50   1.7    50    0.0     0.0   0.0            50.0     0   0   4   \n",
       "4       290   2.9   290    0.0     0.0   0.0            37.0     0   1   4   \n",
       "..      ...   ...   ...    ...     ...   ...             ...   ...  ..  ..   \n",
       "360      20   1.7    50    0.0     0.0   0.0            33.0     0   0   4   \n",
       "361      50   2.2    50    0.0     0.0   0.0            60.0     0   1   4   \n",
       "362     270   2.6    50    0.3     0.3   1.0            70.0     0   2   4   \n",
       "363     290   3.3   270    0.0     0.0   0.0            30.0     0   3   4   \n",
       "364     270   3.5   270    0.0     0.0   0.0            21.0     0   4   4   \n",
       "\n",
       "     month  day    영등포구  \n",
       "0        1    1  1547.0  \n",
       "1        1    2  1664.0  \n",
       "2        1    3  1526.0  \n",
       "3        1    4  2555.0  \n",
       "4        1    5  2369.0  \n",
       "..     ...  ...     ...  \n",
       "360     12   27  3517.0  \n",
       "361     12   28  4214.0  \n",
       "362     12   29  4126.0  \n",
       "363     12   30  3883.0  \n",
       "364     12   31  3294.0  \n",
       "\n",
       "[365 rows x 20 columns]"
      ]
     },
     "execution_count": 2,
     "metadata": {},
     "output_type": "execute_result"
    }
   ],
   "source": [
    "test5 = pd.read_csv('2021_전처리_최종.csv')\n",
    "test5"
   ]
  },
  {
   "cell_type": "code",
   "execution_count": 3,
   "id": "c24041dc-9afe-4634-904d-28b0cb95d5f3",
   "metadata": {},
   "outputs": [],
   "source": [
    "test5 = test5.fillna(test5.mean())"
   ]
  },
  {
   "cell_type": "code",
   "execution_count": 4,
   "id": "fcbe8506-63ab-429a-8e70-b1235e5d837c",
   "metadata": {},
   "outputs": [
    {
     "data": {
      "text/plain": [
       "총생활인구수            0\n",
       "기온                0\n",
       "기압                0\n",
       "풍속                0\n",
       "운량                0\n",
       "일강수량              0\n",
       "최대순간풍속풍향          0\n",
       "최대풍속풍향            0\n",
       "평균풍속              0\n",
       "최다풍향              0\n",
       "일최심적설             0\n",
       "일최심신적설            0\n",
       "강수여부              0\n",
       "일 미세먼지 농도(㎍/㎥)    0\n",
       "휴일여부              0\n",
       "요일                0\n",
       "계절                0\n",
       "month             0\n",
       "day               0\n",
       "영등포구              0\n",
       "dtype: int64"
      ]
     },
     "execution_count": 4,
     "metadata": {},
     "output_type": "execute_result"
    }
   ],
   "source": [
    "test5.isna().sum()"
   ]
  },
  {
   "cell_type": "markdown",
   "id": "f80ecd0b-06b5-4b24-a99c-ec7a0a2da94d",
   "metadata": {},
   "source": [
    "# LinearRegression, Ridge, Lasso"
   ]
  },
  {
   "cell_type": "code",
   "execution_count": 5,
   "id": "af1ff9f4-04d8-4e58-968a-f370f9f4c7d0",
   "metadata": {},
   "outputs": [],
   "source": [
    "test5[[ '강수여부','휴일여부','요일', '계절', 'month','day',]]= test5[[ '강수여부','휴일여부','요일', '계절', 'month','day']].astype('str')"
   ]
  },
  {
   "cell_type": "code",
   "execution_count": 6,
   "id": "28bd866f-0fa9-472f-97db-591c4207d645",
   "metadata": {},
   "outputs": [],
   "source": [
    "def get_rmse(model):\n",
    "    import numpy as np\n",
    "    from sklearn.metrics import mean_squared_error\n",
    "    pred = model.predict(X_test)\n",
    "    mse = mean_squared_error(y_test, pred)\n",
    "    rmse = np.sqrt(mse)\n",
    "    print(model.__class__.__name__, 'RMSE: ', np.round(rmse,3))\n",
    "    return rmse\n",
    "def get_rmses(models):\n",
    "    rmses = []\n",
    "    for model in models:\n",
    "        rmse = get_rmse(model)\n",
    "        rmses.append(rmse)\n",
    "    return rmses"
   ]
  },
  {
   "cell_type": "code",
   "execution_count": 7,
   "id": "4fff3c43-574f-4ff9-97e6-e05606daea31",
   "metadata": {},
   "outputs": [],
   "source": [
    "X = test5.drop(columns=['영등포구'])\n",
    "y = test5['영등포구']\n",
    "X_train, X_test, y_train, y_test = train_test_split(X,y, test_size=0.2, random_state=32)"
   ]
  },
  {
   "cell_type": "code",
   "execution_count": 8,
   "id": "22aefe37-67e4-43eb-92b0-d4ec120d5140",
   "metadata": {},
   "outputs": [
    {
     "name": "stdout",
     "output_type": "stream",
     "text": [
      "LinearRegression RMSE:  1529.653\n",
      "Ridge RMSE:  1539.968\n",
      "Lasso RMSE:  1531.26\n"
     ]
    },
    {
     "data": {
      "text/plain": [
       "[1529.6531131043603, 1539.9683939668553, 1531.2604375521576]"
      ]
     },
     "execution_count": 8,
     "metadata": {},
     "output_type": "execute_result"
    }
   ],
   "source": [
    "lr_reg = LinearRegression() #선형회귀\n",
    "lr_reg.fit(X_train, y_train)\n",
    "pred = lr_reg.predict(X_test)\n",
    "mse = mean_squared_error(y_test, pred)\n",
    "rmse = np.sqrt(mse)\n",
    "ridge_reg = Ridge()\n",
    "ridge_reg.fit(X_train, y_train)\n",
    "lasso_reg = Lasso()\n",
    "lasso_reg.fit(X_train, y_train)\n",
    "models = [lr_reg, ridge_reg, lasso_reg]\n",
    "get_rmses(models) # R2 점수 추가함"
   ]
  },
  {
   "cell_type": "code",
   "execution_count": 9,
   "id": "413e3ced-b01c-43c2-9b37-0c452fd14c72",
   "metadata": {},
   "outputs": [
    {
     "data": {
      "text/plain": [
       "일최심신적설            7.759141\n",
       "일최심적설             5.414253\n",
       "일강수량              4.863083\n",
       "일 미세먼지 농도(㎍/㎥)    4.270303\n",
       "dtype: float64"
      ]
     },
     "execution_count": 9,
     "metadata": {},
     "output_type": "execute_result"
    }
   ],
   "source": [
    "# 왜곡도 확인\n",
    "features_index = test5.dtypes[test5.dtypes != 'object'].index\n",
    "skew_features= test5[features_index].apply(lambda x : skew(x))\n",
    "skew_features_top = skew_features[skew_features>1]\n",
    "skew_features_top.sort_values(ascending=False)"
   ]
  },
  {
   "cell_type": "code",
   "execution_count": 10,
   "id": "3f30c982-1801-4eaf-a8f7-1bcd58eebf01",
   "metadata": {},
   "outputs": [],
   "source": [
    "# 왜곡도 1 이상은 로그로 변환\n",
    "test5[skew_features_top.index]= np.log1p(test5[skew_features_top.index])"
   ]
  },
  {
   "cell_type": "code",
   "execution_count": 11,
   "id": "5bdaf1d5-ab0c-44b8-9b72-7bbafea8ffb9",
   "metadata": {},
   "outputs": [
    {
     "data": {
      "text/plain": [
       "<AxesSubplot:xlabel='영등포구', ylabel='Count'>"
      ]
     },
     "execution_count": 11,
     "metadata": {},
     "output_type": "execute_result"
    },
    {
     "data": {
      "image/png": "[encoded data removed]",
      "text/plain": [
       "<Figure size 640x480 with 1 Axes>"
      ]
     },
     "metadata": {},
     "output_type": "display_data"
    }
   ],
   "source": [
    "# y값 정규분포로 변환\n",
    "log_test = np.log1p(test5['영등포구'])\n",
    "sns.histplot(log_test, kde=True)"
   ]
  },
  {
   "cell_type": "code",
   "execution_count": 12,
   "id": "2aabccd0-c13b-4972-bba9-205f850dddd6",
   "metadata": {},
   "outputs": [],
   "source": [
    "# 문자열 치환 원앤핫인코딩\n",
    "test5 = pd.get_dummies(test5)\n",
    "X = test5.drop(columns=['영등포구'])\n",
    "y = log_test\n",
    "X_train, X_test, y_train, y_test = train_test_split(X,y, test_size=0.2, random_state=32)"
   ]
  },
  {
   "cell_type": "code",
   "execution_count": 13,
   "id": "f8029b5f-45d0-4d73-9af0-204df2a0f10f",
   "metadata": {},
   "outputs": [
    {
     "name": "stdout",
     "output_type": "stream",
     "text": [
      "MSE: 0.1020916254490923, RMSE: 0.3195178014588425, R2: 0.7099995136542321\n",
      "LinearRegression RMSE:  0.32\n",
      "Ridge RMSE:  0.309\n",
      "Lasso RMSE:  0.578\n"
     ]
    },
    {
     "data": {
      "text/plain": [
       "[0.3195178014588425, 0.3087156672032049, 0.5783911838403554]"
      ]
     },
     "execution_count": 13,
     "metadata": {},
     "output_type": "execute_result"
    }
   ],
   "source": [
    "# 모델 확인\n",
    "lr_reg = LinearRegression()\n",
    "lr_reg.fit(X_train, y_train)\n",
    "pred = lr_reg.predict(X_test)\n",
    "mse = mean_squared_error(y_test, pred)\n",
    "rmse = np.sqrt(mse)\n",
    "print(f'MSE: {mse}, RMSE: {rmse}, R2: {r2_score(y_test, pred)}')\n",
    "ridge_reg = Ridge()\n",
    "ridge_reg.fit(X_train, y_train)\n",
    "lasso_reg = Lasso()\n",
    "lasso_reg.fit(X_train, y_train)\n",
    "models = [lr_reg, ridge_reg, lasso_reg]\n",
    "get_rmses(models)"
   ]
  },
  {
   "cell_type": "code",
   "execution_count": 14,
   "id": "16792fec-65d2-40bc-9d46-f75c80f664fe",
   "metadata": {},
   "outputs": [
    {
     "name": "stdout",
     "output_type": "stream",
     "text": [
      "9337.000000000007, 9507.400161931248\n",
      "7968.0000000000055, 8647.120792053569\n",
      "2553.0000000000005, 1525.4403476105217\n",
      "12961.00000000001, 11871.45267578506\n",
      "12360.0, 12564.477535601342\n",
      "7135.000000000004, 4921.72248089408\n",
      "1245.0, 2455.495400696401\n",
      "7810.000000000003, 9525.068461745246\n",
      "6832.0, 4372.659899268104\n",
      "3422.9999999999973, 3530.1440135294665\n",
      "6723.999999999995, 12205.00535582395\n",
      "1650.0000000000007, 1208.278269332876\n",
      "9233.000000000005, 6297.746410912312\n",
      "10804.999999999995, 11717.02502038422\n",
      "10514.000000000005, 8375.285740073476\n",
      "2708.000000000001, 2636.7367706757514\n",
      "6105.000000000004, 5501.0486701631835\n",
      "12763.999999999998, 15244.844758142384\n",
      "8104.999999999997, 8274.42291294172\n",
      "5853.000000000004, 11449.242132056119\n",
      "7522.000000000001, 7584.3116334514825\n",
      "9205.999999999995, 11207.589141321569\n",
      "4140.999999999998, 4819.508298743864\n",
      "4547.999999999996, 4115.524399234916\n",
      "5841.0, 5706.717490985144\n",
      "7479.999999999995, 4989.677626120388\n",
      "3591.9999999999977, 4324.6774058942865\n",
      "2670.0000000000005, 3384.809620550156\n",
      "10020.999999999998, 8734.541839489177\n",
      "4722.000000000004, 4499.66923770674\n",
      "1723.9999999999993, 1853.9427444314958\n",
      "2442.999999999999, 2442.380312942228\n",
      "6166.000000000004, 5123.189423599335\n",
      "11192.000000000002, 7448.74686996873\n",
      "7037.9999999999945, 2970.5006062544244\n",
      "6760.999999999998, 6851.728363637923\n",
      "11849.999999999993, 10913.443897488374\n",
      "2998.0000000000023, 2437.0208802843886\n",
      "11356.999999999993, 10598.002543232746\n",
      "9138.000000000005, 9547.191125764155\n",
      "11470.000000000004, 9147.981243188995\n",
      "10485.00000000001, 11302.77789240531\n",
      "4499.000000000001, 2915.4232669539415\n",
      "6020.000000000001, 5346.704948232325\n",
      "2588.0000000000005, 3156.9213721853203\n",
      "10032.000000000007, 7763.315582473036\n",
      "9267.000000000004, 8390.26497748152\n",
      "6656.999999999995, 5584.8487506132515\n",
      "2579.0000000000005, 5508.045854985938\n",
      "6704.999999999999, 4407.3498949396535\n",
      "9514.000000000005, 8387.886706740084\n",
      "7823.0000000000055, 7474.287617382672\n",
      "1899.9999999999993, 1574.9651487813353\n",
      "6854.999999999997, 2071.4809985039765\n",
      "9940.99999999999, 10980.35937049231\n",
      "7696.999999999996, 7110.84840873675\n",
      "9383.000000000005, 11382.92862305776\n",
      "6367.000000000002, 4728.119069287661\n",
      "4266.000000000003, 3031.887017835196\n",
      "6968.000000000004, 5769.839000343893\n",
      "9785.999999999996, 9501.563669388714\n",
      "3961.0000000000014, 3398.7373765058614\n",
      "1664.0000000000005, 1666.8306265219617\n",
      "1664.9999999999993, 1349.9386841657272\n",
      "5957.000000000005, 4162.339528354515\n",
      "10893.000000000002, 8820.407566149666\n",
      "9012.999999999996, 9810.690522964831\n",
      "8771.999999999993, 4885.739563143976\n",
      "4980.999999999998, 3982.467301492638\n",
      "2225.0000000000005, 2085.123441167963\n",
      "4126.999999999997, 2704.6281534378736\n",
      "8329.999999999995, 6368.417364005093\n",
      "9438.000000000004, 9362.212138654068\n"
     ]
    }
   ],
   "source": [
    "# 루트치환값 다시 원래대로 돌려서 비교\n",
    "y_t= np.expm1(y_test)\n",
    "p_t = np.expm1(pred)\n",
    "for solve, predd in zip(y_t, p_t):\n",
    "    print(f'{solve}, {predd}') "
   ]
  },
  {
   "cell_type": "markdown",
   "id": "a176dd3b-4f8d-4fae-aa2e-90ac98feacce",
   "metadata": {},
   "source": [
    "## cross_val_score"
   ]
  },
  {
   "cell_type": "code",
   "execution_count": 15,
   "id": "e370a3d4-db7d-4719-a455-cb8ea1045f0a",
   "metadata": {},
   "outputs": [],
   "source": [
    "from sklearn.linear_model import Ridge\n",
    "from sklearn.model_selection import cross_val_score"
   ]
  },
  {
   "cell_type": "code",
   "execution_count": 16,
   "id": "c655fc21-1fee-44a4-8941-a752832851c6",
   "metadata": {
    "tags": []
   },
   "outputs": [],
   "source": [
    "X_data = test5.drop(columns=['영등포구'])\n",
    "y_target = test5['영등포구']\n",
    "\n",
    "\n",
    "ridge = Ridge(alpha=5)\n",
    "neg_mse_scores = cross_val_score(ridge, X_data, y_target, scoring=\"neg_mean_squared_error\",cv=5)\n",
    "rmse_scores = np.sqrt(-1*neg_mse_scores)\n",
    "avg_rmse = np.mean(rmse_scores)"
   ]
  },
  {
   "cell_type": "code",
   "execution_count": 17,
   "id": "bf775805-35ed-4fe1-a87e-5da64e65633e",
   "metadata": {},
   "outputs": [
    {
     "name": "stdout",
     "output_type": "stream",
     "text": [
      "LinearRegression cv rmse 값 리스트 : [5.00000000e-01 9.99675871e+06 6.48893566e+06 5.46000000e-01\n",
      " 8.29182325e+06]\n",
      "LinearRegression cv 평균 rmse 값 : 4955503.733\n",
      "Ridge cv rmse 값 리스트 : [0.509 0.438 0.386 0.44  0.342]\n",
      "Ridge cv 평균 rmse 값 : 0.423\n",
      "Lasso cv rmse 값 리스트 : [1.141 0.715 0.473 0.714 0.519]\n",
      "Lasso cv 평균 rmse 값 : 0.712\n"
     ]
    }
   ],
   "source": [
    "def get_avg_rmse_cv(models):\n",
    "    for model in models:\n",
    "        rmse_list = np.sqrt(-cross_val_score(model,X,y,scoring='neg_mean_squared_error',cv=5)) #rmse = 5개가 나올 것\n",
    "        rmse_avg = np.mean(rmse_list)\n",
    "        print(f'{model.__class__.__name__} cv rmse 값 리스트 : {np.round(rmse_list,3)}')\n",
    "        print(f'{model.__class__.__name__} cv 평균 rmse 값 : {np.round(rmse_avg,3)}')\n",
    "\n",
    "get_avg_rmse_cv(models)"
   ]
  },
  {
   "cell_type": "markdown",
   "id": "31c7ef1c-d7ec-4f40-ade2-01be11637339",
   "metadata": {},
   "source": [
    "## GridSearchCV"
   ]
  },
  {
   "cell_type": "code",
   "execution_count": 18,
   "id": "477b6d49-3584-4b03-908f-6b32b1804b12",
   "metadata": {},
   "outputs": [],
   "source": [
    "from sklearn.model_selection import GridSearchCV"
   ]
  },
  {
   "cell_type": "code",
   "execution_count": 19,
   "id": "8c05d8a2-f869-4234-82d1-bc94c734bfcc",
   "metadata": {},
   "outputs": [],
   "source": [
    "def print_best_params(model,params):\n",
    "    grid_model = GridSearchCV(model,params,scoring='neg_mean_squared_error', cv=10) #GridSearchCV라서 scoring='neg' #scoring='neg_mean_squared_error' 예측값과 차이의 제곱?\n",
    "    grid_model.fit(X,y)\n",
    "    rmse = np.sqrt(-1*grid_model.best_score_)\n",
    "    print(f'{model.__class__.__name__} 5 cv시 최적 평균 rmse 값:{np.round(rmse, 4)}, 최적 alpha값:{grid_model.best_params_}')"
   ]
  },
  {
   "cell_type": "code",
   "execution_count": 20,
   "id": "884d1f9e-5bfd-4ffe-afee-356c4ecebb5f",
   "metadata": {},
   "outputs": [
    {
     "name": "stdout",
     "output_type": "stream",
     "text": [
      "Ridge 5 cv시 최적 평균 rmse 값:0.3879, 최적 alpha값:{'alpha': 5}\n"
     ]
    }
   ],
   "source": [
    "ridge_param = {\n",
    "    'alpha':[0.0001,0.01,0.05, 0.1, 1, 5, 8, 10, 12, 15, 20, 30, 40, 50, 100]\n",
    "} #ridge더 크게 rasso 더 작게\n",
    "print_best_params(ridge_reg, ridge_param)"
   ]
  },
  {
   "cell_type": "code",
   "execution_count": 21,
   "id": "78e195c3-503a-463a-ae0a-b665b78d13ba",
   "metadata": {},
   "outputs": [
    {
     "name": "stdout",
     "output_type": "stream",
     "text": [
      "Lasso 5 cv시 최적 평균 rmse 값:0.366, 최적 alpha값:{'alpha': 0.005}\n"
     ]
    }
   ],
   "source": [
    "lasso_param = {'alpha':[0.0001,0.001, 0.005, 0.008, 0.05, 0.05, 0.1, 0.5, 1, 5, 10, 15, 30]} \n",
    "print_best_params(lasso_reg, lasso_param)"
   ]
  },
  {
   "cell_type": "code",
   "execution_count": 22,
   "id": "8c995d52-0b38-498a-9c96-8a28018689d4",
   "metadata": {},
   "outputs": [
    {
     "name": "stdout",
     "output_type": "stream",
     "text": [
      "LinearRegression RMSE:  0.32\n",
      "Ridge RMSE:  0.293\n",
      "Lasso RMSE:  0.282\n",
      "MSE: 0.1020916254490923, RMSE: 0.3195178014588425, R2: 0.7099995136542321\n"
     ]
    }
   ],
   "source": [
    "lr_reg = LinearRegression()\n",
    "lr_reg.fit(X_train,y_train)\n",
    "\n",
    "ridge_reg = Ridge(alpha=5)\n",
    "ridge_reg.fit(X_train,y_train)\n",
    "\n",
    "lasso_reg = Lasso(alpha=0.005)\n",
    "lasso_reg.fit(X_train,y_train)\n",
    "\n",
    "models=[lr_reg, ridge_reg,lasso_reg] \n",
    "get_rmses(models)\n",
    "\n",
    "#visualize_coefficient(models)\n",
    "\n",
    "lr_reg = LinearRegression()\n",
    "lr_reg.fit(X_train, y_train)\n",
    "\n",
    "pred = lr_reg.predict(X_test)\n",
    "mse = mean_squared_error(y_test, pred)\n",
    "rmse = np.sqrt(mse)\n",
    "print(f'MSE: {mse}, RMSE: {rmse}, R2: {r2_score(y_test, pred)}')\n"
   ]
  },
  {
   "cell_type": "code",
   "execution_count": 23,
   "id": "37720f8f-9ed0-47d2-966b-443889d328ff",
   "metadata": {},
   "outputs": [
    {
     "name": "stdout",
     "output_type": "stream",
     "text": [
      "MSE: 0.1020916254490923, RMSE: 0.3195178014588425, R2: 0.7099995136542321\n",
      "LinearRegression RMSE:  0.32\n",
      "Ridge RMSE:  0.309\n",
      "Lasso RMSE:  0.578\n"
     ]
    }
   ],
   "source": [
    "lr_reg = LinearRegression()\n",
    "lr_reg.fit(X_train, y_train)\n",
    "\n",
    "pred = lr_reg.predict(X_test)\n",
    "mse = mean_squared_error(y_test, pred)\n",
    "rmse = np.sqrt(mse)\n",
    "print(f'MSE: {mse}, RMSE: {rmse}, R2: {r2_score(y_test, pred)}')\n",
    "\n",
    "\n",
    "\n",
    "\n",
    "ridge_reg = Ridge()\n",
    "ridge_reg.fit(X_train, y_train)\n",
    "lasso_reg = Lasso()\n",
    "lasso_reg.fit(X_train, y_train)\n",
    "models = [lr_reg, ridge_reg, lasso_reg]\n",
    "\n",
    "for model in models:\n",
    "    get_rmse(model)"
   ]
  },
  {
   "cell_type": "markdown",
   "id": "e90fb0fe-dd09-468f-8523-a765e4f710ae",
   "metadata": {},
   "source": [
    "# RandomForestRegressor"
   ]
  },
  {
   "cell_type": "code",
   "execution_count": 24,
   "id": "a6d2772d-b3b0-4eaf-95d4-b6213a8fb2b0",
   "metadata": {},
   "outputs": [],
   "source": [
    "from sklearn.ensemble import RandomForestRegressor\n",
    "from sklearn.metrics import accuracy_score\n",
    "import pandas as pd\n",
    "import warnings\n",
    "warnings.filterwarnings('ignore')"
   ]
  },
  {
   "cell_type": "code",
   "execution_count": 25,
   "id": "b8ed009d-8d50-45b2-9f84-9a1e58457915",
   "metadata": {},
   "outputs": [],
   "source": [
    "X_train,X_test,y_train,y_test = train_test_split(X,y,test_size=0.2,random_state=32)"
   ]
  },
  {
   "cell_type": "code",
   "execution_count": 26,
   "id": "cf4bff1b-30f5-40f6-ab8b-e8c12ea5bcce",
   "metadata": {},
   "outputs": [
    {
     "name": "stdout",
     "output_type": "stream",
     "text": [
      "MSE: 0.08120158057616636, RMSE: 0.28495891032948306, R2: 0.7693395735884753\n"
     ]
    }
   ],
   "source": [
    "rf_clf = RandomForestRegressor(random_state=156, max_depth=8)\n",
    "rf_clf.fit(X_train,y_train)\n",
    "\n",
    "pred = rf_clf.predict(X_test)\n",
    "mse = mean_squared_error(y_test, pred)\n",
    "rmse = np.sqrt(mse)\n",
    "\n",
    "print(f'MSE: {mse}, RMSE: {rmse}, R2: {r2_score(y_test, pred)}')\n"
   ]
  },
  {
   "cell_type": "code",
   "execution_count": 27,
   "id": "ad9b8a60-457a-4fed-9bc0-bae983027334",
   "metadata": {},
   "outputs": [],
   "source": [
    "log_test = np.log1p(test5['영등포구'])\n",
    "test5 = pd.get_dummies(test5)\n",
    "X = test5.drop(columns=['영등포구'])\n",
    "y = log_test\n",
    "X_train, X_test, y_train, y_test = train_test_split(X,y, test_size=0.2, random_state=32)"
   ]
  },
  {
   "cell_type": "code",
   "execution_count": 28,
   "id": "98565d1f-1efd-4f41-b42a-d8e64d19d332",
   "metadata": {},
   "outputs": [
    {
     "name": "stdout",
     "output_type": "stream",
     "text": [
      "MSE: 0.075077457259289, RMSE: 0.2740026592193751, R2: 0.786735699201359\n"
     ]
    }
   ],
   "source": [
    "rf_clf = RandomForestRegressor(random_state=32, max_depth=8)\n",
    "rf_clf.fit(X_train,y_train)\n",
    "\n",
    "pred = rf_clf.predict(X_test)\n",
    "mse = mean_squared_error(y_test, pred)\n",
    "rmse = np.sqrt(mse)\n",
    "\n",
    "print(f'MSE: {mse}, RMSE: {rmse}, R2: {r2_score(y_test, pred)}')"
   ]
  },
  {
   "cell_type": "markdown",
   "id": "0949a07a-c847-4675-83e3-213771cb8145",
   "metadata": {},
   "source": [
    "## GridSearchCV \n",
    "RandomForestRegressor - 하이퍼 파라미터 수정"
   ]
  },
  {
   "cell_type": "code",
   "execution_count": 29,
   "id": "1fcc5ed9-a239-4c88-8e56-fe83d94092da",
   "metadata": {},
   "outputs": [],
   "source": [
    "from sklearn.model_selection import GridSearchCV"
   ]
  },
  {
   "cell_type": "code",
   "execution_count": 30,
   "id": "d69db63f-c82b-4d09-976f-8bfc63e13d5e",
   "metadata": {},
   "outputs": [],
   "source": [
    "params = {\n",
    "    'max_depth': [6, 12, 18, 26, 30],\n",
    "    'min_samples_leaf': [1, 6, 12, 18, 24],\n",
    "    'min_samples_split':[2, 6, 12, 18, 24]\n",
    "}"
   ]
  },
  {
   "cell_type": "code",
   "execution_count": 31,
   "id": "7a4872f5-f66d-457b-97c6-460b46c0f8b2",
   "metadata": {},
   "outputs": [
    {
     "name": "stdout",
     "output_type": "stream",
     "text": [
      "최적 하이퍼 파라미너:\n",
      " {'max_depth': 18, 'min_samples_leaf': 1, 'min_samples_split': 2}\n"
     ]
    }
   ],
   "source": [
    "rf_clf = RandomForestRegressor(n_estimators=100, random_state=32, n_jobs=-1)\n",
    "grid_cv = GridSearchCV(rf_clf, param_grid=params, cv=2, n_jobs=-1)\n",
    "grid_cv.fit(X_train, y_train)\n",
    "\n",
    "print('최적 하이퍼 파라미너:\\n', grid_cv.best_params_)"
   ]
  },
  {
   "cell_type": "code",
   "execution_count": 32,
   "id": "8f581b62-f1b6-42b8-8b31-f035da9eedc1",
   "metadata": {},
   "outputs": [
    {
     "name": "stdout",
     "output_type": "stream",
     "text": [
      "MSE: 0.07527599102077545, RMSE: 0.2743647044005031, R2: 0.7861717461137883\n"
     ]
    }
   ],
   "source": [
    "rf_clf1    = RandomForestRegressor(n_estimators=100, max_depth=12, min_samples_leaf=1, min_samples_split=6, random_state=32)\n",
    "rf_clf1.fit(X_train,y_train)\n",
    "\n",
    "pred = rf_clf1.predict(X_test)\n",
    "mse = mean_squared_error(y_test, pred)\n",
    "rmse = np.sqrt(mse)\n",
    "\n",
    "print(f'MSE: {mse}, RMSE: {rmse}, R2: {r2_score(y_test, pred)}')\n"
   ]
  },
  {
   "cell_type": "markdown",
   "id": "1982f88b-51d0-4a06-941f-159548c4ec09",
   "metadata": {},
   "source": [
    "# XGBoost "
   ]
  },
  {
   "cell_type": "code",
   "execution_count": 33,
   "id": "b9ec4441-b71a-41bb-9a13-76f2201df529",
   "metadata": {},
   "outputs": [],
   "source": [
    "import xgboost as xgb\n",
    "from xgboost import XGBRegressor"
   ]
  },
  {
   "cell_type": "code",
   "execution_count": 34,
   "id": "63b163af-1de4-45d5-9129-915cc7f9e5c6",
   "metadata": {},
   "outputs": [
    {
     "name": "stdout",
     "output_type": "stream",
     "text": [
      "1.5.0\n"
     ]
    }
   ],
   "source": [
    "import xgboost\n",
    "\n",
    "print(xgboost.__version__)"
   ]
  },
  {
   "cell_type": "code",
   "execution_count": 35,
   "id": "f560c99d-5e4a-4b23-941b-16618b9725c3",
   "metadata": {},
   "outputs": [],
   "source": [
    "import pandas as pd\n",
    "import numpy as np\n",
    "import seaborn as sns\n",
    "from sklearn.model_selection import train_test_split\n",
    "import warnings\n",
    "warnings.filterwarnings('ignore')"
   ]
  },
  {
   "cell_type": "code",
   "execution_count": 36,
   "id": "de1e9ed5-43e3-4573-9ec1-2b84a1e6c152",
   "metadata": {},
   "outputs": [],
   "source": [
    "#학습용(80%), 데이터용(20%)\n",
    "log_test = np.log1p(test5['영등포구'])\n",
    "#test = test5['영등포구']\n",
    "test5 = pd.get_dummies(test5)\n",
    "X = test5.drop(columns=['영등포구'])\n",
    "y = log_test\n",
    "X_train, X_test, y_train, y_test = train_test_split(X,y, test_size=0.2, random_state=32)"
   ]
  },
  {
   "cell_type": "code",
   "execution_count": 37,
   "id": "74d75d0c-6804-441b-aa4f-ef21f400a5ae",
   "metadata": {},
   "outputs": [],
   "source": [
    "#최종 학습용(90%), 검즘용(10%)\n",
    "X_tr, X_val, y_tr, y_val = train_test_split(X_train,y_train,test_size=0.1,random_state=32)"
   ]
  },
  {
   "cell_type": "code",
   "execution_count": 38,
   "id": "5ba9f28c-3ef7-4a49-8ea9-53594ea5bb56",
   "metadata": {},
   "outputs": [],
   "source": [
    "#학습, 검증, 테스트용 DMatrix 생성\n",
    "dtr = xgb.DMatrix(data=X_tr, label=y_tr)\n",
    "dval = xgb.DMatrix(data=X_val, label=y_val)\n",
    "dtest = xgb.DMatrix(data=X_test, label=y_test)"
   ]
  },
  {
   "cell_type": "code",
   "execution_count": 39,
   "id": "d7723728-a285-4663-a09f-2eeae8f61887",
   "metadata": {},
   "outputs": [],
   "source": [
    "params = {\n",
    "    'max_depth':3,\n",
    "    'eta':0.05,\n",
    "    #'objective':'binary:logistic',\n",
    "    # 'eval_metric':'logloss'\n",
    "}\n",
    "num_rounds = 400"
   ]
  },
  {
   "cell_type": "code",
   "execution_count": 40,
   "id": "077d0972-f306-45e5-ad14-f1e19cb18037",
   "metadata": {},
   "outputs": [
    {
     "name": "stdout",
     "output_type": "stream",
     "text": [
      "[0]\ttrain-rmse:7.82361\teval-rmse:7.69207\n",
      "[1]\ttrain-rmse:7.43717\teval-rmse:7.30279\n",
      "[2]\ttrain-rmse:7.07004\teval-rmse:6.93302\n",
      "[3]\ttrain-rmse:6.72103\teval-rmse:6.57846\n",
      "[4]\ttrain-rmse:6.38943\teval-rmse:6.24653\n",
      "[5]\ttrain-rmse:6.07433\teval-rmse:5.92548\n",
      "[6]\ttrain-rmse:5.77489\teval-rmse:5.62844\n",
      "[7]\ttrain-rmse:5.49042\teval-rmse:5.34021\n",
      "[8]\ttrain-rmse:5.22003\teval-rmse:5.07138\n",
      "[9]\ttrain-rmse:4.96295\teval-rmse:4.80929\n",
      "[10]\ttrain-rmse:4.71874\teval-rmse:4.56698\n",
      "[11]\ttrain-rmse:4.48653\teval-rmse:4.33417\n",
      "[12]\ttrain-rmse:4.26596\teval-rmse:4.11486\n",
      "[13]\ttrain-rmse:4.05626\teval-rmse:3.90133\n",
      "[14]\ttrain-rmse:3.85698\teval-rmse:3.70042\n",
      "[15]\ttrain-rmse:3.66753\teval-rmse:3.51139\n",
      "[16]\ttrain-rmse:3.48761\teval-rmse:3.33549\n",
      "[17]\ttrain-rmse:3.31662\teval-rmse:3.16224\n",
      "[18]\ttrain-rmse:3.15401\teval-rmse:3.00113\n",
      "[19]\ttrain-rmse:2.99960\teval-rmse:2.84933\n",
      "[20]\ttrain-rmse:2.85282\teval-rmse:2.70314\n",
      "[21]\ttrain-rmse:2.71333\teval-rmse:2.56779\n",
      "[22]\ttrain-rmse:2.58081\teval-rmse:2.44303\n",
      "[23]\ttrain-rmse:2.45482\teval-rmse:2.31792\n",
      "[24]\ttrain-rmse:2.33521\teval-rmse:2.19655\n",
      "[25]\ttrain-rmse:2.22146\teval-rmse:2.08607\n",
      "[26]\ttrain-rmse:2.11342\teval-rmse:1.98387\n",
      "[27]\ttrain-rmse:2.01069\teval-rmse:1.88320\n",
      "[28]\ttrain-rmse:1.91313\teval-rmse:1.78872\n",
      "[29]\ttrain-rmse:1.82038\teval-rmse:1.69868\n",
      "[30]\ttrain-rmse:1.73232\teval-rmse:1.61252\n",
      "[31]\ttrain-rmse:1.64866\teval-rmse:1.53345\n",
      "[32]\ttrain-rmse:1.56910\teval-rmse:1.45875\n",
      "[33]\ttrain-rmse:1.49353\teval-rmse:1.38847\n",
      "[34]\ttrain-rmse:1.42174\teval-rmse:1.31983\n",
      "[35]\ttrain-rmse:1.35351\teval-rmse:1.25281\n",
      "[36]\ttrain-rmse:1.28875\teval-rmse:1.19191\n",
      "[37]\ttrain-rmse:1.22705\teval-rmse:1.13405\n",
      "[38]\ttrain-rmse:1.16857\teval-rmse:1.07988\n",
      "[39]\ttrain-rmse:1.11280\teval-rmse:1.02726\n",
      "[40]\ttrain-rmse:1.05995\teval-rmse:0.97811\n",
      "[41]\ttrain-rmse:1.00962\teval-rmse:0.93180\n",
      "[42]\ttrain-rmse:0.96205\teval-rmse:0.88850\n",
      "[43]\ttrain-rmse:0.91689\teval-rmse:0.84756\n",
      "[44]\ttrain-rmse:0.87374\teval-rmse:0.80652\n",
      "[45]\ttrain-rmse:0.83282\teval-rmse:0.76795\n",
      "[46]\ttrain-rmse:0.79408\teval-rmse:0.73326\n",
      "[47]\ttrain-rmse:0.75733\teval-rmse:0.69989\n",
      "[48]\ttrain-rmse:0.72244\teval-rmse:0.66986\n",
      "[49]\ttrain-rmse:0.68937\teval-rmse:0.64359\n",
      "[50]\ttrain-rmse:0.65799\teval-rmse:0.61611\n",
      "[51]\ttrain-rmse:0.62805\teval-rmse:0.59030\n",
      "[52]\ttrain-rmse:0.59987\teval-rmse:0.56583\n",
      "[53]\ttrain-rmse:0.57285\teval-rmse:0.54380\n",
      "[54]\ttrain-rmse:0.54733\teval-rmse:0.52341\n",
      "[55]\ttrain-rmse:0.52333\teval-rmse:0.50375\n",
      "[56]\ttrain-rmse:0.50066\teval-rmse:0.48479\n",
      "[57]\ttrain-rmse:0.47881\teval-rmse:0.46822\n",
      "[58]\ttrain-rmse:0.45820\teval-rmse:0.45306\n",
      "[59]\ttrain-rmse:0.43896\teval-rmse:0.43768\n",
      "[60]\ttrain-rmse:0.42023\teval-rmse:0.42386\n",
      "[61]\ttrain-rmse:0.40291\teval-rmse:0.41115\n",
      "[62]\ttrain-rmse:0.38611\teval-rmse:0.40017\n",
      "[63]\ttrain-rmse:0.37044\teval-rmse:0.38999\n",
      "[64]\ttrain-rmse:0.35579\teval-rmse:0.38116\n",
      "[65]\ttrain-rmse:0.34174\teval-rmse:0.37256\n",
      "[66]\ttrain-rmse:0.32822\teval-rmse:0.36431\n",
      "[67]\ttrain-rmse:0.31586\teval-rmse:0.35748\n",
      "[68]\ttrain-rmse:0.30379\teval-rmse:0.35181\n",
      "[69]\ttrain-rmse:0.29266\teval-rmse:0.34598\n",
      "[70]\ttrain-rmse:0.28226\teval-rmse:0.34197\n",
      "[71]\ttrain-rmse:0.27239\teval-rmse:0.33758\n",
      "[72]\ttrain-rmse:0.26311\teval-rmse:0.33333\n",
      "[73]\ttrain-rmse:0.25392\teval-rmse:0.33008\n",
      "[74]\ttrain-rmse:0.24568\teval-rmse:0.32706\n",
      "[75]\ttrain-rmse:0.23779\teval-rmse:0.32493\n",
      "[76]\ttrain-rmse:0.23044\teval-rmse:0.32236\n",
      "[77]\ttrain-rmse:0.22364\teval-rmse:0.32134\n",
      "[78]\ttrain-rmse:0.21673\teval-rmse:0.31986\n",
      "[79]\ttrain-rmse:0.21050\teval-rmse:0.31857\n",
      "[80]\ttrain-rmse:0.20480\teval-rmse:0.31722\n",
      "[81]\ttrain-rmse:0.19905\teval-rmse:0.31683\n",
      "[82]\ttrain-rmse:0.19403\teval-rmse:0.31533\n",
      "[83]\ttrain-rmse:0.18931\teval-rmse:0.31462\n",
      "[84]\ttrain-rmse:0.18430\teval-rmse:0.31427\n",
      "[85]\ttrain-rmse:0.18007\teval-rmse:0.31421\n",
      "[86]\ttrain-rmse:0.17574\teval-rmse:0.31362\n",
      "[87]\ttrain-rmse:0.17196\teval-rmse:0.31353\n",
      "[88]\ttrain-rmse:0.16841\teval-rmse:0.31350\n",
      "[89]\ttrain-rmse:0.16533\teval-rmse:0.31407\n",
      "[90]\ttrain-rmse:0.16243\teval-rmse:0.31436\n",
      "[91]\ttrain-rmse:0.15955\teval-rmse:0.31437\n",
      "[92]\ttrain-rmse:0.15624\teval-rmse:0.31467\n",
      "[93]\ttrain-rmse:0.15359\teval-rmse:0.31419\n",
      "[94]\ttrain-rmse:0.15118\teval-rmse:0.31448\n",
      "[95]\ttrain-rmse:0.14873\teval-rmse:0.31359\n",
      "[96]\ttrain-rmse:0.14645\teval-rmse:0.31323\n",
      "[97]\ttrain-rmse:0.14383\teval-rmse:0.31387\n",
      "[98]\ttrain-rmse:0.14183\teval-rmse:0.31293\n",
      "[99]\ttrain-rmse:0.13992\teval-rmse:0.31319\n",
      "[100]\ttrain-rmse:0.13803\teval-rmse:0.31353\n",
      "[101]\ttrain-rmse:0.13625\teval-rmse:0.31246\n",
      "[102]\ttrain-rmse:0.13471\teval-rmse:0.31265\n",
      "[103]\ttrain-rmse:0.13339\teval-rmse:0.31296\n",
      "[104]\ttrain-rmse:0.13154\teval-rmse:0.31239\n",
      "[105]\ttrain-rmse:0.12983\teval-rmse:0.31243\n",
      "[106]\ttrain-rmse:0.12843\teval-rmse:0.31230\n",
      "[107]\ttrain-rmse:0.12702\teval-rmse:0.31296\n",
      "[108]\ttrain-rmse:0.12576\teval-rmse:0.31204\n",
      "[109]\ttrain-rmse:0.12425\teval-rmse:0.31151\n",
      "[110]\ttrain-rmse:0.12311\teval-rmse:0.31236\n",
      "[111]\ttrain-rmse:0.12186\teval-rmse:0.31171\n",
      "[112]\ttrain-rmse:0.12092\teval-rmse:0.31179\n",
      "[113]\ttrain-rmse:0.11967\teval-rmse:0.31181\n",
      "[114]\ttrain-rmse:0.11889\teval-rmse:0.31181\n",
      "[115]\ttrain-rmse:0.11789\teval-rmse:0.31202\n",
      "[116]\ttrain-rmse:0.11671\teval-rmse:0.31144\n",
      "[117]\ttrain-rmse:0.11570\teval-rmse:0.31172\n",
      "[118]\ttrain-rmse:0.11470\teval-rmse:0.31086\n",
      "[119]\ttrain-rmse:0.11385\teval-rmse:0.31005\n",
      "[120]\ttrain-rmse:0.11322\teval-rmse:0.31036\n",
      "[121]\ttrain-rmse:0.11239\teval-rmse:0.31055\n",
      "[122]\ttrain-rmse:0.11182\teval-rmse:0.31064\n",
      "[123]\ttrain-rmse:0.11094\teval-rmse:0.31008\n",
      "[124]\ttrain-rmse:0.11018\teval-rmse:0.31061\n",
      "[125]\ttrain-rmse:0.10947\teval-rmse:0.31028\n",
      "[126]\ttrain-rmse:0.10888\teval-rmse:0.31085\n",
      "[127]\ttrain-rmse:0.10810\teval-rmse:0.31031\n",
      "[128]\ttrain-rmse:0.10718\teval-rmse:0.30976\n",
      "[129]\ttrain-rmse:0.10668\teval-rmse:0.30974\n",
      "[130]\ttrain-rmse:0.10605\teval-rmse:0.30895\n",
      "[131]\ttrain-rmse:0.10541\teval-rmse:0.30878\n",
      "[132]\ttrain-rmse:0.10500\teval-rmse:0.30889\n",
      "[133]\ttrain-rmse:0.10450\teval-rmse:0.30837\n",
      "[134]\ttrain-rmse:0.10380\teval-rmse:0.30856\n",
      "[135]\ttrain-rmse:0.10291\teval-rmse:0.30798\n",
      "[136]\ttrain-rmse:0.10237\teval-rmse:0.30796\n",
      "[137]\ttrain-rmse:0.10178\teval-rmse:0.30803\n",
      "[138]\ttrain-rmse:0.10124\teval-rmse:0.30787\n",
      "[139]\ttrain-rmse:0.10067\teval-rmse:0.30763\n",
      "[140]\ttrain-rmse:0.10012\teval-rmse:0.30769\n",
      "[141]\ttrain-rmse:0.09961\teval-rmse:0.30854\n",
      "[142]\ttrain-rmse:0.09883\teval-rmse:0.30836\n",
      "[143]\ttrain-rmse:0.09830\teval-rmse:0.30801\n",
      "[144]\ttrain-rmse:0.09784\teval-rmse:0.30803\n",
      "[145]\ttrain-rmse:0.09731\teval-rmse:0.30780\n",
      "[146]\ttrain-rmse:0.09701\teval-rmse:0.30752\n",
      "[147]\ttrain-rmse:0.09641\teval-rmse:0.30676\n",
      "[148]\ttrain-rmse:0.09597\teval-rmse:0.30682\n",
      "[149]\ttrain-rmse:0.09548\teval-rmse:0.30663\n",
      "[150]\ttrain-rmse:0.09520\teval-rmse:0.30674\n",
      "[151]\ttrain-rmse:0.09489\teval-rmse:0.30681\n",
      "[152]\ttrain-rmse:0.09456\teval-rmse:0.30666\n",
      "[153]\ttrain-rmse:0.09401\teval-rmse:0.30604\n",
      "[154]\ttrain-rmse:0.09351\teval-rmse:0.30614\n",
      "[155]\ttrain-rmse:0.09323\teval-rmse:0.30620\n",
      "[156]\ttrain-rmse:0.09280\teval-rmse:0.30650\n",
      "[157]\ttrain-rmse:0.09234\teval-rmse:0.30632\n",
      "[158]\ttrain-rmse:0.09193\teval-rmse:0.30631\n",
      "[159]\ttrain-rmse:0.09164\teval-rmse:0.30636\n",
      "[160]\ttrain-rmse:0.09139\teval-rmse:0.30627\n",
      "[161]\ttrain-rmse:0.09101\teval-rmse:0.30634\n",
      "[162]\ttrain-rmse:0.09067\teval-rmse:0.30665\n",
      "[163]\ttrain-rmse:0.09036\teval-rmse:0.30631\n",
      "[164]\ttrain-rmse:0.09009\teval-rmse:0.30634\n",
      "[165]\ttrain-rmse:0.08980\teval-rmse:0.30622\n",
      "[166]\ttrain-rmse:0.08941\teval-rmse:0.30632\n",
      "[167]\ttrain-rmse:0.08910\teval-rmse:0.30574\n",
      "[168]\ttrain-rmse:0.08885\teval-rmse:0.30577\n",
      "[169]\ttrain-rmse:0.08861\teval-rmse:0.30584\n",
      "[170]\ttrain-rmse:0.08819\teval-rmse:0.30549\n",
      "[171]\ttrain-rmse:0.08765\teval-rmse:0.30549\n",
      "[172]\ttrain-rmse:0.08729\teval-rmse:0.30572\n",
      "[173]\ttrain-rmse:0.08709\teval-rmse:0.30571\n",
      "[174]\ttrain-rmse:0.08675\teval-rmse:0.30511\n",
      "[175]\ttrain-rmse:0.08655\teval-rmse:0.30514\n",
      "[176]\ttrain-rmse:0.08628\teval-rmse:0.30467\n",
      "[177]\ttrain-rmse:0.08607\teval-rmse:0.30469\n",
      "[178]\ttrain-rmse:0.08572\teval-rmse:0.30362\n",
      "[179]\ttrain-rmse:0.08524\teval-rmse:0.30363\n",
      "[180]\ttrain-rmse:0.08494\teval-rmse:0.30361\n",
      "[181]\ttrain-rmse:0.08470\teval-rmse:0.30325\n",
      "[182]\ttrain-rmse:0.08441\teval-rmse:0.30347\n",
      "[183]\ttrain-rmse:0.08412\teval-rmse:0.30351\n",
      "[184]\ttrain-rmse:0.08369\teval-rmse:0.30296\n",
      "[185]\ttrain-rmse:0.08346\teval-rmse:0.30288\n",
      "[186]\ttrain-rmse:0.08321\teval-rmse:0.30256\n",
      "[187]\ttrain-rmse:0.08299\teval-rmse:0.30251\n",
      "[188]\ttrain-rmse:0.08272\teval-rmse:0.30255\n",
      "[189]\ttrain-rmse:0.08231\teval-rmse:0.30220\n",
      "[190]\ttrain-rmse:0.08197\teval-rmse:0.30144\n",
      "[191]\ttrain-rmse:0.08180\teval-rmse:0.30121\n",
      "[192]\ttrain-rmse:0.08161\teval-rmse:0.30122\n",
      "[193]\ttrain-rmse:0.08135\teval-rmse:0.30119\n",
      "[194]\ttrain-rmse:0.08109\teval-rmse:0.30122\n",
      "[195]\ttrain-rmse:0.08089\teval-rmse:0.30118\n",
      "[196]\ttrain-rmse:0.08068\teval-rmse:0.30125\n",
      "[197]\ttrain-rmse:0.08029\teval-rmse:0.30096\n",
      "[198]\ttrain-rmse:0.08003\teval-rmse:0.30106\n",
      "[199]\ttrain-rmse:0.07981\teval-rmse:0.30077\n",
      "[200]\ttrain-rmse:0.07959\teval-rmse:0.30056\n",
      "[201]\ttrain-rmse:0.07947\teval-rmse:0.30052\n",
      "[202]\ttrain-rmse:0.07916\teval-rmse:0.29978\n",
      "[203]\ttrain-rmse:0.07892\teval-rmse:0.29965\n",
      "[204]\ttrain-rmse:0.07875\teval-rmse:0.29959\n",
      "[205]\ttrain-rmse:0.07820\teval-rmse:0.29939\n",
      "[206]\ttrain-rmse:0.07801\teval-rmse:0.29946\n",
      "[207]\ttrain-rmse:0.07749\teval-rmse:0.29898\n",
      "[208]\ttrain-rmse:0.07731\teval-rmse:0.29881\n",
      "[209]\ttrain-rmse:0.07695\teval-rmse:0.29853\n",
      "[210]\ttrain-rmse:0.07678\teval-rmse:0.29848\n",
      "[211]\ttrain-rmse:0.07658\teval-rmse:0.29822\n",
      "[212]\ttrain-rmse:0.07636\teval-rmse:0.29822\n",
      "[213]\ttrain-rmse:0.07625\teval-rmse:0.29818\n",
      "[214]\ttrain-rmse:0.07604\teval-rmse:0.29806\n",
      "[215]\ttrain-rmse:0.07575\teval-rmse:0.29731\n",
      "[216]\ttrain-rmse:0.07556\teval-rmse:0.29688\n",
      "[217]\ttrain-rmse:0.07538\teval-rmse:0.29675\n",
      "[218]\ttrain-rmse:0.07523\teval-rmse:0.29671\n",
      "[219]\ttrain-rmse:0.07497\teval-rmse:0.29656\n",
      "[220]\ttrain-rmse:0.07450\teval-rmse:0.29640\n",
      "[221]\ttrain-rmse:0.07431\teval-rmse:0.29615\n",
      "[222]\ttrain-rmse:0.07421\teval-rmse:0.29612\n",
      "[223]\ttrain-rmse:0.07401\teval-rmse:0.29600\n",
      "[224]\ttrain-rmse:0.07380\teval-rmse:0.29566\n",
      "[225]\ttrain-rmse:0.07357\teval-rmse:0.29572\n",
      "[226]\ttrain-rmse:0.07340\teval-rmse:0.29549\n",
      "[227]\ttrain-rmse:0.07312\teval-rmse:0.29458\n",
      "[228]\ttrain-rmse:0.07296\teval-rmse:0.29458\n",
      "[229]\ttrain-rmse:0.07282\teval-rmse:0.29453\n",
      "[230]\ttrain-rmse:0.07262\teval-rmse:0.29422\n",
      "[231]\ttrain-rmse:0.07245\teval-rmse:0.29389\n",
      "[232]\ttrain-rmse:0.07227\teval-rmse:0.29391\n",
      "[233]\ttrain-rmse:0.07205\teval-rmse:0.29386\n",
      "[234]\ttrain-rmse:0.07189\teval-rmse:0.29352\n",
      "[235]\ttrain-rmse:0.07170\teval-rmse:0.29321\n",
      "[236]\ttrain-rmse:0.07130\teval-rmse:0.29241\n",
      "[237]\ttrain-rmse:0.07088\teval-rmse:0.29207\n",
      "[238]\ttrain-rmse:0.07068\teval-rmse:0.29195\n",
      "[239]\ttrain-rmse:0.07041\teval-rmse:0.29198\n",
      "[240]\ttrain-rmse:0.07032\teval-rmse:0.29195\n",
      "[241]\ttrain-rmse:0.07020\teval-rmse:0.29190\n",
      "[242]\ttrain-rmse:0.07000\teval-rmse:0.29132\n",
      "[243]\ttrain-rmse:0.06970\teval-rmse:0.29143\n",
      "[244]\ttrain-rmse:0.06955\teval-rmse:0.29110\n",
      "[245]\ttrain-rmse:0.06940\teval-rmse:0.29079\n",
      "[246]\ttrain-rmse:0.06916\teval-rmse:0.29069\n",
      "[247]\ttrain-rmse:0.06908\teval-rmse:0.29067\n",
      "[248]\ttrain-rmse:0.06870\teval-rmse:0.28998\n",
      "[249]\ttrain-rmse:0.06852\teval-rmse:0.29026\n",
      "[250]\ttrain-rmse:0.06840\teval-rmse:0.29025\n",
      "[251]\ttrain-rmse:0.06818\teval-rmse:0.29016\n",
      "[252]\ttrain-rmse:0.06783\teval-rmse:0.28942\n",
      "[253]\ttrain-rmse:0.06767\teval-rmse:0.28944\n",
      "[254]\ttrain-rmse:0.06756\teval-rmse:0.28943\n",
      "[255]\ttrain-rmse:0.06746\teval-rmse:0.28941\n",
      "[256]\ttrain-rmse:0.06728\teval-rmse:0.28940\n",
      "[257]\ttrain-rmse:0.06705\teval-rmse:0.28857\n",
      "[258]\ttrain-rmse:0.06692\teval-rmse:0.28828\n",
      "[259]\ttrain-rmse:0.06676\teval-rmse:0.28820\n",
      "[260]\ttrain-rmse:0.06649\teval-rmse:0.28800\n",
      "[261]\ttrain-rmse:0.06612\teval-rmse:0.28734\n",
      "[262]\ttrain-rmse:0.06593\teval-rmse:0.28735\n",
      "[263]\ttrain-rmse:0.06576\teval-rmse:0.28741\n",
      "[264]\ttrain-rmse:0.06567\teval-rmse:0.28739\n",
      "[265]\ttrain-rmse:0.06553\teval-rmse:0.28734\n",
      "[266]\ttrain-rmse:0.06536\teval-rmse:0.28724\n",
      "[267]\ttrain-rmse:0.06525\teval-rmse:0.28723\n",
      "[268]\ttrain-rmse:0.06511\teval-rmse:0.28692\n",
      "[269]\ttrain-rmse:0.06480\teval-rmse:0.28658\n",
      "[270]\ttrain-rmse:0.06447\teval-rmse:0.28641\n",
      "[271]\ttrain-rmse:0.06433\teval-rmse:0.28638\n",
      "[272]\ttrain-rmse:0.06411\teval-rmse:0.28649\n",
      "[273]\ttrain-rmse:0.06391\teval-rmse:0.28587\n",
      "[274]\ttrain-rmse:0.06379\teval-rmse:0.28580\n",
      "[275]\ttrain-rmse:0.06363\teval-rmse:0.28580\n",
      "[276]\ttrain-rmse:0.06329\teval-rmse:0.28509\n",
      "[277]\ttrain-rmse:0.06321\teval-rmse:0.28508\n",
      "[278]\ttrain-rmse:0.06310\teval-rmse:0.28498\n",
      "[279]\ttrain-rmse:0.06288\teval-rmse:0.28501\n",
      "[280]\ttrain-rmse:0.06270\teval-rmse:0.28452\n",
      "[281]\ttrain-rmse:0.06258\teval-rmse:0.28426\n",
      "[282]\ttrain-rmse:0.06251\teval-rmse:0.28425\n",
      "[283]\ttrain-rmse:0.06236\teval-rmse:0.28415\n",
      "[284]\ttrain-rmse:0.06220\teval-rmse:0.28403\n",
      "[285]\ttrain-rmse:0.06190\teval-rmse:0.28390\n",
      "[286]\ttrain-rmse:0.06170\teval-rmse:0.28391\n",
      "[287]\ttrain-rmse:0.06149\teval-rmse:0.28317\n",
      "[288]\ttrain-rmse:0.06142\teval-rmse:0.28315\n",
      "[289]\ttrain-rmse:0.06130\teval-rmse:0.28305\n",
      "[290]\ttrain-rmse:0.06121\teval-rmse:0.28301\n",
      "[291]\ttrain-rmse:0.06107\teval-rmse:0.28298\n",
      "[292]\ttrain-rmse:0.06065\teval-rmse:0.28313\n",
      "[293]\ttrain-rmse:0.06039\teval-rmse:0.28284\n",
      "[294]\ttrain-rmse:0.06027\teval-rmse:0.28276\n",
      "[295]\ttrain-rmse:0.05996\teval-rmse:0.28262\n",
      "[296]\ttrain-rmse:0.05976\teval-rmse:0.28255\n",
      "[297]\ttrain-rmse:0.05966\teval-rmse:0.28282\n",
      "[298]\ttrain-rmse:0.05959\teval-rmse:0.28281\n",
      "[299]\ttrain-rmse:0.05950\teval-rmse:0.28272\n",
      "[300]\ttrain-rmse:0.05913\teval-rmse:0.28271\n",
      "[301]\ttrain-rmse:0.05896\teval-rmse:0.28279\n",
      "[302]\ttrain-rmse:0.05878\teval-rmse:0.28260\n",
      "[303]\ttrain-rmse:0.05864\teval-rmse:0.28237\n",
      "[304]\ttrain-rmse:0.05858\teval-rmse:0.28236\n",
      "[305]\ttrain-rmse:0.05840\teval-rmse:0.28167\n",
      "[306]\ttrain-rmse:0.05828\teval-rmse:0.28161\n",
      "[307]\ttrain-rmse:0.05812\teval-rmse:0.28143\n",
      "[308]\ttrain-rmse:0.05776\teval-rmse:0.28146\n",
      "[309]\ttrain-rmse:0.05760\teval-rmse:0.28155\n",
      "[310]\ttrain-rmse:0.05727\teval-rmse:0.28145\n",
      "[311]\ttrain-rmse:0.05698\teval-rmse:0.28129\n",
      "[312]\ttrain-rmse:0.05680\teval-rmse:0.28107\n",
      "[313]\ttrain-rmse:0.05659\teval-rmse:0.28078\n",
      "[314]\ttrain-rmse:0.05649\teval-rmse:0.28085\n",
      "[315]\ttrain-rmse:0.05617\teval-rmse:0.28085\n",
      "[316]\ttrain-rmse:0.05604\teval-rmse:0.28078\n",
      "[317]\ttrain-rmse:0.05589\teval-rmse:0.28069\n",
      "[318]\ttrain-rmse:0.05554\teval-rmse:0.28081\n",
      "[319]\ttrain-rmse:0.05539\teval-rmse:0.28064\n",
      "[320]\ttrain-rmse:0.05508\teval-rmse:0.28055\n",
      "[321]\ttrain-rmse:0.05488\teval-rmse:0.28070\n",
      "[322]\ttrain-rmse:0.05477\teval-rmse:0.28086\n",
      "[323]\ttrain-rmse:0.05468\teval-rmse:0.28074\n",
      "[324]\ttrain-rmse:0.05455\teval-rmse:0.28067\n",
      "[325]\ttrain-rmse:0.05446\teval-rmse:0.28068\n",
      "[326]\ttrain-rmse:0.05431\teval-rmse:0.28047\n",
      "[327]\ttrain-rmse:0.05420\teval-rmse:0.28062\n",
      "[328]\ttrain-rmse:0.05391\teval-rmse:0.28053\n",
      "[329]\ttrain-rmse:0.05379\teval-rmse:0.28047\n",
      "[330]\ttrain-rmse:0.05366\teval-rmse:0.28026\n",
      "[331]\ttrain-rmse:0.05360\teval-rmse:0.28025\n",
      "[332]\ttrain-rmse:0.05341\teval-rmse:0.28041\n",
      "[333]\ttrain-rmse:0.05331\teval-rmse:0.28045\n",
      "[334]\ttrain-rmse:0.05320\teval-rmse:0.28060\n",
      "[335]\ttrain-rmse:0.05311\teval-rmse:0.28047\n",
      "[336]\ttrain-rmse:0.05306\teval-rmse:0.28040\n",
      "[337]\ttrain-rmse:0.05296\teval-rmse:0.28037\n",
      "[338]\ttrain-rmse:0.05285\teval-rmse:0.27995\n",
      "[339]\ttrain-rmse:0.05272\teval-rmse:0.27966\n",
      "[340]\ttrain-rmse:0.05242\teval-rmse:0.27956\n",
      "[341]\ttrain-rmse:0.05223\teval-rmse:0.27947\n",
      "[342]\ttrain-rmse:0.05211\teval-rmse:0.27942\n",
      "[343]\ttrain-rmse:0.05204\teval-rmse:0.27941\n",
      "[344]\ttrain-rmse:0.05192\teval-rmse:0.27936\n",
      "[345]\ttrain-rmse:0.05182\teval-rmse:0.27930\n",
      "[346]\ttrain-rmse:0.05165\teval-rmse:0.27922\n",
      "[347]\ttrain-rmse:0.05151\teval-rmse:0.27879\n",
      "[348]\ttrain-rmse:0.05138\teval-rmse:0.27884\n",
      "[349]\ttrain-rmse:0.05112\teval-rmse:0.27867\n",
      "[350]\ttrain-rmse:0.05103\teval-rmse:0.27865\n",
      "[351]\ttrain-rmse:0.05092\teval-rmse:0.27861\n",
      "[352]\ttrain-rmse:0.05083\teval-rmse:0.27861\n",
      "[353]\ttrain-rmse:0.05061\teval-rmse:0.27864\n",
      "[354]\ttrain-rmse:0.05052\teval-rmse:0.27872\n",
      "[355]\ttrain-rmse:0.05036\teval-rmse:0.27864\n",
      "[356]\ttrain-rmse:0.05027\teval-rmse:0.27862\n",
      "[357]\ttrain-rmse:0.05007\teval-rmse:0.27814\n",
      "[358]\ttrain-rmse:0.04984\teval-rmse:0.27807\n",
      "[359]\ttrain-rmse:0.04976\teval-rmse:0.27813\n",
      "[360]\ttrain-rmse:0.04956\teval-rmse:0.27816\n",
      "[361]\ttrain-rmse:0.04945\teval-rmse:0.27809\n",
      "[362]\ttrain-rmse:0.04933\teval-rmse:0.27814\n",
      "[363]\ttrain-rmse:0.04926\teval-rmse:0.27810\n",
      "[364]\ttrain-rmse:0.04922\teval-rmse:0.27811\n",
      "[365]\ttrain-rmse:0.04909\teval-rmse:0.27808\n",
      "[366]\ttrain-rmse:0.04898\teval-rmse:0.27811\n",
      "[367]\ttrain-rmse:0.04886\teval-rmse:0.27814\n",
      "[368]\ttrain-rmse:0.04874\teval-rmse:0.27760\n",
      "[369]\ttrain-rmse:0.04866\teval-rmse:0.27755\n",
      "[370]\ttrain-rmse:0.04854\teval-rmse:0.27762\n",
      "[371]\ttrain-rmse:0.04843\teval-rmse:0.27748\n",
      "[372]\ttrain-rmse:0.04832\teval-rmse:0.27743\n",
      "[373]\ttrain-rmse:0.04810\teval-rmse:0.27724\n",
      "[374]\ttrain-rmse:0.04795\teval-rmse:0.27717\n",
      "[375]\ttrain-rmse:0.04789\teval-rmse:0.27715\n",
      "[376]\ttrain-rmse:0.04784\teval-rmse:0.27716\n",
      "[377]\ttrain-rmse:0.04774\teval-rmse:0.27720\n",
      "[378]\ttrain-rmse:0.04764\teval-rmse:0.27724\n",
      "[379]\ttrain-rmse:0.04759\teval-rmse:0.27723\n",
      "[380]\ttrain-rmse:0.04752\teval-rmse:0.27724\n",
      "[381]\ttrain-rmse:0.04743\teval-rmse:0.27726\n",
      "[382]\ttrain-rmse:0.04706\teval-rmse:0.27722\n",
      "[383]\ttrain-rmse:0.04698\teval-rmse:0.27734\n",
      "[384]\ttrain-rmse:0.04685\teval-rmse:0.27732\n",
      "[385]\ttrain-rmse:0.04665\teval-rmse:0.27723\n",
      "[386]\ttrain-rmse:0.04641\teval-rmse:0.27714\n",
      "[387]\ttrain-rmse:0.04632\teval-rmse:0.27720\n",
      "[388]\ttrain-rmse:0.04620\teval-rmse:0.27729\n",
      "[389]\ttrain-rmse:0.04609\teval-rmse:0.27704\n",
      "[390]\ttrain-rmse:0.04598\teval-rmse:0.27703\n",
      "[391]\ttrain-rmse:0.04576\teval-rmse:0.27700\n",
      "[392]\ttrain-rmse:0.04547\teval-rmse:0.27683\n",
      "[393]\ttrain-rmse:0.04521\teval-rmse:0.27678\n",
      "[394]\ttrain-rmse:0.04510\teval-rmse:0.27687\n",
      "[395]\ttrain-rmse:0.04485\teval-rmse:0.27681\n",
      "[396]\ttrain-rmse:0.04465\teval-rmse:0.27676\n",
      "[397]\ttrain-rmse:0.04456\teval-rmse:0.27679\n",
      "[398]\ttrain-rmse:0.04447\teval-rmse:0.27682\n",
      "[399]\ttrain-rmse:0.04442\teval-rmse:0.27681\n",
      "MSE: 0.06161133642861849, RMSE: 0.24821630975546005, R2: 0.824987432121731\n"
     ]
    }
   ],
   "source": [
    "eval_list = [(dtr,'train'),(dval,'eval')]\n",
    "xgb_model = xgb.train(params = params, dtrain=dtr, num_boost_round=num_rounds,\n",
    "                      early_stopping_rounds=500, evals=eval_list)\n",
    "\n",
    "# pred = xgb_model.predict(dtest)\n",
    "# print(pred)\n",
    "\n",
    "pred = xgb_model.predict(dtest)\n",
    "mse = mean_squared_error(y_test, pred)\n",
    "rmse = np.sqrt(mse)\n",
    "\n",
    "print(f'MSE: {mse}, RMSE: {rmse}, R2: {r2_score(y_test, pred)}')\n"
   ]
  },
  {
   "cell_type": "code",
   "execution_count": 41,
   "id": "951c8e4f-4ace-4184-8733-595faa3de544",
   "metadata": {},
   "outputs": [
    {
     "name": "stdout",
     "output_type": "stream",
     "text": [
      "9337.000000000007, 9951.421875\n",
      "7968.0000000000055, 7764.669921875\n",
      "2553.0000000000005, 1567.0406494140625\n",
      "12961.00000000001, 11381.662109375\n",
      "12360.0, 11439.2978515625\n",
      "7135.000000000004, 5218.28076171875\n",
      "1245.0, 1280.01123046875\n",
      "7810.000000000003, 9910.474609375\n",
      "6832.0, 4027.899658203125\n",
      "3422.9999999999973, 4199.875\n",
      "6723.999999999995, 9333.0224609375\n",
      "1650.0000000000007, 1112.1348876953125\n",
      "9233.000000000005, 9066.990234375\n",
      "10804.999999999995, 8948.74609375\n",
      "10514.000000000005, 9656.833984375\n",
      "2708.000000000001, 2507.501220703125\n",
      "6105.000000000004, 4978.03271484375\n",
      "12763.999999999998, 11859.095703125\n",
      "8104.999999999997, 9090.5078125\n",
      "5853.000000000004, 7435.52392578125\n",
      "7522.000000000001, 6924.59619140625\n",
      "9205.999999999995, 9031.87890625\n",
      "4140.999999999998, 4594.86328125\n",
      "4547.999999999996, 4606.294921875\n",
      "5841.0, 6498.37841796875\n",
      "7479.999999999995, 6874.49609375\n",
      "3591.9999999999977, 4180.0146484375\n",
      "2670.0000000000005, 3727.4013671875\n",
      "10020.999999999998, 9111.8359375\n",
      "4722.000000000004, 5464.90576171875\n",
      "1723.9999999999993, 2427.34619140625\n",
      "2442.999999999999, 2846.43408203125\n",
      "6166.000000000004, 4586.04443359375\n",
      "11192.000000000002, 9593.6923828125\n",
      "7037.9999999999945, 3250.147705078125\n",
      "6760.999999999998, 8822.5146484375\n",
      "11849.999999999993, 14157.9560546875\n",
      "2998.0000000000023, 2860.01416015625\n",
      "11356.999999999993, 9548.60546875\n",
      "9138.000000000005, 8876.126953125\n",
      "11470.000000000004, 8381.42578125\n",
      "10485.00000000001, 10388.9306640625\n",
      "4499.000000000001, 3857.9892578125\n",
      "6020.000000000001, 5802.90625\n",
      "2588.0000000000005, 3750.857177734375\n",
      "10032.000000000007, 9762.4150390625\n",
      "9267.000000000004, 8266.5224609375\n",
      "6656.999999999995, 6257.55712890625\n",
      "2579.0000000000005, 5894.13037109375\n",
      "6704.999999999999, 5273.220703125\n",
      "9514.000000000005, 8402.46875\n",
      "7823.0000000000055, 7839.6669921875\n",
      "1899.9999999999993, 1482.6455078125\n",
      "6854.999999999997, 3814.391357421875\n",
      "9940.99999999999, 10892.7880859375\n",
      "7696.999999999996, 6969.2490234375\n",
      "9383.000000000005, 9859.591796875\n",
      "6367.000000000002, 6280.8359375\n",
      "4266.000000000003, 5897.701171875\n",
      "6968.000000000004, 5545.39794921875\n",
      "9785.999999999996, 6627.68603515625\n",
      "3961.0000000000014, 3237.979248046875\n",
      "1664.0000000000005, 1496.482421875\n",
      "1664.9999999999993, 1591.8809814453125\n",
      "5957.000000000005, 4142.7646484375\n",
      "10893.000000000002, 9349.8525390625\n",
      "9012.999999999996, 9506.8857421875\n",
      "8771.999999999993, 7014.75830078125\n",
      "4980.999999999998, 6430.8544921875\n",
      "2225.0000000000005, 2159.4091796875\n",
      "4126.999999999997, 3428.2265625\n",
      "8329.999999999995, 7668.95849609375\n",
      "9438.000000000004, 8950.333984375\n"
     ]
    }
   ],
   "source": [
    "y_t= np.expm1(y_test)\n",
    "p_t = pd.Series(np.expm1(pred))\n",
    "for solve, predd in zip(y_t, p_t):\n",
    "    print(f'{solve}, {predd}') \n",
    "\n",
    "# mse = mean_squared_error(dtest, pred)\n",
    "# rmse = np.sqrt(mse)\n",
    "\n",
    "# print(f'MSE: {mse}, RMSE: {rmse}, R2: {r2_score(y_test, pred)}')"
   ]
  },
  {
   "cell_type": "markdown",
   "id": "e8f9918a-5858-4b9c-b589-d7fd9db95cd6",
   "metadata": {},
   "source": [
    "# GBM"
   ]
  },
  {
   "cell_type": "code",
   "execution_count": 42,
   "id": "fba7e6e0-a731-40b9-969e-5365c769f5ff",
   "metadata": {},
   "outputs": [],
   "source": [
    "from sklearn.ensemble import GradientBoostingRegressor\n",
    "import time"
   ]
  },
  {
   "cell_type": "code",
   "execution_count": 43,
   "id": "43ec2186-aac8-41d6-bac2-6cda226d2bca",
   "metadata": {},
   "outputs": [
    {
     "name": "stdout",
     "output_type": "stream",
     "text": [
      "RMSE:  0.248\n",
      "R2: 0.824987432121731\n"
     ]
    }
   ],
   "source": [
    "gb_ref = GradientBoostingRegressor(random_state=156)\n",
    "gb_ref.fit(X_train, y_train)\n",
    "gb_pred = gb_ref.predict(X_test)\n",
    "\n",
    "mse = mean_squared_error(y_test, pred)\n",
    "rmse = np.sqrt(mse)\n",
    "print('RMSE: ', np.round(rmse,3))\n",
    "print(f'R2: {r2_score(y_test, pred)}')"
   ]
  },
  {
   "cell_type": "code",
   "execution_count": 45,
   "id": "202fc250-45dd-44ea-9459-ce2f618d76fa",
   "metadata": {},
   "outputs": [
    {
     "name": "stdout",
     "output_type": "stream",
     "text": [
      "RMSE:  0.248\n",
      "R2: 0.824987432121731\n"
     ]
    }
   ],
   "source": [
    "gb_ref = GradientBoostingRegressor(n_estimators=200, max_depth=16, min_samples_leaf=6, min_samples_split=2, random_state=156)\n",
    "gb_ref.fit(X_train, y_train)\n",
    "gb_pred = gb_ref.predict(X_test)\n",
    "\n",
    "mse = mean_squared_error(y_test, pred)\n",
    "rmse = np.sqrt(mse)\n",
    "print('RMSE: ', np.round(rmse,3))\n",
    "print(f'R2: {r2_score(y_test, pred)}')"
   ]
  },
  {
   "cell_type": "markdown",
   "id": "e1c56948-f083-4993-aa1a-16227f850a71",
   "metadata": {},
   "source": [
    "# LightGBM"
   ]
  },
  {
   "cell_type": "code",
   "execution_count": 46,
   "id": "ee274f70-5c9e-4511-89c6-3f808dcf96ae",
   "metadata": {},
   "outputs": [],
   "source": [
    "from lightgbm import LGBMRegressor"
   ]
  },
  {
   "cell_type": "code",
   "execution_count": 47,
   "id": "325ed784-56dd-4973-b0af-e641c74110b2",
   "metadata": {
    "tags": []
   },
   "outputs": [
    {
     "name": "stdout",
     "output_type": "stream",
     "text": [
      "[1]\ttraining's l2: 0.47887\tvalid_1's l2: 0.358806\n",
      "Training until validation scores don't improve for 100 rounds\n",
      "[2]\ttraining's l2: 0.448712\tvalid_1's l2: 0.340402\n",
      "[3]\ttraining's l2: 0.421495\tvalid_1's l2: 0.323998\n",
      "[4]\ttraining's l2: 0.397244\tvalid_1's l2: 0.307492\n",
      "[5]\ttraining's l2: 0.374825\tvalid_1's l2: 0.295156\n",
      "[6]\ttraining's l2: 0.354906\tvalid_1's l2: 0.28202\n",
      "[7]\ttraining's l2: 0.335432\tvalid_1's l2: 0.267324\n",
      "[8]\ttraining's l2: 0.317451\tvalid_1's l2: 0.257014\n",
      "[9]\ttraining's l2: 0.301551\tvalid_1's l2: 0.245347\n",
      "[10]\ttraining's l2: 0.286614\tvalid_1's l2: 0.237039\n",
      "[11]\ttraining's l2: 0.273372\tvalid_1's l2: 0.226947\n",
      "[12]\ttraining's l2: 0.261058\tvalid_1's l2: 0.220445\n",
      "[13]\ttraining's l2: 0.250507\tvalid_1's l2: 0.213413\n",
      "[14]\ttraining's l2: 0.240147\tvalid_1's l2: 0.20497\n",
      "[15]\ttraining's l2: 0.230835\tvalid_1's l2: 0.200499\n",
      "[16]\ttraining's l2: 0.222302\tvalid_1's l2: 0.193554\n",
      "[17]\ttraining's l2: 0.214039\tvalid_1's l2: 0.186356\n",
      "[18]\ttraining's l2: 0.206841\tvalid_1's l2: 0.180582\n",
      "[19]\ttraining's l2: 0.200295\tvalid_1's l2: 0.177388\n",
      "[20]\ttraining's l2: 0.194298\tvalid_1's l2: 0.173188\n",
      "[21]\ttraining's l2: 0.188112\tvalid_1's l2: 0.167813\n",
      "[22]\ttraining's l2: 0.18309\tvalid_1's l2: 0.16405\n",
      "[23]\ttraining's l2: 0.178497\tvalid_1's l2: 0.161789\n",
      "[24]\ttraining's l2: 0.173522\tvalid_1's l2: 0.15717\n",
      "[25]\ttraining's l2: 0.169512\tvalid_1's l2: 0.153716\n",
      "[26]\ttraining's l2: 0.165879\tvalid_1's l2: 0.15156\n",
      "[27]\ttraining's l2: 0.161767\tvalid_1's l2: 0.147907\n",
      "[28]\ttraining's l2: 0.158629\tvalid_1's l2: 0.145099\n",
      "[29]\ttraining's l2: 0.155808\tvalid_1's l2: 0.143447\n",
      "[30]\ttraining's l2: 0.153077\tvalid_1's l2: 0.141655\n",
      "[31]\ttraining's l2: 0.149904\tvalid_1's l2: 0.13953\n",
      "[32]\ttraining's l2: 0.147684\tvalid_1's l2: 0.138083\n",
      "[33]\ttraining's l2: 0.145463\tvalid_1's l2: 0.135705\n",
      "[34]\ttraining's l2: 0.142866\tvalid_1's l2: 0.13405\n",
      "[35]\ttraining's l2: 0.139507\tvalid_1's l2: 0.12993\n",
      "[36]\ttraining's l2: 0.136391\tvalid_1's l2: 0.12645\n",
      "[37]\ttraining's l2: 0.134302\tvalid_1's l2: 0.127839\n",
      "[38]\ttraining's l2: 0.131483\tvalid_1's l2: 0.123932\n",
      "[39]\ttraining's l2: 0.129495\tvalid_1's l2: 0.122248\n",
      "[40]\ttraining's l2: 0.127023\tvalid_1's l2: 0.118692\n",
      "[41]\ttraining's l2: 0.124748\tvalid_1's l2: 0.115705\n",
      "[42]\ttraining's l2: 0.123031\tvalid_1's l2: 0.114223\n",
      "[43]\ttraining's l2: 0.120962\tvalid_1's l2: 0.111289\n",
      "[44]\ttraining's l2: 0.118905\tvalid_1's l2: 0.109226\n",
      "[45]\ttraining's l2: 0.117441\tvalid_1's l2: 0.107876\n",
      "[46]\ttraining's l2: 0.115982\tvalid_1's l2: 0.109209\n",
      "[47]\ttraining's l2: 0.114184\tvalid_1's l2: 0.106278\n",
      "[48]\ttraining's l2: 0.11249\tvalid_1's l2: 0.104604\n",
      "[49]\ttraining's l2: 0.111327\tvalid_1's l2: 0.104611\n",
      "[50]\ttraining's l2: 0.11029\tvalid_1's l2: 0.103918\n",
      "[51]\ttraining's l2: 0.109292\tvalid_1's l2: 0.103897\n",
      "[52]\ttraining's l2: 0.10754\tvalid_1's l2: 0.103547\n",
      "[53]\ttraining's l2: 0.106122\tvalid_1's l2: 0.101662\n",
      "[54]\ttraining's l2: 0.105012\tvalid_1's l2: 0.101944\n",
      "[55]\ttraining's l2: 0.103724\tvalid_1's l2: 0.101262\n",
      "[56]\ttraining's l2: 0.102944\tvalid_1's l2: 0.100909\n",
      "[57]\ttraining's l2: 0.102222\tvalid_1's l2: 0.100405\n",
      "[58]\ttraining's l2: 0.100742\tvalid_1's l2: 0.10037\n",
      "[59]\ttraining's l2: 0.099591\tvalid_1's l2: 0.099841\n",
      "[60]\ttraining's l2: 0.0986993\tvalid_1's l2: 0.100127\n",
      "[61]\ttraining's l2: 0.0980231\tvalid_1's l2: 0.0990098\n",
      "[62]\ttraining's l2: 0.0968702\tvalid_1's l2: 0.0976397\n",
      "[63]\ttraining's l2: 0.0962977\tvalid_1's l2: 0.0972368\n",
      "[64]\ttraining's l2: 0.0957511\tvalid_1's l2: 0.0972986\n",
      "[65]\ttraining's l2: 0.095094\tvalid_1's l2: 0.0971321\n",
      "[66]\ttraining's l2: 0.09378\tvalid_1's l2: 0.0972868\n",
      "[67]\ttraining's l2: 0.0926577\tvalid_1's l2: 0.0962311\n",
      "[68]\ttraining's l2: 0.0921728\tvalid_1's l2: 0.0958792\n",
      "[69]\ttraining's l2: 0.0915863\tvalid_1's l2: 0.0957561\n",
      "[70]\ttraining's l2: 0.0907809\tvalid_1's l2: 0.0950658\n",
      "[71]\ttraining's l2: 0.0903321\tvalid_1's l2: 0.0957939\n",
      "[72]\ttraining's l2: 0.0898418\tvalid_1's l2: 0.09582\n",
      "[73]\ttraining's l2: 0.0893612\tvalid_1's l2: 0.0960211\n",
      "[74]\ttraining's l2: 0.0884336\tvalid_1's l2: 0.0953262\n",
      "[75]\ttraining's l2: 0.0877557\tvalid_1's l2: 0.0952257\n",
      "[76]\ttraining's l2: 0.087265\tvalid_1's l2: 0.094592\n",
      "[77]\ttraining's l2: 0.0866896\tvalid_1's l2: 0.0943203\n",
      "[78]\ttraining's l2: 0.0857673\tvalid_1's l2: 0.0939242\n",
      "[79]\ttraining's l2: 0.0853499\tvalid_1's l2: 0.0947449\n",
      "[80]\ttraining's l2: 0.0843115\tvalid_1's l2: 0.093959\n",
      "[81]\ttraining's l2: 0.0835741\tvalid_1's l2: 0.0932331\n",
      "[82]\ttraining's l2: 0.082645\tvalid_1's l2: 0.0936901\n",
      "[83]\ttraining's l2: 0.0819102\tvalid_1's l2: 0.0934062\n",
      "[84]\ttraining's l2: 0.0814308\tvalid_1's l2: 0.0935434\n",
      "[85]\ttraining's l2: 0.080511\tvalid_1's l2: 0.0943747\n",
      "[86]\ttraining's l2: 0.0798598\tvalid_1's l2: 0.0935762\n",
      "[87]\ttraining's l2: 0.0789538\tvalid_1's l2: 0.0929036\n",
      "[88]\ttraining's l2: 0.078612\tvalid_1's l2: 0.0937244\n",
      "[89]\ttraining's l2: 0.0778768\tvalid_1's l2: 0.0930063\n",
      "[90]\ttraining's l2: 0.0775779\tvalid_1's l2: 0.0936122\n",
      "[91]\ttraining's l2: 0.0767203\tvalid_1's l2: 0.0941776\n",
      "[92]\ttraining's l2: 0.0758501\tvalid_1's l2: 0.0937552\n",
      "[93]\ttraining's l2: 0.075326\tvalid_1's l2: 0.0929348\n",
      "[94]\ttraining's l2: 0.0749672\tvalid_1's l2: 0.093343\n",
      "[95]\ttraining's l2: 0.0743275\tvalid_1's l2: 0.0926975\n",
      "[96]\ttraining's l2: 0.0740054\tvalid_1's l2: 0.093522\n",
      "[97]\ttraining's l2: 0.0736778\tvalid_1's l2: 0.0935563\n",
      "[98]\ttraining's l2: 0.0730253\tvalid_1's l2: 0.0931719\n",
      "[99]\ttraining's l2: 0.0725882\tvalid_1's l2: 0.093399\n",
      "[100]\ttraining's l2: 0.0718401\tvalid_1's l2: 0.0930803\n",
      "Did not meet early stopping. Best iteration is:\n",
      "[100]\ttraining's l2: 0.0718401\tvalid_1's l2: 0.0930803\n",
      "RMSE:  0.307\n",
      "R2: 0.7324906316464928\n"
     ]
    }
   ],
   "source": [
    "X_tr, X_val, y_tr, y_val = train_test_split(X_train, y_train, test_size=0.1, random_state=32)\n",
    "lgbm = LGBMRegressor(n_estimators=100, learning_rate=0.05)\n",
    "\n",
    "evals = [(X_tr, y_tr), (X_val, y_val)]\n",
    "lgbm.fit(X_tr, y_tr, early_stopping_rounds=100, eval_metric='logloss', eval_set=evals, verbose=True)\n",
    "preds = lgbm.predict(X_test)\n",
    "\n",
    "mse = mean_squared_error(y_test, preds)\n",
    "rmse = np.sqrt(mse)\n",
    "print('RMSE: ', np.round(rmse,3))\n",
    "print(f'R2: {r2_score(y_test, preds)}')"
   ]
  },
  {
   "cell_type": "code",
   "execution_count": 48,
   "id": "3b68fb32-9944-4710-ae24-6e97b512d08e",
   "metadata": {},
   "outputs": [],
   "source": [
    "from lightgbm import plot_importance"
   ]
  },
  {
   "cell_type": "code",
   "execution_count": 49,
   "id": "894efc1f-621f-4ec1-bfa7-88b1a466d055",
   "metadata": {
    "tags": []
   },
   "outputs": [
    {
     "data": {
      "text/plain": [
       "<AxesSubplot:title={'center':'Feature importance'}, xlabel='Feature importance', ylabel='Features'>"
      ]
     },
     "execution_count": 49,
     "metadata": {},
     "output_type": "execute_result"
    },
    {
     "data": {
      "image/png": "[encoded data removed]",
      "text/plain": [
       "<Figure size 1000x1200 with 1 Axes>"
      ]
     },
     "metadata": {},
     "output_type": "display_data"
    }
   ],
   "source": [
    "fig, ax = plt.subplots(figsize=(10,12))\n",
    "plot_importance(lgbm, ax=ax)"
   ]
  },
  {
   "cell_type": "code",
   "execution_count": 50,
   "id": "0e24b99b-230b-458b-aaaa-9e09f2b04849",
   "metadata": {
    "tags": []
   },
   "outputs": [
    {
     "name": "stdout",
     "output_type": "stream",
     "text": [
      "9337.000000000007, 9951.421875\n",
      "7968.0000000000055, 7764.669921875\n",
      "2553.0000000000005, 1567.0406494140625\n",
      "12961.00000000001, 11381.662109375\n",
      "12360.0, 11439.2978515625\n",
      "7135.000000000004, 5218.28076171875\n",
      "1245.0, 1280.01123046875\n",
      "7810.000000000003, 9910.474609375\n",
      "6832.0, 4027.899658203125\n",
      "3422.9999999999973, 4199.875\n",
      "6723.999999999995, 9333.0224609375\n",
      "1650.0000000000007, 1112.1348876953125\n",
      "9233.000000000005, 9066.990234375\n",
      "10804.999999999995, 8948.74609375\n",
      "10514.000000000005, 9656.833984375\n",
      "2708.000000000001, 2507.501220703125\n",
      "6105.000000000004, 4978.03271484375\n",
      "12763.999999999998, 11859.095703125\n",
      "8104.999999999997, 9090.5078125\n",
      "5853.000000000004, 7435.52392578125\n",
      "7522.000000000001, 6924.59619140625\n",
      "9205.999999999995, 9031.87890625\n",
      "4140.999999999998, 4594.86328125\n",
      "4547.999999999996, 4606.294921875\n",
      "5841.0, 6498.37841796875\n",
      "7479.999999999995, 6874.49609375\n",
      "3591.9999999999977, 4180.0146484375\n",
      "2670.0000000000005, 3727.4013671875\n",
      "10020.999999999998, 9111.8359375\n",
      "4722.000000000004, 5464.90576171875\n",
      "1723.9999999999993, 2427.34619140625\n",
      "2442.999999999999, 2846.43408203125\n",
      "6166.000000000004, 4586.04443359375\n",
      "11192.000000000002, 9593.6923828125\n",
      "7037.9999999999945, 3250.147705078125\n",
      "6760.999999999998, 8822.5146484375\n",
      "11849.999999999993, 14157.9560546875\n",
      "2998.0000000000023, 2860.01416015625\n",
      "11356.999999999993, 9548.60546875\n",
      "9138.000000000005, 8876.126953125\n",
      "11470.000000000004, 8381.42578125\n",
      "10485.00000000001, 10388.9306640625\n",
      "4499.000000000001, 3857.9892578125\n",
      "6020.000000000001, 5802.90625\n",
      "2588.0000000000005, 3750.857177734375\n",
      "10032.000000000007, 9762.4150390625\n",
      "9267.000000000004, 8266.5224609375\n",
      "6656.999999999995, 6257.55712890625\n",
      "2579.0000000000005, 5894.13037109375\n",
      "6704.999999999999, 5273.220703125\n",
      "9514.000000000005, 8402.46875\n",
      "7823.0000000000055, 7839.6669921875\n",
      "1899.9999999999993, 1482.6455078125\n",
      "6854.999999999997, 3814.391357421875\n",
      "9940.99999999999, 10892.7880859375\n",
      "7696.999999999996, 6969.2490234375\n",
      "9383.000000000005, 9859.591796875\n",
      "6367.000000000002, 6280.8359375\n",
      "4266.000000000003, 5897.701171875\n",
      "6968.000000000004, 5545.39794921875\n",
      "9785.999999999996, 6627.68603515625\n",
      "3961.0000000000014, 3237.979248046875\n",
      "1664.0000000000005, 1496.482421875\n",
      "1664.9999999999993, 1591.8809814453125\n",
      "5957.000000000005, 4142.7646484375\n",
      "10893.000000000002, 9349.8525390625\n",
      "9012.999999999996, 9506.8857421875\n",
      "8771.999999999993, 7014.75830078125\n",
      "4980.999999999998, 6430.8544921875\n",
      "2225.0000000000005, 2159.4091796875\n",
      "4126.999999999997, 3428.2265625\n",
      "8329.999999999995, 7668.95849609375\n",
      "9438.000000000004, 8950.333984375\n"
     ]
    }
   ],
   "source": [
    "for solve, predd in zip(np.expm1(y_test), np.expm1(pred)):\n",
    "    print(f'{solve}, {predd}')"
   ]
  },
  {
   "cell_type": "code",
   "execution_count": null,
   "id": "ae1d6007-acf3-42aa-a188-dea0d5333bfc",
   "metadata": {},
   "outputs": [],
   "source": [
    "from hyperopt import hp"
   ]
  },
  {
   "cell_type": "code",
   "execution_count": null,
   "id": "881c55f9-5c6d-4109-b01d-e8b1fee513c4",
   "metadata": {},
   "outputs": [],
   "source": [
    "lgb_space = {\n",
    "    'max_depth': hp.quniform('max_depth', 5, 20, 1),\n",
    "    'min_child_weight': hp.quniform('min_child_weight', 1,2,1),\n",
    "    'learning_rate':hp.uniform('learning_rate',0.01,0.2),\n",
    "    'colsample_bytree' : hp.uniform('colsample_bytree',0.5,1)\n",
    "}\n"
   ]
  },
  {
   "cell_type": "code",
   "execution_count": null,
   "id": "85f6a9fb-1c6a-4edf-a478-22de5dd625dc",
   "metadata": {},
   "outputs": [],
   "source": [
    "from hyperopt import STATUS_OK"
   ]
  },
  {
   "cell_type": "code",
   "execution_count": null,
   "id": "05f8fcbe-2f05-4f36-bb97-c0045df155e6",
   "metadata": {},
   "outputs": [],
   "source": [
    "# def objective_func(lgb_space):\n",
    "#     max_depth=lgb_space[max_depth]\n",
    "#     min_child_weight=lgb_space[min_child_weight]\n",
    "#     learning_rate=lgb_space[learning_rate]\n",
    "#     colsample_bytree=lgb_space[colsample_bytree]\n",
    "#     reval = "
   ]
  },
  {
   "cell_type": "code",
   "execution_count": null,
   "id": "e40ca35e-2444-4a05-80ff-58f6ced2378d",
   "metadata": {},
   "outputs": [],
   "source": [
    "from hyperopt import fmin, tpe, Trials"
   ]
  },
  {
   "cell_type": "code",
   "execution_count": null,
   "id": "0402863c-82b7-468c-adf3-57718130a89d",
   "metadata": {},
   "outputs": [],
   "source": [
    "# trival_val = Trials()\n",
    "\n",
    "# best_01 = fmin(fn=objective_func, space=search_space, algo=tpe.suggest, max_evals=5,\n",
    "#               trials=trial_val, rstate=np.random.default_rng(seed=0))\n",
    "# print('best:',best_01)"
   ]
  },
  {
   "cell_type": "code",
   "execution_count": null,
   "id": "73c17321-5a5d-4b10-9d58-d898132a498f",
   "metadata": {},
   "outputs": [],
   "source": []
  }
 ],
 "metadata": {
  "kernelspec": {
   "display_name": "Python 3 (ipykernel)",
   "language": "python",
   "name": "python3"
  },
  "language_info": {
   "codemirror_mode": {
    "name": "ipython",
    "version": 3
   },
   "file_extension": ".py",
   "mimetype": "text/x-python",
   "name": "python",
   "nbconvert_exporter": "python",
   "pygments_lexer": "ipython3",
   "version": "3.9.13"
  }
 },
 "nbformat": 4,
 "nbformat_minor": 5
}
