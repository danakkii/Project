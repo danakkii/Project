{
 "cells": [
  {
   "cell_type": "markdown",
   "id": "c7bebcdf-6f3a-4075-a8ef-74bc8afe4ddb",
   "metadata": {},
   "source": [
    "# 년도별_최종모델  \n",
    "RandomForestRegressor(GridSearchCV)  LinearRegression\n",
    "\n",
    "- 2018년도 따릉이 대여량 예측  \n",
    "GridSearchCV 적용x  \n",
    "MSE: 0.12181167171620916, RMSE: 0.3490152886568283, R2: 0.8525091786961643  \n",
    "\n",
    "GridSearchCV 적용  \n",
    "MSE: 0.12764259397293237, RMSE: 0.35727103713138064, R2: 0.845449038231082  \n",
    "\n",
    "- 2019년도 따릉이 대여량 예측  \n",
    "GridSearchCV 적용x  \n",
    "MSE: 0.09997509409117666, RMSE: 0.3161883838650254, R2: 0.8520659187617342  \n",
    "\n",
    "GridSearchCV 적용  \n",
    "MSE: 0.10226405823801585, RMSE: 0.3197875204538411, R2: 0.848678917117693   \n",
    "\n",
    "- 2020년도 따릉이 대여량 예측  \n",
    "GridSearchCV 적용x  \n",
    "MSE: 0.08272126080291224, RMSE: 0.2876130400432363, R2: 0.7891291366019999  \n",
    " \n",
    "GridSearchCV 적용  \n",
    "MSE: 0.08079109597279237, RMSE: 0.28423774551032516, R2: 0.7940494620452685  \n",
    "\n",
    "- 2021년도 따릉이 대여량 예측  \n",
    "GridSearchCV 적용x  \n",
    "MSE: 0.08272126080291224, RMSE: 0.2876130400432363, R2: 0.7891291366019999  "
   ]
  },
  {
   "cell_type": "markdown",
   "id": "9ac77b6f-c50d-4aec-b105-0633cf841eaf",
   "metadata": {},
   "source": [
    "## import"
   ]
  },
  {
   "cell_type": "code",
   "execution_count": 1,
   "id": "fac69ff7-afb9-41d9-a390-e2d301a66edc",
   "metadata": {},
   "outputs": [],
   "source": [
    "import pandas as pd\n",
    "import numpy as np\n",
    "import matplotlib.pyplot as plt\n",
    "import seaborn as sns\n",
    "import warnings \n",
    "warnings.filterwarnings('ignore')\n",
    "\n",
    "from scipy.stats import skew\n",
    "from sklearn.ensemble import RandomForestRegressor\n",
    "from sklearn.metrics import accuracy_score\n",
    "from sklearn.model_selection import train_test_split\n",
    "from sklearn.linear_model import LinearRegression,Ridge,Lasso, LogisticRegression\n",
    "from sklearn.metrics import mean_squared_error, mean_absolute_error, r2_score"
   ]
  },
  {
   "cell_type": "markdown",
   "id": "6cd49d7d-ffb3-4011-888e-b4d6afdf3322",
   "metadata": {},
   "source": [
    "# 2018년도 따릉이 대여량 예측"
   ]
  },
  {
   "cell_type": "code",
   "execution_count": 2,
   "id": "9f1939bf-7b5f-479f-ab9f-4fe4c6c75e01",
   "metadata": {},
   "outputs": [],
   "source": [
    "test5 = pd.read_csv('2018_전처리_최종.csv')"
   ]
  },
  {
   "cell_type": "code",
   "execution_count": 3,
   "id": "4f3679cf-ad43-4cfb-907e-f5528404566f",
   "metadata": {},
   "outputs": [
    {
     "name": "stdout",
     "output_type": "stream",
     "text": [
      "MSE: 0.12181167171620916, RMSE: 0.3490152886568283, R2: 0.8525091786961643\n"
     ]
    }
   ],
   "source": [
    "test5[[ '강수여부','휴일여부','요일', '계절', 'month','day',]]= test5[[ '강수여부','휴일여부','요일', '계절', 'month','day']].astype('str')\n",
    "\n",
    "# 왜곡도 확인\n",
    "features_index = test5.dtypes[test5.dtypes != 'object'].index\n",
    "skew_features= test5[features_index].apply(lambda x : skew(x))\n",
    "skew_features_top = skew_features[skew_features>2]\n",
    "skew_features_top.sort_values(ascending=False)\n",
    "\n",
    "log_test = np.log1p(test5['영등포구'])\n",
    "test5 = pd.get_dummies(test5)\n",
    "X = test5.drop(columns=['영등포구'])\n",
    "y = log_test\n",
    "X_train, X_test, y_train, y_test = train_test_split(X,y, test_size=0.2, random_state=32)\n",
    "\n",
    "rf_clf = RandomForestRegressor(random_state=32, max_depth=8)\n",
    "rf_clf.fit(X_train,y_train)\n",
    "pred = rf_clf.predict(X_test)\n",
    "mse = mean_squared_error(y_test, pred)\n",
    "rmse = np.sqrt(mse)\n",
    "print(f'MSE: {mse}, RMSE: {rmse}, R2: {r2_score(y_test, pred)}')"
   ]
  },
  {
   "cell_type": "markdown",
   "id": "dcf89d74-702b-4f12-8c59-0844ba074e3d",
   "metadata": {},
   "source": [
    "## GridSearchCV \n",
    "RandomForestRegressor - 하이퍼 파라미터 수정"
   ]
  },
  {
   "cell_type": "code",
   "execution_count": 4,
   "id": "420d78d9-614f-41e0-baa2-f9a8daf2f9c6",
   "metadata": {},
   "outputs": [
    {
     "name": "stdout",
     "output_type": "stream",
     "text": [
      "최적 하이퍼 파라미너:\n",
      " {'max_depth': 12, 'min_samples_leaf': 1, 'min_samples_split': 2}\n",
      "MSE: 0.12764259397293237, RMSE: 0.35727103713138064, R2: 0.845449038231082\n"
     ]
    }
   ],
   "source": [
    "from sklearn.model_selection import GridSearchCV\n",
    "\n",
    "params = {\n",
    "    'max_depth': [6, 12, 18, 26, 30],\n",
    "    'min_samples_leaf': [1, 6, 12, 18, 24],\n",
    "    'min_samples_split':[2, 6, 12, 18, 24]\n",
    "}\n",
    "\n",
    "rf_clf = RandomForestRegressor(n_estimators=100, random_state=32, n_jobs=-1)\n",
    "grid_cv = GridSearchCV(rf_clf, param_grid=params, cv=2, n_jobs=-1)\n",
    "grid_cv.fit(X_train, y_train)\n",
    "print('최적 하이퍼 파라미너:\\n', grid_cv.best_params_)\n",
    "\n",
    "rf_clf1 = RandomForestRegressor(n_estimators=100, max_depth=12, min_samples_leaf=1, min_samples_split=2, random_state=32)\n",
    "rf_clf1.fit(X_train,y_train)\n",
    "pred = rf_clf1.predict(X_test)\n",
    "mse = mean_squared_error(y_test, pred)\n",
    "rmse = np.sqrt(mse)\n",
    "print(f'MSE: {mse}, RMSE: {rmse}, R2: {r2_score(y_test, pred)}')"
   ]
  },
  {
   "cell_type": "code",
   "execution_count": 5,
   "id": "501a800e-ae6c-42ea-987b-b703fbf7532c",
   "metadata": {},
   "outputs": [],
   "source": [
    "import numpy as np\n",
    "import pandas as pd\n",
    "from sklearn.datasets import load_boston\n",
    "from sklearn.model_selection import train_test_split\n",
    "from sklearn.ensemble import RandomForestRegressor\n",
    "from sklearn.inspection import permutation_importance\n",
    "from matplotlib import pyplot as plt"
   ]
  },
  {
   "cell_type": "code",
   "execution_count": 6,
   "id": "65351a39-c2cd-4676-a652-c9204e1f9c2a",
   "metadata": {},
   "outputs": [
    {
     "ename": "AttributeError",
     "evalue": "'RandomForestRegressor' object has no attribute 'feature_names'",
     "output_type": "error",
     "traceback": [
      "\u001b[1;31m---------------------------------------------------------------------------\u001b[0m",
      "\u001b[1;31mAttributeError\u001b[0m                            Traceback (most recent call last)",
      "\u001b[1;32m~\\AppData\\Local\\Temp\\ipykernel_8824\\3761022163.py\u001b[0m in \u001b[0;36m<module>\u001b[1;34m\u001b[0m\n\u001b[1;32m----> 1\u001b[1;33m \u001b[0mplt\u001b[0m\u001b[1;33m.\u001b[0m\u001b[0mbarh\u001b[0m\u001b[1;33m(\u001b[0m\u001b[0mrf_clf1\u001b[0m\u001b[1;33m.\u001b[0m\u001b[0mfeature_names\u001b[0m\u001b[1;33m[\u001b[0m\u001b[0mX\u001b[0m\u001b[1;33m]\u001b[0m\u001b[1;33m,\u001b[0m \u001b[0mrf_clf1\u001b[0m\u001b[1;33m.\u001b[0m\u001b[0mfeature_importances_\u001b[0m\u001b[1;33m[\u001b[0m\u001b[0my\u001b[0m\u001b[1;33m]\u001b[0m\u001b[1;33m)\u001b[0m\u001b[1;33m\u001b[0m\u001b[1;33m\u001b[0m\u001b[0m\n\u001b[0m",
      "\u001b[1;31mAttributeError\u001b[0m: 'RandomForestRegressor' object has no attribute 'feature_names'"
     ]
    }
   ],
   "source": [
    "\n",
    "plt.barh(rf_clf1.feature_names[X], rf_clf1.feature_importances_[y])"
   ]
  },
  {
   "cell_type": "markdown",
   "id": "d8329549-4b62-469e-8e1f-4f0842051975",
   "metadata": {},
   "source": [
    "# 2019년도 따릉이 대여량 예측"
   ]
  },
  {
   "cell_type": "code",
   "execution_count": 7,
   "id": "96b70215-774a-45b7-8ab3-b320d1f23b3b",
   "metadata": {},
   "outputs": [],
   "source": [
    "test5 = pd.read_csv('2019_전처리_최종.csv')"
   ]
  },
  {
   "cell_type": "code",
   "execution_count": 8,
   "id": "5ebfac1f-daea-4960-b4ed-93eb67b35439",
   "metadata": {},
   "outputs": [
    {
     "name": "stdout",
     "output_type": "stream",
     "text": [
      "MSE: 0.09997509409117666, RMSE: 0.3161883838650254, R2: 0.8520659187617342\n"
     ]
    }
   ],
   "source": [
    "test5[[ '강수여부','휴일여부','요일', '계절', 'month','day',]]= test5[[ '강수여부','휴일여부','요일', '계절', 'month','day']].astype('str')\n",
    "\n",
    "# 왜곡도 확인\n",
    "features_index = test5.dtypes[test5.dtypes != 'object'].index\n",
    "skew_features= test5[features_index].apply(lambda x : skew(x))\n",
    "skew_features_top = skew_features[skew_features>2]\n",
    "skew_features_top.sort_values(ascending=False)\n",
    "\n",
    "log_test = np.log1p(test5['영등포구'])\n",
    "test5 = pd.get_dummies(test5)\n",
    "X = test5.drop(columns=['영등포구'])\n",
    "y = log_test\n",
    "X_train, X_test, y_train, y_test = train_test_split(X,y, test_size=0.2, random_state=32)\n",
    "\n",
    "rf_clf = RandomForestRegressor(random_state=32, max_depth=8)\n",
    "rf_clf.fit(X_train,y_train)\n",
    "pred = rf_clf.predict(X_test)\n",
    "mse = mean_squared_error(y_test, pred)\n",
    "rmse = np.sqrt(mse)\n",
    "print(f'MSE: {mse}, RMSE: {rmse}, R2: {r2_score(y_test, pred)}')"
   ]
  },
  {
   "cell_type": "markdown",
   "id": "bc4f1597-1b29-413c-a688-6d3bbddbacd7",
   "metadata": {},
   "source": [
    "## GridSearchCV \n",
    "RandomForestRegressor - 하이퍼 파라미터 수정"
   ]
  },
  {
   "cell_type": "code",
   "execution_count": 9,
   "id": "230a95f5-829f-4648-a945-8a96571b461a",
   "metadata": {},
   "outputs": [
    {
     "name": "stdout",
     "output_type": "stream",
     "text": [
      "최적 하이퍼 파라미너:\n",
      " {'max_depth': 12, 'min_samples_leaf': 1, 'min_samples_split': 2}\n",
      "MSE: 0.10226405823801585, RMSE: 0.3197875204538411, R2: 0.848678917117693\n"
     ]
    }
   ],
   "source": [
    "from sklearn.model_selection import GridSearchCV\n",
    "\n",
    "params = {\n",
    "    'max_depth': [6, 12, 18, 26, 30],\n",
    "    'min_samples_leaf': [1, 6, 12, 18, 24],\n",
    "    'min_samples_split':[2, 6, 12, 18, 24]\n",
    "}\n",
    "\n",
    "rf_clf = RandomForestRegressor(n_estimators=100, random_state=32, n_jobs=-1)\n",
    "grid_cv = GridSearchCV(rf_clf, param_grid=params, cv=2, n_jobs=-1)\n",
    "grid_cv.fit(X_train, y_train)\n",
    "print('최적 하이퍼 파라미너:\\n', grid_cv.best_params_)\n",
    "\n",
    "rf_clf1    = RandomForestRegressor(n_estimators=100, max_depth=12, min_samples_leaf=1, min_samples_split=2, random_state=32)\n",
    "rf_clf1.fit(X_train,y_train)\n",
    "pred = rf_clf1.predict(X_test)\n",
    "mse = mean_squared_error(y_test, pred)\n",
    "rmse = np.sqrt(mse)\n",
    "print(f'MSE: {mse}, RMSE: {rmse}, R2: {r2_score(y_test, pred)}')"
   ]
  },
  {
   "cell_type": "markdown",
   "id": "00056e69-f582-4230-9314-ddc5679a8955",
   "metadata": {},
   "source": [
    "# 2020년도 따릉이 대여량 예측"
   ]
  },
  {
   "cell_type": "code",
   "execution_count": 10,
   "id": "f1b0012d-0838-4b52-b4d7-920d4fb0c3c2",
   "metadata": {},
   "outputs": [],
   "source": [
    "test5 = pd.read_csv('2020_전처리_최종.csv')"
   ]
  },
  {
   "cell_type": "code",
   "execution_count": 11,
   "id": "5eeb4845-3cc0-4af5-acb5-dd451116948a",
   "metadata": {},
   "outputs": [
    {
     "name": "stdout",
     "output_type": "stream",
     "text": [
      "MSE: 0.08272126080291224, RMSE: 0.2876130400432363, R2: 0.7891291366019999\n"
     ]
    }
   ],
   "source": [
    "test5[[ '강수여부','휴일여부','요일', '계절', 'month','day',]]= test5[[ '강수여부','휴일여부','요일', '계절', 'month','day']].astype('str')\n",
    "\n",
    "# 왜곡도 확인\n",
    "features_index = test5.dtypes[test5.dtypes != 'object'].index\n",
    "skew_features= test5[features_index].apply(lambda x : skew(x))\n",
    "skew_features_top = skew_features[skew_features>2]\n",
    "skew_features_top.sort_values(ascending=False)\n",
    "\n",
    "log_test = np.log1p(test5['영등포구'])\n",
    "test5 = pd.get_dummies(test5)\n",
    "X = test5.drop(columns=['영등포구'])\n",
    "y = log_test\n",
    "X_train, X_test, y_train, y_test = train_test_split(X,y, test_size=0.2, random_state=32)\n",
    "\n",
    "rf_clf = RandomForestRegressor(random_state=32, max_depth=8)\n",
    "rf_clf.fit(X_train,y_train)\n",
    "pred = rf_clf.predict(X_test)\n",
    "mse = mean_squared_error(y_test, pred)\n",
    "rmse = np.sqrt(mse)\n",
    "print(f'MSE: {mse}, RMSE: {rmse}, R2: {r2_score(y_test, pred)}')"
   ]
  },
  {
   "cell_type": "markdown",
   "id": "a18cfc6c-9b38-48d8-853b-0e0db5daeda0",
   "metadata": {},
   "source": [
    "## GridSearchCV \n",
    "RandomForestRegressor - 하이퍼 파라미터 수정"
   ]
  },
  {
   "cell_type": "code",
   "execution_count": 12,
   "id": "f7fa9c69-40b2-4ae1-b70f-65cb701f1f07",
   "metadata": {},
   "outputs": [
    {
     "name": "stdout",
     "output_type": "stream",
     "text": [
      "최적 하이퍼 파라미너:\n",
      " {'max_depth': 26, 'min_samples_leaf': 1, 'min_samples_split': 2}\n",
      "MSE: 0.08079109597279237, RMSE: 0.28423774551032516, R2: 0.7940494620452685\n"
     ]
    }
   ],
   "source": [
    "from sklearn.model_selection import GridSearchCV\n",
    "\n",
    "params = {\n",
    "    'max_depth': [6, 12, 18, 26, 30],\n",
    "    'min_samples_leaf': [1, 6, 12, 18, 24],\n",
    "    'min_samples_split':[2, 6, 12, 18, 24]\n",
    "}\n",
    "\n",
    "rf_clf = RandomForestRegressor(n_estimators=100, random_state=32, n_jobs=-1)\n",
    "grid_cv = GridSearchCV(rf_clf, param_grid=params, cv=2, n_jobs=-1)\n",
    "grid_cv.fit(X_train, y_train)\n",
    "print('최적 하이퍼 파라미너:\\n', grid_cv.best_params_)\n",
    "\n",
    "rf_clf1    = RandomForestRegressor(n_estimators=100, max_depth=12, min_samples_leaf=1, min_samples_split=2, random_state=32)\n",
    "rf_clf1.fit(X_train,y_train)\n",
    "pred = rf_clf1.predict(X_test)\n",
    "mse = mean_squared_error(y_test, pred)\n",
    "rmse = np.sqrt(mse)\n",
    "print(f'MSE: {mse}, RMSE: {rmse}, R2: {r2_score(y_test, pred)}')"
   ]
  },
  {
   "cell_type": "markdown",
   "id": "775b5fef-77d9-4894-8a91-1cfd2036cf9f",
   "metadata": {},
   "source": [
    "# 2021년도 따릉이 대여량 예측"
   ]
  },
  {
   "cell_type": "code",
   "execution_count": 13,
   "id": "61042561-a24b-48f3-9359-f8f937834dea",
   "metadata": {},
   "outputs": [],
   "source": [
    "test5 = pd.read_csv('2020_전처리_최종.csv')"
   ]
  },
  {
   "cell_type": "code",
   "execution_count": 14,
   "id": "3cc4670b-4039-4561-9c52-8ad86b25c3df",
   "metadata": {},
   "outputs": [
    {
     "name": "stdout",
     "output_type": "stream",
     "text": [
      "MSE: 0.08272126080291224, RMSE: 0.2876130400432363, R2: 0.7891291366019999\n"
     ]
    }
   ],
   "source": [
    "test5[[ '강수여부','휴일여부','요일', '계절', 'month','day',]]= test5[[ '강수여부','휴일여부','요일', '계절', 'month','day']].astype('str')\n",
    "\n",
    "# 왜곡도 확인\n",
    "features_index = test5.dtypes[test5.dtypes != 'object'].index\n",
    "skew_features= test5[features_index].apply(lambda x : skew(x))\n",
    "skew_features_top = skew_features[skew_features>2]\n",
    "skew_features_top.sort_values(ascending=False)\n",
    "\n",
    "log_test = np.log1p(test5['영등포구'])\n",
    "test5 = pd.get_dummies(test5)\n",
    "X = test5.drop(columns=['영등포구'])\n",
    "y = log_test\n",
    "X_train, X_test, y_train, y_test = train_test_split(X,y, test_size=0.2, random_state=32)\n",
    "\n",
    "rf_clf = RandomForestRegressor(random_state=32, max_depth=8)\n",
    "rf_clf.fit(X_train,y_train)\n",
    "pred = rf_clf.predict(X_test)\n",
    "mse = mean_squared_error(y_test, pred)\n",
    "rmse = np.sqrt(mse)\n",
    "print(f'MSE: {mse}, RMSE: {rmse}, R2: {r2_score(y_test, pred)}')"
   ]
  },
  {
   "cell_type": "markdown",
   "id": "dadadc36-15a8-47dc-8934-23f22d690358",
   "metadata": {},
   "source": [
    "## GridSearchCV \n",
    "RandomForestRegressor - 하이퍼 파라미터 수정"
   ]
  },
  {
   "cell_type": "code",
   "execution_count": 15,
   "id": "0d46f2fb-40e9-4bc6-8f85-9b2602bfb604",
   "metadata": {},
   "outputs": [
    {
     "name": "stdout",
     "output_type": "stream",
     "text": [
      "최적 하이퍼 파라미너:\n",
      " {'max_depth': 30, 'min_samples_leaf': 1, 'min_samples_split': 2}\n",
      "MSE: 0.08079109597279237, RMSE: 0.28423774551032516, R2: 0.7940494620452685\n"
     ]
    }
   ],
   "source": [
    "from sklearn.model_selection import GridSearchCV\n",
    "\n",
    "params = {\n",
    "    'max_depth': [6, 12, 18, 26, 30],\n",
    "    'min_samples_leaf': [1, 6, 12, 18, 24],\n",
    "    'min_samples_split':[2, 6, 12, 18, 24]\n",
    "}\n",
    "\n",
    "rf_clf = RandomForestRegressor(n_estimators=100, random_state=32, n_jobs=-1)\n",
    "grid_cv = GridSearchCV(rf_clf, param_grid=params, cv=2, n_jobs=-1)\n",
    "grid_cv.fit(X_train, y_train)\n",
    "print('최적 하이퍼 파라미너:\\n', grid_cv.best_params_)\n",
    "\n",
    "rf_clf1    = RandomForestRegressor(n_estimators=100, max_depth=12, min_samples_leaf=1, min_samples_split=2, random_state=32)\n",
    "rf_clf1.fit(X_train,y_train)\n",
    "pred = rf_clf1.predict(X_test)\n",
    "mse = mean_squared_error(y_test, pred)\n",
    "rmse = np.sqrt(mse)\n",
    "print(f'MSE: {mse}, RMSE: {rmse}, R2: {r2_score(y_test, pred)}')"
   ]
  },
  {
   "cell_type": "code",
   "execution_count": null,
   "id": "59f91d7a-e8ff-4a22-9cf3-b84644786729",
   "metadata": {},
   "outputs": [],
   "source": []
  }
 ],
 "metadata": {
  "kernelspec": {
   "display_name": "Python 3 (ipykernel)",
   "language": "python",
   "name": "python3"
  },
  "language_info": {
   "codemirror_mode": {
    "name": "ipython",
    "version": 3
   },
   "file_extension": ".py",
   "mimetype": "text/x-python",
   "name": "python",
   "nbconvert_exporter": "python",
   "pygments_lexer": "ipython3",
   "version": "3.9.13"
  }
 },
 "nbformat": 4,
 "nbformat_minor": 5
}
