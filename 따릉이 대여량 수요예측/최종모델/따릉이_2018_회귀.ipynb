{
 "cells": [
  {
   "cell_type": "markdown",
   "id": "a3610328-bb32-4af5-bd30-af5a968458dd",
   "metadata": {},
   "source": [
    "# import"
   ]
  },
  {
   "cell_type": "code",
   "execution_count": 1,
   "id": "602acea3-fbe7-4974-88cb-f1674839db53",
   "metadata": {},
   "outputs": [],
   "source": [
    "import pandas as pd\n",
    "import numpy as np\n",
    "import matplotlib.pyplot as plt\n",
    "import seaborn as sns\n",
    "import warnings \n",
    "warnings.filterwarnings('ignore')\n",
    "\n",
    "from scipy.stats import skew\n",
    "from sklearn.model_selection import train_test_split\n",
    "from sklearn.linear_model import LinearRegression,Ridge,Lasso, LogisticRegression\n",
    "from sklearn.metrics import mean_squared_error, mean_absolute_error, r2_score"
   ]
  },
  {
   "cell_type": "markdown",
   "id": "e48d9188-9426-45ea-9944-d6290afd016f",
   "metadata": {
    "tags": []
   },
   "source": [
    "## 전처리\n"
   ]
  },
  {
   "cell_type": "code",
   "execution_count": 2,
   "id": "a73771c1-86a3-478a-af57-3fd26d79e047",
   "metadata": {},
   "outputs": [
    {
     "data": {
      "text/html": [
       "<div>\n",
       "<style scoped>\n",
       "    .dataframe tbody tr th:only-of-type {\n",
       "        vertical-align: middle;\n",
       "    }\n",
       "\n",
       "    .dataframe tbody tr th {\n",
       "        vertical-align: top;\n",
       "    }\n",
       "\n",
       "    .dataframe thead th {\n",
       "        text-align: right;\n",
       "    }\n",
       "</style>\n",
       "<table border=\"1\" class=\"dataframe\">\n",
       "  <thead>\n",
       "    <tr style=\"text-align: right;\">\n",
       "      <th></th>\n",
       "      <th>총생활인구수</th>\n",
       "      <th>기온</th>\n",
       "      <th>기압</th>\n",
       "      <th>풍속</th>\n",
       "      <th>운량</th>\n",
       "      <th>일강수량</th>\n",
       "      <th>최대순간풍속풍향</th>\n",
       "      <th>최대풍속풍향</th>\n",
       "      <th>평균풍속</th>\n",
       "      <th>최다풍향</th>\n",
       "      <th>일최심적설</th>\n",
       "      <th>일최심신적설</th>\n",
       "      <th>강수여부</th>\n",
       "      <th>일 미세먼지 농도(㎍/㎥)</th>\n",
       "      <th>휴일여부</th>\n",
       "      <th>요일</th>\n",
       "      <th>계절</th>\n",
       "      <th>month</th>\n",
       "      <th>day</th>\n",
       "      <th>영등포구</th>\n",
       "    </tr>\n",
       "  </thead>\n",
       "  <tbody>\n",
       "    <tr>\n",
       "      <th>0</th>\n",
       "      <td>10534264.0</td>\n",
       "      <td>2.849341</td>\n",
       "      <td>-1.158559</td>\n",
       "      <td>-0.744387</td>\n",
       "      <td>-1.876387</td>\n",
       "      <td>0.0</td>\n",
       "      <td>320</td>\n",
       "      <td>290</td>\n",
       "      <td>1.4</td>\n",
       "      <td>290</td>\n",
       "      <td>0.0</td>\n",
       "      <td>0.0</td>\n",
       "      <td>0.0</td>\n",
       "      <td>38.0</td>\n",
       "      <td>1</td>\n",
       "      <td>0</td>\n",
       "      <td>4</td>\n",
       "      <td>1</td>\n",
       "      <td>1</td>\n",
       "      <td>421.0</td>\n",
       "    </tr>\n",
       "    <tr>\n",
       "      <th>1</th>\n",
       "      <td>12237724.0</td>\n",
       "      <td>2.938423</td>\n",
       "      <td>-1.146482</td>\n",
       "      <td>0.305281</td>\n",
       "      <td>-1.743011</td>\n",
       "      <td>0.0</td>\n",
       "      <td>270</td>\n",
       "      <td>290</td>\n",
       "      <td>1.8</td>\n",
       "      <td>290</td>\n",
       "      <td>0.0</td>\n",
       "      <td>0.0</td>\n",
       "      <td>0.0</td>\n",
       "      <td>32.0</td>\n",
       "      <td>0</td>\n",
       "      <td>1</td>\n",
       "      <td>4</td>\n",
       "      <td>1</td>\n",
       "      <td>2</td>\n",
       "      <td>820.0</td>\n",
       "    </tr>\n",
       "    <tr>\n",
       "      <th>2</th>\n",
       "      <td>12312633.0</td>\n",
       "      <td>3.383496</td>\n",
       "      <td>-1.194788</td>\n",
       "      <td>-1.028035</td>\n",
       "      <td>-1.345348</td>\n",
       "      <td>0.0</td>\n",
       "      <td>320</td>\n",
       "      <td>270</td>\n",
       "      <td>2.2</td>\n",
       "      <td>290</td>\n",
       "      <td>0.0</td>\n",
       "      <td>0.0</td>\n",
       "      <td>0.0</td>\n",
       "      <td>32.0</td>\n",
       "      <td>0</td>\n",
       "      <td>2</td>\n",
       "      <td>4</td>\n",
       "      <td>1</td>\n",
       "      <td>3</td>\n",
       "      <td>839.0</td>\n",
       "    </tr>\n",
       "    <tr>\n",
       "      <th>3</th>\n",
       "      <td>12368761.0</td>\n",
       "      <td>3.464808</td>\n",
       "      <td>-1.194788</td>\n",
       "      <td>-1.259058</td>\n",
       "      <td>-1.185199</td>\n",
       "      <td>0.0</td>\n",
       "      <td>320</td>\n",
       "      <td>320</td>\n",
       "      <td>1.4</td>\n",
       "      <td>290</td>\n",
       "      <td>0.0</td>\n",
       "      <td>0.0</td>\n",
       "      <td>0.0</td>\n",
       "      <td>40.0</td>\n",
       "      <td>0</td>\n",
       "      <td>3</td>\n",
       "      <td>4</td>\n",
       "      <td>1</td>\n",
       "      <td>4</td>\n",
       "      <td>749.0</td>\n",
       "    </tr>\n",
       "    <tr>\n",
       "      <th>4</th>\n",
       "      <td>12368042.0</td>\n",
       "      <td>3.001599</td>\n",
       "      <td>-1.122329</td>\n",
       "      <td>-0.567700</td>\n",
       "      <td>-0.894191</td>\n",
       "      <td>0.0</td>\n",
       "      <td>250</td>\n",
       "      <td>270</td>\n",
       "      <td>1.7</td>\n",
       "      <td>290</td>\n",
       "      <td>0.0</td>\n",
       "      <td>0.0</td>\n",
       "      <td>0.0</td>\n",
       "      <td>46.0</td>\n",
       "      <td>0</td>\n",
       "      <td>4</td>\n",
       "      <td>4</td>\n",
       "      <td>1</td>\n",
       "      <td>5</td>\n",
       "      <td>878.0</td>\n",
       "    </tr>\n",
       "    <tr>\n",
       "      <th>...</th>\n",
       "      <td>...</td>\n",
       "      <td>...</td>\n",
       "      <td>...</td>\n",
       "      <td>...</td>\n",
       "      <td>...</td>\n",
       "      <td>...</td>\n",
       "      <td>...</td>\n",
       "      <td>...</td>\n",
       "      <td>...</td>\n",
       "      <td>...</td>\n",
       "      <td>...</td>\n",
       "      <td>...</td>\n",
       "      <td>...</td>\n",
       "      <td>...</td>\n",
       "      <td>...</td>\n",
       "      <td>...</td>\n",
       "      <td>...</td>\n",
       "      <td>...</td>\n",
       "      <td>...</td>\n",
       "      <td>...</td>\n",
       "    </tr>\n",
       "    <tr>\n",
       "      <th>360</th>\n",
       "      <td>12149493.0</td>\n",
       "      <td>4.594838</td>\n",
       "      <td>-1.315554</td>\n",
       "      <td>1.358369</td>\n",
       "      <td>-2.501054</td>\n",
       "      <td>0.0</td>\n",
       "      <td>320</td>\n",
       "      <td>290</td>\n",
       "      <td>3.5</td>\n",
       "      <td>290</td>\n",
       "      <td>0.0</td>\n",
       "      <td>0.0</td>\n",
       "      <td>0.0</td>\n",
       "      <td>27.0</td>\n",
       "      <td>0</td>\n",
       "      <td>3</td>\n",
       "      <td>4</td>\n",
       "      <td>12</td>\n",
       "      <td>27</td>\n",
       "      <td>1039.0</td>\n",
       "    </tr>\n",
       "    <tr>\n",
       "      <th>361</th>\n",
       "      <td>12085612.0</td>\n",
       "      <td>4.630677</td>\n",
       "      <td>-1.303478</td>\n",
       "      <td>-0.061580</td>\n",
       "      <td>-1.986330</td>\n",
       "      <td>0.0</td>\n",
       "      <td>340</td>\n",
       "      <td>270</td>\n",
       "      <td>2.5</td>\n",
       "      <td>290</td>\n",
       "      <td>0.0</td>\n",
       "      <td>0.0</td>\n",
       "      <td>0.0</td>\n",
       "      <td>32.0</td>\n",
       "      <td>0</td>\n",
       "      <td>4</td>\n",
       "      <td>4</td>\n",
       "      <td>12</td>\n",
       "      <td>28</td>\n",
       "      <td>991.0</td>\n",
       "    </tr>\n",
       "    <tr>\n",
       "      <th>362</th>\n",
       "      <td>10816455.0</td>\n",
       "      <td>4.096312</td>\n",
       "      <td>-1.291401</td>\n",
       "      <td>0.901454</td>\n",
       "      <td>-2.383556</td>\n",
       "      <td>0.0</td>\n",
       "      <td>340</td>\n",
       "      <td>320</td>\n",
       "      <td>2.9</td>\n",
       "      <td>290</td>\n",
       "      <td>0.0</td>\n",
       "      <td>0.0</td>\n",
       "      <td>0.0</td>\n",
       "      <td>32.0</td>\n",
       "      <td>0</td>\n",
       "      <td>5</td>\n",
       "      <td>4</td>\n",
       "      <td>12</td>\n",
       "      <td>29</td>\n",
       "      <td>580.0</td>\n",
       "    </tr>\n",
       "    <tr>\n",
       "      <th>363</th>\n",
       "      <td>10738495.0</td>\n",
       "      <td>3.869557</td>\n",
       "      <td>-1.255171</td>\n",
       "      <td>-1.540995</td>\n",
       "      <td>-1.852954</td>\n",
       "      <td>0.0</td>\n",
       "      <td>340</td>\n",
       "      <td>340</td>\n",
       "      <td>1.2</td>\n",
       "      <td>290</td>\n",
       "      <td>0.0</td>\n",
       "      <td>0.0</td>\n",
       "      <td>0.0</td>\n",
       "      <td>36.0</td>\n",
       "      <td>0</td>\n",
       "      <td>6</td>\n",
       "      <td>4</td>\n",
       "      <td>12</td>\n",
       "      <td>30</td>\n",
       "      <td>586.0</td>\n",
       "    </tr>\n",
       "    <tr>\n",
       "      <th>364</th>\n",
       "      <td>11596618.0</td>\n",
       "      <td>3.663749</td>\n",
       "      <td>-1.218942</td>\n",
       "      <td>-1.343981</td>\n",
       "      <td>-1.981346</td>\n",
       "      <td>0.0</td>\n",
       "      <td>270</td>\n",
       "      <td>290</td>\n",
       "      <td>1.2</td>\n",
       "      <td>290</td>\n",
       "      <td>0.0</td>\n",
       "      <td>0.0</td>\n",
       "      <td>0.0</td>\n",
       "      <td>55.0</td>\n",
       "      <td>0</td>\n",
       "      <td>0</td>\n",
       "      <td>4</td>\n",
       "      <td>12</td>\n",
       "      <td>31</td>\n",
       "      <td>1112.0</td>\n",
       "    </tr>\n",
       "  </tbody>\n",
       "</table>\n",
       "<p>365 rows × 20 columns</p>\n",
       "</div>"
      ],
      "text/plain": [
       "         총생활인구수        기온        기압        풍속        운량  일강수량  최대순간풍속풍향  \\\n",
       "0    10534264.0  2.849341 -1.158559 -0.744387 -1.876387   0.0       320   \n",
       "1    12237724.0  2.938423 -1.146482  0.305281 -1.743011   0.0       270   \n",
       "2    12312633.0  3.383496 -1.194788 -1.028035 -1.345348   0.0       320   \n",
       "3    12368761.0  3.464808 -1.194788 -1.259058 -1.185199   0.0       320   \n",
       "4    12368042.0  3.001599 -1.122329 -0.567700 -0.894191   0.0       250   \n",
       "..          ...       ...       ...       ...       ...   ...       ...   \n",
       "360  12149493.0  4.594838 -1.315554  1.358369 -2.501054   0.0       320   \n",
       "361  12085612.0  4.630677 -1.303478 -0.061580 -1.986330   0.0       340   \n",
       "362  10816455.0  4.096312 -1.291401  0.901454 -2.383556   0.0       340   \n",
       "363  10738495.0  3.869557 -1.255171 -1.540995 -1.852954   0.0       340   \n",
       "364  11596618.0  3.663749 -1.218942 -1.343981 -1.981346   0.0       270   \n",
       "\n",
       "     최대풍속풍향  평균풍속  최다풍향  일최심적설  일최심신적설  강수여부  일 미세먼지 농도(㎍/㎥)  휴일여부  요일  계절  \\\n",
       "0       290   1.4   290    0.0     0.0   0.0            38.0     1   0   4   \n",
       "1       290   1.8   290    0.0     0.0   0.0            32.0     0   1   4   \n",
       "2       270   2.2   290    0.0     0.0   0.0            32.0     0   2   4   \n",
       "3       320   1.4   290    0.0     0.0   0.0            40.0     0   3   4   \n",
       "4       270   1.7   290    0.0     0.0   0.0            46.0     0   4   4   \n",
       "..      ...   ...   ...    ...     ...   ...             ...   ...  ..  ..   \n",
       "360     290   3.5   290    0.0     0.0   0.0            27.0     0   3   4   \n",
       "361     270   2.5   290    0.0     0.0   0.0            32.0     0   4   4   \n",
       "362     320   2.9   290    0.0     0.0   0.0            32.0     0   5   4   \n",
       "363     340   1.2   290    0.0     0.0   0.0            36.0     0   6   4   \n",
       "364     290   1.2   290    0.0     0.0   0.0            55.0     0   0   4   \n",
       "\n",
       "     month  day    영등포구  \n",
       "0        1    1   421.0  \n",
       "1        1    2   820.0  \n",
       "2        1    3   839.0  \n",
       "3        1    4   749.0  \n",
       "4        1    5   878.0  \n",
       "..     ...  ...     ...  \n",
       "360     12   27  1039.0  \n",
       "361     12   28   991.0  \n",
       "362     12   29   580.0  \n",
       "363     12   30   586.0  \n",
       "364     12   31  1112.0  \n",
       "\n",
       "[365 rows x 20 columns]"
      ]
     },
     "execution_count": 2,
     "metadata": {},
     "output_type": "execute_result"
    }
   ],
   "source": [
    "test5 = pd.read_csv('2018_전처리_최종.csv')\n",
    "test5"
   ]
  },
  {
   "cell_type": "markdown",
   "id": "f80ecd0b-06b5-4b24-a99c-ec7a0a2da94d",
   "metadata": {},
   "source": [
    "# LinearRegression, Ridge, Lasso"
   ]
  },
  {
   "cell_type": "code",
   "execution_count": 3,
   "id": "af1ff9f4-04d8-4e58-968a-f370f9f4c7d0",
   "metadata": {},
   "outputs": [],
   "source": [
    "test5[[ '강수여부','휴일여부','요일', '계절', 'month','day',]]= test5[[ '강수여부','휴일여부','요일', '계절', 'month','day']].astype('str')"
   ]
  },
  {
   "cell_type": "code",
   "execution_count": 4,
   "id": "28bd866f-0fa9-472f-97db-591c4207d645",
   "metadata": {},
   "outputs": [],
   "source": [
    "def get_rmse(model):\n",
    "    import numpy as np\n",
    "    from sklearn.metrics import mean_squared_error\n",
    "    pred = model.predict(X_test)\n",
    "    mse = mean_squared_error(y_test, pred)\n",
    "    rmse = np.sqrt(mse)\n",
    "    print(model.__class__.__name__, 'RMSE: ', np.round(rmse,3))\n",
    "    return rmse\n",
    "def get_rmses(models):\n",
    "    rmses = []\n",
    "    for model in models:\n",
    "        rmse = get_rmse(model)\n",
    "        rmses.append(rmse)\n",
    "    return rmses"
   ]
  },
  {
   "cell_type": "code",
   "execution_count": 5,
   "id": "4fff3c43-574f-4ff9-97e6-e05606daea31",
   "metadata": {},
   "outputs": [],
   "source": [
    "X = test5.drop(columns=['영등포구'])\n",
    "y = test5['영등포구']\n",
    "X_train, X_test, y_train, y_test = train_test_split(X,y, test_size=0.2, random_state=156)"
   ]
  },
  {
   "cell_type": "code",
   "execution_count": 6,
   "id": "22aefe37-67e4-43eb-92b0-d4ec120d5140",
   "metadata": {},
   "outputs": [
    {
     "name": "stdout",
     "output_type": "stream",
     "text": [
      "LinearRegression RMSE:  716.273\n",
      "Ridge RMSE:  718.492\n",
      "Lasso RMSE:  716.556\n"
     ]
    },
    {
     "data": {
      "text/plain": [
       "[716.2730925109762, 718.4919272683057, 716.5562485164104]"
      ]
     },
     "execution_count": 6,
     "metadata": {},
     "output_type": "execute_result"
    }
   ],
   "source": [
    "lr_reg = LinearRegression() #선형회귀\n",
    "lr_reg.fit(X_train, y_train)\n",
    "pred = lr_reg.predict(X_test)\n",
    "mse = mean_squared_error(y_test, pred)\n",
    "rmse = np.sqrt(mse)\n",
    "ridge_reg = Ridge()\n",
    "ridge_reg.fit(X_train, y_train)\n",
    "lasso_reg = Lasso()\n",
    "lasso_reg.fit(X_train, y_train)\n",
    "models = [lr_reg, ridge_reg, lasso_reg]\n",
    "get_rmses(models) # R2 점수 추가함"
   ]
  },
  {
   "cell_type": "code",
   "execution_count": 7,
   "id": "413e3ced-b01c-43c2-9b37-0c452fd14c72",
   "metadata": {},
   "outputs": [
    {
     "data": {
      "text/plain": [
       "일최심신적설    12.976338\n",
       "일최심적설      9.995742\n",
       "일강수량       4.932862\n",
       "dtype: float64"
      ]
     },
     "execution_count": 7,
     "metadata": {},
     "output_type": "execute_result"
    }
   ],
   "source": [
    "# 왜곡도 확인\n",
    "features_index = test5.dtypes[test5.dtypes != 'object'].index\n",
    "skew_features= test5[features_index].apply(lambda x : skew(x))\n",
    "skew_features_top = skew_features[skew_features>2]\n",
    "skew_features_top.sort_values(ascending=False)"
   ]
  },
  {
   "cell_type": "code",
   "execution_count": 8,
   "id": "3f30c982-1801-4eaf-a8f7-1bcd58eebf01",
   "metadata": {},
   "outputs": [],
   "source": [
    "# 왜곡도 1 이상은 로그로 변환\n",
    "test5[skew_features_top.index]= np.log1p(test5[skew_features_top.index])"
   ]
  },
  {
   "cell_type": "code",
   "execution_count": 9,
   "id": "5bdaf1d5-ab0c-44b8-9b72-7bbafea8ffb9",
   "metadata": {},
   "outputs": [
    {
     "data": {
      "text/plain": [
       "<AxesSubplot:xlabel='영등포구', ylabel='Count'>"
      ]
     },
     "execution_count": 9,
     "metadata": {},
     "output_type": "execute_result"
    },
    {
     "data": {
      "image/png": "[encoded data removed]",
      "text/plain": [
       "<Figure size 640x480 with 1 Axes>"
      ]
     },
     "metadata": {},
     "output_type": "display_data"
    }
   ],
   "source": [
    "# y값 정규분포로 변환\n",
    "log_test = np.log1p(test5['영등포구'])\n",
    "sns.histplot(log_test, kde=True)"
   ]
  },
  {
   "cell_type": "code",
   "execution_count": 10,
   "id": "2aabccd0-c13b-4972-bba9-205f850dddd6",
   "metadata": {},
   "outputs": [],
   "source": [
    "# 문자열 치환 원앤핫인코딩\n",
    "test5 = pd.get_dummies(test5)\n",
    "X = test5.drop(columns=['영등포구'])\n",
    "y = log_test\n",
    "X_train, X_test, y_train, y_test = train_test_split(X,y, test_size=0.2, random_state=156)"
   ]
  },
  {
   "cell_type": "code",
   "execution_count": 11,
   "id": "f8029b5f-45d0-4d73-9af0-204df2a0f10f",
   "metadata": {},
   "outputs": [
    {
     "name": "stdout",
     "output_type": "stream",
     "text": [
      "MSE: 0.14826406252152216, RMSE: 0.38505072720554906, R2: 0.756012443899089\n",
      "LinearRegression RMSE:  0.385\n",
      "Ridge RMSE:  0.377\n",
      "Lasso RMSE:  0.732\n"
     ]
    },
    {
     "data": {
      "text/plain": [
       "[0.38505072720554906, 0.37690436488506246, 0.7323888105609081]"
      ]
     },
     "execution_count": 11,
     "metadata": {},
     "output_type": "execute_result"
    }
   ],
   "source": [
    "# 모델 확인\n",
    "lr_reg = LinearRegression()\n",
    "lr_reg.fit(X_train, y_train)\n",
    "pred = lr_reg.predict(X_test)\n",
    "mse = mean_squared_error(y_test, pred)\n",
    "rmse = np.sqrt(mse)\n",
    "print(f'MSE: {mse}, RMSE: {rmse}, R2: {r2_score(y_test, pred)}')\n",
    "ridge_reg = Ridge()\n",
    "ridge_reg.fit(X_train, y_train)\n",
    "lasso_reg = Lasso()\n",
    "lasso_reg.fit(X_train, y_train)\n",
    "models = [lr_reg, ridge_reg, lasso_reg]\n",
    "get_rmses(models)"
   ]
  },
  {
   "cell_type": "code",
   "execution_count": 12,
   "id": "16792fec-65d2-40bc-9d46-f75c80f664fe",
   "metadata": {},
   "outputs": [
    {
     "name": "stdout",
     "output_type": "stream",
     "text": [
      "747.9999999999998, 770.2270290741993\n",
      "3326.0000000000023, 3692.694238747265\n",
      "421.0000000000001, 487.2633911682469\n",
      "3113.0000000000005, 2902.5525478838013\n",
      "1906.9999999999993, 1595.4878551387267\n",
      "511.9999999999999, 493.7024280751903\n",
      "417.9999999999999, 488.3840899585877\n",
      "1250.0000000000005, 1525.5117677547657\n",
      "4657.000000000002, 3698.634573025087\n",
      "3324.999999999998, 4578.253112456629\n",
      "4458.999999999998, 4674.064284034378\n",
      "3417.0000000000027, 3498.9853785377036\n",
      "1831.9999999999995, 842.8637034560829\n",
      "4020.000000000003, 4655.307041953093\n",
      "2776.0, 2654.770747105518\n",
      "1556.0000000000002, 976.6654822608012\n",
      "2244.9999999999995, 3324.3125394217045\n",
      "3918.9999999999995, 4602.533525398057\n",
      "1296.9999999999995, 997.3883783170397\n",
      "2368.999999999999, 3188.8450682439584\n",
      "3548.000000000002, 3620.751141342117\n",
      "4349.000000000002, 3903.5249494926584\n",
      "2819.999999999999, 2430.8407058383805\n",
      "5799.999999999996, 3711.5944363149774\n",
      "1362.0000000000005, 1058.6440535935897\n",
      "3281.000000000001, 5769.1246037707215\n",
      "3567.9999999999995, 7542.873434787779\n",
      "1613.0000000000007, 1506.030579515764\n",
      "3187.9999999999977, 3852.3735353926313\n",
      "3543.000000000001, 5247.973592315733\n",
      "698.9999999999998, 484.8016315364691\n",
      "4438.0, 6168.472323713169\n",
      "219.00000000000009, 805.2069528129025\n",
      "559.9999999999998, 452.6980599934574\n",
      "3994.9999999999986, 4268.142462321677\n",
      "974.0000000000001, 787.4632788273088\n",
      "4540.000000000001, 5596.340879912004\n",
      "802.0, 748.7734478455433\n",
      "4244.000000000002, 3293.1320469327266\n",
      "1575.0000000000005, 1364.8576405818828\n",
      "631.9999999999998, 482.05354983981147\n",
      "5057.000000000002, 4690.34966862513\n",
      "3980.9999999999986, 2283.0785922001555\n",
      "3171.9999999999977, 2141.907385602116\n",
      "1704.0000000000005, 1237.5249241546558\n",
      "990.9999999999995, 862.774454794192\n",
      "988.0000000000003, 1036.0538164690086\n",
      "2676.999999999999, 1389.488773613086\n",
      "5857.999999999996, 4668.508396539412\n",
      "2933.9999999999986, 5094.625890527123\n",
      "498.00000000000006, 759.9797345357774\n",
      "2151.0000000000005, 1086.042542852303\n",
      "807.9999999999997, 878.3172330906505\n",
      "665.0000000000001, 1303.932063444992\n",
      "1753.0, 1632.7692789101195\n",
      "4111.999999999997, 2066.2756395062997\n",
      "1877.9999999999993, 1205.4775348556998\n",
      "774.0000000000002, 331.4965240049744\n",
      "2626.000000000001, 4145.642950022384\n",
      "3153.999999999999, 2154.1775910770825\n",
      "2736.9999999999995, 2391.839956008249\n",
      "4013.999999999997, 2545.3414449382867\n",
      "984.9999999999999, 746.0906513782501\n",
      "507.9999999999999, 601.1827236397626\n",
      "2883.0000000000014, 4615.0551344080795\n",
      "839.0, 710.3258428140764\n",
      "2602.0, 2506.9283627526993\n",
      "2497.0, 1199.5840808074197\n",
      "5209.000000000001, 6875.734361087672\n",
      "5189.0, 7177.457833525241\n",
      "3505.0, 3228.322473275955\n",
      "4215.999999999997, 5649.001895695986\n",
      "3418.0000000000023, 2369.583415020422\n"
     ]
    }
   ],
   "source": [
    "# 루트치환값 다시 원래대로 돌려서 비교\n",
    "y_t= np.expm1(y_test)\n",
    "p_t = np.expm1(pred)\n",
    "for solve, predd in zip(y_t, p_t):\n",
    "    print(f'{solve}, {predd}') "
   ]
  },
  {
   "cell_type": "markdown",
   "id": "a176dd3b-4f8d-4fae-aa2e-90ac98feacce",
   "metadata": {},
   "source": [
    "## cross_val_score"
   ]
  },
  {
   "cell_type": "code",
   "execution_count": 13,
   "id": "e370a3d4-db7d-4719-a455-cb8ea1045f0a",
   "metadata": {},
   "outputs": [],
   "source": [
    "from sklearn.linear_model import Ridge\n",
    "from sklearn.model_selection import cross_val_score"
   ]
  },
  {
   "cell_type": "code",
   "execution_count": 14,
   "id": "c655fc21-1fee-44a4-8941-a752832851c6",
   "metadata": {
    "tags": []
   },
   "outputs": [],
   "source": [
    "X_data = test5.drop(columns=['영등포구'])\n",
    "y_target = test5['영등포구']\n",
    "\n",
    "\n",
    "ridge = Ridge(alpha=5)\n",
    "neg_mse_scores = cross_val_score(ridge, X_data, y_target, scoring=\"neg_mean_squared_error\",cv=5)\n",
    "rmse_scores = np.sqrt(-1*neg_mse_scores)\n",
    "avg_rmse = np.mean(rmse_scores)"
   ]
  },
  {
   "cell_type": "code",
   "execution_count": 15,
   "id": "bf775805-35ed-4fe1-a87e-5da64e65633e",
   "metadata": {},
   "outputs": [
    {
     "name": "stdout",
     "output_type": "stream",
     "text": [
      "LinearRegression cv rmse 값 리스트 : [0.833 0.482 0.405 0.459 0.495]\n",
      "LinearRegression cv 평균 rmse 값 : 0.535\n",
      "Ridge cv rmse 값 리스트 : [0.833 0.486 0.402 0.437 0.469]\n",
      "Ridge cv 평균 rmse 값 : 0.525\n",
      "Lasso cv rmse 값 리스트 : [1.516 0.851 0.773 0.881 0.579]\n",
      "Lasso cv 평균 rmse 값 : 0.92\n"
     ]
    }
   ],
   "source": [
    "def get_avg_rmse_cv(models):\n",
    "    for model in models:\n",
    "        rmse_list = np.sqrt(-cross_val_score(model,X,y,scoring='neg_mean_squared_error',cv=5)) #rmse = 5개가 나올 것\n",
    "        rmse_avg = np.mean(rmse_list)\n",
    "        print(f'{model.__class__.__name__} cv rmse 값 리스트 : {np.round(rmse_list,3)}')\n",
    "        print(f'{model.__class__.__name__} cv 평균 rmse 값 : {np.round(rmse_avg,3)}')\n",
    "\n",
    "get_avg_rmse_cv(models)"
   ]
  },
  {
   "cell_type": "markdown",
   "id": "31c7ef1c-d7ec-4f40-ade2-01be11637339",
   "metadata": {},
   "source": [
    "## GridSearchCV"
   ]
  },
  {
   "cell_type": "code",
   "execution_count": 16,
   "id": "477b6d49-3584-4b03-908f-6b32b1804b12",
   "metadata": {},
   "outputs": [],
   "source": [
    "from sklearn.model_selection import GridSearchCV"
   ]
  },
  {
   "cell_type": "code",
   "execution_count": 17,
   "id": "8c05d8a2-f869-4234-82d1-bc94c734bfcc",
   "metadata": {},
   "outputs": [],
   "source": [
    "def print_best_params(model,params):\n",
    "    grid_model = GridSearchCV(model,params,scoring='neg_mean_squared_error', cv=10) #GridSearchCV라서 scoring='neg' #scoring='neg_mean_squared_error' 예측값과 차이의 제곱?\n",
    "    grid_model.fit(X,y)\n",
    "    rmse = np.sqrt(-1*grid_model.best_score_)\n",
    "    print(f'{model.__class__.__name__} 5 cv시 최적 평균 rmse 값:{np.round(rmse, 4)}, 최적 alpha값:{grid_model.best_params_}')"
   ]
  },
  {
   "cell_type": "code",
   "execution_count": 18,
   "id": "884d1f9e-5bfd-4ffe-afee-356c4ecebb5f",
   "metadata": {},
   "outputs": [
    {
     "name": "stdout",
     "output_type": "stream",
     "text": [
      "Ridge 5 cv시 최적 평균 rmse 값:0.4339, 최적 alpha값:{'alpha': 5}\n"
     ]
    }
   ],
   "source": [
    "ridge_param = {\n",
    "    'alpha':[0.0001,0.01,0.05, 0.1, 1, 5, 8, 10, 12, 15, 20, 30, 40, 50, 100]\n",
    "} #ridge더 크게 rasso 더 작게\n",
    "print_best_params(ridge_reg, ridge_param)"
   ]
  },
  {
   "cell_type": "code",
   "execution_count": 19,
   "id": "78e195c3-503a-463a-ae0a-b665b78d13ba",
   "metadata": {},
   "outputs": [
    {
     "name": "stdout",
     "output_type": "stream",
     "text": [
      "Lasso 5 cv시 최적 평균 rmse 값:0.4738, 최적 alpha값:{'alpha': 0.005}\n"
     ]
    }
   ],
   "source": [
    "lasso_param = {'alpha':[0.0001,0.001, 0.005, 0.008, 0.05, 0.05, 0.1, 0.5, 1, 5, 10, 15, 30]} \n",
    "print_best_params(lasso_reg, lasso_param)"
   ]
  },
  {
   "cell_type": "code",
   "execution_count": 20,
   "id": "8c995d52-0b38-498a-9c96-8a28018689d4",
   "metadata": {},
   "outputs": [
    {
     "name": "stdout",
     "output_type": "stream",
     "text": [
      "LinearRegression RMSE:  0.385\n",
      "Ridge RMSE:  0.367\n",
      "Lasso RMSE:  0.347\n",
      "MSE: 0.14826406252152216, RMSE: 0.38505072720554906, R2: 0.756012443899089\n"
     ]
    }
   ],
   "source": [
    "lr_reg = LinearRegression()\n",
    "lr_reg.fit(X_train,y_train)\n",
    "\n",
    "ridge_reg = Ridge(alpha=5)\n",
    "ridge_reg.fit(X_train,y_train)\n",
    "\n",
    "lasso_reg = Lasso(alpha=0.005)\n",
    "lasso_reg.fit(X_train,y_train)\n",
    "\n",
    "models=[lr_reg, ridge_reg,lasso_reg] \n",
    "get_rmses(models)\n",
    "\n",
    "#visualize_coefficient(models)\n",
    "\n",
    "lr_reg = LinearRegression()\n",
    "lr_reg.fit(X_train, y_train)\n",
    "\n",
    "pred = lr_reg.predict(X_test)\n",
    "mse = mean_squared_error(y_test, pred)\n",
    "rmse = np.sqrt(mse)\n",
    "print(f'MSE: {mse}, RMSE: {rmse}, R2: {r2_score(y_test, pred)}')\n"
   ]
  },
  {
   "cell_type": "code",
   "execution_count": 21,
   "id": "37720f8f-9ed0-47d2-966b-443889d328ff",
   "metadata": {},
   "outputs": [
    {
     "name": "stdout",
     "output_type": "stream",
     "text": [
      "MSE: 0.14826406252152216, RMSE: 0.38505072720554906, R2: 0.756012443899089\n",
      "LinearRegression RMSE:  0.385\n",
      "Ridge RMSE:  0.377\n",
      "Lasso RMSE:  0.732\n"
     ]
    }
   ],
   "source": [
    "lr_reg = LinearRegression()\n",
    "lr_reg.fit(X_train, y_train)\n",
    "\n",
    "pred = lr_reg.predict(X_test)\n",
    "mse = mean_squared_error(y_test, pred)\n",
    "rmse = np.sqrt(mse)\n",
    "print(f'MSE: {mse}, RMSE: {rmse}, R2: {r2_score(y_test, pred)}')\n",
    "\n",
    "\n",
    "\n",
    "\n",
    "ridge_reg = Ridge()\n",
    "ridge_reg.fit(X_train, y_train)\n",
    "lasso_reg = Lasso()\n",
    "lasso_reg.fit(X_train, y_train)\n",
    "models = [lr_reg, ridge_reg, lasso_reg]\n",
    "\n",
    "for model in models:\n",
    "    get_rmse(model)"
   ]
  },
  {
   "cell_type": "markdown",
   "id": "e90fb0fe-dd09-468f-8523-a765e4f710ae",
   "metadata": {},
   "source": [
    "# RandomForestRegressor"
   ]
  },
  {
   "cell_type": "code",
   "execution_count": 22,
   "id": "a6d2772d-b3b0-4eaf-95d4-b6213a8fb2b0",
   "metadata": {},
   "outputs": [],
   "source": [
    "from sklearn.ensemble import RandomForestRegressor\n",
    "from sklearn.metrics import accuracy_score\n",
    "import pandas as pd\n",
    "import warnings\n",
    "warnings.filterwarnings('ignore')"
   ]
  },
  {
   "cell_type": "code",
   "execution_count": 23,
   "id": "b8ed009d-8d50-45b2-9f84-9a1e58457915",
   "metadata": {},
   "outputs": [],
   "source": [
    "X_train,X_test,y_train,y_test = train_test_split(X,y,test_size=0.2,random_state=32)"
   ]
  },
  {
   "cell_type": "code",
   "execution_count": 24,
   "id": "cf4bff1b-30f5-40f6-ab8b-e8c12ea5bcce",
   "metadata": {},
   "outputs": [
    {
     "name": "stdout",
     "output_type": "stream",
     "text": [
      "MSE: 0.12725414487549466, RMSE: 0.3567269892726014, R2: 0.8459193763818407\n"
     ]
    }
   ],
   "source": [
    "rf_clf = RandomForestRegressor(random_state=156, max_depth=8)\n",
    "rf_clf.fit(X_train,y_train)\n",
    "\n",
    "pred = rf_clf.predict(X_test)\n",
    "mse = mean_squared_error(y_test, pred)\n",
    "rmse = np.sqrt(mse)\n",
    "\n",
    "print(f'MSE: {mse}, RMSE: {rmse}, R2: {r2_score(y_test, pred)}')\n"
   ]
  },
  {
   "cell_type": "code",
   "execution_count": 25,
   "id": "ad9b8a60-457a-4fed-9bc0-bae983027334",
   "metadata": {},
   "outputs": [],
   "source": [
    "log_test = np.log1p(test5['영등포구'])\n",
    "test5 = pd.get_dummies(test5)\n",
    "X = test5.drop(columns=['영등포구'])\n",
    "y = log_test\n",
    "X_train, X_test, y_train, y_test = train_test_split(X,y, test_size=0.2, random_state=32)"
   ]
  },
  {
   "cell_type": "code",
   "execution_count": 26,
   "id": "98565d1f-1efd-4f41-b42a-d8e64d19d332",
   "metadata": {},
   "outputs": [
    {
     "name": "stdout",
     "output_type": "stream",
     "text": [
      "MSE: 0.12008255611364947, RMSE: 0.3465293005124523, R2: 0.8546028095999824\n"
     ]
    }
   ],
   "source": [
    "rf_clf = RandomForestRegressor(random_state=32, max_depth=8)\n",
    "rf_clf.fit(X_train,y_train)\n",
    "\n",
    "pred = rf_clf.predict(X_test)\n",
    "mse = mean_squared_error(y_test, pred)\n",
    "rmse = np.sqrt(mse)\n",
    "\n",
    "print(f'MSE: {mse}, RMSE: {rmse}, R2: {r2_score(y_test, pred)}')"
   ]
  },
  {
   "cell_type": "markdown",
   "id": "0949a07a-c847-4675-83e3-213771cb8145",
   "metadata": {},
   "source": [
    "## GridSearchCV \n",
    "RandomForestRegressor - 하이퍼 파라미터 수정"
   ]
  },
  {
   "cell_type": "code",
   "execution_count": 27,
   "id": "1fcc5ed9-a239-4c88-8e56-fe83d94092da",
   "metadata": {},
   "outputs": [],
   "source": [
    "from sklearn.model_selection import GridSearchCV"
   ]
  },
  {
   "cell_type": "code",
   "execution_count": 28,
   "id": "d69db63f-c82b-4d09-976f-8bfc63e13d5e",
   "metadata": {},
   "outputs": [],
   "source": [
    "params = {\n",
    "    'max_depth': [6, 12, 18, 26, 30],\n",
    "    'min_samples_leaf': [1, 6, 12, 18, 24],\n",
    "    'min_samples_split':[2, 6, 12, 18, 24]\n",
    "}"
   ]
  },
  {
   "cell_type": "code",
   "execution_count": 29,
   "id": "7a4872f5-f66d-457b-97c6-460b46c0f8b2",
   "metadata": {},
   "outputs": [
    {
     "name": "stdout",
     "output_type": "stream",
     "text": [
      "최적 하이퍼 파라미너:\n",
      " {'max_depth': 12, 'min_samples_leaf': 1, 'min_samples_split': 2}\n"
     ]
    }
   ],
   "source": [
    "rf_clf = RandomForestRegressor(n_estimators=100, random_state=32, n_jobs=-1)\n",
    "grid_cv = GridSearchCV(rf_clf, param_grid=params, cv=2, n_jobs=-1)\n",
    "grid_cv.fit(X_train, y_train)\n",
    "\n",
    "print('최적 하이퍼 파라미너:\\n', grid_cv.best_params_)"
   ]
  },
  {
   "cell_type": "code",
   "execution_count": 30,
   "id": "8f581b62-f1b6-42b8-8b31-f035da9eedc1",
   "metadata": {},
   "outputs": [
    {
     "name": "stdout",
     "output_type": "stream",
     "text": [
      "MSE: 0.12405845609295015, RMSE: 0.35221932952771084, R2: 0.8497887491318267\n"
     ]
    }
   ],
   "source": [
    "rf_clf1    = RandomForestRegressor(n_estimators=100, max_depth=12, min_samples_leaf=1, min_samples_split=6, random_state=32)\n",
    "rf_clf1.fit(X_train,y_train)\n",
    "\n",
    "pred = rf_clf1.predict(X_test)\n",
    "mse = mean_squared_error(y_test, pred)\n",
    "rmse = np.sqrt(mse)\n",
    "\n",
    "print(f'MSE: {mse}, RMSE: {rmse}, R2: {r2_score(y_test, pred)}')\n"
   ]
  },
  {
   "cell_type": "markdown",
   "id": "1982f88b-51d0-4a06-941f-159548c4ec09",
   "metadata": {},
   "source": [
    "# XGBoost "
   ]
  },
  {
   "cell_type": "code",
   "execution_count": 31,
   "id": "b9ec4441-b71a-41bb-9a13-76f2201df529",
   "metadata": {},
   "outputs": [],
   "source": [
    "import xgboost as xgb\n",
    "from xgboost import XGBRegressor"
   ]
  },
  {
   "cell_type": "code",
   "execution_count": 32,
   "id": "63b163af-1de4-45d5-9129-915cc7f9e5c6",
   "metadata": {},
   "outputs": [
    {
     "name": "stdout",
     "output_type": "stream",
     "text": [
      "1.5.0\n"
     ]
    }
   ],
   "source": [
    "import xgboost\n",
    "\n",
    "print(xgboost.__version__)"
   ]
  },
  {
   "cell_type": "code",
   "execution_count": 33,
   "id": "f560c99d-5e4a-4b23-941b-16618b9725c3",
   "metadata": {},
   "outputs": [],
   "source": [
    "import pandas as pd\n",
    "import numpy as np\n",
    "import seaborn as sns\n",
    "from sklearn.model_selection import train_test_split\n",
    "import warnings\n",
    "warnings.filterwarnings('ignore')"
   ]
  },
  {
   "cell_type": "code",
   "execution_count": 34,
   "id": "de1e9ed5-43e3-4573-9ec1-2b84a1e6c152",
   "metadata": {},
   "outputs": [],
   "source": [
    "#학습용(80%), 데이터용(20%)\n",
    "log_test = np.log1p(test5['영등포구'])\n",
    "#test = test5['영등포구']\n",
    "test5 = pd.get_dummies(test5)\n",
    "X = test5.drop(columns=['영등포구'])\n",
    "y = log_test\n",
    "X_train, X_test, y_train, y_test = train_test_split(X,y, test_size=0.2, random_state=32)"
   ]
  },
  {
   "cell_type": "code",
   "execution_count": 35,
   "id": "74d75d0c-6804-441b-aa4f-ef21f400a5ae",
   "metadata": {},
   "outputs": [],
   "source": [
    "#최종 학습용(90%), 검즘용(10%)\n",
    "X_tr, X_val, y_tr, y_val = train_test_split(X_train,y_train,test_size=0.1,random_state=32)"
   ]
  },
  {
   "cell_type": "code",
   "execution_count": 36,
   "id": "5ba9f28c-3ef7-4a49-8ea9-53594ea5bb56",
   "metadata": {},
   "outputs": [],
   "source": [
    "#학습, 검증, 테스트용 DMatrix 생성\n",
    "dtr = xgb.DMatrix(data=X_tr, label=y_tr)\n",
    "dval = xgb.DMatrix(data=X_val, label=y_val)\n",
    "dtest = xgb.DMatrix(data=X_test, label=y_test)"
   ]
  },
  {
   "cell_type": "code",
   "execution_count": 37,
   "id": "d7723728-a285-4663-a09f-2eeae8f61887",
   "metadata": {},
   "outputs": [],
   "source": [
    "params = {\n",
    "    'max_depth':3,\n",
    "    'eta':0.05,\n",
    "    #'objective':'binary:logistic',\n",
    "    # 'eval_metric':'logloss'\n",
    "}\n",
    "num_rounds = 400"
   ]
  },
  {
   "cell_type": "code",
   "execution_count": 38,
   "id": "077d0972-f306-45e5-ad14-f1e19cb18037",
   "metadata": {},
   "outputs": [
    {
     "name": "stdout",
     "output_type": "stream",
     "text": [
      "[0]\ttrain-rmse:6.78144\teval-rmse:6.78472\n",
      "[1]\ttrain-rmse:6.44733\teval-rmse:6.45758\n",
      "[2]\ttrain-rmse:6.12977\teval-rmse:6.14542\n",
      "[3]\ttrain-rmse:5.82805\teval-rmse:5.84722\n",
      "[4]\ttrain-rmse:5.54135\teval-rmse:5.56566\n",
      "[5]\ttrain-rmse:5.26899\teval-rmse:5.29960\n",
      "[6]\ttrain-rmse:5.01015\teval-rmse:5.04497\n",
      "[7]\ttrain-rmse:4.76424\teval-rmse:4.80204\n",
      "[8]\ttrain-rmse:4.53060\teval-rmse:4.57229\n",
      "[9]\ttrain-rmse:4.30866\teval-rmse:4.35620\n",
      "[10]\ttrain-rmse:4.09765\teval-rmse:4.15464\n",
      "[11]\ttrain-rmse:3.89729\teval-rmse:3.95726\n",
      "[12]\ttrain-rmse:3.70684\teval-rmse:3.77078\n",
      "[13]\ttrain-rmse:3.52599\teval-rmse:3.59499\n",
      "[14]\ttrain-rmse:3.35397\teval-rmse:3.42928\n",
      "[15]\ttrain-rmse:3.19067\teval-rmse:3.27119\n",
      "[16]\ttrain-rmse:3.03563\teval-rmse:3.12106\n",
      "[17]\ttrain-rmse:2.88815\teval-rmse:2.97646\n",
      "[18]\ttrain-rmse:2.74811\teval-rmse:2.83929\n",
      "[19]\ttrain-rmse:2.61504\teval-rmse:2.71130\n",
      "[20]\ttrain-rmse:2.48850\teval-rmse:2.58774\n",
      "[21]\ttrain-rmse:2.36840\teval-rmse:2.47125\n",
      "[22]\ttrain-rmse:2.25419\teval-rmse:2.36068\n",
      "[23]\ttrain-rmse:2.14573\teval-rmse:2.25597\n",
      "[24]\ttrain-rmse:2.04270\teval-rmse:2.15626\n",
      "[25]\ttrain-rmse:1.94480\teval-rmse:2.06162\n",
      "[26]\ttrain-rmse:1.85181\teval-rmse:1.97115\n",
      "[27]\ttrain-rmse:1.76352\teval-rmse:1.88311\n",
      "[28]\ttrain-rmse:1.67959\teval-rmse:1.80196\n",
      "[29]\ttrain-rmse:1.59971\teval-rmse:1.72196\n",
      "[30]\ttrain-rmse:1.52392\teval-rmse:1.64647\n",
      "[31]\ttrain-rmse:1.45193\teval-rmse:1.57590\n",
      "[32]\ttrain-rmse:1.38358\teval-rmse:1.50972\n",
      "[33]\ttrain-rmse:1.31870\teval-rmse:1.44544\n",
      "[34]\ttrain-rmse:1.25705\teval-rmse:1.38534\n",
      "[35]\ttrain-rmse:1.19814\teval-rmse:1.32644\n",
      "[36]\ttrain-rmse:1.14262\teval-rmse:1.27120\n",
      "[37]\ttrain-rmse:1.08954\teval-rmse:1.22209\n",
      "[38]\ttrain-rmse:1.03934\teval-rmse:1.17480\n",
      "[39]\ttrain-rmse:0.99146\teval-rmse:1.12815\n",
      "[40]\ttrain-rmse:0.94634\teval-rmse:1.08603\n",
      "[41]\ttrain-rmse:0.90326\teval-rmse:1.04425\n",
      "[42]\ttrain-rmse:0.86244\teval-rmse:1.00481\n",
      "[43]\ttrain-rmse:0.82390\teval-rmse:0.96541\n",
      "[44]\ttrain-rmse:0.78722\teval-rmse:0.93010\n",
      "[45]\ttrain-rmse:0.75260\teval-rmse:0.89624\n",
      "[46]\ttrain-rmse:0.71965\teval-rmse:0.86475\n",
      "[47]\ttrain-rmse:0.68817\teval-rmse:0.83603\n",
      "[48]\ttrain-rmse:0.65856\teval-rmse:0.80744\n",
      "[49]\ttrain-rmse:0.63050\teval-rmse:0.78095\n",
      "[50]\ttrain-rmse:0.60398\teval-rmse:0.75556\n",
      "[51]\ttrain-rmse:0.57855\teval-rmse:0.73288\n",
      "[52]\ttrain-rmse:0.55470\teval-rmse:0.71014\n",
      "[53]\ttrain-rmse:0.53220\teval-rmse:0.68942\n",
      "[54]\ttrain-rmse:0.51096\teval-rmse:0.66866\n",
      "[55]\ttrain-rmse:0.49082\teval-rmse:0.65097\n",
      "[56]\ttrain-rmse:0.47188\teval-rmse:0.63431\n",
      "[57]\ttrain-rmse:0.45388\teval-rmse:0.61976\n",
      "[58]\ttrain-rmse:0.43694\teval-rmse:0.60398\n",
      "[59]\ttrain-rmse:0.42096\teval-rmse:0.59142\n",
      "[60]\ttrain-rmse:0.40531\teval-rmse:0.57908\n",
      "[61]\ttrain-rmse:0.39065\teval-rmse:0.56598\n",
      "[62]\ttrain-rmse:0.37730\teval-rmse:0.55535\n",
      "[63]\ttrain-rmse:0.36417\teval-rmse:0.54496\n",
      "[64]\ttrain-rmse:0.35215\teval-rmse:0.53451\n",
      "[65]\ttrain-rmse:0.34092\teval-rmse:0.52496\n",
      "[66]\ttrain-rmse:0.32978\teval-rmse:0.51809\n",
      "[67]\ttrain-rmse:0.31983\teval-rmse:0.50714\n",
      "[68]\ttrain-rmse:0.30992\teval-rmse:0.49787\n",
      "[69]\ttrain-rmse:0.30102\teval-rmse:0.48965\n",
      "[70]\ttrain-rmse:0.29273\teval-rmse:0.48354\n",
      "[71]\ttrain-rmse:0.28495\teval-rmse:0.47482\n",
      "[72]\ttrain-rmse:0.27707\teval-rmse:0.46735\n",
      "[73]\ttrain-rmse:0.27024\teval-rmse:0.45974\n",
      "[74]\ttrain-rmse:0.26336\teval-rmse:0.45400\n",
      "[75]\ttrain-rmse:0.25748\teval-rmse:0.44892\n",
      "[76]\ttrain-rmse:0.25108\teval-rmse:0.44298\n",
      "[77]\ttrain-rmse:0.24576\teval-rmse:0.43979\n",
      "[78]\ttrain-rmse:0.24013\teval-rmse:0.43602\n",
      "[79]\ttrain-rmse:0.23538\teval-rmse:0.43287\n",
      "[80]\ttrain-rmse:0.23034\teval-rmse:0.42870\n",
      "[81]\ttrain-rmse:0.22623\teval-rmse:0.42612\n",
      "[82]\ttrain-rmse:0.22179\teval-rmse:0.42191\n",
      "[83]\ttrain-rmse:0.21763\teval-rmse:0.41848\n",
      "[84]\ttrain-rmse:0.21396\teval-rmse:0.41529\n",
      "[85]\ttrain-rmse:0.21033\teval-rmse:0.41252\n",
      "[86]\ttrain-rmse:0.20667\teval-rmse:0.41301\n",
      "[87]\ttrain-rmse:0.20364\teval-rmse:0.41037\n",
      "[88]\ttrain-rmse:0.20048\teval-rmse:0.40684\n",
      "[89]\ttrain-rmse:0.19778\teval-rmse:0.40373\n",
      "[90]\ttrain-rmse:0.19493\teval-rmse:0.40118\n",
      "[91]\ttrain-rmse:0.19206\teval-rmse:0.40220\n",
      "[92]\ttrain-rmse:0.18956\teval-rmse:0.39985\n",
      "[93]\ttrain-rmse:0.18700\teval-rmse:0.40080\n",
      "[94]\ttrain-rmse:0.18500\teval-rmse:0.39913\n",
      "[95]\ttrain-rmse:0.18296\teval-rmse:0.39774\n",
      "[96]\ttrain-rmse:0.18119\teval-rmse:0.39638\n",
      "[97]\ttrain-rmse:0.17908\teval-rmse:0.39484\n",
      "[98]\ttrain-rmse:0.17718\teval-rmse:0.39326\n",
      "[99]\ttrain-rmse:0.17518\teval-rmse:0.39148\n",
      "[100]\ttrain-rmse:0.17320\teval-rmse:0.39282\n",
      "[101]\ttrain-rmse:0.17169\teval-rmse:0.39230\n",
      "[102]\ttrain-rmse:0.17019\teval-rmse:0.39342\n",
      "[103]\ttrain-rmse:0.16858\teval-rmse:0.39210\n",
      "[104]\ttrain-rmse:0.16736\teval-rmse:0.39142\n",
      "[105]\ttrain-rmse:0.16588\teval-rmse:0.38975\n",
      "[106]\ttrain-rmse:0.16460\teval-rmse:0.38901\n",
      "[107]\ttrain-rmse:0.16297\teval-rmse:0.39048\n",
      "[108]\ttrain-rmse:0.16158\teval-rmse:0.38916\n",
      "[109]\ttrain-rmse:0.16043\teval-rmse:0.38791\n",
      "[110]\ttrain-rmse:0.15893\teval-rmse:0.38942\n",
      "[111]\ttrain-rmse:0.15759\teval-rmse:0.38862\n",
      "[112]\ttrain-rmse:0.15654\teval-rmse:0.38801\n",
      "[113]\ttrain-rmse:0.15537\teval-rmse:0.38721\n",
      "[114]\ttrain-rmse:0.15421\teval-rmse:0.38616\n",
      "[115]\ttrain-rmse:0.15288\teval-rmse:0.38769\n",
      "[116]\ttrain-rmse:0.15198\teval-rmse:0.38780\n",
      "[117]\ttrain-rmse:0.15118\teval-rmse:0.38764\n",
      "[118]\ttrain-rmse:0.15028\teval-rmse:0.38667\n",
      "[119]\ttrain-rmse:0.14916\teval-rmse:0.38582\n",
      "[120]\ttrain-rmse:0.14794\teval-rmse:0.38737\n",
      "[121]\ttrain-rmse:0.14702\teval-rmse:0.38818\n",
      "[122]\ttrain-rmse:0.14630\teval-rmse:0.38833\n",
      "[123]\ttrain-rmse:0.14555\teval-rmse:0.38753\n",
      "[124]\ttrain-rmse:0.14490\teval-rmse:0.38726\n",
      "[125]\ttrain-rmse:0.14421\teval-rmse:0.38646\n",
      "[126]\ttrain-rmse:0.14298\teval-rmse:0.38570\n",
      "[127]\ttrain-rmse:0.14236\teval-rmse:0.38573\n",
      "[128]\ttrain-rmse:0.14174\teval-rmse:0.38501\n",
      "[129]\ttrain-rmse:0.14084\teval-rmse:0.38415\n",
      "[130]\ttrain-rmse:0.13992\teval-rmse:0.38498\n",
      "[131]\ttrain-rmse:0.13930\teval-rmse:0.38531\n",
      "[132]\ttrain-rmse:0.13820\teval-rmse:0.38466\n",
      "[133]\ttrain-rmse:0.13763\teval-rmse:0.38411\n",
      "[134]\ttrain-rmse:0.13676\teval-rmse:0.38500\n",
      "[135]\ttrain-rmse:0.13617\teval-rmse:0.38439\n",
      "[136]\ttrain-rmse:0.13561\teval-rmse:0.38299\n",
      "[137]\ttrain-rmse:0.13506\teval-rmse:0.38315\n",
      "[138]\ttrain-rmse:0.13406\teval-rmse:0.38461\n",
      "[139]\ttrain-rmse:0.13362\teval-rmse:0.38434\n",
      "[140]\ttrain-rmse:0.13314\teval-rmse:0.38389\n",
      "[141]\ttrain-rmse:0.13238\teval-rmse:0.38476\n",
      "[142]\ttrain-rmse:0.13162\teval-rmse:0.38407\n",
      "[143]\ttrain-rmse:0.13069\teval-rmse:0.38511\n",
      "[144]\ttrain-rmse:0.13007\teval-rmse:0.38598\n",
      "[145]\ttrain-rmse:0.12960\teval-rmse:0.38607\n",
      "[146]\ttrain-rmse:0.12879\teval-rmse:0.38550\n",
      "[147]\ttrain-rmse:0.12830\teval-rmse:0.38572\n",
      "[148]\ttrain-rmse:0.12791\teval-rmse:0.38536\n",
      "[149]\ttrain-rmse:0.12743\teval-rmse:0.38504\n",
      "[150]\ttrain-rmse:0.12698\teval-rmse:0.38445\n",
      "[151]\ttrain-rmse:0.12651\teval-rmse:0.38421\n",
      "[152]\ttrain-rmse:0.12603\teval-rmse:0.38420\n",
      "[153]\ttrain-rmse:0.12560\teval-rmse:0.38440\n",
      "[154]\ttrain-rmse:0.12493\teval-rmse:0.38525\n",
      "[155]\ttrain-rmse:0.12420\teval-rmse:0.38479\n",
      "[156]\ttrain-rmse:0.12346\teval-rmse:0.38462\n",
      "[157]\ttrain-rmse:0.12305\teval-rmse:0.38421\n",
      "[158]\ttrain-rmse:0.12265\teval-rmse:0.38391\n",
      "[159]\ttrain-rmse:0.12203\teval-rmse:0.38473\n",
      "[160]\ttrain-rmse:0.12160\teval-rmse:0.38458\n",
      "[161]\ttrain-rmse:0.12116\teval-rmse:0.38425\n",
      "[162]\ttrain-rmse:0.12076\teval-rmse:0.38412\n",
      "[163]\ttrain-rmse:0.12019\teval-rmse:0.38386\n",
      "[164]\ttrain-rmse:0.11978\teval-rmse:0.38478\n",
      "[165]\ttrain-rmse:0.11926\teval-rmse:0.38561\n",
      "[166]\ttrain-rmse:0.11882\teval-rmse:0.38532\n",
      "[167]\ttrain-rmse:0.11844\teval-rmse:0.38505\n",
      "[168]\ttrain-rmse:0.11806\teval-rmse:0.38491\n",
      "[169]\ttrain-rmse:0.11768\teval-rmse:0.38478\n",
      "[170]\ttrain-rmse:0.11735\teval-rmse:0.38440\n",
      "[171]\ttrain-rmse:0.11685\teval-rmse:0.38418\n",
      "[172]\ttrain-rmse:0.11631\teval-rmse:0.38380\n",
      "[173]\ttrain-rmse:0.11583\teval-rmse:0.38462\n",
      "[174]\ttrain-rmse:0.11548\teval-rmse:0.38470\n",
      "[175]\ttrain-rmse:0.11510\teval-rmse:0.38507\n",
      "[176]\ttrain-rmse:0.11480\teval-rmse:0.38477\n",
      "[177]\ttrain-rmse:0.11446\teval-rmse:0.38557\n",
      "[178]\ttrain-rmse:0.11407\teval-rmse:0.38572\n",
      "[179]\ttrain-rmse:0.11373\teval-rmse:0.38579\n",
      "[180]\ttrain-rmse:0.11342\teval-rmse:0.38654\n",
      "[181]\ttrain-rmse:0.11311\teval-rmse:0.38607\n",
      "[182]\ttrain-rmse:0.11271\teval-rmse:0.38598\n",
      "[183]\ttrain-rmse:0.11190\teval-rmse:0.38582\n",
      "[184]\ttrain-rmse:0.11141\teval-rmse:0.38548\n",
      "[185]\ttrain-rmse:0.11115\teval-rmse:0.38533\n",
      "[186]\ttrain-rmse:0.11086\teval-rmse:0.38605\n",
      "[187]\ttrain-rmse:0.11062\teval-rmse:0.38591\n",
      "[188]\ttrain-rmse:0.11030\teval-rmse:0.38595\n",
      "[189]\ttrain-rmse:0.10987\teval-rmse:0.38581\n",
      "[190]\ttrain-rmse:0.10937\teval-rmse:0.38657\n",
      "[191]\ttrain-rmse:0.10866\teval-rmse:0.38632\n",
      "[192]\ttrain-rmse:0.10800\teval-rmse:0.38611\n",
      "[193]\ttrain-rmse:0.10755\teval-rmse:0.38682\n",
      "[194]\ttrain-rmse:0.10714\teval-rmse:0.38668\n",
      "[195]\ttrain-rmse:0.10651\teval-rmse:0.38646\n",
      "[196]\ttrain-rmse:0.10612\teval-rmse:0.38689\n",
      "[197]\ttrain-rmse:0.10580\teval-rmse:0.38677\n",
      "[198]\ttrain-rmse:0.10548\teval-rmse:0.38670\n",
      "[199]\ttrain-rmse:0.10494\teval-rmse:0.38660\n",
      "[200]\ttrain-rmse:0.10460\teval-rmse:0.38622\n",
      "[201]\ttrain-rmse:0.10418\teval-rmse:0.38695\n",
      "[202]\ttrain-rmse:0.10384\teval-rmse:0.38675\n",
      "[203]\ttrain-rmse:0.10336\teval-rmse:0.38677\n",
      "[204]\ttrain-rmse:0.10307\teval-rmse:0.38671\n",
      "[205]\ttrain-rmse:0.10267\teval-rmse:0.38741\n",
      "[206]\ttrain-rmse:0.10241\teval-rmse:0.38742\n",
      "[207]\ttrain-rmse:0.10221\teval-rmse:0.38730\n",
      "[208]\ttrain-rmse:0.10170\teval-rmse:0.38744\n",
      "[209]\ttrain-rmse:0.10131\teval-rmse:0.38744\n",
      "[210]\ttrain-rmse:0.10081\teval-rmse:0.38787\n",
      "[211]\ttrain-rmse:0.10054\teval-rmse:0.38780\n",
      "[212]\ttrain-rmse:0.10024\teval-rmse:0.38775\n",
      "[213]\ttrain-rmse:0.09988\teval-rmse:0.38840\n",
      "[214]\ttrain-rmse:0.09923\teval-rmse:0.38804\n",
      "[215]\ttrain-rmse:0.09899\teval-rmse:0.38805\n",
      "[216]\ttrain-rmse:0.09870\teval-rmse:0.38805\n",
      "[217]\ttrain-rmse:0.09822\teval-rmse:0.38812\n",
      "[218]\ttrain-rmse:0.09792\teval-rmse:0.38819\n",
      "[219]\ttrain-rmse:0.09772\teval-rmse:0.38847\n",
      "[220]\ttrain-rmse:0.09730\teval-rmse:0.38841\n",
      "[221]\ttrain-rmse:0.09702\teval-rmse:0.38822\n",
      "[222]\ttrain-rmse:0.09680\teval-rmse:0.38824\n",
      "[223]\ttrain-rmse:0.09662\teval-rmse:0.38813\n",
      "[224]\ttrain-rmse:0.09629\teval-rmse:0.38872\n",
      "[225]\ttrain-rmse:0.09598\teval-rmse:0.38869\n",
      "[226]\ttrain-rmse:0.09582\teval-rmse:0.38852\n",
      "[227]\ttrain-rmse:0.09565\teval-rmse:0.38835\n",
      "[228]\ttrain-rmse:0.09520\teval-rmse:0.38841\n",
      "[229]\ttrain-rmse:0.09485\teval-rmse:0.38840\n",
      "[230]\ttrain-rmse:0.09440\teval-rmse:0.38853\n",
      "[231]\ttrain-rmse:0.09405\teval-rmse:0.38843\n",
      "[232]\ttrain-rmse:0.09363\teval-rmse:0.38810\n",
      "[233]\ttrain-rmse:0.09347\teval-rmse:0.38801\n",
      "[234]\ttrain-rmse:0.09320\teval-rmse:0.38818\n",
      "[235]\ttrain-rmse:0.09291\teval-rmse:0.38816\n",
      "[236]\ttrain-rmse:0.09271\teval-rmse:0.38818\n",
      "[237]\ttrain-rmse:0.09250\teval-rmse:0.38815\n",
      "[238]\ttrain-rmse:0.09223\teval-rmse:0.38810\n",
      "[239]\ttrain-rmse:0.09197\teval-rmse:0.38810\n",
      "[240]\ttrain-rmse:0.09155\teval-rmse:0.38813\n",
      "[241]\ttrain-rmse:0.09136\teval-rmse:0.38811\n",
      "[242]\ttrain-rmse:0.09122\teval-rmse:0.38795\n",
      "[243]\ttrain-rmse:0.09096\teval-rmse:0.38815\n",
      "[244]\ttrain-rmse:0.09065\teval-rmse:0.38816\n",
      "[245]\ttrain-rmse:0.09039\teval-rmse:0.38815\n",
      "[246]\ttrain-rmse:0.09016\teval-rmse:0.38807\n",
      "[247]\ttrain-rmse:0.08991\teval-rmse:0.38793\n",
      "[248]\ttrain-rmse:0.08927\teval-rmse:0.38792\n",
      "[249]\ttrain-rmse:0.08884\teval-rmse:0.38767\n",
      "[250]\ttrain-rmse:0.08871\teval-rmse:0.38760\n",
      "[251]\ttrain-rmse:0.08854\teval-rmse:0.38787\n",
      "[252]\ttrain-rmse:0.08833\teval-rmse:0.38781\n",
      "[253]\ttrain-rmse:0.08820\teval-rmse:0.38767\n",
      "[254]\ttrain-rmse:0.08789\teval-rmse:0.38759\n",
      "[255]\ttrain-rmse:0.08771\teval-rmse:0.38757\n",
      "[256]\ttrain-rmse:0.08759\teval-rmse:0.38767\n",
      "[257]\ttrain-rmse:0.08735\teval-rmse:0.38766\n",
      "[258]\ttrain-rmse:0.08671\teval-rmse:0.38777\n",
      "[259]\ttrain-rmse:0.08651\teval-rmse:0.38755\n",
      "[260]\ttrain-rmse:0.08640\teval-rmse:0.38742\n",
      "[261]\ttrain-rmse:0.08617\teval-rmse:0.38717\n",
      "[262]\ttrain-rmse:0.08601\teval-rmse:0.38715\n",
      "[263]\ttrain-rmse:0.08585\teval-rmse:0.38732\n",
      "[264]\ttrain-rmse:0.08555\teval-rmse:0.38768\n",
      "[265]\ttrain-rmse:0.08534\teval-rmse:0.38764\n",
      "[266]\ttrain-rmse:0.08523\teval-rmse:0.38751\n",
      "[267]\ttrain-rmse:0.08507\teval-rmse:0.38753\n",
      "[268]\ttrain-rmse:0.08478\teval-rmse:0.38764\n",
      "[269]\ttrain-rmse:0.08449\teval-rmse:0.38796\n",
      "[270]\ttrain-rmse:0.08414\teval-rmse:0.38809\n",
      "[271]\ttrain-rmse:0.08385\teval-rmse:0.38811\n",
      "[272]\ttrain-rmse:0.08347\teval-rmse:0.38806\n",
      "[273]\ttrain-rmse:0.08333\teval-rmse:0.38803\n",
      "[274]\ttrain-rmse:0.08309\teval-rmse:0.38812\n",
      "[275]\ttrain-rmse:0.08286\teval-rmse:0.38807\n",
      "[276]\ttrain-rmse:0.08262\teval-rmse:0.38796\n",
      "[277]\ttrain-rmse:0.08220\teval-rmse:0.38827\n",
      "[278]\ttrain-rmse:0.08198\teval-rmse:0.38804\n",
      "[279]\ttrain-rmse:0.08172\teval-rmse:0.38838\n",
      "[280]\ttrain-rmse:0.08149\teval-rmse:0.38827\n",
      "[281]\ttrain-rmse:0.08128\teval-rmse:0.38813\n",
      "[282]\ttrain-rmse:0.08110\teval-rmse:0.38811\n",
      "[283]\ttrain-rmse:0.08096\teval-rmse:0.38827\n",
      "[284]\ttrain-rmse:0.08071\teval-rmse:0.38822\n",
      "[285]\ttrain-rmse:0.08061\teval-rmse:0.38810\n",
      "[286]\ttrain-rmse:0.08038\teval-rmse:0.38835\n",
      "[287]\ttrain-rmse:0.08011\teval-rmse:0.38830\n",
      "[288]\ttrain-rmse:0.08002\teval-rmse:0.38827\n",
      "[289]\ttrain-rmse:0.07980\teval-rmse:0.38827\n",
      "[290]\ttrain-rmse:0.07919\teval-rmse:0.38861\n",
      "[291]\ttrain-rmse:0.07909\teval-rmse:0.38850\n",
      "[292]\ttrain-rmse:0.07885\teval-rmse:0.38844\n",
      "[293]\ttrain-rmse:0.07864\teval-rmse:0.38835\n",
      "[294]\ttrain-rmse:0.07840\teval-rmse:0.38862\n",
      "[295]\ttrain-rmse:0.07823\teval-rmse:0.38833\n",
      "[296]\ttrain-rmse:0.07809\teval-rmse:0.38833\n",
      "[297]\ttrain-rmse:0.07790\teval-rmse:0.38840\n",
      "[298]\ttrain-rmse:0.07769\teval-rmse:0.38831\n",
      "[299]\ttrain-rmse:0.07713\teval-rmse:0.38861\n",
      "[300]\ttrain-rmse:0.07694\teval-rmse:0.38857\n",
      "[301]\ttrain-rmse:0.07685\teval-rmse:0.38847\n",
      "[302]\ttrain-rmse:0.07671\teval-rmse:0.38828\n",
      "[303]\ttrain-rmse:0.07646\teval-rmse:0.38833\n",
      "[304]\ttrain-rmse:0.07639\teval-rmse:0.38829\n",
      "[305]\ttrain-rmse:0.07615\teval-rmse:0.38823\n",
      "[306]\ttrain-rmse:0.07593\teval-rmse:0.38817\n",
      "[307]\ttrain-rmse:0.07574\teval-rmse:0.38817\n",
      "[308]\ttrain-rmse:0.07567\teval-rmse:0.38815\n",
      "[309]\ttrain-rmse:0.07544\teval-rmse:0.38817\n",
      "[310]\ttrain-rmse:0.07531\teval-rmse:0.38815\n",
      "[311]\ttrain-rmse:0.07523\teval-rmse:0.38806\n",
      "[312]\ttrain-rmse:0.07504\teval-rmse:0.38787\n",
      "[313]\ttrain-rmse:0.07493\teval-rmse:0.38784\n",
      "[314]\ttrain-rmse:0.07483\teval-rmse:0.38782\n",
      "[315]\ttrain-rmse:0.07462\teval-rmse:0.38809\n",
      "[316]\ttrain-rmse:0.07411\teval-rmse:0.38837\n",
      "[317]\ttrain-rmse:0.07394\teval-rmse:0.38826\n",
      "[318]\ttrain-rmse:0.07385\teval-rmse:0.38816\n",
      "[319]\ttrain-rmse:0.07356\teval-rmse:0.38850\n",
      "[320]\ttrain-rmse:0.07340\teval-rmse:0.38848\n",
      "[321]\ttrain-rmse:0.07322\teval-rmse:0.38836\n",
      "[322]\ttrain-rmse:0.07311\teval-rmse:0.38832\n",
      "[323]\ttrain-rmse:0.07292\teval-rmse:0.38828\n",
      "[324]\ttrain-rmse:0.07284\teval-rmse:0.38811\n",
      "[325]\ttrain-rmse:0.07264\teval-rmse:0.38811\n",
      "[326]\ttrain-rmse:0.07257\teval-rmse:0.38801\n",
      "[327]\ttrain-rmse:0.07237\teval-rmse:0.38804\n",
      "[328]\ttrain-rmse:0.07229\teval-rmse:0.38797\n",
      "[329]\ttrain-rmse:0.07211\teval-rmse:0.38788\n",
      "[330]\ttrain-rmse:0.07186\teval-rmse:0.38822\n",
      "[331]\ttrain-rmse:0.07169\teval-rmse:0.38850\n",
      "[332]\ttrain-rmse:0.07137\teval-rmse:0.38840\n",
      "[333]\ttrain-rmse:0.07092\teval-rmse:0.38865\n",
      "[334]\ttrain-rmse:0.07078\teval-rmse:0.38864\n",
      "[335]\ttrain-rmse:0.07060\teval-rmse:0.38882\n",
      "[336]\ttrain-rmse:0.07049\teval-rmse:0.38882\n",
      "[337]\ttrain-rmse:0.07007\teval-rmse:0.38871\n",
      "[338]\ttrain-rmse:0.06990\teval-rmse:0.38867\n",
      "[339]\ttrain-rmse:0.06974\teval-rmse:0.38869\n",
      "[340]\ttrain-rmse:0.06953\teval-rmse:0.38894\n",
      "[341]\ttrain-rmse:0.06912\teval-rmse:0.38918\n",
      "[342]\ttrain-rmse:0.06872\teval-rmse:0.38916\n",
      "[343]\ttrain-rmse:0.06856\teval-rmse:0.38913\n",
      "[344]\ttrain-rmse:0.06842\teval-rmse:0.38898\n",
      "[345]\ttrain-rmse:0.06824\teval-rmse:0.38895\n",
      "[346]\ttrain-rmse:0.06788\teval-rmse:0.38918\n",
      "[347]\ttrain-rmse:0.06772\teval-rmse:0.38909\n",
      "[348]\ttrain-rmse:0.06765\teval-rmse:0.38909\n",
      "[349]\ttrain-rmse:0.06746\teval-rmse:0.38933\n",
      "[350]\ttrain-rmse:0.06730\teval-rmse:0.38911\n",
      "[351]\ttrain-rmse:0.06694\teval-rmse:0.38909\n",
      "[352]\ttrain-rmse:0.06687\teval-rmse:0.38905\n",
      "[353]\ttrain-rmse:0.06672\teval-rmse:0.38897\n",
      "[354]\ttrain-rmse:0.06657\teval-rmse:0.38885\n",
      "[355]\ttrain-rmse:0.06647\teval-rmse:0.38866\n",
      "[356]\ttrain-rmse:0.06641\teval-rmse:0.38870\n",
      "[357]\ttrain-rmse:0.06626\teval-rmse:0.38905\n",
      "[358]\ttrain-rmse:0.06600\teval-rmse:0.38942\n",
      "[359]\ttrain-rmse:0.06592\teval-rmse:0.38944\n",
      "[360]\ttrain-rmse:0.06567\teval-rmse:0.38945\n",
      "[361]\ttrain-rmse:0.06546\teval-rmse:0.38915\n",
      "[362]\ttrain-rmse:0.06529\teval-rmse:0.38910\n",
      "[363]\ttrain-rmse:0.06516\teval-rmse:0.38908\n",
      "[364]\ttrain-rmse:0.06498\teval-rmse:0.38931\n",
      "[365]\ttrain-rmse:0.06483\teval-rmse:0.38933\n",
      "[366]\ttrain-rmse:0.06474\teval-rmse:0.38944\n",
      "[367]\ttrain-rmse:0.06443\teval-rmse:0.38931\n",
      "[368]\ttrain-rmse:0.06437\teval-rmse:0.38937\n",
      "[369]\ttrain-rmse:0.06425\teval-rmse:0.38927\n",
      "[370]\ttrain-rmse:0.06416\teval-rmse:0.38923\n",
      "[371]\ttrain-rmse:0.06399\teval-rmse:0.38945\n",
      "[372]\ttrain-rmse:0.06385\teval-rmse:0.38940\n",
      "[373]\ttrain-rmse:0.06365\teval-rmse:0.38947\n",
      "[374]\ttrain-rmse:0.06359\teval-rmse:0.38956\n",
      "[375]\ttrain-rmse:0.06334\teval-rmse:0.38958\n",
      "[376]\ttrain-rmse:0.06310\teval-rmse:0.38975\n",
      "[377]\ttrain-rmse:0.06304\teval-rmse:0.38982\n",
      "[378]\ttrain-rmse:0.06294\teval-rmse:0.38989\n",
      "[379]\ttrain-rmse:0.06273\teval-rmse:0.38988\n",
      "[380]\ttrain-rmse:0.06264\teval-rmse:0.38987\n",
      "[381]\ttrain-rmse:0.06254\teval-rmse:0.38993\n",
      "[382]\ttrain-rmse:0.06232\teval-rmse:0.39009\n",
      "[383]\ttrain-rmse:0.06226\teval-rmse:0.39018\n",
      "[384]\ttrain-rmse:0.06219\teval-rmse:0.39009\n",
      "[385]\ttrain-rmse:0.06202\teval-rmse:0.39008\n",
      "[386]\ttrain-rmse:0.06194\teval-rmse:0.39006\n",
      "[387]\ttrain-rmse:0.06172\teval-rmse:0.39036\n",
      "[388]\ttrain-rmse:0.06164\teval-rmse:0.39055\n",
      "[389]\ttrain-rmse:0.06153\teval-rmse:0.39052\n",
      "[390]\ttrain-rmse:0.06140\teval-rmse:0.39050\n",
      "[391]\ttrain-rmse:0.06128\teval-rmse:0.39080\n",
      "[392]\ttrain-rmse:0.06112\teval-rmse:0.39100\n",
      "[393]\ttrain-rmse:0.06092\teval-rmse:0.39150\n",
      "[394]\ttrain-rmse:0.06079\teval-rmse:0.39134\n",
      "[395]\ttrain-rmse:0.06046\teval-rmse:0.39110\n",
      "[396]\ttrain-rmse:0.06030\teval-rmse:0.39098\n",
      "[397]\ttrain-rmse:0.06018\teval-rmse:0.39098\n",
      "[398]\ttrain-rmse:0.06002\teval-rmse:0.39095\n",
      "[399]\ttrain-rmse:0.05988\teval-rmse:0.39115\n",
      "MSE: 0.09364616922176625, RMSE: 0.30601661592430934, R2: 0.8866122579562433\n"
     ]
    }
   ],
   "source": [
    "eval_list = [(dtr,'train'),(dval,'eval')]\n",
    "xgb_model = xgb.train(params = params, dtrain=dtr, num_boost_round=num_rounds,\n",
    "                      early_stopping_rounds=500, evals=eval_list)\n",
    "\n",
    "# pred = xgb_model.predict(dtest)\n",
    "# print(pred)\n",
    "\n",
    "pred = xgb_model.predict(dtest)\n",
    "mse = mean_squared_error(y_test, pred)\n",
    "rmse = np.sqrt(mse)\n",
    "\n",
    "print(f'MSE: {mse}, RMSE: {rmse}, R2: {r2_score(y_test, pred)}')\n"
   ]
  },
  {
   "cell_type": "code",
   "execution_count": 39,
   "id": "951c8e4f-4ace-4184-8733-595faa3de544",
   "metadata": {},
   "outputs": [
    {
     "name": "stdout",
     "output_type": "stream",
     "text": [
      "1704.0000000000005, 2612.487060546875\n",
      "618.0, 873.4860229492188\n",
      "271.0000000000001, 346.1717529296875\n",
      "3113.0000000000005, 4454.52978515625\n",
      "3989.000000000002, 3650.29443359375\n",
      "600.0, 656.7872924804688\n",
      "984.9999999999999, 861.5588989257812\n",
      "3886.9999999999973, 3822.2333984375\n",
      "3181.9999999999973, 2948.64892578125\n",
      "802.0, 912.876220703125\n",
      "2005.9999999999995, 1337.5302734375\n",
      "1883.0000000000002, 1668.4276123046875\n",
      "4919.0, 3909.57080078125\n",
      "3664.999999999999, 3617.4150390625\n",
      "3088.000000000001, 3104.43408203125\n",
      "417.9999999999999, 415.7871398925781\n",
      "1201.9999999999995, 1116.14892578125\n",
      "1250.0000000000005, 614.0736083984375\n",
      "1863.9999999999993, 3024.788330078125\n",
      "3491.0000000000027, 3354.71337890625\n",
      "1663.0000000000002, 1692.6275634765625\n",
      "2180.9999999999995, 2152.9267578125\n",
      "1559.0000000000005, 1740.5638427734375\n",
      "563.0000000000002, 1100.493408203125\n",
      "1662.0000000000005, 1566.093505859375\n",
      "704.0000000000002, 642.3274536132812\n",
      "867.0000000000003, 1143.75439453125\n",
      "520.0, 533.6309204101562\n",
      "4184.000000000001, 4107.9580078125\n",
      "5857.999999999996, 4963.71826171875\n",
      "206.99999999999997, 282.5157775878906\n",
      "3478.999999999998, 3518.90478515625\n",
      "2573.000000000001, 1738.30810546875\n",
      "4982.000000000002, 4588.41162109375\n",
      "3612.9999999999977, 3877.806396484375\n",
      "3682.000000000002, 3446.918212890625\n",
      "4936.000000000002, 4397.5595703125\n",
      "507.9999999999999, 733.0324096679688\n",
      "4164.000000000002, 3815.44677734375\n",
      "2244.9999999999995, 3001.974365234375\n",
      "4191.999999999996, 3999.669921875\n",
      "3187.9999999999977, 3433.548095703125\n",
      "944.9999999999998, 988.6480102539062\n",
      "2491.0000000000005, 1761.721435546875\n",
      "309.99999999999994, 396.69573974609375\n",
      "3645.9999999999973, 3241.8984375\n",
      "197.99999999999997, 903.2156372070312\n",
      "2994.0, 2218.64697265625\n",
      "3066.000000000002, 3293.890380859375\n",
      "807.9999999999997, 547.7523193359375\n",
      "2652.0000000000005, 2729.62890625\n",
      "3947.000000000002, 3831.078125\n",
      "235.0000000000001, 378.1845703125\n",
      "3788.0000000000014, 3535.4794921875\n",
      "4160.000000000004, 4374.56494140625\n",
      "3422.0000000000014, 3200.59814453125\n",
      "1460.0000000000002, 1261.307861328125\n",
      "925.9999999999999, 1029.7772216796875\n",
      "3334.999999999998, 3408.705810546875\n",
      "2034.9999999999998, 1872.4774169921875\n",
      "3802.9999999999973, 3509.638671875\n",
      "1613.0000000000007, 1512.9210205078125\n",
      "819.9999999999997, 737.6516723632812\n",
      "326.0, 456.9563293457031\n",
      "440.9999999999999, 1153.5654296875\n",
      "3190.9999999999986, 3454.186279296875\n",
      "3423.999999999998, 3120.941162109375\n",
      "3980.9999999999986, 3270.572998046875\n",
      "3422.0000000000014, 3535.32763671875\n",
      "891.9999999999997, 742.218505859375\n",
      "387.00000000000006, 450.08367919921875\n",
      "3929.0000000000005, 4298.8193359375\n",
      "2374.0000000000005, 2859.98291015625\n"
     ]
    }
   ],
   "source": [
    "y_t= np.expm1(y_test)\n",
    "p_t = pd.Series(np.expm1(pred))\n",
    "for solve, predd in zip(y_t, p_t):\n",
    "    print(f'{solve}, {predd}') \n",
    "\n",
    "# mse = mean_squared_error(dtest, pred)\n",
    "# rmse = np.sqrt(mse)\n",
    "\n",
    "# print(f'MSE: {mse}, RMSE: {rmse}, R2: {r2_score(y_test, pred)}')"
   ]
  },
  {
   "cell_type": "markdown",
   "id": "e8f9918a-5858-4b9c-b589-d7fd9db95cd6",
   "metadata": {},
   "source": [
    "# GBM"
   ]
  },
  {
   "cell_type": "code",
   "execution_count": 40,
   "id": "fba7e6e0-a731-40b9-969e-5365c769f5ff",
   "metadata": {},
   "outputs": [],
   "source": [
    "from sklearn.ensemble import GradientBoostingRegressor\n",
    "import time"
   ]
  },
  {
   "cell_type": "code",
   "execution_count": 41,
   "id": "43ec2186-aac8-41d6-bac2-6cda226d2bca",
   "metadata": {},
   "outputs": [
    {
     "name": "stdout",
     "output_type": "stream",
     "text": [
      "RMSE:  0.306\n",
      "R2: 0.8866122579562433\n"
     ]
    }
   ],
   "source": [
    "gb_ref = GradientBoostingRegressor(random_state=156)\n",
    "gb_ref.fit(X_train, y_train)\n",
    "gb_pred = gb_ref.predict(X_test)\n",
    "\n",
    "mse = mean_squared_error(y_test, pred)\n",
    "rmse = np.sqrt(mse)\n",
    "print('RMSE: ', np.round(rmse,3))\n",
    "print(f'R2: {r2_score(y_test, pred)}')"
   ]
  },
  {
   "cell_type": "code",
   "execution_count": 43,
   "id": "202fc250-45dd-44ea-9459-ce2f618d76fa",
   "metadata": {},
   "outputs": [
    {
     "name": "stdout",
     "output_type": "stream",
     "text": [
      "RMSE:  0.306\n",
      "R2: 0.8866122579562433\n"
     ]
    }
   ],
   "source": [
    "gb_ref = GradientBoostingRegressor(n_estimators=200, max_depth=16, min_samples_leaf=6, min_samples_split=2, random_state=156)\n",
    "gb_ref.fit(X_train, y_train)\n",
    "gb_pred = gb_ref.predict(X_test)\n",
    "\n",
    "mse = mean_squared_error(y_test, pred)\n",
    "rmse = np.sqrt(mse)\n",
    "print('RMSE: ', np.round(rmse,3))\n",
    "print(f'R2: {r2_score(y_test, pred)}')"
   ]
  },
  {
   "cell_type": "markdown",
   "id": "e1c56948-f083-4993-aa1a-16227f850a71",
   "metadata": {},
   "source": [
    "# LightGBM"
   ]
  },
  {
   "cell_type": "code",
   "execution_count": 44,
   "id": "ee274f70-5c9e-4511-89c6-3f808dcf96ae",
   "metadata": {},
   "outputs": [],
   "source": [
    "from lightgbm import LGBMRegressor"
   ]
  },
  {
   "cell_type": "code",
   "execution_count": 45,
   "id": "325ed784-56dd-4973-b0af-e641c74110b2",
   "metadata": {
    "tags": []
   },
   "outputs": [
    {
     "name": "stdout",
     "output_type": "stream",
     "text": [
      "[1]\ttraining's l2: 0.639807\tvalid_1's l2: 0.57374\n",
      "Training until validation scores don't improve for 100 rounds\n",
      "[2]\ttraining's l2: 0.595167\tvalid_1's l2: 0.525747\n",
      "[3]\ttraining's l2: 0.554647\tvalid_1's l2: 0.482893\n",
      "[4]\ttraining's l2: 0.518243\tvalid_1's l2: 0.444955\n",
      "[5]\ttraining's l2: 0.485763\tvalid_1's l2: 0.417727\n",
      "[6]\ttraining's l2: 0.455819\tvalid_1's l2: 0.386181\n",
      "[7]\ttraining's l2: 0.429161\tvalid_1's l2: 0.363633\n",
      "[8]\ttraining's l2: 0.404317\tvalid_1's l2: 0.338035\n",
      "[9]\ttraining's l2: 0.382495\tvalid_1's l2: 0.320537\n",
      "[10]\ttraining's l2: 0.36262\tvalid_1's l2: 0.304688\n",
      "[11]\ttraining's l2: 0.344151\tvalid_1's l2: 0.28625\n",
      "[12]\ttraining's l2: 0.327811\tvalid_1's l2: 0.27407\n",
      "[13]\ttraining's l2: 0.313254\tvalid_1's l2: 0.26136\n",
      "[14]\ttraining's l2: 0.298573\tvalid_1's l2: 0.246884\n",
      "[15]\ttraining's l2: 0.285604\tvalid_1's l2: 0.237293\n",
      "[16]\ttraining's l2: 0.274191\tvalid_1's l2: 0.228278\n",
      "[17]\ttraining's l2: 0.263203\tvalid_1's l2: 0.217396\n",
      "[18]\ttraining's l2: 0.253786\tvalid_1's l2: 0.210646\n",
      "[19]\ttraining's l2: 0.244236\tvalid_1's l2: 0.202273\n",
      "[20]\ttraining's l2: 0.235295\tvalid_1's l2: 0.19486\n",
      "[21]\ttraining's l2: 0.226986\tvalid_1's l2: 0.187647\n",
      "[22]\ttraining's l2: 0.219512\tvalid_1's l2: 0.181689\n",
      "[23]\ttraining's l2: 0.212846\tvalid_1's l2: 0.176513\n",
      "[24]\ttraining's l2: 0.206444\tvalid_1's l2: 0.171389\n",
      "[25]\ttraining's l2: 0.200314\tvalid_1's l2: 0.165422\n",
      "[26]\ttraining's l2: 0.194896\tvalid_1's l2: 0.161778\n",
      "[27]\ttraining's l2: 0.189038\tvalid_1's l2: 0.157135\n",
      "[28]\ttraining's l2: 0.184473\tvalid_1's l2: 0.154438\n",
      "[29]\ttraining's l2: 0.179971\tvalid_1's l2: 0.151136\n",
      "[30]\ttraining's l2: 0.175229\tvalid_1's l2: 0.147849\n",
      "[31]\ttraining's l2: 0.170855\tvalid_1's l2: 0.144026\n",
      "[32]\ttraining's l2: 0.165458\tvalid_1's l2: 0.138303\n",
      "[33]\ttraining's l2: 0.161991\tvalid_1's l2: 0.13531\n",
      "[34]\ttraining's l2: 0.157795\tvalid_1's l2: 0.130606\n",
      "[35]\ttraining's l2: 0.153827\tvalid_1's l2: 0.126873\n",
      "[36]\ttraining's l2: 0.150335\tvalid_1's l2: 0.123072\n",
      "[37]\ttraining's l2: 0.147135\tvalid_1's l2: 0.119706\n",
      "[38]\ttraining's l2: 0.143905\tvalid_1's l2: 0.11797\n",
      "[39]\ttraining's l2: 0.141127\tvalid_1's l2: 0.114782\n",
      "[40]\ttraining's l2: 0.137963\tvalid_1's l2: 0.111581\n",
      "[41]\ttraining's l2: 0.135536\tvalid_1's l2: 0.10845\n",
      "[42]\ttraining's l2: 0.132848\tvalid_1's l2: 0.107311\n",
      "[43]\ttraining's l2: 0.130457\tvalid_1's l2: 0.104944\n",
      "[44]\ttraining's l2: 0.128421\tvalid_1's l2: 0.102762\n",
      "[45]\ttraining's l2: 0.126112\tvalid_1's l2: 0.102212\n",
      "[46]\ttraining's l2: 0.124337\tvalid_1's l2: 0.10039\n",
      "[47]\ttraining's l2: 0.122404\tvalid_1's l2: 0.0988379\n",
      "[48]\ttraining's l2: 0.120492\tvalid_1's l2: 0.0972438\n",
      "[49]\ttraining's l2: 0.119012\tvalid_1's l2: 0.0950731\n",
      "[50]\ttraining's l2: 0.117178\tvalid_1's l2: 0.094597\n",
      "[51]\ttraining's l2: 0.115755\tvalid_1's l2: 0.0924433\n",
      "[52]\ttraining's l2: 0.114455\tvalid_1's l2: 0.0910444\n",
      "[53]\ttraining's l2: 0.113226\tvalid_1's l2: 0.0889832\n",
      "[54]\ttraining's l2: 0.111389\tvalid_1's l2: 0.0873233\n",
      "[55]\ttraining's l2: 0.10979\tvalid_1's l2: 0.0862207\n",
      "[56]\ttraining's l2: 0.108705\tvalid_1's l2: 0.0851918\n",
      "[57]\ttraining's l2: 0.107771\tvalid_1's l2: 0.0842804\n",
      "[58]\ttraining's l2: 0.10662\tvalid_1's l2: 0.0841372\n",
      "[59]\ttraining's l2: 0.10567\tvalid_1's l2: 0.082692\n",
      "[60]\ttraining's l2: 0.103956\tvalid_1's l2: 0.0826912\n",
      "[61]\ttraining's l2: 0.103044\tvalid_1's l2: 0.0816822\n",
      "[62]\ttraining's l2: 0.101432\tvalid_1's l2: 0.0809438\n",
      "[63]\ttraining's l2: 0.0998863\tvalid_1's l2: 0.0809985\n",
      "[64]\ttraining's l2: 0.0991287\tvalid_1's l2: 0.0801305\n",
      "[65]\ttraining's l2: 0.0977263\tvalid_1's l2: 0.0795692\n",
      "[66]\ttraining's l2: 0.0969993\tvalid_1's l2: 0.0788015\n",
      "[67]\ttraining's l2: 0.0957516\tvalid_1's l2: 0.0788996\n",
      "[68]\ttraining's l2: 0.094133\tvalid_1's l2: 0.0783094\n",
      "[69]\ttraining's l2: 0.0928054\tvalid_1's l2: 0.0784304\n",
      "[70]\ttraining's l2: 0.0921704\tvalid_1's l2: 0.0778723\n",
      "[71]\ttraining's l2: 0.0911048\tvalid_1's l2: 0.0780679\n",
      "[72]\ttraining's l2: 0.0897578\tvalid_1's l2: 0.0773015\n",
      "[73]\ttraining's l2: 0.0885101\tvalid_1's l2: 0.0763278\n",
      "[74]\ttraining's l2: 0.0879534\tvalid_1's l2: 0.0760511\n",
      "[75]\ttraining's l2: 0.086816\tvalid_1's l2: 0.0759052\n",
      "[76]\ttraining's l2: 0.0860286\tvalid_1's l2: 0.0753693\n",
      "[77]\ttraining's l2: 0.0852071\tvalid_1's l2: 0.0753421\n",
      "[78]\ttraining's l2: 0.0844726\tvalid_1's l2: 0.0759549\n",
      "[79]\ttraining's l2: 0.0834626\tvalid_1's l2: 0.0756743\n",
      "[80]\ttraining's l2: 0.082673\tvalid_1's l2: 0.0754985\n",
      "[81]\ttraining's l2: 0.0822915\tvalid_1's l2: 0.0755343\n",
      "[82]\ttraining's l2: 0.0818099\tvalid_1's l2: 0.0750817\n",
      "[83]\ttraining's l2: 0.0811892\tvalid_1's l2: 0.0748245\n",
      "[84]\ttraining's l2: 0.0808515\tvalid_1's l2: 0.0747303\n",
      "[85]\ttraining's l2: 0.0801265\tvalid_1's l2: 0.0748056\n",
      "[86]\ttraining's l2: 0.0791432\tvalid_1's l2: 0.0749387\n",
      "[87]\ttraining's l2: 0.078809\tvalid_1's l2: 0.0742385\n",
      "[88]\ttraining's l2: 0.0779751\tvalid_1's l2: 0.0743292\n",
      "[89]\ttraining's l2: 0.0772661\tvalid_1's l2: 0.0737621\n",
      "[90]\ttraining's l2: 0.0767596\tvalid_1's l2: 0.0742183\n",
      "[91]\ttraining's l2: 0.0762453\tvalid_1's l2: 0.0746088\n",
      "[92]\ttraining's l2: 0.0752937\tvalid_1's l2: 0.0747232\n",
      "[93]\ttraining's l2: 0.0746689\tvalid_1's l2: 0.0742906\n",
      "[94]\ttraining's l2: 0.0737617\tvalid_1's l2: 0.0741195\n",
      "[95]\ttraining's l2: 0.0733123\tvalid_1's l2: 0.0741334\n",
      "[96]\ttraining's l2: 0.0724926\tvalid_1's l2: 0.0743355\n",
      "[97]\ttraining's l2: 0.0718707\tvalid_1's l2: 0.0742553\n",
      "[98]\ttraining's l2: 0.0712246\tvalid_1's l2: 0.0741214\n",
      "[99]\ttraining's l2: 0.0708118\tvalid_1's l2: 0.0747757\n",
      "[100]\ttraining's l2: 0.0703829\tvalid_1's l2: 0.074984\n",
      "Did not meet early stopping. Best iteration is:\n",
      "[100]\ttraining's l2: 0.0703829\tvalid_1's l2: 0.074984\n",
      "RMSE:  0.346\n",
      "R2: 0.8552899147469343\n"
     ]
    }
   ],
   "source": [
    "X_tr, X_val, y_tr, y_val = train_test_split(X_train, y_train, test_size=0.1, random_state=156)\n",
    "lgbm = LGBMRegressor(n_estimators=100, learning_rate=0.05)\n",
    "\n",
    "evals = [(X_tr, y_tr), (X_val, y_val)]\n",
    "lgbm.fit(X_tr, y_tr, early_stopping_rounds=100, eval_metric='logloss', eval_set=evals, verbose=True)\n",
    "preds = lgbm.predict(X_test)\n",
    "\n",
    "mse = mean_squared_error(y_test, preds)\n",
    "rmse = np.sqrt(mse)\n",
    "print('RMSE: ', np.round(rmse,3))\n",
    "print(f'R2: {r2_score(y_test, preds)}')"
   ]
  },
  {
   "cell_type": "code",
   "execution_count": 46,
   "id": "3b68fb32-9944-4710-ae24-6e97b512d08e",
   "metadata": {},
   "outputs": [],
   "source": [
    "from lightgbm import plot_importance"
   ]
  },
  {
   "cell_type": "code",
   "execution_count": 47,
   "id": "894efc1f-621f-4ec1-bfa7-88b1a466d055",
   "metadata": {
    "tags": []
   },
   "outputs": [
    {
     "data": {
      "text/plain": [
       "<AxesSubplot:title={'center':'Feature importance'}, xlabel='Feature importance', ylabel='Features'>"
      ]
     },
     "execution_count": 47,
     "metadata": {},
     "output_type": "execute_result"
    },
    {
     "data": {
      "image/png": "[encoded data removed]",
      "text/plain": [
       "<Figure size 1000x1200 with 1 Axes>"
      ]
     },
     "metadata": {},
     "output_type": "display_data"
    }
   ],
   "source": [
    "fig, ax = plt.subplots(figsize=(10,12))\n",
    "plot_importance(lgbm, ax=ax)"
   ]
  },
  {
   "cell_type": "code",
   "execution_count": 48,
   "id": "0e24b99b-230b-458b-aaaa-9e09f2b04849",
   "metadata": {
    "tags": []
   },
   "outputs": [
    {
     "name": "stdout",
     "output_type": "stream",
     "text": [
      "1704.0000000000005, 2612.487060546875\n",
      "618.0, 873.4860229492188\n",
      "271.0000000000001, 346.1717529296875\n",
      "3113.0000000000005, 4454.52978515625\n",
      "3989.000000000002, 3650.29443359375\n",
      "600.0, 656.7872924804688\n",
      "984.9999999999999, 861.5588989257812\n",
      "3886.9999999999973, 3822.2333984375\n",
      "3181.9999999999973, 2948.64892578125\n",
      "802.0, 912.876220703125\n",
      "2005.9999999999995, 1337.5302734375\n",
      "1883.0000000000002, 1668.4276123046875\n",
      "4919.0, 3909.57080078125\n",
      "3664.999999999999, 3617.4150390625\n",
      "3088.000000000001, 3104.43408203125\n",
      "417.9999999999999, 415.7871398925781\n",
      "1201.9999999999995, 1116.14892578125\n",
      "1250.0000000000005, 614.0736083984375\n",
      "1863.9999999999993, 3024.788330078125\n",
      "3491.0000000000027, 3354.71337890625\n",
      "1663.0000000000002, 1692.6275634765625\n",
      "2180.9999999999995, 2152.9267578125\n",
      "1559.0000000000005, 1740.5638427734375\n",
      "563.0000000000002, 1100.493408203125\n",
      "1662.0000000000005, 1566.093505859375\n",
      "704.0000000000002, 642.3274536132812\n",
      "867.0000000000003, 1143.75439453125\n",
      "520.0, 533.6309204101562\n",
      "4184.000000000001, 4107.9580078125\n",
      "5857.999999999996, 4963.71826171875\n",
      "206.99999999999997, 282.5157775878906\n",
      "3478.999999999998, 3518.90478515625\n",
      "2573.000000000001, 1738.30810546875\n",
      "4982.000000000002, 4588.41162109375\n",
      "3612.9999999999977, 3877.806396484375\n",
      "3682.000000000002, 3446.918212890625\n",
      "4936.000000000002, 4397.5595703125\n",
      "507.9999999999999, 733.0324096679688\n",
      "4164.000000000002, 3815.44677734375\n",
      "2244.9999999999995, 3001.974365234375\n",
      "4191.999999999996, 3999.669921875\n",
      "3187.9999999999977, 3433.548095703125\n",
      "944.9999999999998, 988.6480102539062\n",
      "2491.0000000000005, 1761.721435546875\n",
      "309.99999999999994, 396.69573974609375\n",
      "3645.9999999999973, 3241.8984375\n",
      "197.99999999999997, 903.2156372070312\n",
      "2994.0, 2218.64697265625\n",
      "3066.000000000002, 3293.890380859375\n",
      "807.9999999999997, 547.7523193359375\n",
      "2652.0000000000005, 2729.62890625\n",
      "3947.000000000002, 3831.078125\n",
      "235.0000000000001, 378.1845703125\n",
      "3788.0000000000014, 3535.4794921875\n",
      "4160.000000000004, 4374.56494140625\n",
      "3422.0000000000014, 3200.59814453125\n",
      "1460.0000000000002, 1261.307861328125\n",
      "925.9999999999999, 1029.7772216796875\n",
      "3334.999999999998, 3408.705810546875\n",
      "2034.9999999999998, 1872.4774169921875\n",
      "3802.9999999999973, 3509.638671875\n",
      "1613.0000000000007, 1512.9210205078125\n",
      "819.9999999999997, 737.6516723632812\n",
      "326.0, 456.9563293457031\n",
      "440.9999999999999, 1153.5654296875\n",
      "3190.9999999999986, 3454.186279296875\n",
      "3423.999999999998, 3120.941162109375\n",
      "3980.9999999999986, 3270.572998046875\n",
      "3422.0000000000014, 3535.32763671875\n",
      "891.9999999999997, 742.218505859375\n",
      "387.00000000000006, 450.08367919921875\n",
      "3929.0000000000005, 4298.8193359375\n",
      "2374.0000000000005, 2859.98291015625\n"
     ]
    }
   ],
   "source": [
    "for solve, predd in zip(np.expm1(y_test), np.expm1(pred)):\n",
    "    print(f'{solve}, {predd}')"
   ]
  },
  {
   "cell_type": "code",
   "execution_count": null,
   "id": "ae1d6007-acf3-42aa-a188-dea0d5333bfc",
   "metadata": {},
   "outputs": [],
   "source": [
    "from hyperopt import hp"
   ]
  },
  {
   "cell_type": "code",
   "execution_count": null,
   "id": "881c55f9-5c6d-4109-b01d-e8b1fee513c4",
   "metadata": {},
   "outputs": [],
   "source": [
    "lgb_space = {\n",
    "    'max_depth': hp.quniform('max_depth', 5, 20, 1),\n",
    "    'min_child_weight': hp.quniform('min_child_weight', 1,2,1),\n",
    "    'learning_rate':hp.uniform('learning_rate',0.01,0.2),\n",
    "    'colsample_bytree' : hp.uniform('colsample_bytree',0.5,1)\n",
    "}\n"
   ]
  },
  {
   "cell_type": "code",
   "execution_count": 230,
   "id": "85f6a9fb-1c6a-4edf-a478-22de5dd625dc",
   "metadata": {},
   "outputs": [],
   "source": [
    "from hyperopt import STATUS_OK"
   ]
  },
  {
   "cell_type": "code",
   "execution_count": null,
   "id": "05f8fcbe-2f05-4f36-bb97-c0045df155e6",
   "metadata": {},
   "outputs": [],
   "source": [
    "# def objective_func(lgb_space):\n",
    "#     max_depth=lgb_space[max_depth]\n",
    "#     min_child_weight=lgb_space[min_child_weight]\n",
    "#     learning_rate=lgb_space[learning_rate]\n",
    "#     colsample_bytree=lgb_space[colsample_bytree]\n",
    "#     reval = "
   ]
  },
  {
   "cell_type": "code",
   "execution_count": 231,
   "id": "e40ca35e-2444-4a05-80ff-58f6ced2378d",
   "metadata": {},
   "outputs": [],
   "source": [
    "from hyperopt import fmin, tpe, Trials"
   ]
  },
  {
   "cell_type": "code",
   "execution_count": 232,
   "id": "0402863c-82b7-468c-adf3-57718130a89d",
   "metadata": {},
   "outputs": [
    {
     "ename": "NameError",
     "evalue": "name 'objective_func' is not defined",
     "output_type": "error",
     "traceback": [
      "\u001b[1;31m---------------------------------------------------------------------------\u001b[0m",
      "\u001b[1;31mNameError\u001b[0m                                 Traceback (most recent call last)",
      "\u001b[1;32m~\\AppData\\Local\\Temp\\ipykernel_7444\\4134025428.py\u001b[0m in \u001b[0;36m<module>\u001b[1;34m\u001b[0m\n\u001b[0;32m      1\u001b[0m \u001b[0mtrival_val\u001b[0m \u001b[1;33m=\u001b[0m \u001b[0mTrials\u001b[0m\u001b[1;33m(\u001b[0m\u001b[1;33m)\u001b[0m\u001b[1;33m\u001b[0m\u001b[1;33m\u001b[0m\u001b[0m\n\u001b[0;32m      2\u001b[0m \u001b[1;33m\u001b[0m\u001b[0m\n\u001b[1;32m----> 3\u001b[1;33m best_01 = fmin(fn=objective_func, space=search_space, algo=tpe.suggest, max_evals=5,\n\u001b[0m\u001b[0;32m      4\u001b[0m               trials=trial_val, rstate=np.random.default_rng(seed=0))\n\u001b[0;32m      5\u001b[0m \u001b[0mprint\u001b[0m\u001b[1;33m(\u001b[0m\u001b[1;34m'best:'\u001b[0m\u001b[1;33m,\u001b[0m\u001b[0mbest_01\u001b[0m\u001b[1;33m)\u001b[0m\u001b[1;33m\u001b[0m\u001b[1;33m\u001b[0m\u001b[0m\n",
      "\u001b[1;31mNameError\u001b[0m: name 'objective_func' is not defined"
     ]
    }
   ],
   "source": [
    "# trival_val = Trials()\n",
    "\n",
    "# best_01 = fmin(fn=objective_func, space=search_space, algo=tpe.suggest, max_evals=5,\n",
    "#               trials=trial_val, rstate=np.random.default_rng(seed=0))\n",
    "# print('best:',best_01)"
   ]
  },
  {
   "cell_type": "code",
   "execution_count": null,
   "id": "73c17321-5a5d-4b10-9d58-d898132a498f",
   "metadata": {},
   "outputs": [],
   "source": []
  }
 ],
 "metadata": {
  "kernelspec": {
   "display_name": "Python 3 (ipykernel)",
   "language": "python",
   "name": "python3"
  },
  "language_info": {
   "codemirror_mode": {
    "name": "ipython",
    "version": 3
   },
   "file_extension": ".py",
   "mimetype": "text/x-python",
   "name": "python",
   "nbconvert_exporter": "python",
   "pygments_lexer": "ipython3",
   "version": "3.9.13"
  }
 },
 "nbformat": 4,
 "nbformat_minor": 5
}
