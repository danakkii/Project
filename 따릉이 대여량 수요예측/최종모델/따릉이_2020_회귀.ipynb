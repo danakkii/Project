{
 "cells": [
  {
   "cell_type": "markdown",
   "id": "a3610328-bb32-4af5-bd30-af5a968458dd",
   "metadata": {},
   "source": [
    "# import"
   ]
  },
  {
   "cell_type": "code",
   "execution_count": 18,
   "id": "602acea3-fbe7-4974-88cb-f1674839db53",
   "metadata": {},
   "outputs": [],
   "source": [
    "import pandas as pd\n",
    "import numpy as np\n",
    "import matplotlib.pyplot as plt\n",
    "import seaborn as sns\n",
    "import warnings \n",
    "warnings.filterwarnings('ignore')\n",
    "from scipy.stats import skew\n",
    "from sklearn.model_selection import train_test_split\n",
    "from sklearn.linear_model import LinearRegression,Ridge,Lasso, LogisticRegression\n",
    "from sklearn.metrics import mean_squared_error, mean_absolute_error, r2_score"
   ]
  },
  {
   "cell_type": "markdown",
   "id": "e48d9188-9426-45ea-9944-d6290afd016f",
   "metadata": {
    "tags": []
   },
   "source": [
    "## 전처리\n",
    "    "
   ]
  },
  {
   "cell_type": "code",
   "execution_count": 19,
   "id": "a73771c1-86a3-478a-af57-3fd26d79e047",
   "metadata": {},
   "outputs": [
    {
     "data": {
      "text/html": [
       "<div>\n",
       "<style scoped>\n",
       "    .dataframe tbody tr th:only-of-type {\n",
       "        vertical-align: middle;\n",
       "    }\n",
       "\n",
       "    .dataframe tbody tr th {\n",
       "        vertical-align: top;\n",
       "    }\n",
       "\n",
       "    .dataframe thead th {\n",
       "        text-align: right;\n",
       "    }\n",
       "</style>\n",
       "<table border=\"1\" class=\"dataframe\">\n",
       "  <thead>\n",
       "    <tr style=\"text-align: right;\">\n",
       "      <th></th>\n",
       "      <th>총생활인구수</th>\n",
       "      <th>기온</th>\n",
       "      <th>기압</th>\n",
       "      <th>풍속</th>\n",
       "      <th>운량</th>\n",
       "      <th>일강수량</th>\n",
       "      <th>최대순간풍속풍향</th>\n",
       "      <th>최대풍속풍향</th>\n",
       "      <th>평균풍속</th>\n",
       "      <th>최다풍향</th>\n",
       "      <th>일최심적설</th>\n",
       "      <th>일최심신적설</th>\n",
       "      <th>강수여부</th>\n",
       "      <th>일 미세먼지 농도(㎍/㎥)</th>\n",
       "      <th>휴일여부</th>\n",
       "      <th>요일</th>\n",
       "      <th>계절</th>\n",
       "      <th>month</th>\n",
       "      <th>day</th>\n",
       "      <th>영등포구</th>\n",
       "    </tr>\n",
       "  </thead>\n",
       "  <tbody>\n",
       "    <tr>\n",
       "      <th>0</th>\n",
       "      <td>423609.687</td>\n",
       "      <td>2.887</td>\n",
       "      <td>-1.002</td>\n",
       "      <td>-2.052</td>\n",
       "      <td>0.055</td>\n",
       "      <td>0.1</td>\n",
       "      <td>50</td>\n",
       "      <td>50</td>\n",
       "      <td>0.6</td>\n",
       "      <td>50</td>\n",
       "      <td>0.0</td>\n",
       "      <td>0.0</td>\n",
       "      <td>1.0</td>\n",
       "      <td>39.0</td>\n",
       "      <td>1</td>\n",
       "      <td>2</td>\n",
       "      <td>4</td>\n",
       "      <td>1</td>\n",
       "      <td>1</td>\n",
       "      <td>1113.0</td>\n",
       "    </tr>\n",
       "    <tr>\n",
       "      <th>1</th>\n",
       "      <td>487657.492</td>\n",
       "      <td>2.159</td>\n",
       "      <td>-0.893</td>\n",
       "      <td>-0.719</td>\n",
       "      <td>0.826</td>\n",
       "      <td>0.0</td>\n",
       "      <td>250</td>\n",
       "      <td>290</td>\n",
       "      <td>1.2</td>\n",
       "      <td>50</td>\n",
       "      <td>0.0</td>\n",
       "      <td>0.0</td>\n",
       "      <td>0.0</td>\n",
       "      <td>69.0</td>\n",
       "      <td>0</td>\n",
       "      <td>3</td>\n",
       "      <td>4</td>\n",
       "      <td>1</td>\n",
       "      <td>2</td>\n",
       "      <td>2441.0</td>\n",
       "    </tr>\n",
       "    <tr>\n",
       "      <th>2</th>\n",
       "      <td>491192.490</td>\n",
       "      <td>2.449</td>\n",
       "      <td>-1.014</td>\n",
       "      <td>-1.259</td>\n",
       "      <td>-0.759</td>\n",
       "      <td>0.0</td>\n",
       "      <td>270</td>\n",
       "      <td>270</td>\n",
       "      <td>1.7</td>\n",
       "      <td>290</td>\n",
       "      <td>0.0</td>\n",
       "      <td>0.0</td>\n",
       "      <td>0.0</td>\n",
       "      <td>78.0</td>\n",
       "      <td>0</td>\n",
       "      <td>4</td>\n",
       "      <td>4</td>\n",
       "      <td>1</td>\n",
       "      <td>3</td>\n",
       "      <td>2579.0</td>\n",
       "    </tr>\n",
       "    <tr>\n",
       "      <th>3</th>\n",
       "      <td>439758.830</td>\n",
       "      <td>2.279</td>\n",
       "      <td>-1.014</td>\n",
       "      <td>0.081</td>\n",
       "      <td>-0.784</td>\n",
       "      <td>0.0</td>\n",
       "      <td>340</td>\n",
       "      <td>320</td>\n",
       "      <td>1.9</td>\n",
       "      <td>50</td>\n",
       "      <td>0.0</td>\n",
       "      <td>0.0</td>\n",
       "      <td>0.0</td>\n",
       "      <td>63.0</td>\n",
       "      <td>0</td>\n",
       "      <td>5</td>\n",
       "      <td>4</td>\n",
       "      <td>1</td>\n",
       "      <td>4</td>\n",
       "      <td>1826.0</td>\n",
       "    </tr>\n",
       "    <tr>\n",
       "      <th>4</th>\n",
       "      <td>437808.924</td>\n",
       "      <td>2.322</td>\n",
       "      <td>-1.050</td>\n",
       "      <td>-2.000</td>\n",
       "      <td>-1.194</td>\n",
       "      <td>0.0</td>\n",
       "      <td>180</td>\n",
       "      <td>70</td>\n",
       "      <td>1.1</td>\n",
       "      <td>50</td>\n",
       "      <td>0.0</td>\n",
       "      <td>0.0</td>\n",
       "      <td>0.0</td>\n",
       "      <td>62.0</td>\n",
       "      <td>0</td>\n",
       "      <td>6</td>\n",
       "      <td>4</td>\n",
       "      <td>1</td>\n",
       "      <td>5</td>\n",
       "      <td>1647.0</td>\n",
       "    </tr>\n",
       "    <tr>\n",
       "      <th>...</th>\n",
       "      <td>...</td>\n",
       "      <td>...</td>\n",
       "      <td>...</td>\n",
       "      <td>...</td>\n",
       "      <td>...</td>\n",
       "      <td>...</td>\n",
       "      <td>...</td>\n",
       "      <td>...</td>\n",
       "      <td>...</td>\n",
       "      <td>...</td>\n",
       "      <td>...</td>\n",
       "      <td>...</td>\n",
       "      <td>...</td>\n",
       "      <td>...</td>\n",
       "      <td>...</td>\n",
       "      <td>...</td>\n",
       "      <td>...</td>\n",
       "      <td>...</td>\n",
       "      <td>...</td>\n",
       "      <td>...</td>\n",
       "    </tr>\n",
       "    <tr>\n",
       "      <th>361</th>\n",
       "      <td>401861.410</td>\n",
       "      <td>1.377</td>\n",
       "      <td>-0.712</td>\n",
       "      <td>-1.882</td>\n",
       "      <td>0.455</td>\n",
       "      <td>0.0</td>\n",
       "      <td>70</td>\n",
       "      <td>50</td>\n",
       "      <td>1.8</td>\n",
       "      <td>70</td>\n",
       "      <td>0.0</td>\n",
       "      <td>0.0</td>\n",
       "      <td>0.0</td>\n",
       "      <td>95.0</td>\n",
       "      <td>0</td>\n",
       "      <td>6</td>\n",
       "      <td>4</td>\n",
       "      <td>12</td>\n",
       "      <td>27</td>\n",
       "      <td>2736.0</td>\n",
       "    </tr>\n",
       "    <tr>\n",
       "      <th>362</th>\n",
       "      <td>455252.503</td>\n",
       "      <td>1.029</td>\n",
       "      <td>-0.579</td>\n",
       "      <td>-1.454</td>\n",
       "      <td>0.750</td>\n",
       "      <td>1.3</td>\n",
       "      <td>270</td>\n",
       "      <td>290</td>\n",
       "      <td>1.4</td>\n",
       "      <td>50</td>\n",
       "      <td>0.0</td>\n",
       "      <td>0.0</td>\n",
       "      <td>1.0</td>\n",
       "      <td>94.0</td>\n",
       "      <td>0</td>\n",
       "      <td>0</td>\n",
       "      <td>4</td>\n",
       "      <td>12</td>\n",
       "      <td>28</td>\n",
       "      <td>3888.0</td>\n",
       "    </tr>\n",
       "    <tr>\n",
       "      <th>363</th>\n",
       "      <td>456759.917</td>\n",
       "      <td>2.434</td>\n",
       "      <td>-0.857</td>\n",
       "      <td>1.469</td>\n",
       "      <td>0.477</td>\n",
       "      <td>0.2</td>\n",
       "      <td>290</td>\n",
       "      <td>320</td>\n",
       "      <td>2.9</td>\n",
       "      <td>270</td>\n",
       "      <td>0.0</td>\n",
       "      <td>0.0</td>\n",
       "      <td>1.0</td>\n",
       "      <td>96.0</td>\n",
       "      <td>0</td>\n",
       "      <td>1</td>\n",
       "      <td>4</td>\n",
       "      <td>12</td>\n",
       "      <td>29</td>\n",
       "      <td>2854.0</td>\n",
       "    </tr>\n",
       "    <tr>\n",
       "      <th>364</th>\n",
       "      <td>457026.584</td>\n",
       "      <td>4.324</td>\n",
       "      <td>-1.231</td>\n",
       "      <td>1.640</td>\n",
       "      <td>-0.184</td>\n",
       "      <td>0.0</td>\n",
       "      <td>290</td>\n",
       "      <td>270</td>\n",
       "      <td>4.1</td>\n",
       "      <td>270</td>\n",
       "      <td>0.0</td>\n",
       "      <td>0.0</td>\n",
       "      <td>0.0</td>\n",
       "      <td>47.0</td>\n",
       "      <td>0</td>\n",
       "      <td>2</td>\n",
       "      <td>4</td>\n",
       "      <td>12</td>\n",
       "      <td>30</td>\n",
       "      <td>1709.0</td>\n",
       "    </tr>\n",
       "    <tr>\n",
       "      <th>365</th>\n",
       "      <td>445801.224</td>\n",
       "      <td>4.109</td>\n",
       "      <td>-1.207</td>\n",
       "      <td>-0.405</td>\n",
       "      <td>-0.215</td>\n",
       "      <td>0.0</td>\n",
       "      <td>320</td>\n",
       "      <td>250</td>\n",
       "      <td>2.4</td>\n",
       "      <td>270</td>\n",
       "      <td>0.0</td>\n",
       "      <td>0.0</td>\n",
       "      <td>0.0</td>\n",
       "      <td>34.0</td>\n",
       "      <td>0</td>\n",
       "      <td>3</td>\n",
       "      <td>4</td>\n",
       "      <td>12</td>\n",
       "      <td>31</td>\n",
       "      <td>1927.0</td>\n",
       "    </tr>\n",
       "  </tbody>\n",
       "</table>\n",
       "<p>366 rows × 20 columns</p>\n",
       "</div>"
      ],
      "text/plain": [
       "         총생활인구수     기온     기압     풍속     운량  일강수량  최대순간풍속풍향  최대풍속풍향  평균풍속  \\\n",
       "0    423609.687  2.887 -1.002 -2.052  0.055   0.1        50      50   0.6   \n",
       "1    487657.492  2.159 -0.893 -0.719  0.826   0.0       250     290   1.2   \n",
       "2    491192.490  2.449 -1.014 -1.259 -0.759   0.0       270     270   1.7   \n",
       "3    439758.830  2.279 -1.014  0.081 -0.784   0.0       340     320   1.9   \n",
       "4    437808.924  2.322 -1.050 -2.000 -1.194   0.0       180      70   1.1   \n",
       "..          ...    ...    ...    ...    ...   ...       ...     ...   ...   \n",
       "361  401861.410  1.377 -0.712 -1.882  0.455   0.0        70      50   1.8   \n",
       "362  455252.503  1.029 -0.579 -1.454  0.750   1.3       270     290   1.4   \n",
       "363  456759.917  2.434 -0.857  1.469  0.477   0.2       290     320   2.9   \n",
       "364  457026.584  4.324 -1.231  1.640 -0.184   0.0       290     270   4.1   \n",
       "365  445801.224  4.109 -1.207 -0.405 -0.215   0.0       320     250   2.4   \n",
       "\n",
       "     최다풍향  일최심적설  일최심신적설  강수여부  일 미세먼지 농도(㎍/㎥)  휴일여부  요일  계절  month  day  \\\n",
       "0      50    0.0     0.0   1.0            39.0     1   2   4      1    1   \n",
       "1      50    0.0     0.0   0.0            69.0     0   3   4      1    2   \n",
       "2     290    0.0     0.0   0.0            78.0     0   4   4      1    3   \n",
       "3      50    0.0     0.0   0.0            63.0     0   5   4      1    4   \n",
       "4      50    0.0     0.0   0.0            62.0     0   6   4      1    5   \n",
       "..    ...    ...     ...   ...             ...   ...  ..  ..    ...  ...   \n",
       "361    70    0.0     0.0   0.0            95.0     0   6   4     12   27   \n",
       "362    50    0.0     0.0   1.0            94.0     0   0   4     12   28   \n",
       "363   270    0.0     0.0   1.0            96.0     0   1   4     12   29   \n",
       "364   270    0.0     0.0   0.0            47.0     0   2   4     12   30   \n",
       "365   270    0.0     0.0   0.0            34.0     0   3   4     12   31   \n",
       "\n",
       "       영등포구  \n",
       "0    1113.0  \n",
       "1    2441.0  \n",
       "2    2579.0  \n",
       "3    1826.0  \n",
       "4    1647.0  \n",
       "..      ...  \n",
       "361  2736.0  \n",
       "362  3888.0  \n",
       "363  2854.0  \n",
       "364  1709.0  \n",
       "365  1927.0  \n",
       "\n",
       "[366 rows x 20 columns]"
      ]
     },
     "execution_count": 19,
     "metadata": {},
     "output_type": "execute_result"
    }
   ],
   "source": [
    "test5 = pd.read_csv('2020_전처리_최종.csv')\n",
    "test5.round(3)"
   ]
  },
  {
   "cell_type": "markdown",
   "id": "f80ecd0b-06b5-4b24-a99c-ec7a0a2da94d",
   "metadata": {},
   "source": [
    "# LinearRegression, Ridge, Lasso"
   ]
  },
  {
   "cell_type": "code",
   "execution_count": 20,
   "id": "af1ff9f4-04d8-4e58-968a-f370f9f4c7d0",
   "metadata": {},
   "outputs": [],
   "source": [
    "test5[[ '강수여부','휴일여부','요일', '계절', 'month','day',]]= test5[[ '강수여부','휴일여부','요일', '계절', 'month','day']].astype('str')"
   ]
  },
  {
   "cell_type": "code",
   "execution_count": 21,
   "id": "28bd866f-0fa9-472f-97db-591c4207d645",
   "metadata": {},
   "outputs": [],
   "source": [
    "def get_rmse(model):\n",
    "    import numpy as np\n",
    "    from sklearn.metrics import mean_squared_error\n",
    "    pred = model.predict(X_test)\n",
    "    mse = mean_squared_error(y_test, pred)\n",
    "    rmse = np.sqrt(mse)\n",
    "    print(model.__class__.__name__, 'RMSE: ', np.round(rmse,3))\n",
    "    return rmse\n",
    "def get_rmses(models):\n",
    "    rmses = []\n",
    "    for model in models:\n",
    "        rmse = get_rmse(model)\n",
    "        rmses.append(rmse)\n",
    "    return rmses"
   ]
  },
  {
   "cell_type": "code",
   "execution_count": 22,
   "id": "4fff3c43-574f-4ff9-97e6-e05606daea31",
   "metadata": {},
   "outputs": [],
   "source": [
    "X = test5.drop(columns=['영등포구'])\n",
    "y = test5['영등포구']\n",
    "X_train, X_test, y_train, y_test = train_test_split(X,y, test_size=0.2, random_state=156)"
   ]
  },
  {
   "cell_type": "code",
   "execution_count": 23,
   "id": "22aefe37-67e4-43eb-92b0-d4ec120d5140",
   "metadata": {},
   "outputs": [
    {
     "name": "stdout",
     "output_type": "stream",
     "text": [
      "LinearRegression RMSE:  1024.298\n",
      "Ridge RMSE:  1022.051\n",
      "Lasso RMSE:  1024.3\n"
     ]
    },
    {
     "data": {
      "text/plain": [
       "[1024.2978822456344, 1022.0513400135153, 1024.2996221885587]"
      ]
     },
     "execution_count": 23,
     "metadata": {},
     "output_type": "execute_result"
    }
   ],
   "source": [
    "lr_reg = LinearRegression() #선형회귀\n",
    "lr_reg.fit(X_train, y_train)\n",
    "pred = lr_reg.predict(X_test)\n",
    "mse = mean_squared_error(y_test, pred)\n",
    "rmse = np.sqrt(mse)\n",
    "ridge_reg = Ridge()\n",
    "ridge_reg.fit(X_train, y_train)\n",
    "lasso_reg = Lasso()\n",
    "lasso_reg.fit(X_train, y_train)\n",
    "models = [lr_reg, ridge_reg, lasso_reg]\n",
    "get_rmses(models) # R2 점수 추가함"
   ]
  },
  {
   "cell_type": "code",
   "execution_count": 24,
   "id": "413e3ced-b01c-43c2-9b37-0c452fd14c72",
   "metadata": {},
   "outputs": [
    {
     "data": {
      "text/plain": [
       "일최심신적설    10.747071\n",
       "일최심적설      9.583432\n",
       "일강수량       4.404383\n",
       "dtype: float64"
      ]
     },
     "execution_count": 24,
     "metadata": {},
     "output_type": "execute_result"
    }
   ],
   "source": [
    "# 왜곡도 확인\n",
    "features_index = test5.dtypes[test5.dtypes != 'object'].index\n",
    "skew_features= test5[features_index].apply(lambda x : skew(x))\n",
    "skew_features_top = skew_features[skew_features>2]\n",
    "skew_features_top.sort_values(ascending=False)"
   ]
  },
  {
   "cell_type": "code",
   "execution_count": 25,
   "id": "3f30c982-1801-4eaf-a8f7-1bcd58eebf01",
   "metadata": {},
   "outputs": [],
   "source": [
    "# 왜곡도 1 이상은 로그로 변환\n",
    "test5[skew_features_top.index]= np.log1p(test5[skew_features_top.index])"
   ]
  },
  {
   "cell_type": "code",
   "execution_count": 26,
   "id": "5bdaf1d5-ab0c-44b8-9b72-7bbafea8ffb9",
   "metadata": {},
   "outputs": [
    {
     "data": {
      "text/plain": [
       "<AxesSubplot:xlabel='영등포구', ylabel='Count'>"
      ]
     },
     "execution_count": 26,
     "metadata": {},
     "output_type": "execute_result"
    },
    {
     "data": {
      "image/png": "[encoded data removed]",
      "text/plain": [
       "<Figure size 640x480 with 1 Axes>"
      ]
     },
     "metadata": {},
     "output_type": "display_data"
    }
   ],
   "source": [
    "# y값 정규분포로 변환\n",
    "log_test = np.log1p(test5['영등포구'])\n",
    "sns.histplot(log_test, kde=True)"
   ]
  },
  {
   "cell_type": "code",
   "execution_count": 27,
   "id": "2aabccd0-c13b-4972-bba9-205f850dddd6",
   "metadata": {},
   "outputs": [],
   "source": [
    "# 문자열 치환 원앤핫인코딩\n",
    "test5 = pd.get_dummies(test5)\n",
    "X = test5.drop(columns=['영등포구'])\n",
    "y = log_test\n",
    "X_train, X_test, y_train, y_test = train_test_split(X,y, test_size=0.2, random_state=156)"
   ]
  },
  {
   "cell_type": "code",
   "execution_count": 28,
   "id": "f8029b5f-45d0-4d73-9af0-204df2a0f10f",
   "metadata": {},
   "outputs": [
    {
     "name": "stdout",
     "output_type": "stream",
     "text": [
      "MSE: 0.10958104108458565, RMSE: 0.33103027215737485, R2: 0.7566123792655945\n",
      "LinearRegression RMSE:  0.331\n",
      "Ridge RMSE:  0.324\n",
      "Lasso RMSE:  0.673\n"
     ]
    },
    {
     "data": {
      "text/plain": [
       "[0.33103027215737485, 0.3238538888846048, 0.6728332422441412]"
      ]
     },
     "execution_count": 28,
     "metadata": {},
     "output_type": "execute_result"
    }
   ],
   "source": [
    "# 모델 확인\n",
    "lr_reg = LinearRegression()\n",
    "lr_reg.fit(X_train, y_train)\n",
    "pred = lr_reg.predict(X_test)\n",
    "mse = mean_squared_error(y_test, pred)\n",
    "rmse = np.sqrt(mse)\n",
    "print(f'MSE: {mse}, RMSE: {rmse}, R2: {r2_score(y_test, pred)}')\n",
    "ridge_reg = Ridge()\n",
    "ridge_reg.fit(X_train, y_train)\n",
    "lasso_reg = Lasso()\n",
    "lasso_reg.fit(X_train, y_train)\n",
    "models = [lr_reg, ridge_reg, lasso_reg]\n",
    "get_rmses(models)"
   ]
  },
  {
   "cell_type": "code",
   "execution_count": 29,
   "id": "16792fec-65d2-40bc-9d46-f75c80f664fe",
   "metadata": {},
   "outputs": [
    {
     "name": "stdout",
     "output_type": "stream",
     "text": [
      "6298.999999999996, 4661.561468470016\n",
      "7628.9999999999945, 8181.875469923967\n",
      "1113.0000000000005, 1227.4038089471658\n",
      "8602.999999999995, 7911.500933988629\n",
      "2404.0, 2400.725750726732\n",
      "3026.9999999999995, 2248.507575933374\n",
      "2370.000000000001, 2208.056772225623\n",
      "6069.000000000002, 2520.209142015416\n",
      "9589.000000000005, 9527.081771909947\n",
      "7672.999999999998, 10099.746875912273\n",
      "7283.000000000005, 6360.533628749365\n",
      "7084.000000000003, 8223.977700721072\n",
      "8450.000000000005, 6566.402865468421\n",
      "2484.000000000001, 2790.0546057943893\n",
      "2833.999999999999, 3730.15950067207\n",
      "844.0000000000001, 2099.777773819377\n",
      "2790.0000000000005, 1647.043403792839\n",
      "9038.999999999998, 6267.445532537854\n",
      "7971.999999999999, 7185.0623909981905\n",
      "8221.000000000004, 9265.895795978513\n",
      "7079.999999999999, 8357.619015795615\n",
      "8224.999999999995, 7590.03734914299\n",
      "7695.999999999995, 8848.614428272525\n",
      "8729.0, 10104.710377835909\n",
      "5994.999999999995, 5351.909884619027\n",
      "9210.999999999995, 7171.473107312204\n",
      "6744.999999999999, 6052.514516238236\n",
      "2621.999999999999, 2476.1916102212735\n",
      "3497.000000000001, 2507.9451173986367\n",
      "6580.999999999995, 5513.912070860062\n",
      "2261.9999999999995, 1310.5113504014248\n",
      "7376.0000000000055, 7355.906488975733\n",
      "6830.999999999998, 4545.0078551872975\n",
      "3671.9999999999977, 3049.8604149849602\n",
      "3921.999999999997, 3857.3621909298677\n",
      "3074.999999999999, 2372.893612214278\n",
      "2641.0, 2461.3721712552174\n",
      "1524.0000000000005, 1488.3524211774184\n",
      "8990.000000000002, 4853.3996250996415\n",
      "4055.999999999997, 4195.439447760068\n",
      "1777.0000000000002, 2156.519439470553\n",
      "7067.000000000002, 5767.919494737635\n",
      "5984.999999999995, 2559.9495170944792\n",
      "5840.000000000001, 6220.55814992037\n",
      "8055.0000000000055, 7430.001055296773\n",
      "7628.0, 7825.603924226099\n",
      "899.9999999999998, 1408.3024288864797\n",
      "6576.999999999998, 7528.15006994336\n",
      "6596.000000000003, 6177.221340348385\n",
      "8509.000000000005, 6203.5887263524355\n",
      "987.0000000000005, 3415.4497221189654\n",
      "3871.0000000000027, 3176.9589920340686\n",
      "2225.0000000000005, 1987.0226040854593\n",
      "4391.000000000001, 4333.2269529285795\n",
      "4323.999999999999, 4043.265333806857\n",
      "9050.0, 10003.272750420983\n",
      "5357.0, 6290.570315373966\n",
      "1913.9999999999995, 2220.002347380554\n",
      "5968.000000000004, 4040.049929997169\n",
      "6757.999999999996, 5331.996174287537\n",
      "3696.0000000000023, 3017.621095523873\n",
      "8357.999999999995, 7741.205391994115\n",
      "2732.999999999999, 2240.3819819823575\n",
      "2447.0000000000005, 1753.0150875558718\n",
      "849.0000000000003, 1981.5163972424696\n",
      "2579.0000000000005, 2210.5025453540793\n",
      "7391.000000000001, 4458.831645587931\n",
      "8644.999999999995, 9961.955649078722\n",
      "8498.000000000004, 10656.066559589064\n",
      "4705.000000000004, 5038.804993507771\n",
      "6253.999999999997, 6412.360333082838\n",
      "8504.0, 7889.069805551793\n",
      "8444.999999999995, 7037.228058383889\n",
      "1131.0000000000002, 1358.079124758556\n"
     ]
    }
   ],
   "source": [
    "# 루트치환값 다시 원래대로 돌려서 비교\n",
    "y_t= np.expm1(y_test)\n",
    "p_t = np.expm1(pred)\n",
    "for solve, predd in zip(y_t, p_t):\n",
    "    print(f'{solve}, {predd}') "
   ]
  },
  {
   "cell_type": "markdown",
   "id": "a176dd3b-4f8d-4fae-aa2e-90ac98feacce",
   "metadata": {},
   "source": [
    "## cross_val_score"
   ]
  },
  {
   "cell_type": "code",
   "execution_count": 30,
   "id": "e370a3d4-db7d-4719-a455-cb8ea1045f0a",
   "metadata": {},
   "outputs": [],
   "source": [
    "from sklearn.linear_model import Ridge\n",
    "from sklearn.model_selection import cross_val_score"
   ]
  },
  {
   "cell_type": "code",
   "execution_count": 31,
   "id": "c655fc21-1fee-44a4-8941-a752832851c6",
   "metadata": {
    "tags": []
   },
   "outputs": [],
   "source": [
    "X_data = test5.drop(columns=['영등포구'])\n",
    "y_target = test5['영등포구']\n",
    "\n",
    "\n",
    "ridge = Ridge(alpha=5)\n",
    "neg_mse_scores = cross_val_score(ridge, X_data, y_target, scoring=\"neg_mean_squared_error\",cv=5)\n",
    "rmse_scores = np.sqrt(-1*neg_mse_scores)\n",
    "avg_rmse = np.mean(rmse_scores)"
   ]
  },
  {
   "cell_type": "code",
   "execution_count": 32,
   "id": "bf775805-35ed-4fe1-a87e-5da64e65633e",
   "metadata": {},
   "outputs": [
    {
     "name": "stdout",
     "output_type": "stream",
     "text": [
      "LinearRegression cv rmse 값 리스트 : [0.611 0.411 0.393 0.403 0.351]\n",
      "LinearRegression cv 평균 rmse 값 : 0.434\n",
      "Ridge cv rmse 값 리스트 : [0.615 0.409 0.388 0.402 0.335]\n",
      "Ridge cv 평균 rmse 값 : 0.43\n",
      "Lasso cv rmse 값 리스트 : [1.147 0.59  0.762 0.795 0.58 ]\n",
      "Lasso cv 평균 rmse 값 : 0.775\n"
     ]
    }
   ],
   "source": [
    "def get_avg_rmse_cv(models):\n",
    "    for model in models:\n",
    "        rmse_list = np.sqrt(-cross_val_score(model,X,y,scoring='neg_mean_squared_error',cv=5)) #rmse = 5개가 나올 것\n",
    "        rmse_avg = np.mean(rmse_list)\n",
    "        print(f'{model.__class__.__name__} cv rmse 값 리스트 : {np.round(rmse_list,3)}')\n",
    "        print(f'{model.__class__.__name__} cv 평균 rmse 값 : {np.round(rmse_avg,3)}')\n",
    "\n",
    "get_avg_rmse_cv(models)"
   ]
  },
  {
   "cell_type": "markdown",
   "id": "31c7ef1c-d7ec-4f40-ade2-01be11637339",
   "metadata": {},
   "source": [
    "## GridSearchCV"
   ]
  },
  {
   "cell_type": "code",
   "execution_count": 33,
   "id": "477b6d49-3584-4b03-908f-6b32b1804b12",
   "metadata": {},
   "outputs": [],
   "source": [
    "from sklearn.model_selection import GridSearchCV"
   ]
  },
  {
   "cell_type": "code",
   "execution_count": 34,
   "id": "8c05d8a2-f869-4234-82d1-bc94c734bfcc",
   "metadata": {},
   "outputs": [],
   "source": [
    "def print_best_params(model,params):\n",
    "    grid_model = GridSearchCV(model,params,scoring='neg_mean_squared_error', cv=10) #GridSearchCV라서 scoring='neg' #scoring='neg_mean_squared_error' 예측값과 차이의 제곱?\n",
    "    grid_model.fit(X,y)\n",
    "    rmse = np.sqrt(-1*grid_model.best_score_)\n",
    "    print(f'{model.__class__.__name__} 5 cv시 최적 평균 rmse 값:{np.round(rmse, 4)}, 최적 alpha값:{grid_model.best_params_}')"
   ]
  },
  {
   "cell_type": "code",
   "execution_count": 35,
   "id": "884d1f9e-5bfd-4ffe-afee-356c4ecebb5f",
   "metadata": {},
   "outputs": [
    {
     "name": "stdout",
     "output_type": "stream",
     "text": [
      "Ridge 5 cv시 최적 평균 rmse 값:0.3824, 최적 alpha값:{'alpha': 8}\n"
     ]
    }
   ],
   "source": [
    "ridge_param = {\n",
    "    'alpha':[0.0001,0.01,0.05, 0.1, 1, 5, 8, 10, 12, 15, 20, 30, 40, 50, 100]\n",
    "} #ridge더 크게 rasso 더 작게\n",
    "print_best_params(ridge_reg, ridge_param)"
   ]
  },
  {
   "cell_type": "code",
   "execution_count": 36,
   "id": "78e195c3-503a-463a-ae0a-b665b78d13ba",
   "metadata": {},
   "outputs": [
    {
     "name": "stdout",
     "output_type": "stream",
     "text": [
      "Lasso 5 cv시 최적 평균 rmse 값:0.4096, 최적 alpha값:{'alpha': 0.005}\n"
     ]
    }
   ],
   "source": [
    "lasso_param = {'alpha':[0.0001,0.001, 0.005, 0.008, 0.05, 0.05, 0.1, 0.5, 1, 5, 10, 15, 30]} \n",
    "print_best_params(lasso_reg, lasso_param)"
   ]
  },
  {
   "cell_type": "code",
   "execution_count": 37,
   "id": "8c995d52-0b38-498a-9c96-8a28018689d4",
   "metadata": {},
   "outputs": [
    {
     "name": "stdout",
     "output_type": "stream",
     "text": [
      "LinearRegression RMSE:  0.331\n",
      "Ridge RMSE:  0.31\n",
      "Lasso RMSE:  0.3\n",
      "MSE: 0.10958104108458565, RMSE: 0.33103027215737485, R2: 0.7566123792655945\n"
     ]
    }
   ],
   "source": [
    "lr_reg = LinearRegression()\n",
    "lr_reg.fit(X_train,y_train)\n",
    "\n",
    "ridge_reg = Ridge(alpha=5)\n",
    "ridge_reg.fit(X_train,y_train)\n",
    "\n",
    "lasso_reg = Lasso(alpha=0.005)\n",
    "lasso_reg.fit(X_train,y_train)\n",
    "\n",
    "models=[lr_reg, ridge_reg,lasso_reg] \n",
    "get_rmses(models)\n",
    "\n",
    "#visualize_coefficient(models)\n",
    "\n",
    "lr_reg = LinearRegression()\n",
    "lr_reg.fit(X_train, y_train)\n",
    "\n",
    "pred = lr_reg.predict(X_test)\n",
    "mse = mean_squared_error(y_test, pred)\n",
    "rmse = np.sqrt(mse)\n",
    "print(f'MSE: {mse}, RMSE: {rmse}, R2: {r2_score(y_test, pred)}')\n"
   ]
  },
  {
   "cell_type": "code",
   "execution_count": 38,
   "id": "37720f8f-9ed0-47d2-966b-443889d328ff",
   "metadata": {},
   "outputs": [
    {
     "name": "stdout",
     "output_type": "stream",
     "text": [
      "MSE: 0.10958104108458565, RMSE: 0.33103027215737485, R2: 0.7566123792655945\n",
      "LinearRegression RMSE:  0.331\n",
      "Ridge RMSE:  0.324\n",
      "Lasso RMSE:  0.673\n"
     ]
    }
   ],
   "source": [
    "lr_reg = LinearRegression()\n",
    "lr_reg.fit(X_train, y_train)\n",
    "\n",
    "pred = lr_reg.predict(X_test)\n",
    "mse = mean_squared_error(y_test, pred)\n",
    "rmse = np.sqrt(mse)\n",
    "print(f'MSE: {mse}, RMSE: {rmse}, R2: {r2_score(y_test, pred)}')\n",
    "\n",
    "\n",
    "\n",
    "\n",
    "ridge_reg = Ridge()\n",
    "ridge_reg.fit(X_train, y_train)\n",
    "lasso_reg = Lasso()\n",
    "lasso_reg.fit(X_train, y_train)\n",
    "models = [lr_reg, ridge_reg, lasso_reg]\n",
    "\n",
    "for model in models:\n",
    "    get_rmse(model)"
   ]
  },
  {
   "cell_type": "markdown",
   "id": "e90fb0fe-dd09-468f-8523-a765e4f710ae",
   "metadata": {},
   "source": [
    "# RandomForestRegressor"
   ]
  },
  {
   "cell_type": "code",
   "execution_count": 39,
   "id": "a6d2772d-b3b0-4eaf-95d4-b6213a8fb2b0",
   "metadata": {},
   "outputs": [],
   "source": [
    "from sklearn.ensemble import RandomForestRegressor\n",
    "from sklearn.metrics import accuracy_score\n",
    "import pandas as pd\n",
    "import warnings\n",
    "warnings.filterwarnings('ignore')"
   ]
  },
  {
   "cell_type": "code",
   "execution_count": 40,
   "id": "b8ed009d-8d50-45b2-9f84-9a1e58457915",
   "metadata": {},
   "outputs": [],
   "source": [
    "X_train,X_test,y_train,y_test = train_test_split(X,y,test_size=0.2,random_state=32)"
   ]
  },
  {
   "cell_type": "code",
   "execution_count": 41,
   "id": "cf4bff1b-30f5-40f6-ab8b-e8c12ea5bcce",
   "metadata": {},
   "outputs": [
    {
     "name": "stdout",
     "output_type": "stream",
     "text": [
      "MSE: 0.07704886391995851, RMSE: 0.2775767712182677, R2: 0.8035890616156485\n"
     ]
    }
   ],
   "source": [
    "rf_clf = RandomForestRegressor(random_state=156, max_depth=8)\n",
    "rf_clf.fit(X_train,y_train)\n",
    "\n",
    "pred = rf_clf.predict(X_test)\n",
    "mse = mean_squared_error(y_test, pred)\n",
    "rmse = np.sqrt(mse)\n",
    "\n",
    "print(f'MSE: {mse}, RMSE: {rmse}, R2: {r2_score(y_test, pred)}')\n"
   ]
  },
  {
   "cell_type": "code",
   "execution_count": 42,
   "id": "ad9b8a60-457a-4fed-9bc0-bae983027334",
   "metadata": {},
   "outputs": [],
   "source": [
    "log_test = np.log1p(test5['영등포구'])\n",
    "test5 = pd.get_dummies(test5)\n",
    "X = test5.drop(columns=['영등포구'])\n",
    "y = log_test\n",
    "X_train, X_test, y_train, y_test = train_test_split(X,y, test_size=0.2, random_state=32)"
   ]
  },
  {
   "cell_type": "code",
   "execution_count": 43,
   "id": "98565d1f-1efd-4f41-b42a-d8e64d19d332",
   "metadata": {},
   "outputs": [
    {
     "name": "stdout",
     "output_type": "stream",
     "text": [
      "MSE: 0.08253360682354907, RMSE: 0.28728662834101604, R2: 0.7896074991929989\n"
     ]
    }
   ],
   "source": [
    "rf_clf = RandomForestRegressor(random_state=32, max_depth=8)\n",
    "rf_clf.fit(X_train,y_train)\n",
    "\n",
    "pred = rf_clf.predict(X_test)\n",
    "mse = mean_squared_error(y_test, pred)\n",
    "rmse = np.sqrt(mse)\n",
    "\n",
    "print(f'MSE: {mse}, RMSE: {rmse}, R2: {r2_score(y_test, pred)}')"
   ]
  },
  {
   "cell_type": "markdown",
   "id": "0949a07a-c847-4675-83e3-213771cb8145",
   "metadata": {},
   "source": [
    "## GridSearchCV \n",
    "RandomForestRegressor - 하이퍼 파라미터 수정"
   ]
  },
  {
   "cell_type": "code",
   "execution_count": 44,
   "id": "1fcc5ed9-a239-4c88-8e56-fe83d94092da",
   "metadata": {},
   "outputs": [],
   "source": [
    "from sklearn.model_selection import GridSearchCV"
   ]
  },
  {
   "cell_type": "code",
   "execution_count": 45,
   "id": "d69db63f-c82b-4d09-976f-8bfc63e13d5e",
   "metadata": {},
   "outputs": [],
   "source": [
    "params = {\n",
    "    'max_depth': [6, 12, 18, 26, 30],\n",
    "    'min_samples_leaf': [1, 6, 12, 18, 24],\n",
    "    'min_samples_split':[2, 6, 12, 18, 24]\n",
    "}"
   ]
  },
  {
   "cell_type": "code",
   "execution_count": 46,
   "id": "7a4872f5-f66d-457b-97c6-460b46c0f8b2",
   "metadata": {},
   "outputs": [
    {
     "name": "stdout",
     "output_type": "stream",
     "text": [
      "최적 하이퍼 파라미너:\n",
      " {'max_depth': 12, 'min_samples_leaf': 1, 'min_samples_split': 2}\n"
     ]
    }
   ],
   "source": [
    "rf_clf = RandomForestRegressor(n_estimators=100, random_state=32, n_jobs=-1)\n",
    "grid_cv = GridSearchCV(rf_clf, param_grid=params, cv=2, n_jobs=-1)\n",
    "grid_cv.fit(X_train, y_train)\n",
    "\n",
    "print('최적 하이퍼 파라미너:\\n', grid_cv.best_params_)"
   ]
  },
  {
   "cell_type": "code",
   "execution_count": 47,
   "id": "8f581b62-f1b6-42b8-8b31-f035da9eedc1",
   "metadata": {},
   "outputs": [
    {
     "name": "stdout",
     "output_type": "stream",
     "text": [
      "MSE: 0.08167208119509022, RMSE: 0.2857832766189971, R2: 0.791803677676611\n"
     ]
    }
   ],
   "source": [
    "rf_clf1    = RandomForestRegressor(n_estimators=100, max_depth=12, min_samples_leaf=1, min_samples_split=6, random_state=32)\n",
    "rf_clf1.fit(X_train,y_train)\n",
    "\n",
    "pred = rf_clf1.predict(X_test)\n",
    "mse = mean_squared_error(y_test, pred)\n",
    "rmse = np.sqrt(mse)\n",
    "\n",
    "print(f'MSE: {mse}, RMSE: {rmse}, R2: {r2_score(y_test, pred)}')\n"
   ]
  },
  {
   "cell_type": "markdown",
   "id": "1982f88b-51d0-4a06-941f-159548c4ec09",
   "metadata": {},
   "source": [
    "# XGBoost "
   ]
  },
  {
   "cell_type": "code",
   "execution_count": 48,
   "id": "b9ec4441-b71a-41bb-9a13-76f2201df529",
   "metadata": {},
   "outputs": [],
   "source": [
    "import xgboost as xgb\n",
    "from xgboost import XGBRegressor"
   ]
  },
  {
   "cell_type": "code",
   "execution_count": 49,
   "id": "63b163af-1de4-45d5-9129-915cc7f9e5c6",
   "metadata": {},
   "outputs": [
    {
     "name": "stdout",
     "output_type": "stream",
     "text": [
      "1.5.0\n"
     ]
    }
   ],
   "source": [
    "import xgboost\n",
    "\n",
    "print(xgboost.__version__)"
   ]
  },
  {
   "cell_type": "code",
   "execution_count": 50,
   "id": "f560c99d-5e4a-4b23-941b-16618b9725c3",
   "metadata": {},
   "outputs": [],
   "source": [
    "import pandas as pd\n",
    "import numpy as np\n",
    "import seaborn as sns\n",
    "from sklearn.model_selection import train_test_split\n",
    "import warnings\n",
    "warnings.filterwarnings('ignore')"
   ]
  },
  {
   "cell_type": "code",
   "execution_count": 51,
   "id": "de1e9ed5-43e3-4573-9ec1-2b84a1e6c152",
   "metadata": {},
   "outputs": [],
   "source": [
    "#학습용(80%), 데이터용(20%)\n",
    "log_test = np.log1p(test5['영등포구'])\n",
    "#test = test5['영등포구']\n",
    "test5 = pd.get_dummies(test5)\n",
    "X = test5.drop(columns=['영등포구'])\n",
    "y = log_test\n",
    "X_train, X_test, y_train, y_test = train_test_split(X,y, test_size=0.2, random_state=32)"
   ]
  },
  {
   "cell_type": "code",
   "execution_count": 52,
   "id": "74d75d0c-6804-441b-aa4f-ef21f400a5ae",
   "metadata": {},
   "outputs": [],
   "source": [
    "#최종 학습용(90%), 검즘용(10%)\n",
    "X_tr, X_val, y_tr, y_val = train_test_split(X_train,y_train,test_size=0.1,random_state=32)"
   ]
  },
  {
   "cell_type": "code",
   "execution_count": 53,
   "id": "5ba9f28c-3ef7-4a49-8ea9-53594ea5bb56",
   "metadata": {},
   "outputs": [],
   "source": [
    "#학습, 검증, 테스트용 DMatrix 생성\n",
    "dtr = xgb.DMatrix(data=X_tr, label=y_tr)\n",
    "dval = xgb.DMatrix(data=X_val, label=y_val)\n",
    "dtest = xgb.DMatrix(data=X_test, label=y_test)"
   ]
  },
  {
   "cell_type": "code",
   "execution_count": 54,
   "id": "d7723728-a285-4663-a09f-2eeae8f61887",
   "metadata": {},
   "outputs": [],
   "source": [
    "params = {\n",
    "    'max_depth':3,\n",
    "    'eta':0.05,\n",
    "    #'objective':'binary:logistic',\n",
    "    # 'eval_metric':'logloss'\n",
    "}\n",
    "num_rounds = 400"
   ]
  },
  {
   "cell_type": "code",
   "execution_count": 55,
   "id": "077d0972-f306-45e5-ad14-f1e19cb18037",
   "metadata": {},
   "outputs": [
    {
     "name": "stdout",
     "output_type": "stream",
     "text": [
      "[0]\ttrain-rmse:7.55829\teval-rmse:7.47783\n",
      "[1]\ttrain-rmse:7.18537\teval-rmse:7.10419\n",
      "[2]\ttrain-rmse:6.83103\teval-rmse:6.75714\n",
      "[3]\ttrain-rmse:6.49426\teval-rmse:6.42520\n",
      "[4]\ttrain-rmse:6.17431\teval-rmse:6.11179\n",
      "[5]\ttrain-rmse:5.87023\teval-rmse:5.80855\n",
      "[6]\ttrain-rmse:5.58120\teval-rmse:5.52461\n",
      "[7]\ttrain-rmse:5.30653\teval-rmse:5.25073\n",
      "[8]\ttrain-rmse:5.04542\teval-rmse:4.99593\n",
      "[9]\ttrain-rmse:4.79715\teval-rmse:4.74826\n",
      "[10]\ttrain-rmse:4.56136\teval-rmse:4.51313\n",
      "[11]\ttrain-rmse:4.33730\teval-rmse:4.28934\n",
      "[12]\ttrain-rmse:4.12437\teval-rmse:4.08153\n",
      "[13]\ttrain-rmse:3.92184\teval-rmse:3.87961\n",
      "[14]\ttrain-rmse:3.72957\teval-rmse:3.69149\n",
      "[15]\ttrain-rmse:3.54667\teval-rmse:3.50919\n",
      "[16]\ttrain-rmse:3.37299\teval-rmse:3.33614\n",
      "[17]\ttrain-rmse:3.20803\teval-rmse:3.17250\n",
      "[18]\ttrain-rmse:3.05124\teval-rmse:3.01636\n",
      "[19]\ttrain-rmse:2.90224\teval-rmse:2.87048\n",
      "[20]\ttrain-rmse:2.76043\teval-rmse:2.72828\n",
      "[21]\ttrain-rmse:2.62590\teval-rmse:2.59688\n",
      "[22]\ttrain-rmse:2.49806\teval-rmse:2.46985\n",
      "[23]\ttrain-rmse:2.37640\teval-rmse:2.34799\n",
      "[24]\ttrain-rmse:2.26096\teval-rmse:2.23635\n",
      "[25]\ttrain-rmse:2.15110\teval-rmse:2.12690\n",
      "[26]\ttrain-rmse:2.04682\teval-rmse:2.02608\n",
      "[27]\ttrain-rmse:1.94767\teval-rmse:1.92724\n",
      "[28]\ttrain-rmse:1.85352\teval-rmse:1.83646\n",
      "[29]\ttrain-rmse:1.76394\teval-rmse:1.74777\n",
      "[30]\ttrain-rmse:1.67893\teval-rmse:1.66688\n",
      "[31]\ttrain-rmse:1.59814\teval-rmse:1.58776\n",
      "[32]\ttrain-rmse:1.52145\teval-rmse:1.51255\n",
      "[33]\ttrain-rmse:1.44859\teval-rmse:1.44242\n",
      "[34]\ttrain-rmse:1.37930\teval-rmse:1.37431\n",
      "[35]\ttrain-rmse:1.31343\teval-rmse:1.31083\n",
      "[36]\ttrain-rmse:1.25100\teval-rmse:1.25000\n",
      "[37]\ttrain-rmse:1.19159\teval-rmse:1.19204\n",
      "[38]\ttrain-rmse:1.13521\teval-rmse:1.13716\n",
      "[39]\ttrain-rmse:1.08169\teval-rmse:1.08410\n",
      "[40]\ttrain-rmse:1.03084\teval-rmse:1.03590\n",
      "[41]\ttrain-rmse:0.98264\teval-rmse:0.98977\n",
      "[42]\ttrain-rmse:0.93656\teval-rmse:0.94627\n",
      "[43]\ttrain-rmse:0.89304\teval-rmse:0.90473\n",
      "[44]\ttrain-rmse:0.85179\teval-rmse:0.86669\n",
      "[45]\ttrain-rmse:0.81231\teval-rmse:0.83053\n",
      "[46]\ttrain-rmse:0.77510\teval-rmse:0.79535\n",
      "[47]\ttrain-rmse:0.73980\teval-rmse:0.76213\n",
      "[48]\ttrain-rmse:0.70619\teval-rmse:0.73372\n",
      "[49]\ttrain-rmse:0.67438\teval-rmse:0.70415\n",
      "[50]\ttrain-rmse:0.64416\teval-rmse:0.67839\n",
      "[51]\ttrain-rmse:0.61558\teval-rmse:0.65235\n",
      "[52]\ttrain-rmse:0.58846\teval-rmse:0.62995\n",
      "[53]\ttrain-rmse:0.56275\teval-rmse:0.60956\n",
      "[54]\ttrain-rmse:0.53848\teval-rmse:0.58928\n",
      "[55]\ttrain-rmse:0.51546\teval-rmse:0.56956\n",
      "[56]\ttrain-rmse:0.49373\teval-rmse:0.55167\n",
      "[57]\ttrain-rmse:0.47308\teval-rmse:0.53640\n",
      "[58]\ttrain-rmse:0.45357\teval-rmse:0.52114\n",
      "[59]\ttrain-rmse:0.43505\teval-rmse:0.50558\n",
      "[60]\ttrain-rmse:0.41757\teval-rmse:0.49215\n",
      "[61]\ttrain-rmse:0.40118\teval-rmse:0.48002\n",
      "[62]\ttrain-rmse:0.38549\teval-rmse:0.46749\n",
      "[63]\ttrain-rmse:0.37083\teval-rmse:0.45592\n",
      "[64]\ttrain-rmse:0.35687\teval-rmse:0.44656\n",
      "[65]\ttrain-rmse:0.34359\teval-rmse:0.43702\n",
      "[66]\ttrain-rmse:0.33111\teval-rmse:0.42762\n",
      "[67]\ttrain-rmse:0.31949\teval-rmse:0.41976\n",
      "[68]\ttrain-rmse:0.30837\teval-rmse:0.41260\n",
      "[69]\ttrain-rmse:0.29823\teval-rmse:0.40505\n",
      "[70]\ttrain-rmse:0.28838\teval-rmse:0.39815\n",
      "[71]\ttrain-rmse:0.27913\teval-rmse:0.39204\n",
      "[72]\ttrain-rmse:0.27071\teval-rmse:0.38582\n",
      "[73]\ttrain-rmse:0.26251\teval-rmse:0.38039\n",
      "[74]\ttrain-rmse:0.25483\teval-rmse:0.37554\n",
      "[75]\ttrain-rmse:0.24769\teval-rmse:0.37102\n",
      "[76]\ttrain-rmse:0.24084\teval-rmse:0.36723\n",
      "[77]\ttrain-rmse:0.23458\teval-rmse:0.36255\n",
      "[78]\ttrain-rmse:0.22868\teval-rmse:0.36013\n",
      "[79]\ttrain-rmse:0.22290\teval-rmse:0.35745\n",
      "[80]\ttrain-rmse:0.21785\teval-rmse:0.35383\n",
      "[81]\ttrain-rmse:0.21320\teval-rmse:0.35093\n",
      "[82]\ttrain-rmse:0.20837\teval-rmse:0.34788\n",
      "[83]\ttrain-rmse:0.20370\teval-rmse:0.34546\n",
      "[84]\ttrain-rmse:0.19912\teval-rmse:0.34385\n",
      "[85]\ttrain-rmse:0.19556\teval-rmse:0.34233\n",
      "[86]\ttrain-rmse:0.19203\teval-rmse:0.34051\n",
      "[87]\ttrain-rmse:0.18898\teval-rmse:0.33919\n",
      "[88]\ttrain-rmse:0.18602\teval-rmse:0.33785\n",
      "[89]\ttrain-rmse:0.18341\teval-rmse:0.33611\n",
      "[90]\ttrain-rmse:0.18094\teval-rmse:0.33442\n",
      "[91]\ttrain-rmse:0.17776\teval-rmse:0.33422\n",
      "[92]\ttrain-rmse:0.17495\teval-rmse:0.33185\n",
      "[93]\ttrain-rmse:0.17294\teval-rmse:0.33139\n",
      "[94]\ttrain-rmse:0.17110\teval-rmse:0.32999\n",
      "[95]\ttrain-rmse:0.16875\teval-rmse:0.32878\n",
      "[96]\ttrain-rmse:0.16648\teval-rmse:0.32723\n",
      "[97]\ttrain-rmse:0.16498\teval-rmse:0.32576\n",
      "[98]\ttrain-rmse:0.16332\teval-rmse:0.32489\n",
      "[99]\ttrain-rmse:0.16143\teval-rmse:0.32455\n",
      "[100]\ttrain-rmse:0.16020\teval-rmse:0.32370\n",
      "[101]\ttrain-rmse:0.15897\teval-rmse:0.32361\n",
      "[102]\ttrain-rmse:0.15771\teval-rmse:0.32364\n",
      "[103]\ttrain-rmse:0.15605\teval-rmse:0.32223\n",
      "[104]\ttrain-rmse:0.15508\teval-rmse:0.32117\n",
      "[105]\ttrain-rmse:0.15394\teval-rmse:0.32038\n",
      "[106]\ttrain-rmse:0.15308\teval-rmse:0.31949\n",
      "[107]\ttrain-rmse:0.15207\teval-rmse:0.31877\n",
      "[108]\ttrain-rmse:0.15078\teval-rmse:0.31865\n",
      "[109]\ttrain-rmse:0.14989\teval-rmse:0.31725\n",
      "[110]\ttrain-rmse:0.14834\teval-rmse:0.31603\n",
      "[111]\ttrain-rmse:0.14768\teval-rmse:0.31529\n",
      "[112]\ttrain-rmse:0.14652\teval-rmse:0.31387\n",
      "[113]\ttrain-rmse:0.14572\teval-rmse:0.31400\n",
      "[114]\ttrain-rmse:0.14463\teval-rmse:0.31464\n",
      "[115]\ttrain-rmse:0.14408\teval-rmse:0.31411\n",
      "[116]\ttrain-rmse:0.14336\teval-rmse:0.31355\n",
      "[117]\ttrain-rmse:0.14236\teval-rmse:0.31225\n",
      "[118]\ttrain-rmse:0.14145\teval-rmse:0.31229\n",
      "[119]\ttrain-rmse:0.14046\teval-rmse:0.31235\n",
      "[120]\ttrain-rmse:0.13981\teval-rmse:0.31250\n",
      "[121]\ttrain-rmse:0.13893\teval-rmse:0.31251\n",
      "[122]\ttrain-rmse:0.13810\teval-rmse:0.31216\n",
      "[123]\ttrain-rmse:0.13684\teval-rmse:0.31166\n",
      "[124]\ttrain-rmse:0.13617\teval-rmse:0.31142\n",
      "[125]\ttrain-rmse:0.13562\teval-rmse:0.31095\n",
      "[126]\ttrain-rmse:0.13446\teval-rmse:0.31000\n",
      "[127]\ttrain-rmse:0.13389\teval-rmse:0.30970\n",
      "[128]\ttrain-rmse:0.13307\teval-rmse:0.30977\n",
      "[129]\ttrain-rmse:0.13220\teval-rmse:0.30888\n",
      "[130]\ttrain-rmse:0.13168\teval-rmse:0.30866\n",
      "[131]\ttrain-rmse:0.13085\teval-rmse:0.30813\n",
      "[132]\ttrain-rmse:0.13006\teval-rmse:0.30700\n",
      "[133]\ttrain-rmse:0.12941\teval-rmse:0.30697\n",
      "[134]\ttrain-rmse:0.12897\teval-rmse:0.30698\n",
      "[135]\ttrain-rmse:0.12851\teval-rmse:0.30634\n",
      "[136]\ttrain-rmse:0.12763\teval-rmse:0.30622\n",
      "[137]\ttrain-rmse:0.12704\teval-rmse:0.30620\n",
      "[138]\ttrain-rmse:0.12661\teval-rmse:0.30578\n",
      "[139]\ttrain-rmse:0.12585\teval-rmse:0.30497\n",
      "[140]\ttrain-rmse:0.12504\teval-rmse:0.30466\n",
      "[141]\ttrain-rmse:0.12433\teval-rmse:0.30375\n",
      "[142]\ttrain-rmse:0.12366\teval-rmse:0.30375\n",
      "[143]\ttrain-rmse:0.12325\teval-rmse:0.30333\n",
      "[144]\ttrain-rmse:0.12293\teval-rmse:0.30300\n",
      "[145]\ttrain-rmse:0.12228\teval-rmse:0.30304\n",
      "[146]\ttrain-rmse:0.12179\teval-rmse:0.30276\n",
      "[147]\ttrain-rmse:0.12087\teval-rmse:0.30209\n",
      "[148]\ttrain-rmse:0.12004\teval-rmse:0.30165\n",
      "[149]\ttrain-rmse:0.11972\teval-rmse:0.30151\n",
      "[150]\ttrain-rmse:0.11906\teval-rmse:0.30079\n",
      "[151]\ttrain-rmse:0.11869\teval-rmse:0.30041\n",
      "[152]\ttrain-rmse:0.11810\teval-rmse:0.30042\n",
      "[153]\ttrain-rmse:0.11736\teval-rmse:0.30031\n",
      "[154]\ttrain-rmse:0.11688\teval-rmse:0.29954\n",
      "[155]\ttrain-rmse:0.11652\teval-rmse:0.29909\n",
      "[156]\ttrain-rmse:0.11594\teval-rmse:0.29898\n",
      "[157]\ttrain-rmse:0.11519\teval-rmse:0.29896\n",
      "[158]\ttrain-rmse:0.11458\teval-rmse:0.29810\n",
      "[159]\ttrain-rmse:0.11414\teval-rmse:0.29757\n",
      "[160]\ttrain-rmse:0.11387\teval-rmse:0.29730\n",
      "[161]\ttrain-rmse:0.11333\teval-rmse:0.29731\n",
      "[162]\ttrain-rmse:0.11267\teval-rmse:0.29731\n",
      "[163]\ttrain-rmse:0.11236\teval-rmse:0.29698\n",
      "[164]\ttrain-rmse:0.11185\teval-rmse:0.29686\n",
      "[165]\ttrain-rmse:0.11118\teval-rmse:0.29685\n",
      "[166]\ttrain-rmse:0.11094\teval-rmse:0.29659\n",
      "[167]\ttrain-rmse:0.11038\teval-rmse:0.29627\n",
      "[168]\ttrain-rmse:0.10974\teval-rmse:0.29654\n",
      "[169]\ttrain-rmse:0.10934\teval-rmse:0.29592\n",
      "[170]\ttrain-rmse:0.10868\teval-rmse:0.29547\n",
      "[171]\ttrain-rmse:0.10811\teval-rmse:0.29528\n",
      "[172]\ttrain-rmse:0.10761\teval-rmse:0.29555\n",
      "[173]\ttrain-rmse:0.10713\teval-rmse:0.29529\n",
      "[174]\ttrain-rmse:0.10640\teval-rmse:0.29466\n",
      "[175]\ttrain-rmse:0.10594\teval-rmse:0.29493\n",
      "[176]\ttrain-rmse:0.10503\teval-rmse:0.29494\n",
      "[177]\ttrain-rmse:0.10448\teval-rmse:0.29449\n",
      "[178]\ttrain-rmse:0.10418\teval-rmse:0.29390\n",
      "[179]\ttrain-rmse:0.10376\teval-rmse:0.29418\n",
      "[180]\ttrain-rmse:0.10334\teval-rmse:0.29402\n",
      "[181]\ttrain-rmse:0.10312\teval-rmse:0.29386\n",
      "[182]\ttrain-rmse:0.10273\teval-rmse:0.29413\n",
      "[183]\ttrain-rmse:0.10245\teval-rmse:0.29356\n",
      "[184]\ttrain-rmse:0.10211\teval-rmse:0.29321\n",
      "[185]\ttrain-rmse:0.10168\teval-rmse:0.29322\n",
      "[186]\ttrain-rmse:0.10101\teval-rmse:0.29301\n",
      "[187]\ttrain-rmse:0.10080\teval-rmse:0.29271\n",
      "[188]\ttrain-rmse:0.09996\teval-rmse:0.29279\n",
      "[189]\ttrain-rmse:0.09960\teval-rmse:0.29304\n",
      "[190]\ttrain-rmse:0.09919\teval-rmse:0.29287\n",
      "[191]\ttrain-rmse:0.09885\teval-rmse:0.29313\n",
      "[192]\ttrain-rmse:0.09860\teval-rmse:0.29260\n",
      "[193]\ttrain-rmse:0.09822\teval-rmse:0.29247\n",
      "[194]\ttrain-rmse:0.09788\teval-rmse:0.29242\n",
      "[195]\ttrain-rmse:0.09753\teval-rmse:0.29213\n",
      "[196]\ttrain-rmse:0.09722\teval-rmse:0.29180\n",
      "[197]\ttrain-rmse:0.09683\teval-rmse:0.29163\n",
      "[198]\ttrain-rmse:0.09659\teval-rmse:0.29091\n",
      "[199]\ttrain-rmse:0.09612\teval-rmse:0.29058\n",
      "[200]\ttrain-rmse:0.09591\teval-rmse:0.29048\n",
      "[201]\ttrain-rmse:0.09572\teval-rmse:0.29030\n",
      "[202]\ttrain-rmse:0.09524\teval-rmse:0.29029\n",
      "[203]\ttrain-rmse:0.09502\teval-rmse:0.28992\n",
      "[204]\ttrain-rmse:0.09476\teval-rmse:0.28972\n",
      "[205]\ttrain-rmse:0.09420\teval-rmse:0.28964\n",
      "[206]\ttrain-rmse:0.09402\teval-rmse:0.28947\n",
      "[207]\ttrain-rmse:0.09350\teval-rmse:0.28942\n",
      "[208]\ttrain-rmse:0.09338\teval-rmse:0.28916\n",
      "[209]\ttrain-rmse:0.09306\teval-rmse:0.28895\n",
      "[210]\ttrain-rmse:0.09277\teval-rmse:0.28907\n",
      "[211]\ttrain-rmse:0.09234\teval-rmse:0.28881\n",
      "[212]\ttrain-rmse:0.09206\teval-rmse:0.28876\n",
      "[213]\ttrain-rmse:0.09172\teval-rmse:0.28861\n",
      "[214]\ttrain-rmse:0.09143\teval-rmse:0.28885\n",
      "[215]\ttrain-rmse:0.09099\teval-rmse:0.28846\n",
      "[216]\ttrain-rmse:0.09079\teval-rmse:0.28802\n",
      "[217]\ttrain-rmse:0.09041\teval-rmse:0.28763\n",
      "[218]\ttrain-rmse:0.09016\teval-rmse:0.28769\n",
      "[219]\ttrain-rmse:0.08969\teval-rmse:0.28737\n",
      "[220]\ttrain-rmse:0.08953\teval-rmse:0.28723\n",
      "[221]\ttrain-rmse:0.08913\teval-rmse:0.28712\n",
      "[222]\ttrain-rmse:0.08894\teval-rmse:0.28670\n",
      "[223]\ttrain-rmse:0.08864\teval-rmse:0.28663\n",
      "[224]\ttrain-rmse:0.08837\teval-rmse:0.28617\n",
      "[225]\ttrain-rmse:0.08800\teval-rmse:0.28581\n",
      "[226]\ttrain-rmse:0.08775\teval-rmse:0.28531\n",
      "[227]\ttrain-rmse:0.08736\teval-rmse:0.28523\n",
      "[228]\ttrain-rmse:0.08693\teval-rmse:0.28520\n",
      "[229]\ttrain-rmse:0.08656\teval-rmse:0.28542\n",
      "[230]\ttrain-rmse:0.08639\teval-rmse:0.28534\n",
      "[231]\ttrain-rmse:0.08605\teval-rmse:0.28527\n",
      "[232]\ttrain-rmse:0.08588\teval-rmse:0.28496\n",
      "[233]\ttrain-rmse:0.08573\teval-rmse:0.28484\n",
      "[234]\ttrain-rmse:0.08510\teval-rmse:0.28478\n",
      "[235]\ttrain-rmse:0.08485\teval-rmse:0.28499\n",
      "[236]\ttrain-rmse:0.08468\teval-rmse:0.28462\n",
      "[237]\ttrain-rmse:0.08451\teval-rmse:0.28460\n",
      "[238]\ttrain-rmse:0.08425\teval-rmse:0.28454\n",
      "[239]\ttrain-rmse:0.08393\teval-rmse:0.28440\n",
      "[240]\ttrain-rmse:0.08336\teval-rmse:0.28446\n",
      "[241]\ttrain-rmse:0.08307\teval-rmse:0.28413\n",
      "[242]\ttrain-rmse:0.08283\teval-rmse:0.28407\n",
      "[243]\ttrain-rmse:0.08249\teval-rmse:0.28382\n",
      "[244]\ttrain-rmse:0.08220\teval-rmse:0.28376\n",
      "[245]\ttrain-rmse:0.08203\teval-rmse:0.28340\n",
      "[246]\ttrain-rmse:0.08183\teval-rmse:0.28338\n",
      "[247]\ttrain-rmse:0.08160\teval-rmse:0.28298\n",
      "[248]\ttrain-rmse:0.08102\teval-rmse:0.28283\n",
      "[249]\ttrain-rmse:0.08070\teval-rmse:0.28310\n",
      "[250]\ttrain-rmse:0.08049\teval-rmse:0.28330\n",
      "[251]\ttrain-rmse:0.07995\teval-rmse:0.28339\n",
      "[252]\ttrain-rmse:0.07966\teval-rmse:0.28364\n",
      "[253]\ttrain-rmse:0.07903\teval-rmse:0.28358\n",
      "[254]\ttrain-rmse:0.07889\teval-rmse:0.28369\n",
      "[255]\ttrain-rmse:0.07869\teval-rmse:0.28366\n",
      "[256]\ttrain-rmse:0.07810\teval-rmse:0.28361\n",
      "[257]\ttrain-rmse:0.07795\teval-rmse:0.28351\n",
      "[258]\ttrain-rmse:0.07773\teval-rmse:0.28314\n",
      "[259]\ttrain-rmse:0.07739\teval-rmse:0.28323\n",
      "[260]\ttrain-rmse:0.07725\teval-rmse:0.28322\n",
      "[261]\ttrain-rmse:0.07708\teval-rmse:0.28321\n",
      "[262]\ttrain-rmse:0.07689\teval-rmse:0.28341\n",
      "[263]\ttrain-rmse:0.07675\teval-rmse:0.28315\n",
      "[264]\ttrain-rmse:0.07650\teval-rmse:0.28285\n",
      "[265]\ttrain-rmse:0.07633\teval-rmse:0.28258\n",
      "[266]\ttrain-rmse:0.07607\teval-rmse:0.28258\n",
      "[267]\ttrain-rmse:0.07569\teval-rmse:0.28224\n",
      "[268]\ttrain-rmse:0.07547\teval-rmse:0.28224\n",
      "[269]\ttrain-rmse:0.07476\teval-rmse:0.28230\n",
      "[270]\ttrain-rmse:0.07450\teval-rmse:0.28226\n",
      "[271]\ttrain-rmse:0.07421\teval-rmse:0.28236\n",
      "[272]\ttrain-rmse:0.07405\teval-rmse:0.28221\n",
      "[273]\ttrain-rmse:0.07384\teval-rmse:0.28232\n",
      "[274]\ttrain-rmse:0.07365\teval-rmse:0.28222\n",
      "[275]\ttrain-rmse:0.07350\teval-rmse:0.28221\n",
      "[276]\ttrain-rmse:0.07328\teval-rmse:0.28207\n",
      "[277]\ttrain-rmse:0.07313\teval-rmse:0.28170\n",
      "[278]\ttrain-rmse:0.07297\teval-rmse:0.28164\n",
      "[279]\ttrain-rmse:0.07261\teval-rmse:0.28164\n",
      "[280]\ttrain-rmse:0.07219\teval-rmse:0.28148\n",
      "[281]\ttrain-rmse:0.07178\teval-rmse:0.28125\n",
      "[282]\ttrain-rmse:0.07161\teval-rmse:0.28126\n",
      "[283]\ttrain-rmse:0.07120\teval-rmse:0.28118\n",
      "[284]\ttrain-rmse:0.07074\teval-rmse:0.28119\n",
      "[285]\ttrain-rmse:0.07055\teval-rmse:0.28080\n",
      "[286]\ttrain-rmse:0.07037\teval-rmse:0.28080\n",
      "[287]\ttrain-rmse:0.07021\teval-rmse:0.28075\n",
      "[288]\ttrain-rmse:0.07005\teval-rmse:0.28074\n",
      "[289]\ttrain-rmse:0.06966\teval-rmse:0.28067\n",
      "[290]\ttrain-rmse:0.06924\teval-rmse:0.28068\n",
      "[291]\ttrain-rmse:0.06895\teval-rmse:0.28082\n",
      "[292]\ttrain-rmse:0.06864\teval-rmse:0.28053\n",
      "[293]\ttrain-rmse:0.06848\teval-rmse:0.28051\n",
      "[294]\ttrain-rmse:0.06836\teval-rmse:0.28062\n",
      "[295]\ttrain-rmse:0.06800\teval-rmse:0.28058\n",
      "[296]\ttrain-rmse:0.06783\teval-rmse:0.28042\n",
      "[297]\ttrain-rmse:0.06763\teval-rmse:0.28038\n",
      "[298]\ttrain-rmse:0.06744\teval-rmse:0.28048\n",
      "[299]\ttrain-rmse:0.06729\teval-rmse:0.28047\n",
      "[300]\ttrain-rmse:0.06706\teval-rmse:0.28051\n",
      "[301]\ttrain-rmse:0.06695\teval-rmse:0.28011\n",
      "[302]\ttrain-rmse:0.06668\teval-rmse:0.28025\n",
      "[303]\ttrain-rmse:0.06634\teval-rmse:0.28015\n",
      "[304]\ttrain-rmse:0.06621\teval-rmse:0.28015\n",
      "[305]\ttrain-rmse:0.06596\teval-rmse:0.28011\n",
      "[306]\ttrain-rmse:0.06586\teval-rmse:0.27995\n",
      "[307]\ttrain-rmse:0.06569\teval-rmse:0.28005\n",
      "[308]\ttrain-rmse:0.06556\teval-rmse:0.27982\n",
      "[309]\ttrain-rmse:0.06540\teval-rmse:0.27992\n",
      "[310]\ttrain-rmse:0.06519\teval-rmse:0.27992\n",
      "[311]\ttrain-rmse:0.06506\teval-rmse:0.27962\n",
      "[312]\ttrain-rmse:0.06483\teval-rmse:0.27969\n",
      "[313]\ttrain-rmse:0.06469\teval-rmse:0.27962\n",
      "[314]\ttrain-rmse:0.06457\teval-rmse:0.27972\n",
      "[315]\ttrain-rmse:0.06444\teval-rmse:0.27972\n",
      "[316]\ttrain-rmse:0.06423\teval-rmse:0.27968\n",
      "[317]\ttrain-rmse:0.06416\teval-rmse:0.27952\n",
      "[318]\ttrain-rmse:0.06385\teval-rmse:0.27943\n",
      "[319]\ttrain-rmse:0.06353\teval-rmse:0.27933\n",
      "[320]\ttrain-rmse:0.06329\teval-rmse:0.27946\n",
      "[321]\ttrain-rmse:0.06318\teval-rmse:0.27946\n",
      "[322]\ttrain-rmse:0.06302\teval-rmse:0.27981\n",
      "[323]\ttrain-rmse:0.06281\teval-rmse:0.27968\n",
      "[324]\ttrain-rmse:0.06229\teval-rmse:0.27970\n",
      "[325]\ttrain-rmse:0.06212\teval-rmse:0.27966\n",
      "[326]\ttrain-rmse:0.06199\teval-rmse:0.27975\n",
      "[327]\ttrain-rmse:0.06192\teval-rmse:0.27960\n",
      "[328]\ttrain-rmse:0.06180\teval-rmse:0.27939\n",
      "[329]\ttrain-rmse:0.06162\teval-rmse:0.27911\n",
      "[330]\ttrain-rmse:0.06137\teval-rmse:0.27900\n",
      "[331]\ttrain-rmse:0.06119\teval-rmse:0.27892\n",
      "[332]\ttrain-rmse:0.06092\teval-rmse:0.27887\n",
      "[333]\ttrain-rmse:0.06078\teval-rmse:0.27928\n",
      "[334]\ttrain-rmse:0.06057\teval-rmse:0.27909\n",
      "[335]\ttrain-rmse:0.06048\teval-rmse:0.27917\n",
      "[336]\ttrain-rmse:0.06024\teval-rmse:0.27925\n",
      "[337]\ttrain-rmse:0.06016\teval-rmse:0.27896\n",
      "[338]\ttrain-rmse:0.05999\teval-rmse:0.27877\n",
      "[339]\ttrain-rmse:0.05984\teval-rmse:0.27879\n",
      "[340]\ttrain-rmse:0.05969\teval-rmse:0.27864\n",
      "[341]\ttrain-rmse:0.05952\teval-rmse:0.27870\n",
      "[342]\ttrain-rmse:0.05919\teval-rmse:0.27840\n",
      "[343]\ttrain-rmse:0.05895\teval-rmse:0.27819\n",
      "[344]\ttrain-rmse:0.05876\teval-rmse:0.27822\n",
      "[345]\ttrain-rmse:0.05863\teval-rmse:0.27820\n",
      "[346]\ttrain-rmse:0.05850\teval-rmse:0.27812\n",
      "[347]\ttrain-rmse:0.05836\teval-rmse:0.27813\n",
      "[348]\ttrain-rmse:0.05825\teval-rmse:0.27820\n",
      "[349]\ttrain-rmse:0.05813\teval-rmse:0.27819\n",
      "[350]\ttrain-rmse:0.05782\teval-rmse:0.27783\n",
      "[351]\ttrain-rmse:0.05763\teval-rmse:0.27782\n",
      "[352]\ttrain-rmse:0.05756\teval-rmse:0.27789\n",
      "[353]\ttrain-rmse:0.05738\teval-rmse:0.27795\n",
      "[354]\ttrain-rmse:0.05727\teval-rmse:0.27794\n",
      "[355]\ttrain-rmse:0.05701\teval-rmse:0.27791\n",
      "[356]\ttrain-rmse:0.05693\teval-rmse:0.27766\n",
      "[357]\ttrain-rmse:0.05679\teval-rmse:0.27759\n",
      "[358]\ttrain-rmse:0.05655\teval-rmse:0.27767\n",
      "[359]\ttrain-rmse:0.05649\teval-rmse:0.27754\n",
      "[360]\ttrain-rmse:0.05620\teval-rmse:0.27721\n",
      "[361]\ttrain-rmse:0.05607\teval-rmse:0.27719\n",
      "[362]\ttrain-rmse:0.05593\teval-rmse:0.27702\n",
      "[363]\ttrain-rmse:0.05579\teval-rmse:0.27703\n",
      "[364]\ttrain-rmse:0.05570\teval-rmse:0.27678\n",
      "[365]\ttrain-rmse:0.05548\teval-rmse:0.27658\n",
      "[366]\ttrain-rmse:0.05523\teval-rmse:0.27670\n",
      "[367]\ttrain-rmse:0.05506\teval-rmse:0.27652\n",
      "[368]\ttrain-rmse:0.05493\teval-rmse:0.27635\n",
      "[369]\ttrain-rmse:0.05480\teval-rmse:0.27633\n",
      "[370]\ttrain-rmse:0.05473\teval-rmse:0.27639\n",
      "[371]\ttrain-rmse:0.05457\teval-rmse:0.27638\n",
      "[372]\ttrain-rmse:0.05446\teval-rmse:0.27627\n",
      "[373]\ttrain-rmse:0.05436\teval-rmse:0.27625\n",
      "[374]\ttrain-rmse:0.05427\teval-rmse:0.27612\n",
      "[375]\ttrain-rmse:0.05418\teval-rmse:0.27622\n",
      "[376]\ttrain-rmse:0.05408\teval-rmse:0.27626\n",
      "[377]\ttrain-rmse:0.05397\teval-rmse:0.27631\n",
      "[378]\ttrain-rmse:0.05377\teval-rmse:0.27620\n",
      "[379]\ttrain-rmse:0.05360\teval-rmse:0.27624\n",
      "[380]\ttrain-rmse:0.05342\teval-rmse:0.27602\n",
      "[381]\ttrain-rmse:0.05331\teval-rmse:0.27601\n",
      "[382]\ttrain-rmse:0.05323\teval-rmse:0.27593\n",
      "[383]\ttrain-rmse:0.05308\teval-rmse:0.27592\n",
      "[384]\ttrain-rmse:0.05291\teval-rmse:0.27589\n",
      "[385]\ttrain-rmse:0.05278\teval-rmse:0.27578\n",
      "[386]\ttrain-rmse:0.05258\teval-rmse:0.27553\n",
      "[387]\ttrain-rmse:0.05248\teval-rmse:0.27545\n",
      "[388]\ttrain-rmse:0.05228\teval-rmse:0.27553\n",
      "[389]\ttrain-rmse:0.05206\teval-rmse:0.27551\n",
      "[390]\ttrain-rmse:0.05185\teval-rmse:0.27555\n",
      "[391]\ttrain-rmse:0.05163\teval-rmse:0.27559\n",
      "[392]\ttrain-rmse:0.05152\teval-rmse:0.27558\n",
      "[393]\ttrain-rmse:0.05140\teval-rmse:0.27533\n",
      "[394]\ttrain-rmse:0.05126\teval-rmse:0.27538\n",
      "[395]\ttrain-rmse:0.05118\teval-rmse:0.27543\n",
      "[396]\ttrain-rmse:0.05111\teval-rmse:0.27541\n",
      "[397]\ttrain-rmse:0.05096\teval-rmse:0.27543\n",
      "[398]\ttrain-rmse:0.05089\teval-rmse:0.27519\n",
      "[399]\ttrain-rmse:0.05077\teval-rmse:0.27519\n",
      "MSE: 0.08261937622289742, RMSE: 0.28743586453833037, R2: 0.7893888580949526\n"
     ]
    }
   ],
   "source": [
    "eval_list = [(dtr,'train'),(dval,'eval')]\n",
    "xgb_model = xgb.train(params = params, dtrain=dtr, num_boost_round=num_rounds,\n",
    "                      early_stopping_rounds=500, evals=eval_list)\n",
    "\n",
    "# pred = xgb_model.predict(dtest)\n",
    "# print(pred)\n",
    "\n",
    "pred = xgb_model.predict(dtest)\n",
    "mse = mean_squared_error(y_test, pred)\n",
    "rmse = np.sqrt(mse)\n",
    "\n",
    "print(f'MSE: {mse}, RMSE: {rmse}, R2: {r2_score(y_test, pred)}')\n"
   ]
  },
  {
   "cell_type": "code",
   "execution_count": 56,
   "id": "951c8e4f-4ace-4184-8733-595faa3de544",
   "metadata": {},
   "outputs": [
    {
     "name": "stdout",
     "output_type": "stream",
     "text": [
      "8055.0000000000055, 8758.2333984375\n",
      "7133.999999999995, 6633.9541015625\n",
      "2441.0, 1821.0457763671875\n",
      "2963.9999999999986, 2695.44677734375\n",
      "7919.000000000003, 7287.955078125\n",
      "8169.999999999995, 7857.14599609375\n",
      "2032.0000000000007, 1211.35888671875\n",
      "7971.999999999999, 7501.6083984375\n",
      "5590.0, 4896.19091796875\n",
      "1524.0000000000005, 1523.681396484375\n",
      "6744.999999999999, 5408.2734375\n",
      "2404.0, 2155.748046875\n",
      "7079.999999999999, 8041.6708984375\n",
      "9120.000000000002, 8514.6318359375\n",
      "6644.000000000003, 6392.4365234375\n",
      "2370.000000000001, 3204.42626953125\n",
      "3036.9999999999986, 3354.665283203125\n",
      "9042.999999999995, 9281.978515625\n",
      "9297.0, 9002.0791015625\n",
      "5095.999999999999, 4520.845703125\n",
      "6905.000000000004, 6966.271484375\n",
      "5983.999999999999, 7219.60546875\n",
      "4055.999999999997, 2718.00537109375\n",
      "3193.0000000000005, 3247.70849609375\n",
      "4011.9999999999995, 3853.656494140625\n",
      "4101.999999999998, 2844.201416015625\n",
      "3521.999999999999, 5236.68505859375\n",
      "2043.0000000000002, 1894.6490478515625\n",
      "5317.999999999995, 2722.51708984375\n",
      "9699.000000000004, 8817.853515625\n",
      "1845.9999999999998, 1389.732666015625\n",
      "7498.0, 10627.21875\n",
      "9241.999999999993, 8535.9189453125\n",
      "7855.999999999995, 7691.1904296875\n",
      "8374.0, 7032.1962890625\n",
      "6043.9999999999945, 6387.6943359375\n",
      "4594.0, 3122.025146484375\n",
      "2447.0000000000005, 2054.443115234375\n",
      "3497.000000000001, 3351.703369140625\n",
      "5968.000000000004, 7620.6298828125\n",
      "8704.0, 7454.10009765625\n",
      "6456.999999999996, 5316.24462890625\n",
      "1906.9999999999993, 2686.15771484375\n",
      "5739.000000000004, 4920.40576171875\n",
      "2059.000000000001, 2496.3564453125\n",
      "2263.000000000001, 3353.906982421875\n",
      "5679.999999999996, 5959.21337890625\n",
      "4853.999999999998, 4732.11767578125\n",
      "5946.000000000003, 4813.375\n",
      "6596.000000000003, 7381.2138671875\n",
      "5078.000000000003, 3420.996826171875\n",
      "7428.0000000000055, 7549.27587890625\n",
      "569.0000000000002, 741.9481201171875\n",
      "5984.999999999995, 3212.945068359375\n",
      "10969.00000000001, 9084.900390625\n",
      "6804.0, 7064.849609375\n",
      "5970.999999999995, 4880.267578125\n",
      "3515.000000000003, 4303.369140625\n",
      "9486.000000000005, 9546.3291015625\n",
      "2736.0000000000005, 2740.14111328125\n",
      "2484.000000000001, 2769.066650390625\n",
      "2641.0, 2471.078857421875\n",
      "2441.0, 1977.7572021484375\n",
      "2180.9999999999995, 2163.40771484375\n",
      "990.9999999999995, 1906.6329345703125\n",
      "5835.000000000004, 7244.59033203125\n",
      "5918.9999999999945, 7598.49267578125\n",
      "8354.999999999993, 8496.9052734375\n",
      "3811.9999999999986, 972.6979370117188\n",
      "1308.0000000000005, 2175.79296875\n",
      "1201.9999999999995, 1515.154052734375\n",
      "7246.000000000005, 6719.4541015625\n",
      "3921.999999999997, 2832.401123046875\n",
      "8221.000000000004, 7739.66357421875\n"
     ]
    }
   ],
   "source": [
    "y_t= np.expm1(y_test)\n",
    "p_t = pd.Series(np.expm1(pred))\n",
    "for solve, predd in zip(y_t, p_t):\n",
    "    print(f'{solve}, {predd}') \n",
    "\n",
    "# mse = mean_squared_error(dtest, pred)\n",
    "# rmse = np.sqrt(mse)\n",
    "\n",
    "# print(f'MSE: {mse}, RMSE: {rmse}, R2: {r2_score(y_test, pred)}')"
   ]
  },
  {
   "cell_type": "markdown",
   "id": "e8f9918a-5858-4b9c-b589-d7fd9db95cd6",
   "metadata": {},
   "source": [
    "# GBM"
   ]
  },
  {
   "cell_type": "code",
   "execution_count": 57,
   "id": "fba7e6e0-a731-40b9-969e-5365c769f5ff",
   "metadata": {},
   "outputs": [],
   "source": [
    "from sklearn.ensemble import GradientBoostingRegressor\n",
    "import time"
   ]
  },
  {
   "cell_type": "code",
   "execution_count": 58,
   "id": "43ec2186-aac8-41d6-bac2-6cda226d2bca",
   "metadata": {},
   "outputs": [
    {
     "name": "stdout",
     "output_type": "stream",
     "text": [
      "RMSE:  0.287\n",
      "R2: 0.7893888580949526\n"
     ]
    }
   ],
   "source": [
    "gb_ref = GradientBoostingRegressor(random_state=156)\n",
    "gb_ref.fit(X_train, y_train)\n",
    "gb_pred = gb_ref.predict(X_test)\n",
    "\n",
    "mse = mean_squared_error(y_test, pred)\n",
    "rmse = np.sqrt(mse)\n",
    "print('RMSE: ', np.round(rmse,3))\n",
    "print(f'R2: {r2_score(y_test, pred)}')"
   ]
  },
  {
   "cell_type": "code",
   "execution_count": 60,
   "id": "202fc250-45dd-44ea-9459-ce2f618d76fa",
   "metadata": {},
   "outputs": [
    {
     "name": "stdout",
     "output_type": "stream",
     "text": [
      "RMSE:  0.287\n",
      "R2: 0.7893888580949526\n"
     ]
    }
   ],
   "source": [
    "gb_ref = GradientBoostingRegressor(n_estimators=200, max_depth=16, min_samples_leaf=6, min_samples_split=2, random_state=156)\n",
    "gb_ref.fit(X_train, y_train)\n",
    "gb_pred = gb_ref.predict(X_test)\n",
    "\n",
    "mse = mean_squared_error(y_test, pred)\n",
    "rmse = np.sqrt(mse)\n",
    "print('RMSE: ', np.round(rmse,3))\n",
    "print(f'R2: {r2_score(y_test, pred)}')"
   ]
  },
  {
   "cell_type": "markdown",
   "id": "e1c56948-f083-4993-aa1a-16227f850a71",
   "metadata": {},
   "source": [
    "# LightGBM"
   ]
  },
  {
   "cell_type": "code",
   "execution_count": 61,
   "id": "ee274f70-5c9e-4511-89c6-3f808dcf96ae",
   "metadata": {},
   "outputs": [],
   "source": [
    "from lightgbm import LGBMRegressor"
   ]
  },
  {
   "cell_type": "code",
   "execution_count": 62,
   "id": "325ed784-56dd-4973-b0af-e641c74110b2",
   "metadata": {
    "tags": []
   },
   "outputs": [
    {
     "name": "stdout",
     "output_type": "stream",
     "text": [
      "[1]\ttraining's l2: 0.50423\tvalid_1's l2: 0.307888\n",
      "Training until validation scores don't improve for 100 rounds\n",
      "[2]\ttraining's l2: 0.471565\tvalid_1's l2: 0.282155\n",
      "[3]\ttraining's l2: 0.442096\tvalid_1's l2: 0.258815\n",
      "[4]\ttraining's l2: 0.415439\tvalid_1's l2: 0.237275\n",
      "[5]\ttraining's l2: 0.390983\tvalid_1's l2: 0.217869\n",
      "[6]\ttraining's l2: 0.369128\tvalid_1's l2: 0.200191\n",
      "[7]\ttraining's l2: 0.348976\tvalid_1's l2: 0.184306\n",
      "[8]\ttraining's l2: 0.3292\tvalid_1's l2: 0.173529\n",
      "[9]\ttraining's l2: 0.312635\tvalid_1's l2: 0.159959\n",
      "[10]\ttraining's l2: 0.296232\tvalid_1's l2: 0.151366\n",
      "[11]\ttraining's l2: 0.281421\tvalid_1's l2: 0.14386\n",
      "[12]\ttraining's l2: 0.268058\tvalid_1's l2: 0.137111\n",
      "[13]\ttraining's l2: 0.25567\tvalid_1's l2: 0.130017\n",
      "[14]\ttraining's l2: 0.244437\tvalid_1's l2: 0.122664\n",
      "[15]\ttraining's l2: 0.234239\tvalid_1's l2: 0.114655\n",
      "[16]\ttraining's l2: 0.224721\tvalid_1's l2: 0.109652\n",
      "[17]\ttraining's l2: 0.216172\tvalid_1's l2: 0.105665\n",
      "[18]\ttraining's l2: 0.208319\tvalid_1's l2: 0.101007\n",
      "[19]\ttraining's l2: 0.200667\tvalid_1's l2: 0.0955637\n",
      "[20]\ttraining's l2: 0.193978\tvalid_1's l2: 0.0920563\n",
      "[21]\ttraining's l2: 0.187644\tvalid_1's l2: 0.0888139\n",
      "[22]\ttraining's l2: 0.1819\tvalid_1's l2: 0.08382\n",
      "[23]\ttraining's l2: 0.176795\tvalid_1's l2: 0.0806717\n",
      "[24]\ttraining's l2: 0.171682\tvalid_1's l2: 0.0785521\n",
      "[25]\ttraining's l2: 0.167293\tvalid_1's l2: 0.0768908\n",
      "[26]\ttraining's l2: 0.162583\tvalid_1's l2: 0.0746059\n",
      "[27]\ttraining's l2: 0.158862\tvalid_1's l2: 0.0735647\n",
      "[28]\ttraining's l2: 0.154825\tvalid_1's l2: 0.0720128\n",
      "[29]\ttraining's l2: 0.151612\tvalid_1's l2: 0.0707781\n",
      "[30]\ttraining's l2: 0.148716\tvalid_1's l2: 0.0697073\n",
      "[31]\ttraining's l2: 0.145365\tvalid_1's l2: 0.0688585\n",
      "[32]\ttraining's l2: 0.142874\tvalid_1's l2: 0.0681071\n",
      "[33]\ttraining's l2: 0.13996\tvalid_1's l2: 0.0663319\n",
      "[34]\ttraining's l2: 0.137353\tvalid_1's l2: 0.065703\n",
      "[35]\ttraining's l2: 0.134825\tvalid_1's l2: 0.0643543\n",
      "[36]\ttraining's l2: 0.132387\tvalid_1's l2: 0.0634409\n",
      "[37]\ttraining's l2: 0.129878\tvalid_1's l2: 0.0633425\n",
      "[38]\ttraining's l2: 0.127816\tvalid_1's l2: 0.0623097\n",
      "[39]\ttraining's l2: 0.125588\tvalid_1's l2: 0.0623045\n",
      "[40]\ttraining's l2: 0.123774\tvalid_1's l2: 0.0615157\n",
      "[41]\ttraining's l2: 0.121671\tvalid_1's l2: 0.0603388\n",
      "[42]\ttraining's l2: 0.119958\tvalid_1's l2: 0.0595429\n",
      "[43]\ttraining's l2: 0.11821\tvalid_1's l2: 0.0589844\n",
      "[44]\ttraining's l2: 0.116674\tvalid_1's l2: 0.0584179\n",
      "[45]\ttraining's l2: 0.114944\tvalid_1's l2: 0.0576164\n",
      "[46]\ttraining's l2: 0.113337\tvalid_1's l2: 0.0570466\n",
      "[47]\ttraining's l2: 0.111192\tvalid_1's l2: 0.0553475\n",
      "[48]\ttraining's l2: 0.109572\tvalid_1's l2: 0.0548426\n",
      "[49]\ttraining's l2: 0.107357\tvalid_1's l2: 0.0541237\n",
      "[50]\ttraining's l2: 0.10613\tvalid_1's l2: 0.0535865\n",
      "[51]\ttraining's l2: 0.105017\tvalid_1's l2: 0.0535071\n",
      "[52]\ttraining's l2: 0.103457\tvalid_1's l2: 0.0526414\n",
      "[53]\ttraining's l2: 0.102185\tvalid_1's l2: 0.0524995\n",
      "[54]\ttraining's l2: 0.100558\tvalid_1's l2: 0.0518162\n",
      "[55]\ttraining's l2: 0.0993729\tvalid_1's l2: 0.0512286\n",
      "[56]\ttraining's l2: 0.098404\tvalid_1's l2: 0.0508541\n",
      "[57]\ttraining's l2: 0.0969421\tvalid_1's l2: 0.0501494\n",
      "[58]\ttraining's l2: 0.0959104\tvalid_1's l2: 0.049921\n",
      "[59]\ttraining's l2: 0.0942688\tvalid_1's l2: 0.0489471\n",
      "[60]\ttraining's l2: 0.0933075\tvalid_1's l2: 0.0489071\n",
      "[61]\ttraining's l2: 0.0918249\tvalid_1's l2: 0.0480739\n",
      "[62]\ttraining's l2: 0.0906349\tvalid_1's l2: 0.0476499\n",
      "[63]\ttraining's l2: 0.0896919\tvalid_1's l2: 0.0481097\n",
      "[64]\ttraining's l2: 0.0888331\tvalid_1's l2: 0.0482021\n",
      "[65]\ttraining's l2: 0.0880965\tvalid_1's l2: 0.0479832\n",
      "[66]\ttraining's l2: 0.0868093\tvalid_1's l2: 0.0472476\n",
      "[67]\ttraining's l2: 0.085706\tvalid_1's l2: 0.0465706\n",
      "[68]\ttraining's l2: 0.0848433\tvalid_1's l2: 0.0471072\n",
      "[69]\ttraining's l2: 0.0841923\tvalid_1's l2: 0.0470542\n",
      "[70]\ttraining's l2: 0.0832757\tvalid_1's l2: 0.0466341\n",
      "[71]\ttraining's l2: 0.082468\tvalid_1's l2: 0.046322\n",
      "[72]\ttraining's l2: 0.0815855\tvalid_1's l2: 0.04597\n",
      "[73]\ttraining's l2: 0.0809415\tvalid_1's l2: 0.0456798\n",
      "[74]\ttraining's l2: 0.0801142\tvalid_1's l2: 0.0453206\n",
      "[75]\ttraining's l2: 0.0795336\tvalid_1's l2: 0.0453095\n",
      "[76]\ttraining's l2: 0.0787302\tvalid_1's l2: 0.045264\n",
      "[77]\ttraining's l2: 0.0781837\tvalid_1's l2: 0.0450075\n",
      "[78]\ttraining's l2: 0.0775446\tvalid_1's l2: 0.0450445\n",
      "[79]\ttraining's l2: 0.0768442\tvalid_1's l2: 0.0447696\n",
      "[80]\ttraining's l2: 0.0763418\tvalid_1's l2: 0.044579\n",
      "[81]\ttraining's l2: 0.075871\tvalid_1's l2: 0.0446313\n",
      "[82]\ttraining's l2: 0.0752445\tvalid_1's l2: 0.0443824\n",
      "[83]\ttraining's l2: 0.0747341\tvalid_1's l2: 0.044398\n",
      "[84]\ttraining's l2: 0.0740377\tvalid_1's l2: 0.0444469\n",
      "[85]\ttraining's l2: 0.0736006\tvalid_1's l2: 0.044293\n",
      "[86]\ttraining's l2: 0.0729282\tvalid_1's l2: 0.043869\n",
      "[87]\ttraining's l2: 0.0722873\tvalid_1's l2: 0.0439338\n",
      "[88]\ttraining's l2: 0.0715358\tvalid_1's l2: 0.0440265\n",
      "[89]\ttraining's l2: 0.0708332\tvalid_1's l2: 0.0436614\n",
      "[90]\ttraining's l2: 0.0704261\tvalid_1's l2: 0.0435026\n",
      "[91]\ttraining's l2: 0.0697649\tvalid_1's l2: 0.0436293\n",
      "[92]\ttraining's l2: 0.0693337\tvalid_1's l2: 0.0434925\n",
      "[93]\ttraining's l2: 0.0686665\tvalid_1's l2: 0.0435646\n",
      "[94]\ttraining's l2: 0.0680529\tvalid_1's l2: 0.0434313\n",
      "[95]\ttraining's l2: 0.0675958\tvalid_1's l2: 0.0431751\n",
      "[96]\ttraining's l2: 0.0669315\tvalid_1's l2: 0.0432712\n",
      "[97]\ttraining's l2: 0.0664166\tvalid_1's l2: 0.043049\n",
      "[98]\ttraining's l2: 0.0658147\tvalid_1's l2: 0.042921\n",
      "[99]\ttraining's l2: 0.065342\tvalid_1's l2: 0.0427261\n",
      "[100]\ttraining's l2: 0.0647907\tvalid_1's l2: 0.0426328\n",
      "Did not meet early stopping. Best iteration is:\n",
      "[100]\ttraining's l2: 0.0647907\tvalid_1's l2: 0.0426328\n",
      "RMSE:  0.307\n",
      "R2: 0.7604924136296476\n"
     ]
    }
   ],
   "source": [
    "X_tr, X_val, y_tr, y_val = train_test_split(X_train, y_train, test_size=0.1, random_state=156)\n",
    "lgbm = LGBMRegressor(n_estimators=100, learning_rate=0.05)\n",
    "\n",
    "evals = [(X_tr, y_tr), (X_val, y_val)]\n",
    "lgbm.fit(X_tr, y_tr, early_stopping_rounds=100, eval_metric='logloss', eval_set=evals, verbose=True)\n",
    "preds = lgbm.predict(X_test)\n",
    "\n",
    "mse = mean_squared_error(y_test, preds)\n",
    "rmse = np.sqrt(mse)\n",
    "print('RMSE: ', np.round(rmse,3))\n",
    "print(f'R2: {r2_score(y_test, preds)}')"
   ]
  },
  {
   "cell_type": "code",
   "execution_count": 63,
   "id": "3b68fb32-9944-4710-ae24-6e97b512d08e",
   "metadata": {},
   "outputs": [],
   "source": [
    "from lightgbm import plot_importance"
   ]
  },
  {
   "cell_type": "code",
   "execution_count": 64,
   "id": "894efc1f-621f-4ec1-bfa7-88b1a466d055",
   "metadata": {
    "tags": []
   },
   "outputs": [
    {
     "data": {
      "text/plain": [
       "<AxesSubplot:title={'center':'Feature importance'}, xlabel='Feature importance', ylabel='Features'>"
      ]
     },
     "execution_count": 64,
     "metadata": {},
     "output_type": "execute_result"
    },
    {
     "data": {
      "image/png": "[encoded data removed]",
      "text/plain": [
       "<Figure size 1000x1200 with 1 Axes>"
      ]
     },
     "metadata": {},
     "output_type": "display_data"
    }
   ],
   "source": [
    "fig, ax = plt.subplots(figsize=(10,12))\n",
    "plot_importance(lgbm, ax=ax)"
   ]
  },
  {
   "cell_type": "code",
   "execution_count": 65,
   "id": "0e24b99b-230b-458b-aaaa-9e09f2b04849",
   "metadata": {
    "tags": []
   },
   "outputs": [
    {
     "name": "stdout",
     "output_type": "stream",
     "text": [
      "8055.0000000000055, 8758.2333984375\n",
      "7133.999999999995, 6633.9541015625\n",
      "2441.0, 1821.0457763671875\n",
      "2963.9999999999986, 2695.44677734375\n",
      "7919.000000000003, 7287.955078125\n",
      "8169.999999999995, 7857.14599609375\n",
      "2032.0000000000007, 1211.35888671875\n",
      "7971.999999999999, 7501.6083984375\n",
      "5590.0, 4896.19091796875\n",
      "1524.0000000000005, 1523.681396484375\n",
      "6744.999999999999, 5408.2734375\n",
      "2404.0, 2155.748046875\n",
      "7079.999999999999, 8041.6708984375\n",
      "9120.000000000002, 8514.6318359375\n",
      "6644.000000000003, 6392.4365234375\n",
      "2370.000000000001, 3204.42626953125\n",
      "3036.9999999999986, 3354.665283203125\n",
      "9042.999999999995, 9281.978515625\n",
      "9297.0, 9002.0791015625\n",
      "5095.999999999999, 4520.845703125\n",
      "6905.000000000004, 6966.271484375\n",
      "5983.999999999999, 7219.60546875\n",
      "4055.999999999997, 2718.00537109375\n",
      "3193.0000000000005, 3247.70849609375\n",
      "4011.9999999999995, 3853.656494140625\n",
      "4101.999999999998, 2844.201416015625\n",
      "3521.999999999999, 5236.68505859375\n",
      "2043.0000000000002, 1894.6490478515625\n",
      "5317.999999999995, 2722.51708984375\n",
      "9699.000000000004, 8817.853515625\n",
      "1845.9999999999998, 1389.732666015625\n",
      "7498.0, 10627.21875\n",
      "9241.999999999993, 8535.9189453125\n",
      "7855.999999999995, 7691.1904296875\n",
      "8374.0, 7032.1962890625\n",
      "6043.9999999999945, 6387.6943359375\n",
      "4594.0, 3122.025146484375\n",
      "2447.0000000000005, 2054.443115234375\n",
      "3497.000000000001, 3351.703369140625\n",
      "5968.000000000004, 7620.6298828125\n",
      "8704.0, 7454.10009765625\n",
      "6456.999999999996, 5316.24462890625\n",
      "1906.9999999999993, 2686.15771484375\n",
      "5739.000000000004, 4920.40576171875\n",
      "2059.000000000001, 2496.3564453125\n",
      "2263.000000000001, 3353.906982421875\n",
      "5679.999999999996, 5959.21337890625\n",
      "4853.999999999998, 4732.11767578125\n",
      "5946.000000000003, 4813.375\n",
      "6596.000000000003, 7381.2138671875\n",
      "5078.000000000003, 3420.996826171875\n",
      "7428.0000000000055, 7549.27587890625\n",
      "569.0000000000002, 741.9481201171875\n",
      "5984.999999999995, 3212.945068359375\n",
      "10969.00000000001, 9084.900390625\n",
      "6804.0, 7064.849609375\n",
      "5970.999999999995, 4880.267578125\n",
      "3515.000000000003, 4303.369140625\n",
      "9486.000000000005, 9546.3291015625\n",
      "2736.0000000000005, 2740.14111328125\n",
      "2484.000000000001, 2769.066650390625\n",
      "2641.0, 2471.078857421875\n",
      "2441.0, 1977.7572021484375\n",
      "2180.9999999999995, 2163.40771484375\n",
      "990.9999999999995, 1906.6329345703125\n",
      "5835.000000000004, 7244.59033203125\n",
      "5918.9999999999945, 7598.49267578125\n",
      "8354.999999999993, 8496.9052734375\n",
      "3811.9999999999986, 972.6979370117188\n",
      "1308.0000000000005, 2175.79296875\n",
      "1201.9999999999995, 1515.154052734375\n",
      "7246.000000000005, 6719.4541015625\n",
      "3921.999999999997, 2832.401123046875\n",
      "8221.000000000004, 7739.66357421875\n"
     ]
    }
   ],
   "source": [
    "for solve, predd in zip(np.expm1(y_test), np.expm1(pred)):\n",
    "    print(f'{solve}, {predd}')"
   ]
  },
  {
   "cell_type": "code",
   "execution_count": null,
   "id": "ae1d6007-acf3-42aa-a188-dea0d5333bfc",
   "metadata": {},
   "outputs": [],
   "source": [
    "from hyperopt import hp"
   ]
  },
  {
   "cell_type": "code",
   "execution_count": null,
   "id": "881c55f9-5c6d-4109-b01d-e8b1fee513c4",
   "metadata": {},
   "outputs": [],
   "source": [
    "lgb_space = {\n",
    "    'max_depth': hp.quniform('max_depth', 5, 20, 1),\n",
    "    'min_child_weight': hp.quniform('min_child_weight', 1,2,1),\n",
    "    'learning_rate':hp.uniform('learning_rate',0.01,0.2),\n",
    "    'colsample_bytree' : hp.uniform('colsample_bytree',0.5,1)\n",
    "}\n"
   ]
  },
  {
   "cell_type": "code",
   "execution_count": null,
   "id": "85f6a9fb-1c6a-4edf-a478-22de5dd625dc",
   "metadata": {},
   "outputs": [],
   "source": [
    "from hyperopt import STATUS_OK"
   ]
  },
  {
   "cell_type": "code",
   "execution_count": null,
   "id": "05f8fcbe-2f05-4f36-bb97-c0045df155e6",
   "metadata": {},
   "outputs": [],
   "source": [
    "# def objective_func(lgb_space):\n",
    "#     max_depth=lgb_space[max_depth]\n",
    "#     min_child_weight=lgb_space[min_child_weight]\n",
    "#     learning_rate=lgb_space[learning_rate]\n",
    "#     colsample_bytree=lgb_space[colsample_bytree]\n",
    "#     reval = "
   ]
  },
  {
   "cell_type": "code",
   "execution_count": null,
   "id": "e40ca35e-2444-4a05-80ff-58f6ced2378d",
   "metadata": {},
   "outputs": [],
   "source": [
    "from hyperopt import fmin, tpe, Trials"
   ]
  },
  {
   "cell_type": "code",
   "execution_count": null,
   "id": "0402863c-82b7-468c-adf3-57718130a89d",
   "metadata": {},
   "outputs": [],
   "source": [
    "# trival_val = Trials()\n",
    "\n",
    "# best_01 = fmin(fn=objective_func, space=search_space, algo=tpe.suggest, max_evals=5,\n",
    "#               trials=trial_val, rstate=np.random.default_rng(seed=0))\n",
    "# print('best:',best_01)"
   ]
  },
  {
   "cell_type": "code",
   "execution_count": null,
   "id": "73c17321-5a5d-4b10-9d58-d898132a498f",
   "metadata": {},
   "outputs": [],
   "source": []
  },
  {
   "cell_type": "code",
   "execution_count": null,
   "id": "a9e902c2-95cd-4d8d-8cfe-f4b326a91eb5",
   "metadata": {},
   "outputs": [],
   "source": []
  },
  {
   "cell_type": "code",
   "execution_count": null,
   "id": "f0e7fcc6-64ec-4ce2-85f6-fd4f45fccb9c",
   "metadata": {},
   "outputs": [],
   "source": []
  },
  {
   "cell_type": "code",
   "execution_count": null,
   "id": "d14aeb1e-8770-45e1-81fd-cf65c9e5195b",
   "metadata": {},
   "outputs": [],
   "source": []
  },
  {
   "cell_type": "code",
   "execution_count": null,
   "id": "b8915032-1d1d-4e9b-a4a7-1d909ef5f478",
   "metadata": {},
   "outputs": [],
   "source": []
  },
  {
   "cell_type": "code",
   "execution_count": null,
   "id": "8de0aef7-7bab-4adc-99b1-d1c6bbfc1597",
   "metadata": {},
   "outputs": [],
   "source": []
  }
 ],
 "metadata": {
  "kernelspec": {
   "display_name": "Python 3 (ipykernel)",
   "language": "python",
   "name": "python3"
  },
  "language_info": {
   "codemirror_mode": {
    "name": "ipython",
    "version": 3
   },
   "file_extension": ".py",
   "mimetype": "text/x-python",
   "name": "python",
   "nbconvert_exporter": "python",
   "pygments_lexer": "ipython3",
   "version": "3.9.13"
  }
 },
 "nbformat": 4,
 "nbformat_minor": 5
}
